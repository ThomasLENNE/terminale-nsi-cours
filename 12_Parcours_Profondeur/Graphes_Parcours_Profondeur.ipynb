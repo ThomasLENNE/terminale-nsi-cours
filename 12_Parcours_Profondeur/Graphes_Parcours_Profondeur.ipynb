{
 "cells": [
  {
   "cell_type": "markdown",
   "metadata": {},
   "source": [
    "# <center> GRAPHES : Parcours en profondeur </center>"
   ]
  },
  {
   "cell_type": "markdown",
   "metadata": {},
   "source": [
    "\n",
    "\n",
    "* Dans ce document , nous allons découvrir un algorithme fondamental lié aux graphes, que nous avons déjà aperçu dans le cas des arbres.\n",
    "* Le parcours en profondeur s'applique à n'importe quel graphe (connexe ou non, orienté ou non) et permet de déterminer tous les sommets atteignables depuis un sommet de départ.\n",
    "* Il permet de déterminer s'il existe un chemin entre deux sommets donnés, la présence d'un cycle ou encore de savoir si le graphe est connexe.\n",
    "\n",
    "\n",
    "\n",
    "* Ci-dessous : \n",
    "   * On modélise un labyrinthe(à gauche) par un graphe non orienté(à droite) ou chaque \"case\" est un sommet ou les arcs indiquent les accès aux cases voisines . \n",
    "   * En rouge , apparaît le résultat du parcours en profondeur du graphe à partir du sommet 1(case départ). Ce chemin passe par le sommet 16 (case d'arrivée).\n",
    "   * Un autre parcours(parcours en largeur), qui sera abordé ultérieurement, permettra de déterminer le plus court chemin entre deux sommets.\n",
    "   \n",
    "   \n",
    "<img src='labintro.png' style='float:center;' width=400>"
   ]
  },
  {
   "cell_type": "markdown",
   "metadata": {},
   "source": [
    "## 1. Algorithme\n",
    "Principes :\n",
    "* On marque un sommet $S$ dès qu'on le visite.\n",
    "* On visite récursivement chacun des voisins de $S$ en les marquant.\n",
    "* Lorsqu'un sommet visité est déjà marqué, on remonte au sommet précédemment visité.\n",
    "\n",
    "En d'autres termes :\n",
    "* Dès que l'on trouve un voisin (peu importe lequel), on le visite.\n",
    "* Quand il n'y a plus de voisins à visiter, on revient ensuite au dernier sommet visité.\n",
    "\n",
    "##### Exemple :\n",
    "<img src='dfs_o.png' style='float:right;' width=150>\n",
    "\n",
    "Considérons le graphe orienté ci-contre.\n",
    "\n",
    "Le parcours en profondeur à partir du sommet A révèle les sommets A - B - C - E - F - D :\n",
    "  * Dans cet ordre.\n",
    "  * Ou encore dans cet ordre : A - D - E - B - C - F.\n",
    "\n",
    "Le sommet G n'est pas découvert lors du parcours, car il n'y a pas de chemin qui relie A et G."
   ]
  },
  {
   "cell_type": "markdown",
   "metadata": {},
   "source": [
    "##### Exercice 1 :\n",
    "\n",
    "Dans le graphe orienté ci-contre, indiquer un résultat du parcours en profondeur à partir de :\n",
    "\n",
    "<img src='ex1.png' style='float:right;' width=120>\n",
    "\n",
    "* $0$ :  \n",
    "\n",
    "\n",
    "* $1$ :  \n",
    "\n",
    "\n",
    "* $2$ :  \n",
    "\n",
    "\n",
    "* $3$ :  "
   ]
  },
  {
   "cell_type": "markdown",
   "metadata": {},
   "source": [
    "## 2. Implémentation\n",
    "On utilise la classe déjà vue précédemment qui permet de représenter un graphe avec un dictionnaire d'adjacence. Le graphe créé ci-après est celui montré en exemple."
   ]
  },
  {
   "cell_type": "code",
   "execution_count": null,
   "metadata": {},
   "outputs": [],
   "source": [
    "class Graphe:\n",
    "    '''Graphe représenté par un dictionnaire d'adjacence'''\n",
    "    def __init__(self):\n",
    "        self.adj={}\n",
    "    \n",
    "    def affiche(self):\n",
    "        for k in self.adj:\n",
    "            print (k,self.adj[k])\n",
    "    \n",
    "    def ajouter_sommet(self,s):\n",
    "        if s not in self.adj:\n",
    "            self.adj[s]=[]\n",
    "   \n",
    "    def ajouter_arc(self, s1, s2):\n",
    "        self.ajouter_sommet(s1)\n",
    "        self.ajouter_sommet(s2)\n",
    "        self.adj[s1].append(s2)\n",
    "        self.adj[s2].append(s1)\n",
    "    \n",
    "    def voisins(self, s):\n",
    "        return self.adj[s]\n",
    "    \n",
    "    def sommets(self):\n",
    "        s=[]\n",
    "        for k in self.adj:\n",
    "            s.append(k)\n",
    "        return s\n",
    "    \n",
    "    #Ex2\n",
    "    def parcours_profondeur(self,vus, s):\n",
    "        pass\n",
    "                    \n",
    "    #Ex3 (code à intégrer)\n",
    "    \n",
    "    \n",
    "    \n",
    "    \n",
    "    \n",
    "    #Ex4\n",
    "    def existe_chemin(self,x,y):\n",
    "        vus=[]\n",
    "        pass\n",
    "        \n",
    "    \n",
    "    def parcours_cycle(self,couleur,s):\n",
    "        '''parcours en profondeur depuis le sommet s\n",
    "        parametres:\n",
    "        ----------\n",
    "        couleur : dictionnaire des couleurs des sommets (NOIR=0, GRIS=1, BLANC=2)\n",
    "        s :sommet de départ\n",
    "        '''\n",
    "        if couleur[s]==1:\n",
    "            return True\n",
    "        elif couleur[s]==0:\n",
    "            return False\n",
    "        else:\n",
    "            couleur[s]=1\n",
    "            for v in self.voisins(s):\n",
    "                if self.parcours_cycle(couleur,v)==True:\n",
    "                    return True\n",
    "            couleur[s]=0\n",
    "            return False\n",
    "    \n",
    "    #Ex5\n",
    "    def cycle(self):\n",
    "        couleur={}\n",
    "        pass\n",
    "    \n",
    "    #Partie B 1.\n",
    "    def parcours_chemin(self,vus,origine,s):\n",
    "        if s not in vus:\n",
    "            vus[s]=origine\n",
    "            origine=s\n",
    "            for v in self.voisins(s):\n",
    "                self.parcours_chemin( vus, origine,v)\n",
    "    \n",
    "    #Partie B 2.\n",
    "    def chemin(self,s1,s2):\n",
    "        vus={} \n",
    "        chem=[]\n",
    "        \n",
    "        \n",
    "        return chem       "
   ]
  },
  {
   "cell_type": "code",
   "execution_count": null,
   "metadata": {},
   "outputs": [],
   "source": [
    "#graphe montré en exemple\n",
    "g2=Graphe()\n",
    "\n",
    "g2.ajouter_arc('A','B')\n",
    "g2.ajouter_arc('A','D')\n",
    "g2.ajouter_arc('B','C')\n",
    "g2.ajouter_arc('C','E')\n",
    "g2.ajouter_arc('C','F')\n",
    "g2.ajouter_arc('D','E')\n",
    "g2.ajouter_arc('E','B')\n",
    "g2.ajouter_arc('G','C')\n",
    "g2.affiche()"
   ]
  },
  {
   "cell_type": "markdown",
   "metadata": {},
   "source": [
    "### Avec une fonction récursive\n",
    "\n",
    "* Les sommets marqués seront ajoutés dans une liste python passée en paramètre appelée `vus`.\n",
    "* Principe : Si le sommet `s` n'est pas dans `vus`, l'y ajouter et parcourir récursivement tous ses voisins."
   ]
  },
  {
   "cell_type": "markdown",
   "metadata": {},
   "source": [
    "##### Exercice 2 :\n",
    "\n",
    "Compléter la méthode `parcours_profondeur(self, vus,s)` ou `s` est le sommet de départ et `vus` la liste qui contient les sommets marqués."
   ]
  },
  {
   "cell_type": "code",
   "execution_count": null,
   "metadata": {},
   "outputs": [],
   "source": [
    "#test parcours profondeur\n",
    "vus=[]\n",
    "g2.parcours_profondeur(vus,'A')\n",
    "print(vus) #['A','B','C','E','F','D']"
   ]
  },
  {
   "cell_type": "markdown",
   "metadata": {},
   "source": [
    "### Remarques :\n",
    "* La fonction étant récursive , il y a un risque de dépassement de capacité( du fait du trop grand nombre d'appels récursifs) si le graphe contient beaucoup de sommets.\n",
    "* Un autre possibilité d'implémentation est d'utiliser une autre structure de données déjà vue : la pile."
   ]
  },
  {
   "cell_type": "markdown",
   "metadata": {},
   "source": [
    "### Avec une pile\n",
    "On utilise la classe `Pile` ci-dessous, déjà vue dans un document précédent."
   ]
  },
  {
   "cell_type": "code",
   "execution_count": null,
   "metadata": {},
   "outputs": [],
   "source": [
    "class Pile:\n",
    "    def __init__(self, valeurs=[]):\n",
    "        self.valeurs=valeurs\n",
    "    \n",
    "    def est_vide(self):\n",
    "        return self.valeurs == []\n",
    "    \n",
    "    def empiler(self,a):\n",
    "        self.valeurs.append(a)\n",
    "    \n",
    "    def depiler(self):\n",
    "        if self.est_vide() == False:\n",
    "            return self.valeurs.pop()"
   ]
  },
  {
   "cell_type": "markdown",
   "metadata": {},
   "source": [
    "##### Exercice 3 :\n",
    "Voici le code de la méthode qui permet d'effectuer ce parcours en profondeur\n",
    "\n",
    "```\n",
    "def parcours_profondeur_pile(self,s):\n",
    "        vus=[]\n",
    "        pile=Pile()\n",
    "        pile.empiler(s)\n",
    "        while not pile.est_vide():\n",
    "            s=pile.depiler()\n",
    "            if s not in vus:\n",
    "                vus.append(s)\n",
    "                for v in self.voisins(s):\n",
    "                    pile.empiler(v)\n",
    "               \n",
    "        return vus\n",
    "```\n",
    "\n",
    "<img src='dfs_o.png' style='float:right;' width=150>\n",
    "\n",
    "1. En déroulant ce code à la main , écrire la liste des sommets qui sera contenue dans la variable `vus` à la fin de ce parcours lorsque le départ est le sommet A sur le graphe donné en exemple(redonné ci-contre ):\n",
    "\n",
    "\n",
    "__Réponse :__  \n",
    "\n",
    "\n",
    "2. Intégrer ce code à la classe `Graphe_D` et vérifier la réponse"
   ]
  },
  {
   "cell_type": "code",
   "execution_count": null,
   "metadata": {},
   "outputs": [],
   "source": [
    "#test parcours profondeur pile\n",
    "g2.parcours_profondeur_pile('A')"
   ]
  },
  {
   "cell_type": "markdown",
   "metadata": {},
   "source": [
    "## 3 . Applications"
   ]
  },
  {
   "cell_type": "markdown",
   "metadata": {},
   "source": [
    "###  Chemins\n",
    "* Une première application est que le parcours en profondeur permet de savoir s'il existe un chemin entre un sommet $x$ et un sommet $y$.\n",
    "* Il suffit pour cela d'effectuer un parcours en profondeur à partir de $x$. Si $y$ est dans la liste des sommets atteints par ce parcours, alors le chemin de $x$ vers $y$ existe, sinon , il n'existe pas."
   ]
  },
  {
   "cell_type": "markdown",
   "metadata": {},
   "source": [
    "##### Exercice 4 :\n",
    "Ecrire la méthode `existe_chemin(self, x, y)` qui prend en paramètres deux sommets $x$ et $y$ et qui renvoie `True` si le chemin de $x$ vers $y$ existe et `False` sinon."
   ]
  },
  {
   "cell_type": "code",
   "execution_count": null,
   "metadata": {},
   "outputs": [],
   "source": [
    "#test existe_chemin\n",
    "assert(g2.existe_chemin('A','E')==True)\n",
    "assert(g2.existe_chemin('A','G')==False)"
   ]
  },
  {
   "cell_type": "markdown",
   "metadata": {},
   "source": [
    "### Cycles"
   ]
  },
  {
   "cell_type": "markdown",
   "metadata": {},
   "source": [
    "* Le parcours en profondeur permet également de détecter la présence d'un cycle dans un graphe orienté. La première idée est d'utiliser le fait que lors du parcours, on teste si le sommet a déjà été visité. Cela ne suffit cependant pas à justifier la présence d'un cycle.\n",
    "\n",
    "\n",
    "* ##### Exemples : <img src='ex2.png' style='float:center;' width=400>\n",
    "\n",
    "   * Dans le graphe de gauche, le parcours en profondeur à partir de A fait que l'on passe deux fois par C, mais il n'y a pas de cycle.\n",
    "   * Dans le graphe de droite, on passe deux fois par B et il y a un cycle( B - C - D  - B).\n",
    "\n",
    "\n",
    "* Pour pouvoir détecter un cycle, nous allons distinguer dans la liste des sommets marqués, deux sortes de sommets : ceux pour lesquels le parcours n'est pas encore terminé(il reste des voisins à explorer) et ceux pour lesquels il est terminé (tous les voisins ont été explorés).\n",
    "\n",
    "\n",
    "\n",
    "* Il existe plusieurs solutions d'implémentation mais généralement, on utilise un marquage à trois \"couleurs\" :\n",
    "  * BLANC pour les sommets non encore atteints.\n",
    "  * GRIS pour les sommets en cours d'exploration(dont les voisins ne sont pas tous explorés).\n",
    "  * NOIR pour les sommets dont le parcours est terminé(tousles voisins ont été explorés).\n",
    "\n",
    "\n",
    "* Plus précisément, lorsque l'on visite un sommet :\n",
    "   * S'il est gris, c'est que l'on vient de découvrir un cycle.\n",
    "   * S'il est noir, on ne fait rien.\n",
    "   * Sinon, c'est qu'il est blanc:\n",
    "       * On colorie le sommet en gris.\n",
    "       * On visite tous ses voisins, récursivement.\n",
    "       * On colorie le sommet en noir.\n",
    "\n",
    "\n",
    "* Ainsi, les voisins d'un sommet `s` sont explorés après que `s` ait été colorié en gris et avant qu'il ait été colorié en noir.       "
   ]
  },
  {
   "cell_type": "markdown",
   "metadata": {},
   "source": [
    "##### Exercice 5 :\n",
    "* Dans la classe `Graphe`, la méthode `parcours_cycle(self,couleur,s)` détecte s'il y a un cycle à partir du sommet `s`. Elle suit la description de l'algorithme faite précédemment.\n",
    "`couleur` est ici un dictionnaire qui contient la couleur des différents sommets.\n",
    "\n",
    "* Cependant, le fait qu'il n'y ait pas de cycle à partir d'un sommet `s` donné ne suffit pas à affirmer qu'il n'y en a pas dans le graphe.Il peut y en avoir un à partir d'un autre sommet.\n",
    "\n",
    "Dans la classe `Graphe`, compléter la méthode `cycle(self)` qui renvoie `True` s'il y a un cycle dans la graphe et `False` sinon.\n",
    "\n",
    "Aides :\n",
    "* On appellera la méthode `parcours_cycle` à partir de tous les sommets du graphe.\n",
    "* Au départ, tous les sommets sont BLANC.\n",
    "\n",
    "Les tests sont effectués sur les graphes donnés en exemple précédemment."
   ]
  },
  {
   "cell_type": "code",
   "execution_count": null,
   "metadata": {},
   "outputs": [],
   "source": [
    "## construction des graphes donnés en exemple\n",
    "g3=Graphe()\n",
    "g3.ajouter_arc('A','B')\n",
    "g3.ajouter_arc('A','D')\n",
    "g3.ajouter_arc('B','C')\n",
    "g3.ajouter_arc('D','C')\n",
    "g3.affiche()\n",
    "print('---')\n",
    "g4=Graphe()\n",
    "g4.ajouter_arc('A','B')\n",
    "g4.ajouter_arc('B','C')\n",
    "g4.ajouter_arc('C','D')\n",
    "g4.ajouter_arc('D','B')\n",
    "g4.affiche()"
   ]
  },
  {
   "cell_type": "code",
   "execution_count": null,
   "metadata": {},
   "outputs": [],
   "source": [
    "# test cycle\n",
    "assert(g3.cycle()==False)\n",
    "assert(g4.cycle()==True)"
   ]
  },
  {
   "cell_type": "markdown",
   "metadata": {},
   "source": [
    "## 4. Exercice de synthèse\n",
    "\n",
    "\n",
    "ATTENTION : \n",
    "* Dans cet exercice, on travaille avec un graphe non orienté.\n",
    "* Pour pouvoir utiliser correctement les méthodes de la classe `Graphe`, il faut décommenter la ligne         `#self.adj[s2].append(s1)` dans la méthode `ajouter_arc(self,s1,s2)`.\n",
    "\n",
    "\n",
    "<center>On reprend le labyrinthe présenté en introduction.</center>\n",
    "\n",
    "\n",
    "<img src='labintro.png' style='float:center;' width=350>"
   ]
  },
  {
   "cell_type": "markdown",
   "metadata": {},
   "source": [
    "##### Partie A :\n",
    "1. Construire et afficher le graphe associé à ce labyrinthe."
   ]
  },
  {
   "cell_type": "code",
   "execution_count": null,
   "metadata": {},
   "outputs": [],
   "source": [
    "#1.\n",
    "laby=Graphe()\n",
    "\n",
    "\n",
    "\n",
    "\n",
    "laby.affiche()"
   ]
  },
  {
   "cell_type": "markdown",
   "metadata": {},
   "source": [
    "2. Vérifier qu'il existe un chemin entre la case départ et la case d'arrivée."
   ]
  },
  {
   "cell_type": "code",
   "execution_count": null,
   "metadata": {},
   "outputs": [],
   "source": [
    "#2.\n",
    " "
   ]
  },
  {
   "cell_type": "markdown",
   "metadata": {},
   "source": [
    "3. Le graphe est-il connexe ? Justifier"
   ]
  },
  {
   "cell_type": "code",
   "execution_count": null,
   "metadata": {},
   "outputs": [],
   "source": [
    "#3.\n",
    "vus=[]\n",
    "\n",
    "\n",
    "print(vus)"
   ]
  },
  {
   "cell_type": "markdown",
   "metadata": {},
   "source": [
    "__Réponse__ : "
   ]
  },
  {
   "cell_type": "markdown",
   "metadata": {},
   "source": [
    "#### Partie B :\n",
    "Dans cette partie, on cherche à utiliser le parcours en profondeur pour construire un chemin entre deux sommets du graphe, lorsque c'est possible.\n",
    "\n",
    "Pour cela , on ajoute deux méthodes à la classe `Graphe` :\n",
    "1.  La méthode `parcours_chemin(self, vus, origine, s)`:\n",
    "   * Elle ressemble beaucoup à la méthode `parcours_profondeur`.\n",
    "   * Le paramètre `vus` est cette fois un dictionnaire qui associe à chaque sommet visité `s`, le sommet qui a permis de l'atteindre, `origine`.\n",
    "   * Ainsi après le parcours, on pourra utiliser le contenu du dictionnaire pour remonter d'un sommet à un autre.\n",
    "   \n",
    "Cette méthode est déjà écrite dans la classe `Graphe`. Afficher le parcours à partir du sommet  1 (on utilisera `None` comme origine)"
   ]
  },
  {
   "cell_type": "code",
   "execution_count": null,
   "metadata": {},
   "outputs": [],
   "source": [
    "#1.\n",
    "vus={}\n",
    "\n",
    "print(vus)"
   ]
  },
  {
   "cell_type": "markdown",
   "metadata": {},
   "source": [
    "2. La méthode `chemin(self,s1,s2)`. Cette fonction renvoie un chemin entre s1 et s2 sous forme d'une liste de sommets.\n",
    "\n",
    "\n",
    "Compléter cette méthode.\n",
    "\n",
    "\n",
    "*Aides :*\n",
    "\n",
    " * On lance un parcours en profondeur à partir du sommet s1.\n",
    " * Si le sommet v a été atteint (c'est à dire s'il se trouve dans `vus`):\n",
    "    * Construire le chemin dans une liste en remontant le dictionnaire de s2 à s1\n"
   ]
  },
  {
   "cell_type": "code",
   "execution_count": null,
   "metadata": {},
   "outputs": [],
   "source": [
    "#test chemin entre case départ et case arrivée\n",
    "laby.chemin(1,16) #[1, 2, 3, 7, 8, 12, 16]"
   ]
  }
 ],
 "metadata": {
  "kernelspec": {
   "display_name": "Python 3",
   "language": "python",
   "name": "python3"
  },
  "language_info": {
   "codemirror_mode": {
    "name": "ipython",
    "version": 3
   },
   "file_extension": ".py",
   "mimetype": "text/x-python",
   "name": "python",
   "nbconvert_exporter": "python",
   "pygments_lexer": "ipython3",
   "version": "3.8.5"
  }
 },
 "nbformat": 4,
 "nbformat_minor": 4
}
