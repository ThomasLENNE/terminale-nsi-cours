{
 "cells": [
  {
   "cell_type": "markdown",
   "metadata": {},
   "source": [
    "# <center> GRAPHES : Parcours en largeur </center>"
   ]
  },
  {
   "cell_type": "markdown",
   "metadata": {},
   "source": [
    "* Le parcours en profondeur étudié précédemment nous permet de déterminer l'existence d'un chemin entre deux sommets, voire d'en construire un, mais il ne détermine pas nécéssairement le plus court chemin entre deux sommets, c'est à dire leur distance. En effet le parcours en profondeur détermine un chemin arbitraire.\n",
    "\n",
    "\n",
    "* Dans ce document, nous allons découvrir un autre algorithme fondamental lié aux graphes, que nous avons également déjà aperçu dans le cas des arbres : Le parcours en largeur.\n",
    "\n",
    "\n",
    "* Il permet à l'instar du parcours en profondeur  de découvrir les sommets atteignables à partir d'un sommet de départ, mais dans un ordre établi.\n",
    "\n",
    "\n",
    "* Le parcours en largeur permet de déterminer le plus court chemin entre deux sommets d'un graphe (leur distance). \n",
    "\n",
    "\n",
    "* Ci-dessous : \n",
    "   * On modélise un labyrinthe(à gauche) par un graphe non orienté(à droite) ou chaque \"case\" est un sommet ou les arcs indiquent les accès aux cases voisines . \n",
    "   * Il existe plusieurs chemins de la case départ à la case d'arrivée.\n",
    "   * Le plus court a pour distance 6.\n",
    "   \n",
    "   \n",
    "<img src='labintrolarg.png' style='float:center;' width=400>"
   ]
  },
  {
   "cell_type": "markdown",
   "metadata": {},
   "source": [
    "## 1. Algorithme\n",
    "Principes :\n",
    "* Comme pour le parcours en profondeur, on se donne un sommet de départ (la source) pour intier le parcours.\n",
    "* Et comme pour le parcours en profondeur, on va déterminer peu à peu tous les sommets atteignables à partir de ce sommet atteignable.\n",
    "* Mais dans le parcours en largeur, on visite les sommets dans un ordre établi.\n",
    "* D'abord les sommets à une distance 1 de la source, puis les sommets non encore visités situés à une distance 2, etc...Jusqu'à ce qu'il n'y ait plus de sommets à explorer.\n",
    "\n",
    "Remarque :\n",
    "* On mémorise ainsi la distance de chause sommet à la source, ce qui permettra ensuite de déterminer le plus court chemin d'un sommet à un autre.\n",
    "\n",
    "\n",
    "##### Exemple :\n",
    "<img src='bfs.png' style='float:right;' width=150>\n",
    "\n",
    "Considérons le graphe orienté ci-contre.\n",
    "\n",
    "Le parcours en largeur à partir du sommet A révèle les sommets :\n",
    "* Situés à une distance 1 de A :  B et D.\n",
    "* Puis situés à une distance 2 de A(et non encore visités) : C et E\n",
    "* Puis situés à une distance 3 de A(et non encore visités) : F\n",
    "\n",
    "Le sommet G n'est pas découvert lors du parcours, car il n'y a pas de chemin qui relie A et G."
   ]
  },
  {
   "cell_type": "markdown",
   "metadata": {},
   "source": [
    "##### Exercice 1 :\n",
    "\n",
    "Dans le graphe orienté ci-contre, indiquer le résultat du parcours en largeur (en notant les distances de chasue sommet à la source entre parenthèses) à partir de :\n",
    "\n",
    "<img src='ex1.png' style='float:right;' width=120>\n",
    "\n",
    "* $0$ :   \n",
    "\n",
    "\n",
    "* $1$ :  \n",
    "\n",
    "\n",
    "* $2$ :  \n",
    "\n",
    "\n",
    "* $3$ :  "
   ]
  },
  {
   "cell_type": "markdown",
   "metadata": {},
   "source": [
    "## 2. Implémentation\n",
    "On utilise la classe déjà vue précédemment qui permet de représenter un graphe avec un dictionnaire d'adjacence. Le graphe créé ci-après est celui montré en exemple."
   ]
  },
  {
   "cell_type": "code",
   "execution_count": null,
   "metadata": {},
   "outputs": [],
   "source": [
    "class Graphe:\n",
    "    '''Graphe représenté par un dictionnaire d'adjacence'''\n",
    "    def __init__(self):\n",
    "        self.adj={}\n",
    "    \n",
    "    def affiche(self):\n",
    "        for k in self.adj:\n",
    "            print (k,self.adj[k])\n",
    "    \n",
    "    def ajouter_sommet(self,s):\n",
    "        if s not in self.adj:\n",
    "            self.adj[s]=[]\n",
    "   \n",
    "    def ajouter_arc(self, s1, s2):\n",
    "        self.ajouter_sommet(s1)\n",
    "        self.ajouter_sommet(s2)\n",
    "        self.adj[s1].append(s2)\n",
    "        #graphe non orienté\n",
    "        #self.adj[s2].append(s1)\n",
    "    \n",
    "    def voisins(self, s):\n",
    "        return self.adj[s]\n",
    "    \n",
    "    def sommets(self):\n",
    "        s=[]\n",
    "        for k in self.adj:\n",
    "            s.append(k)\n",
    "        return s   \n",
    "    \n",
    "    #Ex2\n",
    "    def parcours_largeur(self, source):\n",
    "        dist={source:0}\n",
    "        courant=[source]\n",
    "        suivant=[]\n",
    "        \n",
    "        \n",
    "        \n",
    "        \n",
    "        \n",
    "        \n",
    "        \n",
    "        \n",
    "        \n",
    "        \n",
    "        \n",
    "        \n",
    "        return dist\n",
    "                   \n",
    "    #Ex3\n",
    "    def parcours_largeur_file(self,source):\n",
    "        dist={source:0}\n",
    "        file=File()\n",
    "        file.enfiler(source)\n",
    "        \n",
    "        \n",
    "       \n",
    "    \n",
    "    \n",
    "    \n",
    "    \n",
    "    \n",
    "    \n",
    "    \n",
    "    \n",
    "    \n",
    "    \n",
    "        return dist\n",
    "    \n",
    "    #Ex4\n",
    "    def distance(self, s1,s2):\n",
    "        \n",
    "        \n",
    "        \n",
    "        \n",
    "        \n",
    "        \n",
    "        \n",
    "        \n",
    "        \n",
    "        \n",
    "        pass\n",
    "    \n",
    "    \n",
    "    \n",
    "    \n",
    "    #Ex5\n",
    "    def parcours_chemin(self,source):\n",
    "        vus={source:(0,None)}\n",
    "        courant=[source]\n",
    "        suivant=[]\n",
    "        \n",
    "        \n",
    "        \n",
    "        \n",
    "        \n",
    "        \n",
    "        \n",
    "        \n",
    "        \n",
    "        \n",
    "        \n",
    "        \n",
    "        \n",
    "        \n",
    "        \n",
    "        \n",
    "        return vus\n",
    "    \n",
    "    def chemin(self,s1,s2):\n",
    "        vus=self.parcours_chemin(s1)\n",
    "        chem=[]\n",
    "        \n",
    "        \n",
    "        \n",
    "        \n",
    "        \n",
    "        \n",
    "        \n",
    "        \n",
    "        \n",
    "        \n",
    "        \n",
    "        \n",
    "        \n",
    "        \n",
    "        \n",
    "        \n",
    "        chem.reverse()\n",
    "        return chem\n",
    "                \n",
    "            "
   ]
  },
  {
   "cell_type": "code",
   "execution_count": null,
   "metadata": {},
   "outputs": [],
   "source": [
    "#graphe montré en exemple\n",
    "g2=Graphe()\n",
    "\n",
    "g2.ajouter_arc('A','B')\n",
    "g2.ajouter_arc('A','D')\n",
    "g2.ajouter_arc('B','C')\n",
    "g2.ajouter_arc('C','E')\n",
    "g2.ajouter_arc('C','F')\n",
    "g2.ajouter_arc('D','E')\n",
    "g2.ajouter_arc('E','B')\n",
    "g2.ajouter_arc('G','C')\n",
    "g2.affiche()"
   ]
  },
  {
   "cell_type": "markdown",
   "metadata": {},
   "source": [
    "### Avec deux listes python et un dictionnaire.\n",
    "\n",
    "* La premiere liste `courant` contient des sommets situés à une distance $d$ de la source. C'est dans cette liste quel'on prend le prochaon sommet à examiner.\n",
    "* La seconde liste `suivant` contient des sommets situés à une distance $d+1$ de la source, que l'on examinera après ceux de la liste `courant`.\n",
    "* Le dictionnaire `dist` associe à chaque sommet atteint sa distance à la source.\n",
    "\n",
    "\n",
    "* L'algorithme procède ainsi :\n",
    "  * Initialement, la source est placée dans `courant` et dans `dist` associé à sa distance à elle-même qui est $0$.\n",
    "  * Tant que l'ensemble `courant` n'est pas vide :\n",
    "    * On en retire un sommet `s`.\n",
    "    * Pour chaque voisin `v` de `s` qui n'est pas encore dans `dist` :\n",
    "       * On ajoute `v` à l'ensemble suivant.\n",
    "       * On fixe `dist[v]` à `dist[s]+1`.\n",
    "    * Si l'ensemble `courant` est vide, on l'échange avec `suivant`.\n",
    "  * On renvoie `dist`\n",
    "  "
   ]
  },
  {
   "cell_type": "markdown",
   "metadata": {},
   "source": [
    "##### Exercice 2 :\n",
    "En utilisant l'algorithme décrit ci-dessus, compléter la méthode `parcours_largeur(self, source)` ou `source` est le sommet de départ."
   ]
  },
  {
   "cell_type": "code",
   "execution_count": null,
   "metadata": {},
   "outputs": [],
   "source": [
    "#test parcours largeur\n",
    "print(g2.parcours_largeur('A'))"
   ]
  },
  {
   "cell_type": "markdown",
   "metadata": {},
   "source": [
    "### Avec une file\n",
    "* Le parcours en largeur est traditionnellement réalisé avec une file dans laquelle on ajoute à la fin les nouveaux sommets(ceux que le code précédent place dans `suivant`) et dans laquelle on retire au début le prochaon sommet à examiner (celui que le code précédent retire de l'ensemble `courant`).\n",
    "* On utilise la classe `File` ci-dessous, déjà vue dans un document précédent."
   ]
  },
  {
   "cell_type": "code",
   "execution_count": null,
   "metadata": {},
   "outputs": [],
   "source": [
    "class File:\n",
    "\n",
    "    def __init__(self, valeurs=[]):\n",
    "        self.valeurs=valeurs\n",
    "        \n",
    "    def est_vide(self):\n",
    "        return self.valeurs == []\n",
    "    \n",
    "    def enfiler(self,a):\n",
    "        self.valeurs.insert(0,a)\n",
    "    \n",
    "    def defiler(self):\n",
    "        if self.est_vide() == False:\n",
    "            return self.valeurs.pop()"
   ]
  },
  {
   "cell_type": "markdown",
   "metadata": {},
   "source": [
    "##### Exercice 3 :\n",
    "Compléter la méthode `parcours_largeur_file(self, source)` et vérifier que le parcours en largeur donne bien le même résultat qu'avec la méthode précédente."
   ]
  },
  {
   "cell_type": "code",
   "execution_count": null,
   "metadata": {},
   "outputs": [],
   "source": [
    "#test parcours profondeur file\n",
    "g2.parcours_largeur_file('A')"
   ]
  },
  {
   "cell_type": "markdown",
   "metadata": {},
   "source": [
    "## 3 . Distance entre deux sommets\n",
    "* Le parcours en largeur permet ainsi de calculer la distance entre deux sommets `s1` et `s2`, c'est à dire le plus court chemin qui les relie.\n",
    "* On lance un parcours en largeur à partir du sommet `s1`.\n",
    "* On renvoie la valeur de `dist[s2]` si `s2` est atteignable."
   ]
  },
  {
   "cell_type": "markdown",
   "metadata": {},
   "source": [
    "##### Exercice 4:\n",
    "Compléter la méthode `distance(self, s1,s2)` qui renvoie la distance entre les sommets `s1` et `s2`.Si cette distance n'existe pas, on renvoie `None`."
   ]
  },
  {
   "cell_type": "code",
   "execution_count": null,
   "metadata": {},
   "outputs": [],
   "source": [
    "#test distance\n",
    "assert(g2.distance('A','F')==3)\n",
    "assert(g2.distance('A','A')==0)\n",
    "assert(g2.distance('B','F')==2)\n",
    "assert(g2.distance('A','G')==None)"
   ]
  },
  {
   "cell_type": "markdown",
   "metadata": {},
   "source": [
    "## 4. Exercice de synthèse\n",
    "\n",
    "##### Exercice 5 :\n",
    "ATTENTION : \n",
    "* Dans cet exercice, on travaille avec un graphe non orienté.\n",
    "* Pour pouvoir utiliser correctement les méthodes de la classe `Graphe`, il faut décommenter la ligne         `#self.adj[s2].append(s1)` dans la méthode `ajouter_arc(self,s1,s2)`.\n",
    "\n",
    "\n",
    "<center>On reprend le labyrinthe présenté en introduction.</center>\n",
    "\n",
    "\n",
    "<img src='labintrolarg.png' style='float:center;' width=350>"
   ]
  },
  {
   "cell_type": "markdown",
   "metadata": {},
   "source": [
    "##### Partie A :\n",
    "__1.__ Construire et afficher le graphe associé à ce labyrinthe."
   ]
  },
  {
   "cell_type": "code",
   "execution_count": null,
   "metadata": {},
   "outputs": [],
   "source": [
    "#1.\n",
    "laby=Graphe()\n",
    "\n",
    "\n",
    "\n",
    "\n",
    "\n",
    "\n",
    "\n",
    "\n",
    "\n",
    "\n",
    "\n",
    "\n",
    "\n",
    "\n",
    "laby.affiche()"
   ]
  },
  {
   "cell_type": "markdown",
   "metadata": {},
   "source": [
    "__2.__ Vérifier que le plus court chemin  entre le départ et l'arrivée est égal à 6."
   ]
  },
  {
   "cell_type": "code",
   "execution_count": null,
   "metadata": {},
   "outputs": [],
   "source": [
    "#2.\n",
    "laby.distance(1,16)"
   ]
  },
  {
   "cell_type": "markdown",
   "metadata": {},
   "source": [
    "#### Partie B :\n",
    "Dans cette partie, on cherche à utiliser le parcours en largeur pour construire le plus court chemin entre deux sommets du graphe, lorsque c'est possible.\n",
    "\n",
    "Pour cela , on ajoute deux méthodes à la classe `Graphe` :\n",
    "__1.__  La méthode `parcours_chemin(self, source)`:\n",
    "   * Elle ressemble beaucoup à la méthode`parcours_largeur`.\n",
    "   * L'idée est de remplacer le dictionnaire `dist` par un dictionnaire `vus`de telle sorte que l'on associe à chaque sommet visité, en plus de la distance à la source, le sommet qui a permis de l'atteindre pendant le parcours en largeur. Pour le sommet source, on lui associe la valeur `None`. Ainsi les clés de ce dictionnaire sont les sommets et les valeurs associés peuvent un tuple contenant la distance à la source et le sommet origine.\n",
    "   * Après le parcours, on pourra utiliser le contenu du dictionnaire pour remonter d'un sommet à un autre.\n",
    "   \n",
    "Compléter cette méthode dans la classe `Graphe`."
   ]
  },
  {
   "cell_type": "code",
   "execution_count": null,
   "metadata": {},
   "outputs": [],
   "source": [
    "#1.test parcours_chemin\n",
    "print(laby.parcours_chemin(1))"
   ]
  },
  {
   "cell_type": "markdown",
   "metadata": {},
   "source": [
    "__2.__ La méthode `chemin(self,s1,s2)`. Cette fonction renvoie le plus court chemin entre s1 et s2 sous forme d'une liste de sommets.\n",
    "\n",
    "\n",
    "Compléter cette méthode.\n",
    "\n",
    "\n",
    "*Aides :*\n",
    "\n",
    " * On lance un parcours en largeur à partir du sommet s1.\n",
    " * Si le sommet s2 a été atteint (c'est à dire s'il se trouve dans `vus`):\n",
    "    * Construire le chemin dans une liste en remontant le dictionnaire de s2 à s1\n"
   ]
  },
  {
   "cell_type": "code",
   "execution_count": null,
   "metadata": {},
   "outputs": [],
   "source": [
    "#test + court chemin entre case départ et case arrivée\n",
    "laby.chemin(1,16) #[1, 5, 6, 10, 11, 15, 16]"
   ]
  }
 ],
 "metadata": {
  "kernelspec": {
   "display_name": "Python 3",
   "language": "python",
   "name": "python3"
  },
  "language_info": {
   "codemirror_mode": {
    "name": "ipython",
    "version": 3
   },
   "file_extension": ".py",
   "mimetype": "text/x-python",
   "name": "python",
   "nbconvert_exporter": "python",
   "pygments_lexer": "ipython3",
   "version": "3.8.5"
  }
 },
 "nbformat": 4,
 "nbformat_minor": 4
}
