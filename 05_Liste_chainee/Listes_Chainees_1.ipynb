{
 "cells": [
  {
   "cell_type": "markdown",
   "metadata": {},
   "source": [
    "# <center> LISTES CHAINEES 1/2<center>"
   ]
  },
  {
   "cell_type": "markdown",
   "metadata": {},
   "source": [
    "* En python, ce que l'on désigne par le terme liste est en réalité ce que l'on appelle en algorithmique un tableau, c'est à dire une suite d'éléments contigus et ordonnés en mémoire. Ces éléments sont stockés en mémoire les uns à la suite des autres.\n",
    "\n",
    "\n",
    "##### Exemple :"
   ]
  },
  {
   "cell_type": "code",
   "execution_count": 8,
   "metadata": {},
   "outputs": [
    {
     "name": "stdout",
     "output_type": "stream",
     "text": [
      "140717973837472\n",
      "140717973837472\n",
      "140717973837504\n",
      "140717973837536\n",
      "140717973837600\n"
     ]
    }
   ],
   "source": [
    "T=[1,1,2,3,5]\n",
    "print(id(T[0]))\n",
    "print(id(T[1]))\n",
    "print(id(T[2]))\n",
    "print(id(T[3]))\n",
    "print(id(T[4]))"
   ]
  },
  {
   "cell_type": "markdown",
   "metadata": {},
   "source": [
    " * Les tableaux permettent efficacement d'insérer ou de supprimer un élément à la fin du tableau, grâce aux méthodes `append()` et `pop()`.\n",
    " * En revanche, ils le sont beaucoup moins lorsqu'il s'agit d'insérer ou de supprimer un élément à une autre position que la dernière."
   ]
  },
  {
   "cell_type": "markdown",
   "metadata": {},
   "source": [
    "##### Exercice 1:\n",
    "On considère le tableau ci-dessous :\n",
    "\n",
    "<center>$|\\;\\;1 \\; \\;|\\;\\;  1\\; \\; |\\; \\; 3 \\;\\; | \\;\\; 5 \\;\\; |\\;\\;  8 \\; \\;|$</center>\n",
    "\n",
    "On souhaite insérer la valeur $0$ en première position et obtenir le tableau suivant: \n",
    "\n",
    "<center>$|\\;\\;0\\;\\;|\\;\\;1 \\; \\;|\\;\\;  1\\; \\; |\\; \\; 3 \\;\\; | \\;\\; 5 \\;\\; |\\;\\;  8 \\; \\;|$</center>\n",
    "\n",
    "\n",
    "<br/>\n",
    "<br/>\n",
    " \n",
    "*   On commence par agrandir le tableau, en ajoutant un nouvel emplacement à la fin  :\n",
    "\n",
    "<center>$|\\;\\;1 \\; \\;|\\;\\;  1\\; \\; |\\; \\; 3 \\;\\; | \\;\\; 5 \\;\\; |\\;\\;  8 \\; \\;|\\;\\;\\;\\;\\;|$</center>\n",
    "\n",
    "*  Il faut ensuite décaler tous les élements du tableau initial vers la droite en commençant par le dernier :\n",
    "\n",
    "<center>$|\\;\\;1\\;\\;|\\;\\;1 \\; \\;|\\;\\;  1\\; \\; |\\; \\; 3 \\;\\; | \\;\\; 5 \\;\\; |\\;\\;  8 \\; \\;|$</center>\n",
    "\n",
    "*  Enfin, on écrit la valeur souhaitée dans la première case du tableau :\n",
    "\n",
    "<center>$|\\;\\;0\\;\\;|\\;\\;1 \\; \\;|\\;\\;  1\\; \\; |\\; \\; 3 \\;\\; | \\;\\; 5 \\;\\; |\\;\\;  8 \\; \\;|$</center>\n",
    "\n",
    "\n",
    "Questions :\n",
    "\n",
    "Considérons maintenant un tableau qui comporte 1 millions d'éléments.\n",
    "1. Combien de déplacements seront nécéssaires pour insérer une valeur en première position ?\n",
    "2. Et si l'on souhaite supprimer le premier élément ?"
   ]
  },
  {
   "cell_type": "markdown",
   "metadata": {},
   "source": [
    "Réponse : \n",
    "1.   \n",
    "2.  \n",
    "   *   \n",
    "   *  "
   ]
  },
  {
   "cell_type": "markdown",
   "metadata": {},
   "source": [
    "##### Remarques :\n",
    "* Dans cette feuille, nous allons étudier une structure de données qui apporte une meilleure solution aux problèmes de l'insertion et de la suppression : la liste chaînée.\n",
    "* Nous verrons aussi plus tard qu'elle permet de construire d'autres structures de données."
   ]
  },
  {
   "cell_type": "markdown",
   "metadata": {},
   "source": [
    "## 1. Définition"
   ]
  },
  {
   "cell_type": "markdown",
   "metadata": {},
   "source": [
    "### Principes\n",
    "<img src='liste_chainee.png' style='float:right' width=500>\n",
    "Voici ci-contre une représentation de la liste chaînée $1,1,2,3,5$\n",
    "\n",
    "* Une liste chaînée permet de représenter une séquence finie d'éléments.\n",
    "\n",
    "\n",
    "* Comme le nom le suggère, ces éléments sont liés entre eux comme le sont les maillons d'une chaîne, nous appellerons ces maillons des cellules.\n",
    "\n",
    "\n",
    "* Chaque cellule contient deux informations :\n",
    "   * La valeur de l'élément.\n",
    "   * L'adresse mémoire de la cellule contenant l'élément suivant.\n",
    "\n",
    "\n",
    "* La dernière cellule contient la valeur du dernier élément et également l'information spéciale `None` qui indique qu'il n'y a pas de suivant.\n",
    "\n",
    "\n",
    "\n",
    "* L'adresse de la première cellule est appelée tête de la liste.\n",
    "\n",
    "##### Remarques :\n",
    " * Avec cette définition, il n'y a pas d'accès direct aux valeurs des éléments.On avance dans la liste à partir de la tête, jusqu'à l'élément souhaité.\n",
    " * Cette représentation occupe un espace mémoire important puisqu'il faut stocker pour chaque cellule, une valeur et une adresse.\n",
    " * Elle est néanmoins performante en temps d'éxécution pour certaines opérations."
   ]
  },
  {
   "cell_type": "markdown",
   "metadata": {},
   "source": [
    "### Encapsulation dans un objet\n",
    "Nous allons utiliser le paradigme de la programmation objet pour implémenter ce concept en python et définir deux classes : la classe `Cell` qui définit une cellule et la classe `Lc` qui définit une liste chaînée, classe pour laquelle nous ajouterons ensuite des méthodes pour effectuer des opérations usuelles sur les listes.\n"
   ]
  },
  {
   "cell_type": "markdown",
   "metadata": {},
   "source": [
    "##### Exercice 2 : Définition d'une cellule\n",
    "La classe `Cell` contient deux attributs initialisés par la méthode constructeur :\n",
    "* `valeur` : Contient la valeur de la cellule définie\n",
    "* `suivant`: Contient l'adresse mémoire de la cellule suivante, par défaut la valeur `None`\n",
    "\n",
    "Ecrire la méthode `__str(self)__` qui doit permettre d'afficher la valeur de la cellule."
   ]
  },
  {
   "cell_type": "code",
   "execution_count": 1,
   "metadata": {},
   "outputs": [
    {
     "name": "stdout",
     "output_type": "stream",
     "text": [
      "<__main__.Cell object at 0x000001FBED9CE310>\n"
     ]
    }
   ],
   "source": [
    "class Cell:\n",
    "    '''Cellule d'une liste chainee'''\n",
    "    def __init__(self,valeur,suivant=None):\n",
    "        self.valeur=valeur\n",
    "        self.suivant=suivant\n",
    "\n",
    "    #__str__\n",
    "    \n",
    "c1=Cell(1)\n",
    "print(c1)"
   ]
  },
  {
   "cell_type": "markdown",
   "metadata": {},
   "source": [
    "#### Construction d'une première liste\n",
    "Voici alors une première façon de construire la liste chaînée $1,1,2,3,5$ à l'aide de la classe `Cell`:"
   ]
  },
  {
   "cell_type": "code",
   "execution_count": 3,
   "metadata": {},
   "outputs": [],
   "source": [
    "L=Cell(1,Cell(1,Cell(2,Cell(3,Cell(5,None)))))"
   ]
  },
  {
   "cell_type": "markdown",
   "metadata": {},
   "source": [
    "* La variable `L` contient l'adresse mémoire de l'objet contenant la valeur 1 qui lui même contient l'adresse de l'autre objet contenant 1 qui lui même contient l'adresse de l'objet contenant 2 qui lui même contient l'adresse de l'objet contenant 3 qui lui même contient l'adresse du dernier objet contenant la valeur 5 et l'attribut `None`.\n",
    "\n",
    "* Il s'agit d'une définition récursive de la notion de liste, une liste est ici une cellule.\n",
    "\n",
    "* Cette implémentation est cependant incomplète, car il n'est pour l'instant pas possible d'afficher une version plus lisible de cette liste :"
   ]
  },
  {
   "cell_type": "code",
   "execution_count": 4,
   "metadata": {},
   "outputs": [
    {
     "name": "stdout",
     "output_type": "stream",
     "text": [
      "<__main__.Cell object at 0x000001FBED9E9A00>\n"
     ]
    }
   ],
   "source": [
    "print(L)"
   ]
  },
  {
   "cell_type": "markdown",
   "metadata": {},
   "source": [
    "##### Exercice 3 : Définition d'une liste\n",
    "Nous allons construire une classe `Lc` (liste chaînée) qui va permettre de compléter l'implémentation. Cette classe contient un attribut `tete` initialisé par le constructeur avec la valeur par défaut `None`. Cet attribut est simplement le lien vers l'adresse de la première cellule."
   ]
  },
  {
   "cell_type": "code",
   "execution_count": 2,
   "metadata": {},
   "outputs": [],
   "source": [
    "class Lc:\n",
    "    '''Liste chaînée'''\n",
    "    def __init__(self, tete=None):\n",
    "        '''tete : lien vers la premiere cellule'''\n",
    "        self.tete=tete"
   ]
  },
  {
   "cell_type": "markdown",
   "metadata": {},
   "source": [
    "1. Compléter la construction de la liste 1,1,2,3,5 ci-dessous en utilisant les classes `Cell` et `Lc`."
   ]
  },
  {
   "cell_type": "code",
   "execution_count": 6,
   "metadata": {},
   "outputs": [],
   "source": [
    "c1=Cell(1)\n",
    "c2=Cell(1)\n",
    "c1.suivant=c2\n",
    "L=Lc()"
   ]
  },
  {
   "cell_type": "markdown",
   "metadata": {},
   "source": [
    "2. Afficher :\n",
    " * La valeur de la tête.\n",
    " * La valeur du deuxième élément à partir de la tête.\n",
    " * La valeur du dernier élément à partir de la tête."
   ]
  },
  {
   "cell_type": "code",
   "execution_count": 7,
   "metadata": {},
   "outputs": [
    {
     "name": "stdout",
     "output_type": "stream",
     "text": [
      "1\n",
      "1\n",
      "5\n"
     ]
    }
   ],
   "source": [
    "#valeur de la tête\n",
    "\n",
    "\n",
    "#valeur du 2nd élément\n",
    "\n",
    "\n",
    "#valeur du dernier élément\n"
   ]
  },
  {
   "cell_type": "markdown",
   "metadata": {},
   "source": [
    "##### Exercice 4:\n",
    "Compléter la classe `Lc` avec la méthode `__str(self)__` qui doit permettre d'afficher la liste considérée telle que nous la connaissons en python. Ainsi , si `L` est la liste définie plus haut, `print(L)` doit renvoyer `[1,1,2,3,5]`.Si  la liste est vide, alors la chaîne `[]` est renvoyée."
   ]
  },
  {
   "cell_type": "code",
   "execution_count": 8,
   "metadata": {},
   "outputs": [
    {
     "name": "stdout",
     "output_type": "stream",
     "text": [
      "[1, 1, 2, 3, 5]\n",
      "[]\n"
     ]
    }
   ],
   "source": [
    "class Lc:\n",
    "    '''Liste chaînée'''\n",
    "    def __init__(self, tete=None):\n",
    "        '''tete : lien vers la premiere cellule'''\n",
    "        self.tete=tete\n",
    "        \n",
    "    def __str__(self):\n",
    "        '''renvoie une forme lisible de Lc'''\n",
    "        if self.tete is None:\n",
    "            return '[]'\n",
    "        else:\n",
    "            cellule=self.tete\n",
    "            valeurs=[cellule.valeur]\n",
    "            ##a completer\n",
    "\n",
    "            return str(valeurs)\n",
    "    \n",
    "print(L)\n",
    "print(Lc())"
   ]
  },
  {
   "cell_type": "markdown",
   "metadata": {},
   "source": [
    "##### Exercice 5:\n",
    "   Ecrire la fonction `listeN(n)` qui renvoie une liste chaînée contenant les $n$ premmiers entiers de 1 à $n$. Si $n\\leq0$, on renvoie une liste vide."
   ]
  },
  {
   "cell_type": "code",
   "execution_count": 16,
   "metadata": {},
   "outputs": [
    {
     "name": "stdout",
     "output_type": "stream",
     "text": [
      "[]\n",
      "[1]\n",
      "[1, 2, 3, 4, 5, 6, 7, 8, 9, 10]\n"
     ]
    }
   ],
   "source": [
    "def listeN(n):\n",
    "    '''liste des n premiers entiers de 1 à n\n",
    "    parametre : n entier >0\n",
    "    return : liste chaînée\n",
    "    '''\n",
    "    L=Lc()\n",
    "    \n",
    "    \n",
    "    \n",
    "    \n",
    "    \n",
    "    return L\n",
    "        \n",
    "print(listeN(0))      \n",
    "print(listeN(1))\n",
    "print(listeN(10))"
   ]
  },
  {
   "cell_type": "markdown",
   "metadata": {},
   "source": [
    "## 2. Méthodes\n",
    "Dans cette partie, nous allons compléter au fur et à mesure la classe `Lc` ci-dessous avec des méthodes permettant de réaliser des opérations que l'on fait habituellement avec les tableaux python."
   ]
  },
  {
   "cell_type": "code",
   "execution_count": 3,
   "metadata": {},
   "outputs": [],
   "source": [
    "class Cell:\n",
    "    '''Cellule d'une liste chainee'''\n",
    "    def __init__(self,valeur,suivant=None):\n",
    "        self.valeur=valeur\n",
    "        self.suivant=suivant\n",
    "\n",
    "    def __str__(self):\n",
    "        return str(self.valeur)\n",
    "\n",
    "class Lc:\n",
    "    '''Liste chaînée'''\n",
    "    def __init__(self, tete=None):\n",
    "        '''tete : lien vers la premiere cellule'''\n",
    "        self.tete=tete\n",
    "    \n",
    "    def __str__(self):\n",
    "        '''renvoie une forme lisible de Lc'''\n",
    "        if self.tete is None:\n",
    "            return '[]'\n",
    "        else:\n",
    "            cellule=self.tete\n",
    "            valeurs=[cellule.valeur]\n",
    "            while cellule.suivant is not None:\n",
    "                cellule=cellule.suivant\n",
    "                valeurs.append(cellule.valeur)\n",
    "\n",
    "            return str(valeurs)\n",
    "    \n",
    "    #Ex 6\n",
    "    def vide(self):\n",
    "        '''renvoie True si la liste est vide\n",
    "        False sinon'''\n",
    "        pass\n",
    "    \n",
    "    #Ex 7\n",
    "    def __len__(self):\n",
    "        '''renvoie la longueur de la liste'''\n",
    "        pass\n",
    "    \n",
    "    #Ex 8\n",
    "    def __getitem__(self, index):\n",
    "        '''renvoie l'élement  d'index donné,\n",
    "           numéroté à partir de 0'''\n",
    "        pass\n",
    "    \n",
    "    #Ex 9\n",
    "    def inserer(self,x,index):\n",
    "        '''insere l'élément x dans la liste\n",
    "        à l'index donné, numéroté à partir de 0'''\n",
    "        pass\n",
    "            \n",
    "    #Ex 10\n",
    "    def supprimer(self,index):\n",
    "        ''' Supprime l'élément d'index donné\n",
    "        numéroté  partir de 0, de la liste'''\n",
    "        pass"
   ]
  },
  {
   "cell_type": "markdown",
   "metadata": {},
   "source": [
    "##### Exercice 6 : Liste vide\n",
    "La méthode `vide(self)` doit renvoyer `True` si la liste est vide (c'est à dire si l'attribut `tete` à la valeur `None`) et `False` sinon."
   ]
  },
  {
   "cell_type": "code",
   "execution_count": 9,
   "metadata": {},
   "outputs": [
    {
     "name": "stdout",
     "output_type": "stream",
     "text": [
      "[1, 1, 2, 3, 5] False\n",
      "[] True\n"
     ]
    }
   ],
   "source": [
    "#Ex6 : Tests liste vide\n",
    "\n",
    "L=Lc(Cell(1,Cell(1,Cell(2,Cell(3,Cell(5,None))))))\n",
    "print(L, L.vide())\n",
    "\n",
    "L1=Lc()\n",
    "print(L1, L1.vide())"
   ]
  },
  {
   "cell_type": "markdown",
   "metadata": {},
   "source": [
    "##### Exercice 7 : Longueur d'une liste\n",
    "Ecrire La méthode `__len(self)__` qui renvoie la longueur de la liste c'est à dire son nombre de cellules. Il s'agit de parcourir la liste de la première cellule à la dernière, en suivant les liens qui relient les cellules entre elles. On peut réaliser ce parcours au choix avec une fonction récursive ou avec une boucle. Dans cet exercice, nous allons utiliser une boucle."
   ]
  },
  {
   "cell_type": "code",
   "execution_count": 10,
   "metadata": {},
   "outputs": [
    {
     "name": "stdout",
     "output_type": "stream",
     "text": [
      "[1, 1, 2, 3, 5] 5\n",
      "[] 0\n"
     ]
    }
   ],
   "source": [
    "#Ex7 : Tests longueur de la liste\n",
    "\n",
    "L=Lc(Cell(1,Cell(1,Cell(2,Cell(3,Cell(5,None))))))\n",
    "print(L, len(L))\n",
    "\n",
    "L1=Lc()\n",
    "print(L1, len(L1))"
   ]
  },
  {
   "cell_type": "markdown",
   "metadata": {},
   "source": [
    "##### Remarques :\n",
    "* Les instructions `len(L)` et `L.__len__()`  sont équivalentes(cela fonctionne par ailleurs avec les tableaux python)\n",
    "* Complexité du calcul de l'accès à un élément :\n",
    "    * Quelque soit le nombre de cellules, il faut les parcourir toutes.\n",
    "    * La complexité du calcul est donc proportionnelle au nombre $n$ de cellules, en $\\mathcal{O}(n)$\n",
    "    * Pour $1000$ cellules, il faudra donc effectuer $1000$ tests (`while`), $1000$ additions (`n+1`), et $2000$ affectations (`=`), soit $4000$ opérations élémentaires."
   ]
  },
  {
   "cell_type": "markdown",
   "metadata": {},
   "source": [
    "##### Exercice 8 :  Accès aux éléments\n",
    "   Ecrire la méthode `__getitem__(self,index)`. Cette méthode renvoie la valeur contenue dans la cellule d'index donnée, compté à partir de $0$, index de la première cellule. Comme pour l'exercice 6, on peut écrire cette méthode de façon récursive ou avec une boucle, nous allons le faire avec une boucle.L'idée est d'avancer de cellule en cellule jusqu'à l'indice voulu et renvoyer alors la valeur de la cellule.Lorsque la liste est vide ou que l'index demandé est supérieur à la longueur de la liste, le message `index error` sera renvoyé."
   ]
  },
  {
   "cell_type": "markdown",
   "metadata": {},
   "source": [
    "##### Remarques :\n",
    "* Les instructions `L[i]` et `L.__getitem__(i)` sont équivalentes(cela fonctionne par ailleurs avec les tableaux python)\n",
    "* Complexité du calcul de l'accès à un élément :\n",
    "    * Cela dépend de la valeur de `index` :\n",
    "      * Dans certains cas, il faut autant de passages dans la boucle `while` que de cellules à parcourir jusqu'à l'index demandé.\n",
    "      * Dans le pire des cas, il faut parcourir toute la liste (par exemple lorsque l'index est supérieur à égal à celui de la dernière cellule)\n"
   ]
  },
  {
   "cell_type": "code",
   "execution_count": 12,
   "metadata": {},
   "outputs": [
    {
     "name": "stdout",
     "output_type": "stream",
     "text": [
      "[1, 1, 2, 3, 5] 1 index error\n",
      "[] index error\n"
     ]
    }
   ],
   "source": [
    "#Ex8 : Tests accès aux éléments\n",
    "\n",
    "L=Lc(Cell(1,Cell(1,Cell(2,Cell(3,Cell(5,None))))))\n",
    "print(L, L[0], L[5])\n",
    "\n",
    "L1=Lc()\n",
    "print(L1, L1[0])"
   ]
  },
  {
   "cell_type": "markdown",
   "metadata": {},
   "source": [
    "##### Exercice 9 :  Insertion\n",
    "<img src='liste_chainee_insert.png' style='float:right;' width=400>    \n",
    "\n",
    "Le but de cet exercice est d'écrire la méthode `inserer(self, x, index)` qui insère l'élément `x` à l'index donné en paramètre numéroté à partir de $0$. \n",
    "* On envisagera d'abord les cas particuliers ou :\n",
    "    * La liste est vide.\n",
    "    * `index` est égal à $0$ (insertion en début de liste).\n",
    "\n",
    "\n",
    "* Cas général(voir exemple ci-contre):\n",
    "\n",
    "  * On avance dans la liste jusqu'à la cellule numéro `index-1`\n",
    "  * On crée une nouvelle cellule de valeur `x` et liée à la cellule numéro `index`\n",
    "  * On lie la cellule numéro `index-1` à la nouvelle cellule\n",
    "\n",
    "\n",
    "* Bonus : Si l'index est absurde, renvoyer `index error` (ajouter des tests adéquats)"
   ]
  },
  {
   "cell_type": "code",
   "execution_count": 48,
   "metadata": {},
   "outputs": [
    {
     "name": "stdout",
     "output_type": "stream",
     "text": [
      "[]\n",
      "[1]\n",
      "[1, 1, 3, 5]\n",
      "[0, 1, 1, 3, 5]\n",
      "[0, 1, 1, 2, 3, 5]\n",
      "[0, 1, 1, 2, 3, 5, 8]\n"
     ]
    }
   ],
   "source": [
    "#Ex9 : Tests insertion d'élément\n",
    "\n",
    "#insérer dans une liste vide\n",
    "L1=Lc()\n",
    "print(L1)\n",
    "L1.inserer(1,0)\n",
    "print(L1)\n",
    "\n",
    "#génération de la liste 1,1,3,5\n",
    "L=Lc(Cell(1,Cell(1,Cell(3,Cell(5,None)))))\n",
    "print(L)\n",
    "\n",
    "#insérer au début de la liste\n",
    "L.inserer(0,0)\n",
    "print(L)\n",
    "\n",
    "#inserer dans la liste\n",
    "L.inserer(2,3)\n",
    "print(L)\n",
    "\n",
    "#insérer à la fin de la liste\n",
    "L.inserer(8,len(L))\n",
    "print(L)"
   ]
  },
  {
   "cell_type": "markdown",
   "metadata": {},
   "source": [
    "##### Remarques :\n",
    "* On voit ici l'éfficacité de l'insertion dans une liste chaînée en début de liste. Il est inutile de décaler des éléments comme on le ferait pour un tableau, il suffit de créer une cellule à placer en tête et la lier à la cellule qui était précédemment en tête.\n",
    "* Dans ce cas la complexité de calcul est en temps constant( en $\\mathcal{O}(1)$) quelque soit la longueur de la liste !"
   ]
  },
  {
   "cell_type": "markdown",
   "metadata": {},
   "source": [
    "##### Exercice 10 : Suppression\n",
    "<img src='liste_chainee_suppr.png' style='float:right;' width=400>    \n",
    "\n",
    "Le but de cet exercice est d'écrire la méthode `supprimer(self,index)` qui supprime l'élément `x` à l'index donné en paramètre numéroté à partir de $0$. \n",
    "* On envisagera d'abord le cas particulier ou `index` est égal à $0$ (le premier élément est supprimé) :\n",
    "\n",
    "\n",
    "* Cas général(voir exemple ci-contre):\n",
    "\n",
    "  * On avance dans la liste jusqu'à la cellule numéro `index-1`\n",
    "  * On lie la cellule numéro `index-1` à la cellule numéro `index+1`\n",
    "\n",
    "\n",
    "* Bonus : Si l'index est absurde, renvoyer `index error` ( ajouter des tests adéquats)."
   ]
  },
  {
   "cell_type": "code",
   "execution_count": 8,
   "metadata": {},
   "outputs": [
    {
     "name": "stdout",
     "output_type": "stream",
     "text": [
      "[1, 1, 1, 2, 3, 5]\n",
      "[1, 1, 2, 3, 5]\n",
      "[1, 1, 3, 5]\n",
      "[1, 1, 5]\n",
      "[1, 1]\n",
      "[1]\n",
      "[]\n"
     ]
    }
   ],
   "source": [
    "#Ex10 : Tests suppression d'élément\n",
    "\n",
    "#génération de la liste 1,1,3,5\n",
    "L=Lc(Cell(1,Cell(1,Cell(1,Cell(2,Cell(3,Cell(5,None)))))))\n",
    "print(L)\n",
    "\n",
    "#supprimer au début de la liste\n",
    "L.supprimer(0)\n",
    "print(L)\n",
    "\n",
    "#supprimer dans la liste\n",
    "L.supprimer(2)\n",
    "print(L)\n",
    "L.supprimer(2)\n",
    "print(L)\n",
    "L.supprimer(2)\n",
    "print(L)\n",
    "\n",
    "#supprimer à la fin de la liste\n",
    "L.supprimer(len(L)-1)\n",
    "print(L)\n",
    "\n",
    "#supprimer le seul élément de la liste\n",
    "L.supprimer(0)\n",
    "print(L)\n"
   ]
  },
  {
   "cell_type": "markdown",
   "metadata": {},
   "source": [
    "##### Remarques :\n",
    "* Encore une fois la suppression dans une liste chaînée en début de liste est efficace. Il est inutile de décaler des éléments comme on le ferait pour un tableau, il suffit de bien choisir la cellule à placer en tête de liste.\n",
    "* Dans ce cas la complexité de calcul est en temps constant( en $\\mathcal{O}(1)$) quelque soit la longueur de la liste !"
   ]
  },
  {
   "cell_type": "markdown",
   "metadata": {},
   "source": [
    "## 3. Autres types de listes chaînées\n",
    "Il existe de nombreuses variantes de la structure de liste chaînée, dont celles présentées ci-dessous :"
   ]
  },
  {
   "cell_type": "markdown",
   "metadata": {},
   "source": [
    "<img src='liste_chainee_cycle.png' style='float:right;' width=300>\n",
    "\n",
    "### Listes cycliques\n",
    "\n",
    "\n",
    "* Dans cette structure , le dernier élément est lié au premier.\n",
    "* L'utilisation de ce type de liste requiert des précautions pour éviter des parcours infinis, par exemple, lors d'une recherche vaine d'élément."
   ]
  },
  {
   "cell_type": "markdown",
   "metadata": {},
   "source": [
    "##### Exercice 11 : \n",
    "1. Compléter les instructions situées après le code des classes pour construire la liste cyclique $4,2,1$.\n",
    "2. Modifier la méthode `__str(self)__` pour permettre l'affichage d'un cycle (ici `[4,2,1]`)"
   ]
  },
  {
   "cell_type": "code",
   "execution_count": 2,
   "metadata": {},
   "outputs": [
    {
     "name": "stdout",
     "output_type": "stream",
     "text": [
      "[4, 2, 1]\n"
     ]
    }
   ],
   "source": [
    "#liste chaînée cyclique\n",
    "\n",
    "class Cell:\n",
    "    '''Cellule d'une liste chainee'''\n",
    "    def __init__(self,valeur,suivant=None):\n",
    "        self.valeur=valeur\n",
    "        self.suivant=suivant\n",
    "\n",
    "    def __str__(self):\n",
    "        return str(self.valeur)\n",
    "\n",
    "class Lcc:\n",
    "    '''Liste chaînée cyclique'''\n",
    "    def __init__(self, tete=None):\n",
    "        '''tete : lien vers la premiere cellule'''\n",
    "        self.tete=tete\n",
    "\n",
    "    def __str__(self):\n",
    "        '''renvoie une forme lisible de Lcc'''\n",
    "        if self.tete is None:\n",
    "            return '[]'\n",
    "        else:\n",
    "            cellule=self.tete\n",
    "            valeurs=[cellule.valeur]\n",
    "            while cellule.suivant is not None: \n",
    "                cellule=cellule.suivant\n",
    "                valeurs.append(cellule.valeur)\n",
    "\n",
    "            return str(valeurs)\n",
    "\n",
    "        \n",
    "#1.        \n",
    "n1=Cell(4)\n",
    "n2=Cell(2)\n",
    "n3=Cell(1)"
   ]
  },
  {
   "cell_type": "markdown",
   "metadata": {},
   "source": [
    "<img src='liste_chainee_double.png' style='float:right;' width=400>\n",
    "\n",
    "### Listes doublement chaînées\n",
    "\n",
    "* Dans cette structure, chaque élément est lié à l'élément suivant et à l'élément précédent (s'ils existent).\n",
    "* L'espace mémoire occupé est encore plus important puisque chaque cellule contient une valeur et deux liens vers d'autres cellules.\n",
    "* Cette structure facilite néanmoins l'accès aux éléments."
   ]
  },
  {
   "cell_type": "markdown",
   "metadata": {},
   "source": [
    "##### Exercice 12 : \n",
    "Modifier les classes ci-dessous pour que le code s'éxécute sans erreurs."
   ]
  },
  {
   "cell_type": "code",
   "execution_count": 4,
   "metadata": {},
   "outputs": [
    {
     "ename": "AttributeError",
     "evalue": "'Cell2' object has no attribute 'precedent'",
     "output_type": "error",
     "traceback": [
      "\u001b[1;31m---------------------------------------------------------------------------\u001b[0m",
      "\u001b[1;31mAttributeError\u001b[0m                            Traceback (most recent call last)",
      "\u001b[1;32m<ipython-input-4-54059edbe00e>\u001b[0m in \u001b[0;36m<module>\u001b[1;34m\u001b[0m\n\u001b[0;32m     23\u001b[0m \u001b[0mL\u001b[0m\u001b[1;33m=\u001b[0m\u001b[0mLdc\u001b[0m\u001b[1;33m(\u001b[0m\u001b[0mn1\u001b[0m\u001b[1;33m)\u001b[0m\u001b[1;33m\u001b[0m\u001b[1;33m\u001b[0m\u001b[0m\n\u001b[0;32m     24\u001b[0m \u001b[1;33m\u001b[0m\u001b[0m\n\u001b[1;32m---> 25\u001b[1;33m \u001b[0mprint\u001b[0m\u001b[1;33m(\u001b[0m\u001b[0mn1\u001b[0m\u001b[1;33m.\u001b[0m\u001b[0mprecedent\u001b[0m\u001b[1;33m)\u001b[0m \u001b[1;31m# None\u001b[0m\u001b[1;33m\u001b[0m\u001b[1;33m\u001b[0m\u001b[0m\n\u001b[0m\u001b[0;32m     26\u001b[0m \u001b[0mprint\u001b[0m\u001b[1;33m(\u001b[0m\u001b[0mn2\u001b[0m\u001b[1;33m.\u001b[0m\u001b[0msuivant\u001b[0m\u001b[1;33m)\u001b[0m \u001b[1;31m# 1\u001b[0m\u001b[1;33m\u001b[0m\u001b[1;33m\u001b[0m\u001b[0m\n\u001b[0;32m     27\u001b[0m \u001b[0mprint\u001b[0m\u001b[1;33m(\u001b[0m\u001b[0mn2\u001b[0m\u001b[1;33m.\u001b[0m\u001b[0mprecedent\u001b[0m\u001b[1;33m)\u001b[0m \u001b[1;31m# 4\u001b[0m\u001b[1;33m\u001b[0m\u001b[1;33m\u001b[0m\u001b[0m\n",
      "\u001b[1;31mAttributeError\u001b[0m: 'Cell2' object has no attribute 'precedent'"
     ]
    }
   ],
   "source": [
    "#liste chaînée cyclique\n",
    "\n",
    "class Cell2:\n",
    "    '''Cellule d'une liste doublement chaînee'''\n",
    "    def __init__(self,valeur,suivant=None):\n",
    "        self.valeur=valeur\n",
    "        self.suivant=suivant\n",
    "\n",
    "    def __str__(self):\n",
    "        return str(self.valeur)\n",
    "\n",
    "class Ldc:\n",
    "    '''Liste doublement chaînée'''\n",
    "    def __init__(self, tete=None):\n",
    "        '''tete : lien vers la premiere cellule'''\n",
    "        self.tete=tete\n",
    "\n",
    "    \n",
    "n1=Cell2(4)\n",
    "n2=Cell2(2)\n",
    "n3=Cell2(1)\n",
    "\n",
    "L=Ldc(n1)\n",
    "\n",
    "print(n1.precedent) # None\n",
    "print(n2.suivant) # 1\n",
    "print(n2.precedent) # 4\n",
    "print(n3.suivant) # None\n",
    "print(L.tete.suivant) # 2\n"
   ]
  },
  {
   "cell_type": "markdown",
   "metadata": {},
   "source": [
    "<img src='liste_chainee_double_cycle.png' style='float:right;' width=400>\n",
    "\n",
    "### Liste doublement chaînée cyclique\n",
    "* C'est une combinaison des deux structures précédentes. \n",
    "* La première cellule est liée à la dernière et chaque cellule est liée à la précédente et à la suivante."
   ]
  }
 ],
 "metadata": {
  "kernelspec": {
   "display_name": "Python 3",
   "language": "python",
   "name": "python3"
  },
  "language_info": {
   "codemirror_mode": {
    "name": "ipython",
    "version": 3
   },
   "file_extension": ".py",
   "mimetype": "text/x-python",
   "name": "python",
   "nbconvert_exporter": "python",
   "pygments_lexer": "ipython3",
   "version": "3.8.5"
  }
 },
 "nbformat": 4,
 "nbformat_minor": 4
}
