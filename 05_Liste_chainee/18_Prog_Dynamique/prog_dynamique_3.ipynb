{
 "cells": [
  {
   "cell_type": "markdown",
   "metadata": {},
   "source": [
    "# <center> PROGRAMMATION DYNAMIQUE 3/3</center>\n",
    "## <center> ALIGNEMENT DE SEQUENCES</center>\n",
    "\n",
    "<img src='dna.jpg' style='float:right' width=45%>\n",
    "\n",
    "* La molécule d'ADN, présente chez tous les êtres vivants, est composée de l'assemblage dans un ordre précis de quatre nucléotides : \n",
    "  * A (adénine), T (thymine), G (guanine) et C (cytosine).\n",
    "  \n",
    "  \n",
    "* Une séquence ADN est la succession des nucléotides qui le constituent.\n",
    " \n",
    " \n",
    "* En bio-informatique, l'alignement de séquences (ou alignement séquentiel) est une manière de représenter deux ou plusieurs séquences d'ADN les unes sous les autres, de manière à en faire ressortir les régions homologues ou similaires. Ces alignements sont ainsi effectués par des programmes informatiques qui reposent sur des algorithmes très efficaces, basée sur la programmation dynamique.\n",
    " \n",
    " \n",
    "* L'alignement a d'importantes utilisatons en bio-informatique car il permet un certain nombre de prédictions, ou encore d'identifier des caractères d'un ancêtre commun à plusieurs espèces."
   ]
  },
  {
   "cell_type": "markdown",
   "metadata": {},
   "source": [
    "## 1. Présentation du problème"
   ]
  },
  {
   "cell_type": "markdown",
   "metadata": {},
   "source": [
    "Considérons deux séquences ADN :\n",
    "\n",
    "```\n",
    "X = \"ATTGCAT\"\n",
    "Y = \"AGTCCAG\"\n",
    "```\n",
    "\n",
    "Un *alignement* de `X` et `Y` est une façon de les faire correspondre, en conservant l'ordre des caractères, mais en introduisant éventuellement des *trous* (représenté par le symbole \"`-`\").\n",
    "En introduisant quelques trous dans `X` et dans `Y`, nous pouvons les aligner ainsi:\n",
    "\n",
    "```\n",
    "AT-TG-CA-T\n",
    "A-GT-CCAG-\n",
    "```\n",
    "\n",
    "Le *score* d'un alignement est le nombre de trous nécessaires à l'alignement. Pour l'exemple précédent, `score(X,Y)` a pour valeur $6$. On cherche à minimiser ce score."
   ]
  },
  {
   "cell_type": "markdown",
   "metadata": {},
   "source": [
    "#### Exercice 1 :\n",
    "Aligner les mots \"RESSORT\" et \"ESPRIT\". Quel score minimal obtient-on ?"
   ]
  },
  {
   "cell_type": "markdown",
   "metadata": {},
   "source": [
    "__Réponse :__ \n",
    "\n",
    "* \n",
    "* \n",
    "* \n",
    "* \n"
   ]
  },
  {
   "cell_type": "markdown",
   "metadata": {},
   "source": [
    "### Remarque:\n",
    "* Plusieurs solutions sont parfois possibles, donnant un même score minimum."
   ]
  },
  {
   "cell_type": "markdown",
   "metadata": {},
   "source": [
    "## 2. Une approche récursive\n",
    "#### Exercice 2 :\n",
    "On note `aligner_rec(X,Y,i,j)` la fonction qui prend en paramètres:\n",
    "- les séquences `X` et `Y`;\n",
    "- un entier `i` compris entre $0$ et $len(X)$;\n",
    "- un entier `j` compris entre $0$ et $len(Y)$.\n",
    "\n",
    "La fonction `aligner_rec` doit retourner la valeur minimum du score si on se restreint aux `i` premiers caractères de `X` et aux `j` premiers caractères de `Y`.\n",
    "\n",
    "__1. Quelques exemples :__ Avec X=\"GENOME\" et Y=\"ENORME\",  écrire dans chaque cas ce que renvoie les appels ci-dessous et donner un alignement possible:\n",
    "   * `aligner_rec(X,Y,0,2)` : \n",
    " \n",
    " \n",
    "&nbsp;\n",
    "\n",
    "\n",
    "\n",
    "   * `aligner_rec(X,Y,3,0)` : \n",
    " \n",
    " \n",
    "&nbsp;\n",
    "\n",
    "\n",
    "\n",
    "   * `aligner_rec(X,Y,1,1)` : \n",
    " \n",
    " \n",
    "&nbsp;\n",
    "\n",
    "\n",
    "\n",
    "   * `aligner_rec(X,Y,2,1)` : \n",
    " \n",
    " \n",
    "&nbsp;\n",
    "\n",
    "\n",
    "\n",
    "__2. Cas de base :__ Que renvoie `aligner_rec(X,Y,i,j)` lorsque `i = 0` ou lorsque `j = 0` ? \n",
    "\n",
    "__Réponse :__ \n",
    "\n",
    "__3. Cas récursif :__ On suppose que `i` et `j` sont strictement supérieurs à zéro. Pour aligner les i premiers caractères de X et les j premiers caractères de Y, on compare le i-ème caractere de X et le j-ème caractère de Y, c'est à dire `X[i-1]` et `Y[j-1]` :\n",
    "  * S'ils sont identiques, alors le score est le même que celui de l'alignement des i-1 premiers caractères de X et les j-1 premiers caractères de Y, que l'on peut renvoyer récursivement.\n",
    "    * Exemple : Avec X=\"GENOME\" et Y=\"ENORME\", `aligner_rec(X,Y,3,2)` a le même score que `aligner_rec(X,Y,2,1)` car le 3ème caractère de X et le second caractère de Y sont identiques ('N').\n",
    "    \n",
    "  \n",
    "  * Sinon, il va falloir ajouter un trou, le score va nécéssairement augmenter de 1, des appels récursifs à `aligner_rec` nécessaires, mais avec des paramètres différents pour `i` et pour `j` lors de ces appels.\n",
    "     * Exemple : Avec X=\"GENOME\" et Y=\"ENORME\",\n",
    "        * `aligner_rec(X,Y,3,4)` renvoie 3\n",
    "```        \n",
    "GEN--\n",
    "-ENOR\n",
    "```        \n",
    "        * `aligner_rec(X,Y,4,3)` renvoie 1\n",
    "```\n",
    "GENO\n",
    "-ENO  \n",
    "```     \n",
    "        \n",
    "        * Pour obtenir `aligner_rec(X,Y,4,4)`, on renvoie le plus petit score des deux cas précédents auquel on ajoute 1, ce qui donne ici 1+1=2.      \n",
    "```\n",
    "GENO-\n",
    "-ENOR\n",
    "```\n",
    "     \n",
    "     \n",
    "__A l'aide de ces informations et de celles de la question 2., compléter la fonction ci-dessous :__"
   ]
  },
  {
   "cell_type": "code",
   "execution_count": 1,
   "metadata": {},
   "outputs": [],
   "source": [
    "def aligner_rec(x,y,i,j):\n",
    "    '''renvoie le score(nbre de trous minimal) \n",
    "    de x et y'''\n",
    "    if i==0 : #si la chaine x est vide\n",
    "        pass #on renvoie la longueur de y (on a que des trous)\n",
    "    elif j==0:\n",
    "        pass\n",
    "    else:\n",
    "        #on s'intéresse au dernier caractère\n",
    "        if x[i-1]==y[j-1]:\n",
    "            pass\n",
    "        else:\n",
    "            pass"
   ]
  },
  {
   "cell_type": "code",
   "execution_count": 48,
   "metadata": {},
   "outputs": [],
   "source": [
    "#tests\n",
    "assert(aligner_rec(\"ATTGCAT\",\"AGTCCAG\",7,7)==6)\n",
    "assert(aligner_rec(\"GENOME\",\"ENORME\",6,6)==2)\n",
    "assert(aligner_rec(\"RESSORT\",\"ESPRIT\",7,6)==5)"
   ]
  },
  {
   "cell_type": "markdown",
   "metadata": {},
   "source": [
    "#### Exercice 3 :\n",
    "Tester la fonction précédente avec les séquences suivantes :"
   ]
  },
  {
   "cell_type": "code",
   "execution_count": null,
   "metadata": {},
   "outputs": [],
   "source": [
    "X = \"TTCACCAGAAAAGAACACGGTAGTTACGAGTCCAATATTGTTAAACCG\"\n",
    "Y = \"TTCACGAAAAAGTAACGGGCCGATCTCCAATAAGTGCGACCGAG\"\n",
    "\n",
    "aligner_rec(X,Y,len(X),len(Y))"
   ]
  },
  {
   "cell_type": "markdown",
   "metadata": {},
   "source": [
    "### Remarques :\n",
    "* La version récursive calcule une solution correcte au problème, mais elle souffre de lenteur car un même sous-problème peut être plusieurs fois résolus. Cela se traduit par de multiples appels à `aligner_rec` avec des paramètres identiques."
   ]
  },
  {
   "cell_type": "markdown",
   "metadata": {},
   "source": [
    "## 3. Une approche dynamique\n",
    "\n",
    "* Afin de ne pas recalculer plusieurs fois la solution à un même sous-problème, on propose d'utiliser et de compléter un tableau `score` à deux dimensions, où `score[i][j]` (pour $ 0 \\leq i \\leq len(X)$ et $0 \\leq j \\leq len(Y)$) stocke la valeur minimum du score qu'il est possible d’obtenir si l'on se restreint aux $i$ premiers caractères de `X`  et aux $j$ premiers caractères de `Y`.\n",
    "* Exemples : avec X=\"GENOME\" et Y=\"ENORME\", \n",
    "   * `score[4][3]` est le score minimal de l'alignement de \"GENO\" et \"ENO\"\n",
    "   * `score[0][2]` est celui de la chaîne vide avec \"EN\"\n",
    "   \n",
    "#### Exercice 4 : \n",
    "__1.__ Quelle valeur devrait être stockée dans `score[i][j]` lorsque $i = 0$ ou lorsque $j=0$ ?\n",
    "\n",
    "__Réponse :__\n",
    " * `score[i][0]` : \n",
    " * `score[0][j]` : \n",
    " \n",
    "__2.__ Supposons maintenant que `i > 0` et `j > 0`.En se basant sur le principe de la fonction récursive précédente, établir une formule (de récurrence) qui donne la valeur de `score[i][j]` en fonction de `score[i-1][j-1]` ou `score[i][j-1]` ou encore `score[i-1][j]` et compléter la fonction ci-dessous."
   ]
  },
  {
   "cell_type": "code",
   "execution_count": 2,
   "metadata": {},
   "outputs": [],
   "source": [
    "def aligner_dyn(x,y):\n",
    "    n=len(x)+1\n",
    "    m=len(y)+1\n",
    "    score=[[0 for _ in range(m)] for _ in range(n)] #tableau des scores\n",
    "    \n",
    "    #score lorsque j=0\n",
    "    for i in range(n):\n",
    "        pass\n",
    "    \n",
    "    #score lorsque i=0\n",
    "    for j in range(m):\n",
    "        pass\n",
    "    \n",
    "    #score[i][j] sinon\n",
    "    for i in range(1,n):\n",
    "        for j in range(1,m):\n",
    "            pass\n",
    "    \n",
    "    return score[n-1][m-1]  "
   ]
  },
  {
   "cell_type": "code",
   "execution_count": 12,
   "metadata": {},
   "outputs": [
    {
     "data": {
      "text/plain": [
       "26"
      ]
     },
     "execution_count": 12,
     "metadata": {},
     "output_type": "execute_result"
    }
   ],
   "source": [
    "#test\n",
    "X = \"TTCACCAGAAAAGAACACGGTAGTTACGAGTCCAATATTGTTAAACCG\"\n",
    "Y = \"TTCACGAAAAAGTAACGGGCCGATCTCCAATAAGTGCGACCGAG\"\n",
    "\n",
    "aligner_dyn(X,Y)"
   ]
  },
  {
   "cell_type": "markdown",
   "metadata": {},
   "source": [
    "### Remarques :\n",
    "* On ne peut que constater la différence de vitesse d'éxécution sur des longues séquences par rapport à la version précédente !\n",
    "* La complexité en temps de cet algorithme est en $O(n\\times m)$.\n",
    "* Il y a un coût en mémoire puisqu'il faut prévoir l'espace mémoire pour stocker le tableau."
   ]
  },
  {
   "cell_type": "markdown",
   "metadata": {},
   "source": [
    "## 4. Résolution du problème\n",
    "\n",
    "* Afficher le score, c'est bien mais ce que l'on souhaite, c'est aussi afficher un alignement des séquences concernées. Pour cela, il faut modifier la version précédente, en particulier la variable `score` qui reste un tableau à deux dimensions mais qui contiendra désormais des tuples de trois éléments : le score, des caractères de X avec les trous, des caractères de Y avec des trous.\n",
    "* Exemples : avec X=\"GENOME\" et Y=\"ENORME\", \n",
    "   * `score[4][3]` contiendra `(1,'GENO','-ENO')`\n",
    "   * `score[0][2]` contiendra `(2,'--','EN')`\n",
    "   \n",
    "#### Exercice 5 :\n",
    "En remplaçant les pointillées, compléter la fonction `aligner_dyn_affiche(x,y)` pour qu'elle renvoie un tuple contenant le score minimal de l'alignement de X et Y, l'alignement des caractères de X, l'alignement des caractères de Y."
   ]
  },
  {
   "cell_type": "code",
   "execution_count": 7,
   "metadata": {},
   "outputs": [],
   "source": [
    "def aligner_dyn_affiche(x,y):\n",
    "    n=len(x)+1\n",
    "    m=len(y)+1\n",
    "    score=[[(0,'','') for _ in range(m)] for _ in range(n)] #tableau des scores et des motifs obtenus\n",
    "    \n",
    "    for i in range(n): \n",
    "        score[i][0]=(i,x[:i],'-'*i)\n",
    "    \n",
    "    for j in range(m):\n",
    "        score[0][j]=(j,'-'*j,y[:j])\n",
    "        \n",
    "    for i in range(1,n):\n",
    "        for j in range(1,m):\n",
    "            if ...:\n",
    "                total,xmotif,ymotif=score[i-1][j-1]\n",
    "                score[i][j]=(total,...,...)\n",
    "            else:\n",
    "                total1,xmotif1,ymotif1=score[i][j-1]\n",
    "                total2,xmotif2,ymotif2=score[i-1][j]\n",
    "                \n",
    "                if total1 <= total2:\n",
    "                    total=...\n",
    "                    xmotif=...\n",
    "                    ymotif=...\n",
    "                else:\n",
    "                    total=...\n",
    "                    xmotif=...\n",
    "                    ymotif=...\n",
    "                \n",
    "                score[i][j]=(total,xmotif,ymotif)\n",
    "                \n",
    "    \n",
    "    return score[n-1][m-1] "
   ]
  },
  {
   "cell_type": "code",
   "execution_count": 9,
   "metadata": {},
   "outputs": [],
   "source": [
    "#X = \"ATTGCAT\"\n",
    "#Y = \"AGTCCAG\"\n",
    "\n",
    "#X = \"GENOME\"\n",
    "#Y = \"ENORME\"\n",
    "\n",
    "#X = \"RESSORT\"\n",
    "#Y = \"ESPRIT\"\n",
    "\n",
    "X = \"TTCACCAGAAAAGAACACGGTAGTTACGAGTCCAATATTGTTAAACCG\"\n",
    "Y = \"TTCACGAAAAAGTAACGGGCCGATCTCCAATAAGTGCGACCGAG\""
   ]
  },
  {
   "cell_type": "code",
   "execution_count": 10,
   "metadata": {},
   "outputs": [
    {
     "name": "stdout",
     "output_type": "stream",
     "text": [
      "TTCACCAGAAAAGA--ACACGGTAGTTA-CGAG--TCCAATATT-GTTAA---ACC--G\n",
      "TTCA-C-GAAAA-AGTA-ACGG--G---CCGA-TCTCCAATA--AG-T--GCGACCGAG\n",
      "26\n"
     ]
    }
   ],
   "source": [
    "score,x,y=aligner_dyn_affiche(X,Y)\n",
    "print(x)\n",
    "print(y)\n",
    "print(score)"
   ]
  }
 ],
 "metadata": {
  "kernelspec": {
   "display_name": "Python 3",
   "language": "python",
   "name": "python3"
  },
  "language_info": {
   "codemirror_mode": {
    "name": "ipython",
    "version": 3
   },
   "file_extension": ".py",
   "mimetype": "text/x-python",
   "name": "python",
   "nbconvert_exporter": "python",
   "pygments_lexer": "ipython3",
   "version": "3.8.5"
  }
 },
 "nbformat": 4,
 "nbformat_minor": 4
}
