{
 "cells": [
  {
   "cell_type": "markdown",
   "metadata": {},
   "source": [
    "# <center> LISTE CHAINEES 2/2 : Exercices </center>"
   ]
  },
  {
   "cell_type": "markdown",
   "metadata": {},
   "source": [
    "* Dans cette feuille, on complètera au fur et à mesure le code ci-dessous qui définit les classes permettant de manipuler les listes chaînées.\n",
    "* Rappels : \n",
    "    * Une liste chaînée est une structure de données pour représenter une séquence finie d'éléments. \n",
    "    * Chaque élément est contenu dans une cellule, qui fournit par ailleurs un moyen d'accéder à la cellule suivante. \n",
    "    * Les opérations sur les listes chaînées se programment sous forme de parcours qui suivent ces liaisons, en utilisant la récursivité ou une boucle."
   ]
  },
  {
   "cell_type": "code",
   "execution_count": 1,
   "metadata": {},
   "outputs": [],
   "source": [
    "#liste chaînée\n",
    "\n",
    "class Cell:\n",
    "    '''cellule d'une liste chainee'''\n",
    "    def __init__(self,valeur,suivant=None):\n",
    "        self.valeur=valeur\n",
    "        self.suivant=suivant\n",
    "\n",
    "    def __str__(self):\n",
    "        return str(self.valeur)\n",
    "\n",
    "class Lc:\n",
    "    '''Liste chaînée'''\n",
    "    def __init__(self, t=None):\n",
    "        '''tete : premiere cellule'''\n",
    "        self.tete=t\n",
    "\n",
    "    def __str__(self):\n",
    "        '''renvoie une forme lisible de Lc'''\n",
    "        if self.tete is None:\n",
    "            return 'ø'\n",
    "        else:\n",
    "            cellule=self.tete\n",
    "            valeurs='<'+ str(cellule.valeur) \n",
    "            while cellule.suivant is not None:\n",
    "                cellule=cellule.suivant\n",
    "                valeurs=valeurs + '→ ' + str(cellule.valeur)\n",
    "\n",
    "            return valeurs + '→ ø'\n",
    "    \n",
    "        \n",
    "        \n",
    "    #Ex 0\n",
    "    def last(self):\n",
    "        \n",
    "        \n",
    "        \n",
    "        \n",
    "        \n",
    "        \n",
    "        \n",
    "        \n",
    "        return\n",
    "    \n",
    "    #Ex 1\n",
    "    def ajoute(self, nouvelle):\n",
    "        \n",
    "        \n",
    "        \n",
    "        \n",
    "        \n",
    "        \n",
    "        \n",
    "        \n",
    "        \n",
    "        pass\n",
    "     \n",
    "    #Ex 1 v2\n",
    "    def ajoute(self, nouvelle):\n",
    "        \n",
    "        \n",
    "        \n",
    "        \n",
    "        \n",
    "        \n",
    "        pass\n",
    "    \n",
    "    #Ex 2\n",
    "    def trouve(self,x):\n",
    "        \n",
    "        \n",
    "        \n",
    "        \n",
    "        \n",
    "        \n",
    "        \n",
    "        \n",
    "        \n",
    "        \n",
    "        \n",
    "        return\n",
    "    \n",
    "    #Ex 3\n",
    "    def __len__(self):\n",
    "        \n",
    "        if self.tete is None:\n",
    "            return 0\n",
    "        else:\n",
    "            return 1 + ...\n",
    "        \n",
    "    #Ex 4\n",
    "    def __getitem__(self,i):\n",
    "        \n",
    "        if self.tete is None or i<0:\n",
    "            return 'index error'\n",
    "        elif i==0:\n",
    "            return ...\n",
    "        else:\n",
    "            return ...\n",
    "    #Ex 5\n",
    "    def __eq__(self,L):\n",
    "        \n",
    "        cellule1=self.tete\n",
    "        cellule2=L.tete\n",
    "        \n",
    "        if cellule1 is None and cellule2 is None:\n",
    "            return ...\n",
    "        \n",
    "        while ...:\n",
    "            cellule1=cellule1.suivant\n",
    "            cellule2=cellule2.suivant\n",
    "        \n",
    "        if cellule1 is None and cellule2 is None:\n",
    "            return ...\n",
    "        else:\n",
    "            return ...\n",
    "    \n",
    "    #Ex 6\n",
    "    def __add__(self,L):\n",
    "        \n",
    "        if self.tete is None:\n",
    "            return ...\n",
    "        else:\n",
    "            resultat=Lc(Cell(self.tete.valeur))\n",
    "            cellule=...\n",
    "            n_cellule=...\n",
    "            \n",
    "            while cellule.suivant is not None: #on crée une copie de self\n",
    "                n_cellule.suivant=...\n",
    "                cellule=...\n",
    "                n_cellule=n_cellule.suivant\n",
    "            \n",
    "            ...=L.tete\n",
    "            \n",
    "            return resultat\n",
    "    \n",
    "    #Ex 6bis (récursivité)\n",
    "    def __add__(self,L):\n",
    "        if self.tete is None:\n",
    "            return L\n",
    "        else:\n",
    "            #une nouvelle liste dont la valeur de la tete est celle de l1 \n",
    "            #et qui pointe vers la tete de la concaténation de la liste \n",
    "            # dont la valeur de la tete est celle de self.tete.suivant \n",
    "            # avec L\n",
    "            return ...\n",
    "    \n",
    "    #Ex 7\n",
    "    def reverse(self):\n",
    "        \n",
    "        \n",
    "        \n",
    "        \n",
    "        \n",
    "        \n",
    "        \n",
    "        \n",
    "        pass\n",
    "        \n",
    "                \n",
    "            "
   ]
  },
  {
   "cell_type": "markdown",
   "metadata": {},
   "source": [
    "##### Exercice 0 : Derniere cellule\n",
    "Ecrire la méthode `last(self)` qui renvoie la dernière cellule de la liste chaînée. Si la liste est vide, la valeur `None` est renvoyée."
   ]
  },
  {
   "cell_type": "code",
   "execution_count": 5,
   "metadata": {},
   "outputs": [
    {
     "name": "stdout",
     "output_type": "stream",
     "text": [
      "None\n",
      "<0→ ø\n",
      "0\n"
     ]
    }
   ],
   "source": [
    "#Tests dernière cellule\n",
    "L=Lc()\n",
    "print(L.last()) #None\n",
    "\n",
    "L=Lc(Cell(0))\n",
    "print(L)\n",
    "print(L.last()) #0"
   ]
  },
  {
   "cell_type": "code",
   "execution_count": 6,
   "metadata": {},
   "outputs": [
    {
     "name": "stdout",
     "output_type": "stream",
     "text": [
      "<1→ 1→ 2→ 3→ 5→ 8→ ø\n",
      "8\n"
     ]
    }
   ],
   "source": [
    "L=Lc(Cell(1,Cell(1,Cell(2,Cell(3,Cell(5,Cell(8,None)))))))\n",
    "print(L)\n",
    "print(L.last()) #5"
   ]
  },
  {
   "cell_type": "markdown",
   "metadata": {},
   "source": [
    "##### Exercice 1: ajouter une cellule\n",
    "Ecrire la méthode `ajoute(self,nouvelle)` qui ajoute une cellule passée en argument à la fin de `self`. On pourra éventuellement utiliser la méthode de l'exercice précédent."
   ]
  },
  {
   "cell_type": "code",
   "execution_count": 7,
   "metadata": {},
   "outputs": [
    {
     "name": "stdout",
     "output_type": "stream",
     "text": [
      "ø\n",
      "<1→ ø\n",
      "<1→ 1→ ø\n",
      "<1→ 1→ 2→ ø\n",
      "<1→ 1→ 2→ 3→ ø\n",
      "<1→ 1→ 2→ 3→ 5→ ø\n"
     ]
    }
   ],
   "source": [
    "#tests ajoute\n",
    "L=Lc()\n",
    "print(L)\n",
    "L.ajoute(Cell(1))\n",
    "print(L)\n",
    "L.ajoute(Cell(1))\n",
    "print(L)\n",
    "L.ajoute(Cell(2))\n",
    "print(L)\n",
    "L.ajoute(Cell(3))\n",
    "print(L)\n",
    "L.ajoute(Cell(5))\n",
    "print(L)"
   ]
  },
  {
   "cell_type": "markdown",
   "metadata": {},
   "source": [
    "##### Exercice 2 : Trouve élément\n",
    "Ecrire la méthode `trouve(self, x)` qui renvoie l'index, numéroté à partir de $0$ de la première occurrence de `x`dans la liste. Si `x` n'est pas une valeur contenue dans une des cellules, alors `False` est renvoyé."
   ]
  },
  {
   "cell_type": "code",
   "execution_count": 8,
   "metadata": {},
   "outputs": [
    {
     "name": "stdout",
     "output_type": "stream",
     "text": [
      "False\n"
     ]
    }
   ],
   "source": [
    "#Tests trouve élément\n",
    "L=Lc()\n",
    "print(L.trouve(2)) #False"
   ]
  },
  {
   "cell_type": "code",
   "execution_count": 11,
   "metadata": {},
   "outputs": [
    {
     "name": "stdout",
     "output_type": "stream",
     "text": [
      "<0→ ø\n",
      "0\n",
      "False\n"
     ]
    }
   ],
   "source": [
    "L=Lc(Cell(0))\n",
    "print(L)\n",
    "print(L.trouve(0)) #0\n",
    "print(L.trouve(1)) #False"
   ]
  },
  {
   "cell_type": "code",
   "execution_count": 12,
   "metadata": {},
   "outputs": [
    {
     "name": "stdout",
     "output_type": "stream",
     "text": [
      "<1→ 1→ 2→ 3→ 5→ 8→ ø\n",
      "0\n",
      "3\n",
      "5\n",
      "False\n"
     ]
    }
   ],
   "source": [
    "L=Lc(Cell(1,Cell(1,Cell(2,Cell(3,Cell(5,Cell(8,None)))))))\n",
    "print(L)\n",
    "print(L.trouve(1)) #0\n",
    "print(L.trouve(3)) #3\n",
    "print(L.trouve(8)) #5\n",
    "print(L.trouve(7)) #False"
   ]
  },
  {
   "cell_type": "markdown",
   "metadata": {},
   "source": [
    "##### Exercice 3 : Longueur de la liste ( récursivité)\n",
    "Ecrire de façon récursive la méthode `__len__(self)` qui renvoie le nombre de cellules contenues dans la liste. Une liste vide a pour longueur $0$ et sinon la longueur de la liste est égale à 1 + la longueur de la liste avec une cellule en moins."
   ]
  },
  {
   "cell_type": "code",
   "execution_count": 32,
   "metadata": {},
   "outputs": [
    {
     "name": "stdout",
     "output_type": "stream",
     "text": [
      "0\n",
      "1\n",
      "5\n"
     ]
    }
   ],
   "source": [
    "#Tests longueur de liste\n",
    "L=Lc()\n",
    "print(len(L)) #0\n",
    "L=Lc(Cell(0))\n",
    "print(len(L)) #1\n",
    "L=Lc(Cell(1,Cell(2,Cell(3,Cell(4,Cell(5,None))))))\n",
    "print(len(L)) #5"
   ]
  },
  {
   "cell_type": "markdown",
   "metadata": {},
   "source": [
    "##### Exercice 4 : Accès aux éléments ( récursivité)\n",
    "Ecrire la méthode récursive `__getitem(self,i)__` qui renvoie la valeur de la cellule d'index donné, numéroté à partir de $0$."
   ]
  },
  {
   "cell_type": "code",
   "execution_count": 13,
   "metadata": {},
   "outputs": [
    {
     "name": "stdout",
     "output_type": "stream",
     "text": [
      "index error\n"
     ]
    }
   ],
   "source": [
    "#Tests accès éléments\n",
    "L=Lc()\n",
    "print(L[2]) # index error"
   ]
  },
  {
   "cell_type": "code",
   "execution_count": 14,
   "metadata": {},
   "outputs": [
    {
     "name": "stdout",
     "output_type": "stream",
     "text": [
      "0\n",
      "index error\n"
     ]
    }
   ],
   "source": [
    "L=Lc(Cell(0))\n",
    "print(L[0]) #0\n",
    "print(L[1]) #index error"
   ]
  },
  {
   "cell_type": "code",
   "execution_count": 15,
   "metadata": {},
   "outputs": [
    {
     "name": "stdout",
     "output_type": "stream",
     "text": [
      "1\n",
      "5\n",
      "8\n",
      "index error\n"
     ]
    }
   ],
   "source": [
    "L=Lc(Cell(1,Cell(1,Cell(2,Cell(3,Cell(5,Cell(8,None)))))))\n",
    "print(L[0]) #1\n",
    "print(L[4]) #5\n",
    "print(L[5]) #8\n",
    "print(L[6]) #Index error"
   ]
  },
  {
   "cell_type": "markdown",
   "metadata": {},
   "source": [
    "##### Exercice 5 : Identiques\n",
    "Ecrire la méthode `__eq__(self,L)` qui renvoie le booléen `True` si les deux listes passées en arguments sont identiques (c'est à dire si les valeurs contenues dans les cellules sont les mêmes et dans le même ordre) et `False` sinon.\n",
    "\n",
    "\n",
    "Rappel : cette méthode spéciale peut être appellée avec les caractères `==`."
   ]
  },
  {
   "cell_type": "code",
   "execution_count": 16,
   "metadata": {},
   "outputs": [
    {
     "name": "stdout",
     "output_type": "stream",
     "text": [
      "True\n"
     ]
    }
   ],
   "source": [
    "#Tests identiques\n",
    "L1=Lc()\n",
    "L2=Lc()\n",
    "print(L1==L2) # True"
   ]
  },
  {
   "cell_type": "code",
   "execution_count": 17,
   "metadata": {},
   "outputs": [
    {
     "name": "stdout",
     "output_type": "stream",
     "text": [
      "False\n"
     ]
    }
   ],
   "source": [
    "L1=Lc(Cell(0))\n",
    "L2=Lc(Cell(1))\n",
    "print(L1==L2) # False"
   ]
  },
  {
   "cell_type": "code",
   "execution_count": 19,
   "metadata": {},
   "outputs": [
    {
     "name": "stdout",
     "output_type": "stream",
     "text": [
      "L1 :  <1→ 1→ 2→ 3→ 5→ 8→ ø\n",
      "L2 :  <1→ 1→ 2→ 3→ 5→ 8→ ø\n",
      "L3 :  <1→ 2→ 3→ 5→ 8→ ø\n",
      "True\n",
      "True\n",
      "False\n"
     ]
    }
   ],
   "source": [
    "L1=Lc(Cell(1,Cell(1,Cell(2,Cell(3,Cell(5,Cell(8,None)))))))\n",
    "L2=Lc(Cell(1,Cell(1,Cell(2,Cell(3,Cell(5,Cell(8,None)))))))\n",
    "L3=Lc(Cell(1,Cell(2,Cell(3,Cell(5,Cell(8,None))))))\n",
    "print(\"L1 : \",L1)\n",
    "print(\"L2 : \",L2)\n",
    "print(\"L3 : \",L3)\n",
    "\n",
    "print(L1==L2) #True\n",
    "print(L2==L1) #True\n",
    "print(L1==L3) #False"
   ]
  },
  {
   "cell_type": "markdown",
   "metadata": {},
   "source": [
    "##### Exercice 6 : Concaténation\n",
    "Ecrire la méthode `__add__(self,L)` qui concatène les listes passées en arguments et renvoie une nouvelle liste. On fera attention au cas ou la liste `self` est vide.\n",
    "\n",
    "Rappel : cette méthode peut être appelée avec l'opérateur `+`.\n",
    "\n",
    "Attention :\n",
    "\n",
    "* Pour deux listes `L1` et `L2` données, `L1+L2` est en général différent de `L2+L1`\n",
    "* Il s'agit bien ici de construire une nouvelle liste constituée d'une copie de la liste `self` et dont la dernière cellule de `self` pointe vers la tête de `L`(voir schéma ci-dessous).\n",
    "\n",
    "<img src='liste_chainee_concat.png' style='float:center;' width=600>\n"
   ]
  },
  {
   "cell_type": "code",
   "execution_count": 22,
   "metadata": {},
   "outputs": [
    {
     "name": "stdout",
     "output_type": "stream",
     "text": [
      "ø\n"
     ]
    }
   ],
   "source": [
    "#Tests concaténation\n",
    "L1=Lc()\n",
    "L2=Lc()\n",
    "print(L1+L2) # ø"
   ]
  },
  {
   "cell_type": "code",
   "execution_count": 23,
   "metadata": {},
   "outputs": [
    {
     "name": "stdout",
     "output_type": "stream",
     "text": [
      "<0→ 1→ ø\n",
      "<1→ 0→ ø\n",
      "<0→ ø\n"
     ]
    }
   ],
   "source": [
    "L3=Lc(Cell(0))\n",
    "L4=Lc(Cell(1))\n",
    "print(L3+L4) # <0→ 1→ ø\n",
    "print(L4+L3) # <1→ 0→ ø\n",
    "print(L3+Lc()) #ø"
   ]
  },
  {
   "cell_type": "code",
   "execution_count": 25,
   "metadata": {},
   "outputs": [
    {
     "name": "stdout",
     "output_type": "stream",
     "text": [
      "<1→ 1→ 2→ 3→ 5→ 8→ 13→ 21→ 34→ ø\n",
      "<13→ 21→ 34→ 1→ 1→ 2→ 3→ 5→ 8→ ø\n",
      "<1→ 1→ 2→ 3→ 5→ 8→ ø\n"
     ]
    }
   ],
   "source": [
    "L5=Lc(Cell(1,Cell(1,Cell(2,Cell(3,Cell(5,Cell(8,None)))))))\n",
    "L6=Lc(Cell(13,Cell(21,Cell(34,None))))\n",
    "L7=Lc()\n",
    "print(L5+L6) # <1→ 1→ 2→ 3→ 5→ 8→ 13→ 21→ 34→ ø\n",
    "print(L6+L5) # <13→ 21→ 34→ 1→ 1→ 2→ 3→ 5→ 8→ ø\n",
    "print(L5+L7) # <1→ 1→ 2→ 3→ 5→ 8→ ø"
   ]
  },
  {
   "cell_type": "markdown",
   "metadata": {},
   "source": [
    "###### Exercice 6bis : Concaténation (récursivité)\n",
    "Modifier la méthode `__add__(self,L)` qui concatène les listes passées en arguments et renvoie une nouvelle liste en écrivant une version récursive.\n",
    "\n",
    "Cas de base : Si la liste `self` est vide, on renvoie `L`.\n",
    "\n",
    "Cas récursif : Le premier élément de la liste concaténée est le premier élement de `self` et le reste de la liste concaténée est obtenu récursivement en concaténant le reste de `self` avec `L`."
   ]
  },
  {
   "cell_type": "code",
   "execution_count": 26,
   "metadata": {},
   "outputs": [
    {
     "name": "stdout",
     "output_type": "stream",
     "text": [
      "ø\n"
     ]
    }
   ],
   "source": [
    "#Tests concaténation\n",
    "L1=Lc()\n",
    "L2=Lc()\n",
    "print(L1+L2) # ø"
   ]
  },
  {
   "cell_type": "code",
   "execution_count": 28,
   "metadata": {},
   "outputs": [
    {
     "name": "stdout",
     "output_type": "stream",
     "text": [
      "<0→ 1→ ø\n",
      "<1→ 0→ ø\n",
      "<0→ ø\n"
     ]
    }
   ],
   "source": [
    "L3=Lc(Cell(0))\n",
    "L4=Lc(Cell(1))\n",
    "print(L3+L4) # <0→ 1→ ø\n",
    "print(L4+L3) # <1→ 0→ ø\n",
    "print(L3+Lc()) # <0→ ø"
   ]
  },
  {
   "cell_type": "code",
   "execution_count": 30,
   "metadata": {},
   "outputs": [
    {
     "name": "stdout",
     "output_type": "stream",
     "text": [
      "<1→ 1→ 2→ 3→ 5→ 8→ 13→ 21→ 34→ ø\n",
      "<13→ 21→ 34→ 1→ 1→ 2→ 3→ 5→ 8→ ø\n",
      "<1→ 1→ 2→ 3→ 5→ 8→ ø\n"
     ]
    }
   ],
   "source": [
    "L5=Lc(Cell(1,Cell(1,Cell(2,Cell(3,Cell(5,Cell(8,None)))))))\n",
    "L6=Lc(Cell(13,Cell(21,Cell(34,None))))\n",
    "L7=Lc()\n",
    "print(L5+L6) # <1→ 1→ 2→ 3→ 5→ 8→ 13→ 21→ 34→ ø\n",
    "print(L6+L5) # <13→ 21→ 34→ 1→ 1→ 2→ 3→ 5→ 8→ ø\n",
    "print(L5+L7) # <1→ 1→ 2→ 3→ 5→ 8→ ø"
   ]
  },
  {
   "cell_type": "markdown",
   "metadata": {},
   "source": [
    "##### Exercice 7 : Renverser une liste (avec une boucle)\n",
    "Ecrire la méthode `reverse(self)` qui renverse la liste passée en argument. Ainsi, la liste $1,2,3$ devient $3,2,1$. Si la liste est vide , on renvoie une liste vide."
   ]
  },
  {
   "cell_type": "code",
   "execution_count": 32,
   "metadata": {},
   "outputs": [
    {
     "name": "stdout",
     "output_type": "stream",
     "text": [
      "<3→ 2→ 1→ ø\n",
      "<1→ 2→ 3→ ø\n",
      "ø\n"
     ]
    }
   ],
   "source": [
    "#Ex7 : Tests renverser\n",
    "L=Lc(Cell(1,Cell(2,Cell(3,None))))\n",
    "L.reverse()\n",
    "print(L) # <3→ 2→ 1→ ø\n",
    "L.reverse()\n",
    "print(L)# <1→ 2→ 3→ ø\n",
    "\n",
    "L=Lc()\n",
    "L.reverse()\n",
    "print(L) # ø"
   ]
  },
  {
   "cell_type": "markdown",
   "metadata": {},
   "source": [
    "##### Exercice 8 : \n",
    "1. Compléter le code du début avec les méthodes vues dans la première feuille sur les listes chaînées et non présentes ici.\n",
    "2. Enregistrer ce code dans un fichier `LC.py`.\n",
    "3. Ouvrir le fichier `LC_tests.py` avec un éditeur (IDLE par exemple) :\n",
    "    * Que contient-il ?\n",
    "    * Ajouter l'instruction qui convient en début de script pour que ce fichier s'éxécute sans erreur."
   ]
  },
  {
   "cell_type": "markdown",
   "metadata": {},
   "source": [
    "##### Réponse et remarques :\n",
    "3. \n"
   ]
  }
 ],
 "metadata": {
  "kernelspec": {
   "display_name": "Python 3",
   "language": "python",
   "name": "python3"
  },
  "language_info": {
   "codemirror_mode": {
    "name": "ipython",
    "version": 3
   },
   "file_extension": ".py",
   "mimetype": "text/x-python",
   "name": "python",
   "nbconvert_exporter": "python",
   "pygments_lexer": "ipython3",
   "version": "3.8.5"
  }
 },
 "nbformat": 4,
 "nbformat_minor": 4
}
