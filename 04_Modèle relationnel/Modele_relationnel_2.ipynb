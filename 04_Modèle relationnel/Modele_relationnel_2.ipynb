{
 "cells": [
  {
   "cell_type": "markdown",
   "metadata": {},
   "source": [
    "# <center> Modèle relationnel 2/2 : Un outil de représentation </center>"
   ]
  },
  {
   "cell_type": "markdown",
   "metadata": {},
   "source": [
    "<a href='http://www.mocodo.net/'> <img src='mocodo.png' align='center' width=600> </a>\n",
    "\n",
    "* Dans cette feuille , nous allons utiliser un outil qui permet de créer des MCD( modèles conceptuels de données) et des MLD (modèles logiques de données).\n",
    "* Il s'agit de MO-CO-DO\n",
    "* On peut l'utiliser en ligne à cette adresse :  http://www.mocodo.net/\n",
    "* C'est aussi un module python, par ailleurs utilisable dans jupyter : moco-magic\n",
    "* La documentation  : https://rawgit.com/laowantong/mocodo/master/doc/fr_refman.html"
   ]
  },
  {
   "cell_type": "markdown",
   "metadata": {},
   "source": [
    "## 1. Installation et exemples\n",
    "\n",
    "### Installation :\n",
    "\n",
    "* Dans une console de commande : \n",
    "  * `pip install mocodo`\n",
    "  * Si cela ne fonctionne pas : `python -m pip install mocodo`\n",
    "  \n",
    "* Pour mettre la « commande magique » mocodo à disposition d'un notebook donné, éxécuter la cellule suivante:"
   ]
  },
  {
   "cell_type": "code",
   "execution_count": 2,
   "metadata": {},
   "outputs": [
    {
     "name": "stdout",
     "output_type": "stream",
     "text": [
      "Mocodo 3.2.1 loaded.\n"
     ]
    }
   ],
   "source": [
    "%reload_ext mocodo"
   ]
  },
  {
   "cell_type": "markdown",
   "metadata": {},
   "source": [
    "* Pour qu'une cellule accepte le 'code' mocodo, il faut utiliser la commande magic `%%mocodo`, puis écrire le code dans la cellule"
   ]
  },
  {
   "cell_type": "code",
   "execution_count": 3,
   "metadata": {},
   "outputs": [
    {
     "data": {
      "image/svg+xml": [
       "<svg xmlns=\"http://www.w3.org/2000/svg\" width=\"96\" height=\"88\" viewBox=\"0 0 96 88\">\n",
       "<rect id=\"frame\" x=\"0\" y=\"0\" width=\"96\" height=\"88\" fill=\"#FFF\" stroke=\"none\" stroke-width=\"0\"/>\n",
       "\n",
       "<!-- Entity MISSION -->\n",
       "<g>\n",
       "\t<g>\n",
       "\t\t<rect x=\"9\" y=\"9\" width=\"78\" height=\"26\" fill=\"#FFF\" stroke=\"#FFF\" stroke-width=\"0\" opacity=\"1\"/>\n",
       "\t\t<rect x=\"9\" y=\"35\" width=\"78\" height=\"44\" fill=\"#FFF\" stroke=\"#FFF\" stroke-width=\"0\" opacity=\"1\"/>\n",
       "\t\t<rect x=\"9\" y=\"9\" width=\"78\" height=\"70\" fill=\"none\" stroke=\"#000\" stroke-width=\"1.5\" opacity=\"1\"/>\n",
       "\t\t<line x1=\"9\" y1=\"35\" x2=\"87\" y2=\"35\" stroke=\"#000\" stroke-width=\"1\"/>\n",
       "\t</g>\n",
       "\t<text x=\"22\" y=\"27.6\" fill=\"#000\" font-family=\"Trebuchet MS\" font-size=\"14\">MISSION</text>\n",
       "\t<text x=\"14\" y=\"53.6\" fill=\"#000\" font-family=\"Trebuchet MS\" font-size=\"14\">accomplie</text>\n",
       "\t<line x1=\"14\" y1=\"56\" x2=\"81\" y2=\"56\" stroke=\"#000\" stroke-width=\"1\"/>\n",
       "\t<text x=\"14\" y=\"71.6\" fill=\"#000\" font-family=\"Trebuchet MS\" font-size=\"14\">ok</text>\n",
       "</g>\n",
       "</svg>"
      ],
      "text/plain": [
       "<IPython.core.display.SVG object>"
      ]
     },
     "metadata": {},
     "output_type": "display_data"
    }
   ],
   "source": [
    "%%mocodo\n",
    "MISSION : accomplie, ok"
   ]
  },
  {
   "cell_type": "markdown",
   "metadata": {},
   "source": [
    "* Pour obtenir de l'aide sur les commandes :"
   ]
  },
  {
   "cell_type": "code",
   "execution_count": 6,
   "metadata": {
    "scrolled": true
   },
   "outputs": [],
   "source": [
    "#%mocodo --help"
   ]
  },
  {
   "cell_type": "markdown",
   "metadata": {},
   "source": [
    "### Exemples"
   ]
  },
  {
   "cell_type": "markdown",
   "metadata": {},
   "source": [
    "##### Exemple 1 :\n",
    "Voici le code qui permet de représenter la première situation que nous avons rencontrée dans une autre feuille :"
   ]
  },
  {
   "cell_type": "code",
   "execution_count": 4,
   "metadata": {
    "scrolled": true
   },
   "outputs": [
    {
     "data": {
      "image/svg+xml": [
       "<svg xmlns=\"http://www.w3.org/2000/svg\" width=\"310\" height=\"160\" viewBox=\"0 0 310 160\">\n",
       "<rect id=\"frame\" x=\"0\" y=\"0\" width=\"310\" height=\"160\" fill=\"#FFF\" stroke=\"none\" stroke-width=\"0\"/>\n",
       "\n",
       "<!-- Association CONDUIRE -->\n",
       "<g>\n",
       "\t<line x1=\"48\" y1=\"80\" x2=\"160\" y2=\"80\" stroke=\"#000\" stroke-width=\"1\"/>\n",
       "\t<text x=\"92\" y=\"97\" fill=\"#000\" font-family=\"Verdana\" font-size=\"12\">1,N</text>\n",
       "\t<line x1=\"267\" y1=\"80\" x2=\"160\" y2=\"80\" stroke=\"#000\" stroke-width=\"1\"/>\n",
       "\t<text x=\"206\" y=\"97\" fill=\"#000\" font-family=\"Verdana\" font-size=\"12\">1,N</text>\n",
       "\t<g>\n",
       "\t\t<path d=\"M187 54 a14 14 90 0 1 14 14 V80 h-82 V68 a14 14 90 0 1 14 -14\" fill=\"#FFF\" stroke=\"#FFF\" stroke-width=\"0\"/>\n",
       "\t\t<path d=\"M201 80 v12 a14 14 90 0 1 -14 14 H133 a14 14 90 0 1 -14 -14 V80 H82\" fill=\"#FFF\" stroke=\"#FFF\" stroke-width=\"0\"/>\n",
       "\t\t<rect x=\"119\" y=\"54\" width=\"82\" height=\"52\" fill=\"none\" rx=\"14\" stroke=\"#000\" stroke-width=\"1.5\"/>\n",
       "\t\t<line x1=\"119\" y1=\"80\" x2=\"201\" y2=\"80\" stroke=\"#000\" stroke-width=\"1\"/>\n",
       "\t\t<text x=\"127\" y=\"72.6\" fill=\"#000\" font-family=\"Trebuchet MS\" font-size=\"14\">CONDUIRE</text>\n",
       "\t</g>\n",
       "</g>\n",
       "\n",
       "<!-- Entity CLIENT -->\n",
       "<g>\n",
       "\t<g>\n",
       "\t\t<rect x=\"9\" y=\"36\" width=\"78\" height=\"26\" fill=\"#FFF\" stroke=\"#FFF\" stroke-width=\"0\" opacity=\"1\"/>\n",
       "\t\t<rect x=\"9\" y=\"62\" width=\"78\" height=\"62\" fill=\"#FFF\" stroke=\"#FFF\" stroke-width=\"0\" opacity=\"1\"/>\n",
       "\t\t<rect x=\"9\" y=\"36\" width=\"78\" height=\"88\" fill=\"none\" stroke=\"#000\" stroke-width=\"1.5\" opacity=\"1\"/>\n",
       "\t\t<line x1=\"9\" y1=\"62\" x2=\"87\" y2=\"62\" stroke=\"#000\" stroke-width=\"1\"/>\n",
       "\t</g>\n",
       "\t<text x=\"25\" y=\"54.6\" fill=\"#000\" font-family=\"Trebuchet MS\" font-size=\"14\">CLIENT</text>\n",
       "\t<text x=\"14\" y=\"80.6\" fill=\"#000\" font-family=\"Trebuchet MS\" font-size=\"14\">Ref_client</text>\n",
       "\t<line x1=\"14\" y1=\"83\" x2=\"81\" y2=\"83\" stroke=\"#000\" stroke-width=\"1\"/>\n",
       "\t<text x=\"14\" y=\"98.6\" fill=\"#000\" font-family=\"Trebuchet MS\" font-size=\"14\">Nom</text>\n",
       "\t<text x=\"14\" y=\"116.6\" fill=\"#000\" font-family=\"Trebuchet MS\" font-size=\"14\">Ville</text>\n",
       "</g>\n",
       "\n",
       "<!-- Entity VOITURE -->\n",
       "<g>\n",
       "\t<g>\n",
       "\t\t<rect x=\"233\" y=\"9\" width=\"68\" height=\"26\" fill=\"#FFF\" stroke=\"#FFF\" stroke-width=\"0\" opacity=\"1\"/>\n",
       "\t\t<rect x=\"233\" y=\"35\" width=\"68\" height=\"116\" fill=\"#FFF\" stroke=\"#FFF\" stroke-width=\"0\" opacity=\"1\"/>\n",
       "\t\t<rect x=\"233\" y=\"9\" width=\"68\" height=\"142\" fill=\"none\" stroke=\"#000\" stroke-width=\"1.5\" opacity=\"1\"/>\n",
       "\t\t<line x1=\"233\" y1=\"35\" x2=\"301\" y2=\"35\" stroke=\"#000\" stroke-width=\"1\"/>\n",
       "\t</g>\n",
       "\t<text x=\"239\" y=\"27.6\" fill=\"#000\" font-family=\"Trebuchet MS\" font-size=\"14\">VOITURE</text>\n",
       "\t<text x=\"238\" y=\"53.6\" fill=\"#000\" font-family=\"Trebuchet MS\" font-size=\"14\">Immat.</text>\n",
       "\t<line x1=\"238\" y1=\"56\" x2=\"285\" y2=\"56\" stroke=\"#000\" stroke-width=\"1\"/>\n",
       "\t<text x=\"238\" y=\"71.6\" fill=\"#000\" font-family=\"Trebuchet MS\" font-size=\"14\">marque</text>\n",
       "\t<text x=\"238\" y=\"89.6\" fill=\"#000\" font-family=\"Trebuchet MS\" font-size=\"14\">modele</text>\n",
       "\t<text x=\"238\" y=\"107.6\" fill=\"#000\" font-family=\"Trebuchet MS\" font-size=\"14\">energie</text>\n",
       "\t<text x=\"238\" y=\"125.6\" fill=\"#000\" font-family=\"Trebuchet MS\" font-size=\"14\">annee</text>\n",
       "\t<text x=\"238\" y=\"143.6\" fill=\"#000\" font-family=\"Trebuchet MS\" font-size=\"14\">couleur</text>\n",
       "</g>\n",
       "</svg>"
      ],
      "text/plain": [
       "<IPython.core.display.SVG object>"
      ]
     },
     "metadata": {},
     "output_type": "display_data"
    },
    {
     "data": {
      "text/html": [
       "<html>\n",
       "<head>\n",
       "<meta charset='utf-8'>\n",
       "<style>\n",
       "  #mld .relation { font-variant: small-caps; font-weight: bold }\n",
       "  #mld .primary { text-decoration: underline }\n",
       "  #mld .foreign { font-style: oblique }\n",
       "  #mld .normal { }\n",
       "</style>\n",
       "</head>\n",
       "<body>\n",
       "<div id='mld'>\n",
       "<div>\n",
       "  <span class='relation'>CLIENT</span> (\n",
       "    <span class='primary'>Ref_client</span>,\n",
       "    <span class='normal'>Nom</span>,\n",
       "    <span class='normal'>Ville</span>\n",
       "  )\n",
       "</div>\n",
       "<div>\n",
       "  <span class='relation'>CONDUIRE</span> (\n",
       "    <span class='foreign primary'>#Ref_client</span>,\n",
       "    <span class='foreign primary'>#Immat.</span>\n",
       "  )\n",
       "</div>\n",
       "<div>\n",
       "  <span class='relation'>VOITURE</span> (\n",
       "    <span class='primary'>Immat.</span>,\n",
       "    <span class='normal'>marque</span>,\n",
       "    <span class='normal'>modele</span>,\n",
       "    <span class='normal'>energie</span>,\n",
       "    <span class='normal'>annee</span>,\n",
       "    <span class='normal'>couleur</span>\n",
       "  )\n",
       "</div>\n",
       "</div>\n",
       "</body>\n",
       "</html>"
      ],
      "text/plain": [
       "<IPython.core.display.HTML object>"
      ]
     },
     "metadata": {},
     "output_type": "display_data"
    }
   ],
   "source": [
    "%%mocodo --mld\n",
    "CLIENT: Ref_client, Nom, Ville\n",
    "CONDUIRE, 1N CLIENT, 1N VOITURE \n",
    "VOITURE: Immat.,marque, modele, energie, annee, couleur"
   ]
  },
  {
   "cell_type": "markdown",
   "metadata": {},
   "source": [
    " #### Remarques:\n",
    " \n",
    " * Une relation par ligne, écrite en majuscule.\n",
    " * Pour définir une entité, on utilise `:` après le nom de celle-ci.\n",
    " * Pour définir une association, on utilise `,` après celle-ci.\n",
    " * Les attributs sont également séparés par une virgule.\n",
    " * Le premier attribut est la clé primaire de la relation.\n",
    " * Les cardinalités sont écrites sans espace avant l'entité concernée\n",
    " * L'option `--mld` permet d'afficher le MLD en plus du MCD."
   ]
  },
  {
   "cell_type": "markdown",
   "metadata": {},
   "source": [
    "##### Exemple 2 :\n",
    "Voici le MCD et le MLD amélioré de cette même situation."
   ]
  },
  {
   "cell_type": "code",
   "execution_count": 4,
   "metadata": {
    "scrolled": true
   },
   "outputs": [
    {
     "data": {
      "image/svg+xml": [
       "<svg xmlns=\"http://www.w3.org/2000/svg\" xmlns:link=\"http://www.w3.org/1999/xlink\" width=\"496\" height=\"142\" view_box=\"0 0 496 142\">\\n\\n<desc>Généré par Mocodo 2.3.8 le Fri, 24 Feb 2023 21:54:44</desc>\n",
       "\n",
       "<rect id=\"frame\" x=\"0\" y=\"0\" width=\"496\" height=\"142\" fill=\"none\" stroke=\"none\" stroke-width=\"0\"/>\n",
       "\n",
       "<!-- Association CONDUIRE -->\n",
       "<line x1=\"48\" y1=\"71\" x2=\"160\" y2=\"71\" stroke=\"#000000\" stroke-width=\"1\"/>\n",
       "<text x=\"92\" y=\"88.0\" fill=\"#000000\" font-family=\"Verdana\" font-size=\"12\">1,N</text>\n",
       "<line x1=\"267\" y1=\"71\" x2=\"160\" y2=\"71\" stroke=\"#000000\" stroke-width=\"1\"/>\n",
       "<text x=\"206\" y=\"88.0\" fill=\"#000000\" font-family=\"Verdana\" font-size=\"12\">1,N</text>\n",
       "<g id=\"association-CONDUIRE\">\n",
       "\t<path d=\"M 187 45 a 14 14 90 0 1 14 14 V 71 h -82 V 59 a 14 14 90 0 1 14 -14\" fill=\"#FFFFFF\" stroke=\"#FFFFFF\" stroke-width=\"0\"/>\n",
       "\t<path d=\"M 201 71.0 v 12 a 14 14 90 0 1 -14 14 H 133 a 14 14 90 0 1 -14 -14 V 71.0 H 82\" fill=\"#FFFFFF\" stroke=\"#FFFFFF\" stroke-width=\"0\"/>\n",
       "\t<rect x=\"119\" y=\"45\" width=\"82\" height=\"52\" fill=\"none\" rx=\"14\" stroke=\"#000000\" stroke-width=\"1.5\"/>\n",
       "\t<line x1=\"119\" y1=\"71\" x2=\"201\" y2=\"71\" stroke=\"#000000\" stroke-width=\"1\"/>\n",
       "\t<text x=\"126\" y=\"63.6\" fill=\"#000000\" font-family=\"Trebuchet MS\" font-size=\"14\">CONDUIRE</text>\n",
       "</g>\n",
       "\n",
       "<!-- Association DF -->\n",
       "<line x1=\"267\" y1=\"71\" x2=\"349\" y2=\"71\" stroke=\"#000000\" stroke-width=\"1\"/>\n",
       "<text x=\"306\" y=\"88.0\" fill=\"#000000\" font-family=\"Verdana\" font-size=\"12\">1,1</text>\n",
       "<line x1=\"442\" y1=\"71\" x2=\"349\" y2=\"71\" stroke=\"#000000\" stroke-width=\"1\"/>\n",
       "<text x=\"370\" y=\"88.0\" fill=\"#000000\" font-family=\"Verdana\" font-size=\"12\">1,N</text>\n",
       "<g id=\"association-DF\">\n",
       "\t<circle cx=\"349\" cy=\"71\" r=\"16\" stroke=\"#000000\" stroke-width=\"1.5\" fill=\"#FFFFFF\"/>\n",
       "\t<text x=\"340\" y=\"74.4\" fill=\"#000000\" font-family=\"Trebuchet MS\" font-size=\"14\">DF</text>\n",
       "</g>\n",
       "\n",
       "<!-- Entity CLIENT -->\n",
       "<g id=\"entity-CLIENT\">\n",
       "\t<g id=\"frame-CLIENT\">\n",
       "\t\t<rect x=\"9\" y=\"27\" width=\"78\" height=\"26\" fill=\"#FFFFFF\" stroke=\"#FFFFFF\" stroke-width=\"0\"/>\n",
       "\t\t<rect x=\"9\" y=\"53.0\" width=\"78\" height=\"62\" fill=\"#FFFFFF\" stroke=\"#FFFFFF\" stroke-width=\"0\"/>\n",
       "\t\t<rect x=\"9\" y=\"27\" width=\"78\" height=\"88\" fill=\"none\" stroke=\"#000000\" stroke-width=\"1.5\"/>\n",
       "\t\t<line x1=\"9\" y1=\"53\" x2=\"87\" y2=\"53\" stroke=\"#000000\" stroke-width=\"1\"/>\n",
       "\t</g>\n",
       "\t<text x=\"25\" y=\"45.6\" fill=\"#000000\" font-family=\"Trebuchet MS\" font-size=\"14\">CLIENT</text>\n",
       "\t<text x=\"14\" y=\"71.6\" fill=\"#000000\" font-family=\"Trebuchet MS\" font-size=\"14\">Ref_client</text>\n",
       "\t<line x1=\"14\" y1=\"74.0\" x2=\"81\" y2=\"74.0\" stroke=\"#000000\" stroke-width=\"1\"/>\n",
       "\t<text x=\"14\" y=\"89.6\" fill=\"#000000\" font-family=\"Trebuchet MS\" font-size=\"14\">Nom</text>\n",
       "\t<text x=\"14\" y=\"107.6\" fill=\"#000000\" font-family=\"Trebuchet MS\" font-size=\"14\">Ville</text>\n",
       "</g>\n",
       "\n",
       "<!-- Entity VOITURE -->\n",
       "<g id=\"entity-VOITURE\">\n",
       "\t<g id=\"frame-VOITURE\">\n",
       "\t\t<rect x=\"233\" y=\"9\" width=\"68\" height=\"26\" fill=\"#FFFFFF\" stroke=\"#FFFFFF\" stroke-width=\"0\"/>\n",
       "\t\t<rect x=\"233\" y=\"35.0\" width=\"68\" height=\"98\" fill=\"#FFFFFF\" stroke=\"#FFFFFF\" stroke-width=\"0\"/>\n",
       "\t\t<rect x=\"233\" y=\"9\" width=\"68\" height=\"124\" fill=\"none\" stroke=\"#000000\" stroke-width=\"1.5\"/>\n",
       "\t\t<line x1=\"233\" y1=\"35\" x2=\"301\" y2=\"35\" stroke=\"#000000\" stroke-width=\"1\"/>\n",
       "\t</g>\n",
       "\t<text x=\"238\" y=\"27.6\" fill=\"#000000\" font-family=\"Trebuchet MS\" font-size=\"14\">VOITURE</text>\n",
       "\t<text x=\"238\" y=\"53.6\" fill=\"#000000\" font-family=\"Trebuchet MS\" font-size=\"14\">Immat.</text>\n",
       "\t<line x1=\"238\" y1=\"56.0\" x2=\"285\" y2=\"56.0\" stroke=\"#000000\" stroke-width=\"1\"/>\n",
       "\t<text x=\"238\" y=\"71.6\" fill=\"#000000\" font-family=\"Trebuchet MS\" font-size=\"14\">modele</text>\n",
       "\t<text x=\"238\" y=\"89.6\" fill=\"#000000\" font-family=\"Trebuchet MS\" font-size=\"14\">energie</text>\n",
       "\t<text x=\"238\" y=\"107.6\" fill=\"#000000\" font-family=\"Trebuchet MS\" font-size=\"14\">annee</text>\n",
       "\t<text x=\"238\" y=\"125.6\" fill=\"#000000\" font-family=\"Trebuchet MS\" font-size=\"14\">couleur</text>\n",
       "</g>\n",
       "\n",
       "<!-- Entity MARQUE -->\n",
       "<g id=\"entity-MARQUE\">\n",
       "\t<g id=\"frame-MARQUE\">\n",
       "\t\t<rect x=\"397\" y=\"36\" width=\"90\" height=\"26\" fill=\"#FFFFFF\" stroke=\"#FFFFFF\" stroke-width=\"0\"/>\n",
       "\t\t<rect x=\"397\" y=\"62.0\" width=\"90\" height=\"44\" fill=\"#FFFFFF\" stroke=\"#FFFFFF\" stroke-width=\"0\"/>\n",
       "\t\t<rect x=\"397\" y=\"36\" width=\"90\" height=\"70\" fill=\"none\" stroke=\"#000000\" stroke-width=\"1.5\"/>\n",
       "\t\t<line x1=\"397\" y1=\"62\" x2=\"487\" y2=\"62\" stroke=\"#000000\" stroke-width=\"1\"/>\n",
       "\t</g>\n",
       "\t<text x=\"414\" y=\"54.6\" fill=\"#000000\" font-family=\"Trebuchet MS\" font-size=\"14\">MARQUE</text>\n",
       "\t<text x=\"402\" y=\"80.6\" fill=\"#000000\" font-family=\"Trebuchet MS\" font-size=\"14\">Ref_marque</text>\n",
       "\t<line x1=\"402\" y1=\"83.0\" x2=\"481\" y2=\"83.0\" stroke=\"#000000\" stroke-width=\"1\"/>\n",
       "\t<text x=\"402\" y=\"98.6\" fill=\"#000000\" font-family=\"Trebuchet MS\" font-size=\"14\">marque</text>\n",
       "</g>\n",
       "</svg>"
      ],
      "text/plain": [
       "<IPython.core.display.SVG object>"
      ]
     },
     "metadata": {},
     "output_type": "display_data"
    },
    {
     "data": {
      "text/html": [
       "<html>\n",
       "<head>\n",
       "<meta charset='utf-8'>\n",
       "<style>\n",
       "  #mld .relation { font-variant: small-caps; font-weight: bold }\n",
       "  #mld .primary { text-decoration: underline }\n",
       "  #mld .foreign { font-style: oblique }\n",
       "  #mld .normal { }\n",
       "</style>\n",
       "</head>\n",
       "<body>\n",
       "<div id='mld'>\n",
       "<div>\n",
       "  <span class='relation'>CLIENT</span> (\n",
       "    <span class='primary'>Ref_client</span>,\n",
       "    <span class='normal'>Nom</span>,\n",
       "    <span class='normal'>Ville</span>\n",
       "  )\n",
       "</div>\n",
       "<div>\n",
       "  <span class='relation'>CONDUIRE</span> (\n",
       "    <span class='foreign primary'>Ref_client</span>,\n",
       "    <span class='foreign primary'>Immat.</span>\n",
       "  )\n",
       "</div>\n",
       "<div>\n",
       "  <span class='relation'>VOITURE</span> (\n",
       "    <span class='primary'>Immat.</span>,\n",
       "    <span class='normal'>modele</span>,\n",
       "    <span class='normal'>energie</span>,\n",
       "    <span class='normal'>annee</span>,\n",
       "    <span class='normal'>couleur</span>,\n",
       "    <span class='foreign'>Ref_marque</span>\n",
       "  )\n",
       "</div>\n",
       "<div>\n",
       "  <span class='relation'>MARQUE</span> (\n",
       "    <span class='primary'>Ref_marque</span>,\n",
       "    <span class='normal'>marque</span>\n",
       "  )\n",
       "</div>\n",
       "</div>\n",
       "</body>\n",
       "</html>"
      ],
      "text/plain": [
       "<IPython.core.display.HTML object>"
      ]
     },
     "metadata": {},
     "output_type": "display_data"
    }
   ],
   "source": [
    "%%mocodo --mld\n",
    "CLIENT: Ref_client, Nom, Ville\n",
    "CONDUIRE, 1N CLIENT, 1N VOITURE\n",
    "VOITURE: Immat., modele, energie, annee, couleur\n",
    "DF, 11 VOITURE, 1N MARQUE\n",
    "MARQUE: Ref_marque, marque"
   ]
  },
  {
   "cell_type": "markdown",
   "metadata": {},
   "source": [
    "#### Remarque :\n",
    "* Le mot-clé `DF` est reconnu comme identification d'une dépendance fonctionnelle."
   ]
  },
  {
   "cell_type": "markdown",
   "metadata": {},
   "source": [
    "##### Exercice 1 : Echauffement\n",
    "Ecrire le code qui permet de générer les MCD et MLD suivants :\n",
    "<img src='echauff.png' align='center' width=600>"
   ]
  },
  {
   "cell_type": "markdown",
   "metadata": {},
   "source": [
    "Réponse :"
   ]
  },
  {
   "cell_type": "code",
   "execution_count": null,
   "metadata": {
    "scrolled": true
   },
   "outputs": [],
   "source": [
    "#\n",
    "\n",
    "\n",
    "\n",
    "\n",
    "\n",
    "\n",
    "\n",
    "\n",
    "\n",
    "\n",
    "\n",
    "\n",
    "#"
   ]
  },
  {
   "cell_type": "markdown",
   "metadata": {},
   "source": [
    "## 2. Exercices"
   ]
  },
  {
   "cell_type": "markdown",
   "metadata": {},
   "source": [
    "##### Exercice 2 :\n",
    "Un lycée veut une base de données pour créer un bulletin de fin d'annee.\n",
    "* Les élèves sont identifiés par leur nom , leur prénom et leur classe.\n",
    "* Les matières concernées par le bulletins sont  : mathématiques, informatique, anglais, e.p.s, philosophie.\n",
    "* Chaque bulletin comporte une note sur 20 et une appréciation par matière ainsi qu'un avis général de l'établissement pour l'élève\n",
    "Génerer une modélisation conceptuelle et logique pour cette situation.\n",
    "\n",
    "Réponse :"
   ]
  },
  {
   "cell_type": "code",
   "execution_count": null,
   "metadata": {},
   "outputs": [],
   "source": [
    "#\n",
    "\n",
    "\n",
    "\n",
    "\n",
    "\n",
    "\n",
    "\n",
    "\n",
    "\n",
    "\n",
    "\n",
    "\n",
    "\n",
    "\n",
    "\n",
    "#"
   ]
  },
  {
   "cell_type": "markdown",
   "metadata": {},
   "source": [
    "##### Exercice 3 :\n",
    "Une municipalité souhaite une base de données pour son réseau de bus.\n",
    "* Une ligne de bus est identifiée par un nom et un numéro.\n",
    "* Un arrêt est identifié par ses coordonnées gps et son nom.\n",
    "* Un horaire est exprimé en heure et minute.\n",
    "Génerer une modélisation conceptuelle et logique pour cette situation.\n",
    "\n",
    "Réponse :"
   ]
  },
  {
   "cell_type": "code",
   "execution_count": null,
   "metadata": {},
   "outputs": [],
   "source": [
    "#\n",
    "\n",
    "\n",
    "\n",
    "\n",
    "\n",
    "\n",
    "\n",
    "\n",
    "\n",
    "\n",
    "\n",
    "\n",
    "\n",
    "#"
   ]
  },
  {
   "cell_type": "markdown",
   "metadata": {},
   "source": [
    "##### Exercice 4 :\n",
    "Un magasin de plantes souhaite une base de données pour organiser les rayons de son magasin. Voici les données qu'elle souhaite utiliser, classées par ordre alphabétique:\n",
    "\n",
    "- Adresse d'un chef de rayon\n",
    "- Durée max de stockage pour un type de plante\n",
    "- Nom d'un chef de rayon\n",
    "- Nom d'un type de plante\n",
    "- Nom d'une plante \n",
    "- Numéro d'un rayon\n",
    "- Numéro de téléphone d'un chef de rayon \n",
    "- Position d'un rayon (intérieur ou extérieur)\n",
    "- Prénom d'un chef de rayon\n",
    "- Référence d'une plante \n",
    "- Nom d'un rayon\n",
    "\n",
    "Informations complémentaires :\n",
    "- Un chef de rayon peut avoir sous sa responsabilité plusieurs rayons mais un rayon n'a\n",
    "toujours qu'un seul chef.\n",
    "- Une plante a un seul type donné.\n",
    "- Une même plante peut être disponible dans plusieurs rayons différents.\n",
    "\n",
    "Modéliser cette situation.\n",
    "\n",
    "Réponse : "
   ]
  },
  {
   "cell_type": "code",
   "execution_count": null,
   "metadata": {},
   "outputs": [],
   "source": [
    "#\n",
    "\n",
    "\n",
    "\n",
    "\n",
    "\n",
    "\n",
    "\n",
    "\n",
    "\n",
    "\n",
    "\n",
    "\n",
    "\n",
    "\n",
    "#"
   ]
  },
  {
   "cell_type": "markdown",
   "metadata": {},
   "source": [
    "##### Exercice 5 :\n",
    "Le même magasin de plantes souhaite désormais pouvoir gérer précisément son stock de plantes en tenant compte des commandes effectuées par les clients du magasin. Voici les informations supplémentaires qu'il faut désormais intégrer :\n",
    "\n",
    "- Adresse d'un client\n",
    "- Nom d'un client\n",
    "- Numéro de téléphone d'un client\n",
    "- Prénom d'un client\n",
    "- Prix d'achat d'une plante\n",
    "- Prix de vente d'une plante \n",
    "- Quantité d'une plante achetée par client par jour\n",
    "- Quantité d'une plante disponible dans un rayon \n",
    "- Quantité en stock dans le magasin d'une plante\n",
    "\n",
    "Modifier le modèle précédent en conséquence.\n",
    "\n",
    "Réponse:"
   ]
  },
  {
   "cell_type": "code",
   "execution_count": null,
   "metadata": {},
   "outputs": [],
   "source": [
    "#\n",
    "\n",
    "\n",
    "\n",
    "\n",
    "\n",
    "\n",
    "\n",
    "\n",
    "\n",
    "\n",
    "\n",
    "\n",
    "\n",
    "\n",
    "#"
   ]
  },
  {
   "cell_type": "markdown",
   "metadata": {},
   "source": [
    "##### Exercice 6:  \n",
    "Le maire d'une commune aimerait faire un bilan en fin d'année des differentes activités périscolaires qui ont été proposées aux écoliers de sa commune. Chaque activité proposée a lieu dans une salle de la commune, elle est encadrée par un intervenant, elle a un nom, un thème, une description, une date et une heure. Par exemple l'activité manuelle, \"origami\" pour faire des cocottes en papier se fera le 18 septembre à 16h30 dans la salle JdL avec comme intervenant Louise (Louise.Bastien@free.fr). Au début de l'activité, l'intervenant enregistrera tous les écoliers présents. Nous voulons avoir les informations qui nous permettrons d'avoir pour un écolier, les activités auxquelles il a participé et pour un intervenant, les activités qu'il a encadré. Nous voudrions aussi établir des statistiques en fonction de la classe de l'écolier ou de son age et connaître pour chaque activité, le nombre de participants.\n",
    "\n",
    "Modéliser cette situation.\n",
    "\n",
    "Réponse :"
   ]
  },
  {
   "cell_type": "code",
   "execution_count": null,
   "metadata": {},
   "outputs": [],
   "source": []
  }
 ],
 "metadata": {
  "kernelspec": {
   "display_name": "Python 3 (ipykernel)",
   "language": "python",
   "name": "python3"
  },
  "language_info": {
   "codemirror_mode": {
    "name": "ipython",
    "version": 3
   },
   "file_extension": ".py",
   "mimetype": "text/x-python",
   "name": "python",
   "nbconvert_exporter": "python",
   "pygments_lexer": "ipython3",
   "version": "3.9.5"
  }
 },
 "nbformat": 4,
 "nbformat_minor": 4
}
