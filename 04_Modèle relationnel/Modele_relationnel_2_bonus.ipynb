{
 "cells": [
  {
   "cell_type": "markdown",
   "metadata": {},
   "source": [
    "# <center> Modèle relationnel : exercices supplémentaires </center>"
   ]
  },
  {
   "cell_type": "code",
   "execution_count": 1,
   "metadata": {},
   "outputs": [
    {
     "name": "stdout",
     "output_type": "stream",
     "text": [
      "Mocodo 3.2.1 loaded.\n"
     ]
    }
   ],
   "source": [
    "%reload_ext mocodo"
   ]
  },
  {
   "cell_type": "markdown",
   "metadata": {},
   "source": [
    "##### Exercice 7 : \n",
    "Un magazine sur l'automobile décide de faire tester les prestations offertes par les grandes enseignes de réparations sans rendez-vous (Norauto, Midas, Maxauto etc. . . .). Dans la suite,la notion de garage représentera une succursale d'une grande enseigne située à une adresse précise. Pour cette opération, un certain nombre de forfaits standards sont définis avec un\n",
    "numéro et une description détaillée. Des collaborateurs sont envoyés dans differentes villes pour relever les prix pratiqués par les garages pour les différents forfaits et pour faire réaliser un des forfaits sur leur véhicule. Cette prestation sera notée par le collaborateur. Voici la liste des données répertoriées :\n",
    "- Référence garage\n",
    "- Nom grande enseigne\n",
    "- Adresse du siège social d'une grande enseigne\n",
    "- Nombre de magasins en France pour une grande enseigne\n",
    "- Adresse garage\n",
    "- Numéro téléphone garage\n",
    "- Nombre d'employés d'un garage\n",
    "- Nom collaborateur\n",
    "- Prénom collaborateur\n",
    "- Adresse collaborateur\n",
    "- Numéro téléphone collaborateur\n",
    "- Numéro forfait\n",
    "- Description forfait\n",
    "- Prix d'un forfait pour un garage\n",
    "- Note donnée par un collaborateur pour la réalisation d'un forfait dans un garage\n",
    "\n",
    "Informations complémentaires :\n",
    "- Une même grande enseigne peut posséder plusieurs garages dans une même ville.\n",
    "- Un collaborateur pourra visiter plusieurs garages chaque garage ne recevra qu'une visite et un seul forfait sera testé.\n",
    "- On désire conserver la moyenne par forfait des notes que les grandes enseignes ont obtenues dans leurs garages.\n",
    "\n",
    "Construire le MCD et le MLD de cette situation."
   ]
  },
  {
   "cell_type": "code",
   "execution_count": null,
   "metadata": {},
   "outputs": [],
   "source": [
    "%%mocodo --mld\n"
   ]
  },
  {
   "cell_type": "markdown",
   "metadata": {},
   "source": [
    "##### Exercice 8\n",
    "Un maraîcher des bords de Loire, M. Deschamps, décide de proposer une partie de sa production sous forme de paniers. Les clients, désireux d'avoir des légumes frais et de saison doivent s'abonner pour une année minimum, ils devront payer tous les mois un prix constant pour l'année en cours. Ils recevront en échange, toutes les semaines, un panier de légumes frais composé à partir des différentes récoltes (souvent réalisées quelques jours avant la constitution des paniers) du maraîcher. Tous les paniers pour une même semaine sont identiques. M. Deschamps veut pouvoir mettre à disposition de ses clients des fiches pour cuisiner les différentes variétés de légumes qui seront proposées dans les paniers. Après avoir observé l'activité de la ferme et discuté avec M. Deschamps, voici la liste d'informations qui nous avons recensées.\n",
    "- Référence d'un client.\n",
    "- Nom d'un client.\n",
    "- Prénom d'un client.\n",
    "- Adresse d'un client.\n",
    "- Numéro téléphone d'un client.\n",
    "- Adresse mail d'un client.\n",
    "- Année d'abonnement d'un client (on désire conserver toutes les années où le client sera abonné).\n",
    "- Prix à payer par mois pour une année (par exemple le prix est de 30 euros par mois en 2020, il sera de 32 euros en 2021).\n",
    "- Le nom du lieu de livraison (chaque client devra avoir un lieu de livraison unique,c'est l'endroit où il récupèrera son panier chaque semaine).\n",
    "- Le jour de la semaine où le lieu de livraison est ouvert (un seul par lieu de livraison).\n",
    "- L'heure d'ouverture et de fermeture du lieu de livraison.\n",
    "- Le numéro d'un panier (Le même pour tous les paniers d'une semaine).\n",
    "- La date de fabrication d'un panier.\n",
    "- Le poids total d'un panier.\n",
    "- L'indicateur de retrait d'un panier par un client (M. Deschamps veut connaître les clients qui n'ont pas pris leur panier pour une semaine donnée.)\n",
    "- La référence d'une récolte.\n",
    "- La date d'une récolte.\n",
    "- Le nom du champ où a été faite la récolte.\n",
    "- Le poids d'une récolte.\n",
    "- La variété du légume récolté (une seule par récolte, la variété permettra d'identifier parfaitement un légume).\n",
    "- Le nom générique d'un légume.\n",
    "- La catégorie du légume.\n",
    "- La quantité d'une récolte placée dans un panier.\n",
    "- Le numéro de la recette.\n",
    "- Le titre de la recette.\n",
    "- La description de la recette.\n",
    "- Les différentes variétés de légumes contenues dans la recette.\n",
    "- Les mois classiques de production pour une variété de légume.\n",
    "\n",
    "Exemple d'informations que l'on doit pouvoir retrouver dans la Base de Données qui sera issue de votre MCD : \n",
    "\n",
    "La récolte référence RDN1008 a été faite le 10 aout 2020 dans le champ 'la petite prairie'. Elle correspond à des 'courgettes rondes de Nice' (nom de variété) qui sont des courges (nom générique du légume) dans la catégorie 'cucurbitacée' pour un poids total de 220kg. Dans les paniers numéro 17082, fabriqués le 12 aout 2020, on a (parmi d'autres légumes) 2,5kg de courgettes rondes de Nice de la récolte RND1008. Les courgettes rondes de Nice sont produites généralement les mois de juin, juillet aout et septembre.\n",
    "\n",
    "Réaliser un MCD et le MLD modélisant au mieux la situation."
   ]
  },
  {
   "cell_type": "code",
   "execution_count": null,
   "metadata": {},
   "outputs": [],
   "source": [
    "%%mocodo --mld\n"
   ]
  }
 ],
 "metadata": {
  "kernelspec": {
   "display_name": "Python 3 (ipykernel)",
   "language": "python",
   "name": "python3"
  },
  "language_info": {
   "codemirror_mode": {
    "name": "ipython",
    "version": 3
   },
   "file_extension": ".py",
   "mimetype": "text/x-python",
   "name": "python",
   "nbconvert_exporter": "python",
   "pygments_lexer": "ipython3",
   "version": "3.9.5"
  }
 },
 "nbformat": 4,
 "nbformat_minor": 4
}
