{
 "cells": [
  {
   "cell_type": "markdown",
   "metadata": {},
   "source": [
    "# <center> Programmation fonctionnelle 2/2 </center>\n",
    "# <center>Exercices</center>"
   ]
  },
  {
   "cell_type": "markdown",
   "metadata": {},
   "source": [
    "### Exercice 1  :\n",
    "Les fonctions `map` et `filter` peuvent être écrites en python à l'aide de la syntaxe plus moderne des listes en compréhension(voir cours de première).\n",
    "##### Exemple :"
   ]
  },
  {
   "cell_type": "code",
   "execution_count": null,
   "metadata": {},
   "outputs": [],
   "source": [
    "#map\n",
    "def f(x):\n",
    "    return x**2\n",
    "\n",
    "list(map(f,range(9)))"
   ]
  },
  {
   "cell_type": "code",
   "execution_count": null,
   "metadata": {},
   "outputs": [],
   "source": [
    "#en compréhension\n",
    "[f(x) for x in range(9)]"
   ]
  },
  {
   "cell_type": "markdown",
   "metadata": {},
   "source": [
    "1. Réécrire le code ci-dessous avec une liste en compréhension pour obtenir la même résultat."
   ]
  },
  {
   "cell_type": "code",
   "execution_count": null,
   "metadata": {},
   "outputs": [],
   "source": [
    " list(map(lambda x: 2*x, range(10)))"
   ]
  },
  {
   "cell_type": "code",
   "execution_count": null,
   "metadata": {},
   "outputs": [],
   "source": [
    "#en compréhension\n"
   ]
  },
  {
   "cell_type": "markdown",
   "metadata": {},
   "source": [
    "2. Même question"
   ]
  },
  {
   "cell_type": "code",
   "execution_count": null,
   "metadata": {},
   "outputs": [],
   "source": [
    "list (filter(lambda x: x>5, range(10)))"
   ]
  },
  {
   "cell_type": "code",
   "execution_count": null,
   "metadata": {},
   "outputs": [],
   "source": [
    "#en compréhension\n"
   ]
  },
  {
   "cell_type": "markdown",
   "metadata": {},
   "source": [
    "### Exercice 2:\n",
    "Ecrire une fonction `trouve(p,tab)`, qui prend en paramètres une fonction `p`(\"p\" comme propriéte) et un tableau `tab`, qui renvoie le premier élément `x` de `tab` tel que `p(x)` est vraie. Si aucun élément de `tab` ne satisfait `p`, on renvoie `None`. \n",
    "\n",
    "On pourra s'appuyer sur les fonctions proposées ci-dessous pour les tests."
   ]
  },
  {
   "cell_type": "code",
   "execution_count": null,
   "metadata": {},
   "outputs": [],
   "source": [
    "#propriétés\n",
    "def pair(n):\n",
    "    return n%2==0\n",
    "\n",
    "def positif(n):\n",
    "    return n>0"
   ]
  },
  {
   "cell_type": "code",
   "execution_count": null,
   "metadata": {},
   "outputs": [],
   "source": [
    "#réponse\n",
    "def trouve(p, tab):\n",
    "    \n",
    "    \n",
    "    \n",
    "    \n",
    "    pass"
   ]
  },
  {
   "cell_type": "code",
   "execution_count": null,
   "metadata": {},
   "outputs": [],
   "source": [
    "#tests\n",
    "T=[-1,0,1]\n",
    "print(trouve(pair, T))\n",
    "print(trouve(positif, T))"
   ]
  },
  {
   "cell_type": "markdown",
   "metadata": {},
   "source": [
    "### Exercice 3 :\n",
    "Ecrire une fonction `double(f)` qui reçoit une fonction `f` en argument et renvoie une fonction qui applique deux fois de suite la fonction `f`.\n",
    "\n",
    "On pourra s'appuyer sur les fonctions proposées ci-dessous pour les tests."
   ]
  },
  {
   "cell_type": "code",
   "execution_count": null,
   "metadata": {},
   "outputs": [],
   "source": [
    "#fonctions\n",
    "def factorielle(n):\n",
    "    if n<=1:\n",
    "        return 1\n",
    "    else:\n",
    "        return n*factorielle(n-1)\n",
    "    \n",
    "def exp(x):\n",
    "    return 2**x\n",
    "\n",
    "def separe(chaine):\n",
    "    res=''\n",
    "    s='.'\n",
    "    for car in chaine:\n",
    "        if car !=s:\n",
    "            res=res+car+s\n",
    "        else:\n",
    "            res=res+car\n",
    "    return res"
   ]
  },
  {
   "cell_type": "code",
   "execution_count": null,
   "metadata": {},
   "outputs": [],
   "source": [
    "#réponse\n",
    "def double(f):\n",
    "    \n",
    "    \n",
    "    pass"
   ]
  },
  {
   "cell_type": "code",
   "execution_count": null,
   "metadata": {},
   "outputs": [],
   "source": [
    "#tests\n",
    "print(double(factorielle)(3))\n",
    "print(double(exp)(3))\n",
    "print(double(separe)('nsi'))"
   ]
  },
  {
   "cell_type": "markdown",
   "metadata": {},
   "source": [
    "### Exercice 4 :\n",
    "On considère la liste d'URLS suivante:"
   ]
  },
  {
   "cell_type": "code",
   "execution_count": null,
   "metadata": {},
   "outputs": [],
   "source": [
    "urls = [\n",
    "'http://www.je−suis.fr',\n",
    "'https://www.google.com' ,\n",
    "'www.je−suis' ,\n",
    "'http://www.abc.co',\n",
    "'http://inexistant.com' ,\n",
    "]"
   ]
  },
  {
   "cell_type": "markdown",
   "metadata": {},
   "source": [
    "1. Compléter la fonction `checkurl(url)` qui prend en paramètre une chaîne de caractères et qui renvoie `True` si cette chaîne est une url correcte et `False` sinon( on pourra commencer par séparer l'url en trois parties à l'aide de laméthode `.split()`)."
   ]
  },
  {
   "cell_type": "code",
   "execution_count": null,
   "metadata": {},
   "outputs": [],
   "source": [
    "def checkurl(url):\n",
    "    sep=url.split('.')\n",
    "    \n",
    "    \n",
    "    \n",
    "    \n",
    "    \n",
    "    pass"
   ]
  },
  {
   "cell_type": "markdown",
   "metadata": {},
   "source": [
    "2. A l'aide de la fonction `filter`ou d'une liste en compréhension, afficher la liste des url valides de la liste `urls`."
   ]
  },
  {
   "cell_type": "code",
   "execution_count": null,
   "metadata": {},
   "outputs": [],
   "source": []
  },
  {
   "cell_type": "markdown",
   "metadata": {},
   "source": [
    "### Exercice 5: \n",
    "On considère la liste d'adresses IP suivante:"
   ]
  },
  {
   "cell_type": "code",
   "execution_count": null,
   "metadata": {},
   "outputs": [],
   "source": [
    "ips=['127.0.0.1',\n",
    "     '255.255.255.0',\n",
    "     '127.256.41.2',\n",
    "     '10.14.145.2',\n",
    "     '1.10.10']"
   ]
  },
  {
   "cell_type": "markdown",
   "metadata": {},
   "source": [
    "1. Compléter la fonction `checkip(ip)` qui prend en paramètre une chaîne de caractères et qui renvoie `True` si cette chaîne représenta une adresse IP correcte et `False` sinon( on pourra commencer par séparer l'ip en quatre parties à l'aide de laméthode `.split()`)."
   ]
  },
  {
   "cell_type": "code",
   "execution_count": null,
   "metadata": {},
   "outputs": [],
   "source": [
    "def checkip(ip):\n",
    "    \n",
    "    \n",
    "    \n",
    "    \n",
    "    \n",
    "    \n",
    "    pass"
   ]
  },
  {
   "cell_type": "markdown",
   "metadata": {},
   "source": [
    "2. A l'aide de la fonction `filter`ou d'une liste en compréhension, afficher la liste des IP valides de la liste `ips`."
   ]
  },
  {
   "cell_type": "code",
   "execution_count": null,
   "metadata": {},
   "outputs": [],
   "source": []
  },
  {
   "cell_type": "markdown",
   "metadata": {},
   "source": [
    "### Exercice 6:\n",
    "Python dispose de deux outils principaux de tris : `.sort()` et `sorted()`. Pour répondre aux questions, il est vivement conseillé de consulter la documentation de python à ce sujet : https://docs.python.org/fr/3/howto/sorting.html\n",
    "\n",
    "1. Laquelle de ces deux commandes relève du paradigme fonctionnel ? Justifier et donner un exemple de chaque commande\n",
    "\n",
    "\n",
    "__Réponse__: C'est la fonction `sorted()`. En effet, cette fonction contruit une nouvelle liste triée à partir de celle passée en argument, alors que la méthode `.sort()` modifie la liste à laquelle le tri s'appplique."
   ]
  },
  {
   "cell_type": "code",
   "execution_count": null,
   "metadata": {},
   "outputs": [],
   "source": [
    "#Exemple pour sorted()\n",
    "\n",
    "\n",
    "\n",
    "#"
   ]
  },
  {
   "cell_type": "code",
   "execution_count": null,
   "metadata": {},
   "outputs": [],
   "source": [
    "#Exemple pour .sort()\n",
    "\n",
    "\n",
    "\n",
    "#"
   ]
  },
  {
   "cell_type": "markdown",
   "metadata": {},
   "source": [
    "__Dans la suite, on utilisera la fonction `sorted()` pour répondre aux questions. On considère la liste ci-dessous :__"
   ]
  },
  {
   "cell_type": "code",
   "execution_count": null,
   "metadata": {},
   "outputs": [],
   "source": [
    "groupe=[('Pierre','M',2007),('Jeanne','F',2010),('Naomie','F',2007),\n",
    "        ('Agathe','F',2012),('Ikrame','F',2012),('Jules','M',2012)]"
   ]
  },
  {
   "cell_type": "markdown",
   "metadata": {},
   "source": [
    "2. Trier la liste en ordre alphabétique des prénoms."
   ]
  },
  {
   "cell_type": "code",
   "execution_count": null,
   "metadata": {},
   "outputs": [],
   "source": []
  },
  {
   "cell_type": "markdown",
   "metadata": {},
   "source": [
    "3. Trier la liste en ordre alphabétique décroissant."
   ]
  },
  {
   "cell_type": "code",
   "execution_count": null,
   "metadata": {},
   "outputs": [],
   "source": []
  },
  {
   "cell_type": "markdown",
   "metadata": {},
   "source": [
    "4. Trier la liste par genre (\"M\",\"F\")."
   ]
  },
  {
   "cell_type": "code",
   "execution_count": null,
   "metadata": {},
   "outputs": [],
   "source": []
  },
  {
   "cell_type": "markdown",
   "metadata": {},
   "source": [
    "5. Trier la liste en ordre décroissant de date de naissance."
   ]
  },
  {
   "cell_type": "code",
   "execution_count": null,
   "metadata": {},
   "outputs": [],
   "source": []
  },
  {
   "cell_type": "markdown",
   "metadata": {},
   "source": [
    "6. Trier la liste par genre puis par année de naissance."
   ]
  },
  {
   "cell_type": "code",
   "execution_count": null,
   "metadata": {},
   "outputs": [],
   "source": []
  },
  {
   "cell_type": "markdown",
   "metadata": {},
   "source": [
    "### Exercice 7:\n",
    "Une année s'est écoulée et la nouvelle édition de la course de module de Tatooine est encore plus captivante. Cette année, la position de chaque concurrent est stockée dans une liste, et c'est cette liste que l'on modifiera au fur et à mesure des questions. Les fonctions écrites ici ne sont donc pas des fonctions pures au sens fonctionnel et ne renvoient rien( on appelle cela des procédures)."
   ]
  },
  {
   "cell_type": "code",
   "execution_count": null,
   "metadata": {},
   "outputs": [],
   "source": [
    "tatooine=['Gasgano', 'Teemto', 'Sebulba', 'Anakin']"
   ]
  },
  {
   "cell_type": "markdown",
   "metadata": {},
   "source": [
    "Parmi les moments phares ce cette édition, il y a:\n",
    "\n",
    "Une panne moteur fait passer le premier concurrent à la dernière position.\n",
    "Le second concurrent accélère et prend la tête de la course.\n",
    "Le dernier concurrent sauve l'honneur et dépasse l'anvant dernier module de la course.\n",
    "Un tir de blaster élimine le module en tête de la course.\n",
    "Dans un spectaculaire retournement de situation, un module qu'on pensait éliminé fait son grand retour à la dernière position.\n",
    "\n",
    "1. Compléter la fonction `panne_moteur`, en modifiant la liste passée en argument de manière à ce que le premier module passe dernier, le deuxième premier et ainsi de suite."
   ]
  },
  {
   "cell_type": "code",
   "execution_count": null,
   "metadata": {},
   "outputs": [],
   "source": [
    "def panne_moteur(classement):\n",
    "    pass\n",
    "\n",
    "\n",
    "    \n",
    "panne_moteur(tatooine)"
   ]
  },
  {
   "cell_type": "code",
   "execution_count": null,
   "metadata": {},
   "outputs": [],
   "source": [
    "assert(tatooine==['Teemto', 'Sebulba', 'Anakin','Gasgano'])"
   ]
  },
  {
   "cell_type": "markdown",
   "metadata": {},
   "source": [
    "2. Compléter la fonction `passe_en_tete`, modifiant la liste passée en argument de manière à ce que le premier module passe deuxième et le deuxième premier."
   ]
  },
  {
   "cell_type": "code",
   "execution_count": null,
   "metadata": {},
   "outputs": [],
   "source": [
    "def passe_en_tete(classement):\n",
    "    pass\n",
    "\n",
    "\n",
    "    \n",
    "passe_en_tete(tatooine)"
   ]
  },
  {
   "cell_type": "code",
   "execution_count": null,
   "metadata": {},
   "outputs": [],
   "source": [
    "assert(tatooine==['Sebulba', 'Teemto', 'Anakin','Gasgano'])"
   ]
  },
  {
   "cell_type": "markdown",
   "metadata": {},
   "source": [
    "3. Compléter la fonction `sauve_honneur`, modifiant la liste passée en argument de manière à ce que le dernier module passe avant-dernier et l'avant-dernier dernier.`"
   ]
  },
  {
   "cell_type": "code",
   "execution_count": null,
   "metadata": {},
   "outputs": [],
   "source": [
    "def sauve_honneur(classement):\n",
    "    pass\n",
    "\n",
    "\n",
    "\n",
    "sauve_honneur(tatooine)"
   ]
  },
  {
   "cell_type": "code",
   "execution_count": null,
   "metadata": {},
   "outputs": [],
   "source": [
    "assert(tatooine==['Sebulba', 'Teemto','Gasgano', 'Anakin'])"
   ]
  },
  {
   "cell_type": "markdown",
   "metadata": {},
   "source": [
    "4. Compléter la fonction `tir_blaster`, enlevant le premier concurrent de la liste passée en argument."
   ]
  },
  {
   "cell_type": "code",
   "execution_count": null,
   "metadata": {},
   "outputs": [],
   "source": [
    "def tir_blaster(classement):\n",
    "    pass\n",
    "\n",
    "\n",
    "tir_blaster(tatooine)"
   ]
  },
  {
   "cell_type": "code",
   "execution_count": null,
   "metadata": {},
   "outputs": [],
   "source": [
    "assert(tatooine==['Teemto','Gasgano', 'Anakin'])"
   ]
  },
  {
   "cell_type": "markdown",
   "metadata": {},
   "source": [
    "5. Compléter la fonction `retours_inattendus`, faisant passer le dernier concurrent à la première place et ajoutant le concurrent `'Aldar'`à la fin de la liste passée en argument."
   ]
  },
  {
   "cell_type": "code",
   "execution_count": null,
   "metadata": {},
   "outputs": [],
   "source": [
    "def retours_inattendus(classement):\n",
    "    pass\n",
    "\n",
    "\n",
    "\n",
    "\n",
    "retours_inattendus(tatooine)"
   ]
  },
  {
   "cell_type": "code",
   "execution_count": null,
   "metadata": {},
   "outputs": [],
   "source": [
    "assert(tatooine==['Anakin','Teemto','Gasgano', 'Aldar'])"
   ]
  }
 ],
 "metadata": {
  "kernelspec": {
   "display_name": "Python 3",
   "language": "python",
   "name": "python3"
  },
  "language_info": {
   "codemirror_mode": {
    "name": "ipython",
    "version": 3
   },
   "file_extension": ".py",
   "mimetype": "text/x-python",
   "name": "python",
   "nbconvert_exporter": "python",
   "pygments_lexer": "ipython3",
   "version": "3.8.5"
  }
 },
 "nbformat": 4,
 "nbformat_minor": 4
}
