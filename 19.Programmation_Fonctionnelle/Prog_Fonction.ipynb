{
 "cells": [
  {
   "cell_type": "markdown",
   "metadata": {},
   "source": [
    "# <center> Programmation fonctionnelle 1/2</center>\n",
    "\n",
    "<img src='code.jpg' style='float:right;' width=33%>\n",
    "\n",
    "\n",
    "* Il existe plus de 2500 langages de programmation créés depuis les années 50 jusqu'à aujourd'hui ! Certains n'existaient pas il y a quelques années et d'autres émergeront probablement dans un futur proche.\n",
    "\n",
    "\n",
    "* Certains langages sont adaptés à des tâches précises ( SQL our les bases de données par exemple), d'autres plus généralistes comme python.\n",
    "\n",
    "\n",
    "* On peut regrouper ces langages en familles, que l'on appelle des paradigmes, certains langages pouvant appartenir à plusieurs paradigmes, en voici quelques exemples :\n",
    "  * Impératif : y appartiennent les langages qui permettent de manipuler des structures de données modifiables (variables, tableaux, etc...) en utilisant notamment des boucles (`while`, `for`, ...)\n",
    "  * Orienté objet : On y définit des objets à l'aide de de classes, d'attributs et de méthodes.\n",
    "  * Fonctionnel : On y trouve les langages qui manipule des fonctions et pas autre chose.\n",
    "\n",
    "\n",
    "\n",
    "* Python appartient à ces trois paradigmes, mais ce n'est pas le seul. En revanche, certains langages sont par exemple exclusivement fonctionnels et ne laissent pas la possibilité d'utiliser un autre paradigme.\n",
    "\n",
    "\n",
    "\n",
    "* Depuis le début de la première, vous avez appris à écrire beaucoup de fonctions. Nous allons nous intérésser un peu plus au paradigme fonctionnel et par exemple écrire des fonctions qui prennent en argument d'autres fonctions ou qui renvoient des fonctions en sortie. Nous verrons aussi que ce paradigme est lié aux structures de données *immuables* (qui ne peuvent plus être modifiées une fois construites).\n",
    "\n",
    "\n",
    "* Dans le paradigme fonctionnel, le concept de fonction est celui des fonctions mathématiques : une ou des valeurs en entrée, et une valeur en sortie. On est sûr que pour des entrées données, on obtient toujours le même résultat.\n",
    "\n"
   ]
  },
  {
   "cell_type": "markdown",
   "metadata": {},
   "source": [
    "## 1. Fonction pure\n",
    "\n",
    "* Un programme écrit en style fonctionnel se caractérise essentiellement par une chose : l'absence *d'effets de bord*. Le code ne dépend pas de données se trouvant à l'extérieur de la fonction courante et il ne modifie pas des données à l'extérieur de cette fonction.\n",
    "\n",
    "\n",
    "* Ainsi,  une fonction pure est une fonction:\n",
    "   * Dont le résultat dépend uniquement des entrées.\n",
    "   * Qui n’a pas d’effet de bord.\n",
    "   * Qui doit renvoyer quelque chose.\n",
    "\n",
    "\n",
    "##### Exemple 1 :"
   ]
  },
  {
   "cell_type": "code",
   "execution_count": 2,
   "metadata": {},
   "outputs": [
    {
     "data": {
      "text/plain": [
       "5"
      ]
     },
     "execution_count": 2,
     "metadata": {},
     "output_type": "execute_result"
    }
   ],
   "source": [
    "#1. Fonction non fonctionnelle\n",
    "a = 3\n",
    "def increment(n):\n",
    "    return n+a\n",
    "\n",
    "increment(2)"
   ]
  },
  {
   "cell_type": "markdown",
   "metadata": {},
   "source": [
    "* Dans cet exemple, la fonction fait appel à une variable `a` qui est définie en dehors du corps de la fonction, il s'agit d'un effet de bord. Ainsi, le résultat de cette fonction ne dépend pas que de ces entrées, ce n'est pas une fonction pure."
   ]
  },
  {
   "cell_type": "code",
   "execution_count": 13,
   "metadata": {},
   "outputs": [
    {
     "data": {
      "text/plain": [
       "5"
      ]
     },
     "execution_count": 13,
     "metadata": {},
     "output_type": "execute_result"
    }
   ],
   "source": [
    "#2. Fonction fonctionnelle\n",
    "def increment(n,a):\n",
    "    return n+a\n",
    "\n",
    "increment(2,3)"
   ]
  },
  {
   "cell_type": "markdown",
   "metadata": {},
   "source": [
    "* Ici, le résultat de la fonction ne dépend que de ce qui lui aura été passé en argument. On pourrait imaginer utiliser le code de cette fonction dans un autre programme avec un copier-coller, sans aucune modification."
   ]
  },
  {
   "cell_type": "markdown",
   "metadata": {},
   "source": [
    "#### Remarques :\n",
    "* En limitant les effets de bords, on rend les fonctions autonomes ce qui présente plusieurs avantages :\n",
    "\n",
    "    * Propreté : le style de programmation fonctionnel réduit la proportion de défauts en s’imposant des règles telles que l’interdiction de modifier l’état d’un objet ou l’obligation de garantir qu’une fonction ne doit avoir aucun impact sur le reste du programme.\n",
    "    * Test : le style de programmation fonctionnel favorise des fonctions pures qui manipulent de simples valeurs et qui sont donc extrêmement faciles à tester les unes indépendemment des autres.\n",
    "    * Economie : le style fonctionnel permet de réduire le code.\n",
    "    * Modularité : \n",
    "      * Le découpage d'un code en fonctions rend le code plus simple à comprendre, et plus évolutif.\n",
    "      * On peut utiliser ces fonctions, regroupées par exemple en bibiothèque dans plusieurs programmes."
   ]
  },
  {
   "cell_type": "markdown",
   "metadata": {},
   "source": [
    "#### Exercice 1 : \n",
    "\n",
    "__1.__ que fait le code suivant ?"
   ]
  },
  {
   "cell_type": "code",
   "execution_count": 13,
   "metadata": {},
   "outputs": [
    {
     "name": "stdout",
     "output_type": "stream",
     "text": [
      "[1, 2, 3, 4, 5, 6, 7]\n"
     ]
    }
   ],
   "source": [
    "T=[1,2,3]\n",
    "n=4\n",
    "dernier=T[-1]\n",
    "for i in range(n):\n",
    "    T.append(dernier+1)\n",
    "    dernier=T[-1]\n",
    "\n",
    "print(T)"
   ]
  },
  {
   "cell_type": "markdown",
   "metadata": {},
   "source": [
    "__Réponse__: \n",
    "* \n",
    "\n",
    "__2.__ Modifiez ce code pour en faire une fonction pure, donc sans effet de bord. Ainsi cette fonction ne devra pas modifier la liste existante, mais en créer une nouvelle."
   ]
  },
  {
   "cell_type": "code",
   "execution_count": 20,
   "metadata": {},
   "outputs": [],
   "source": [
    "T=[1,2,3]\n",
    "\n",
    "\n",
    "\n",
    "\n",
    "\n",
    "\n",
    "\n",
    "\n",
    "#"
   ]
  },
  {
   "cell_type": "markdown",
   "metadata": {},
   "source": [
    "## 2. Fonction passée en argument.\n",
    "* Dans le paradigme fonctionnnel, certaines fonctions sont emblématiques  : `map` , `reduce` et `filter`. Elles permettent d'agir sur des tableaux sans avoir à écrire le code qui permet de les parcourir.\n",
    "* Elles ont la particularité de prendre comme paramètre...une fonction. Dans les langages fonctionnels, une fonction est une donnée comme une autre.\n",
    "* Pour comprendre le fonctionnement de ces fonctions, dans les exercices 2, 3 et 4, nous allons les construire sous un autre nom, puis les utiliserons pour résoudre quelques problèmes.\n",
    "* Vocabulaire : on nomme ici *itérable* un objet sur lequel on peut itérer, c'est à dire pour simplifier parcourir ses éléments, directement ou à l'aide d'indices (liste python, chaîne de caractères, dictionnaires, tuples, etc...)"
   ]
  },
  {
   "cell_type": "markdown",
   "metadata": {},
   "source": [
    "#### Exercice 2: map\n",
    "* La fonction `applique` prend deux paramètres : une fonction et un itérable. Elle renvoie une nouvel itérable contenant les images par la fonction des éléments de l'itérable initial.\n",
    "\n",
    "__1.__ Que doit renvoyer l'appel de `applique(len , ['Joe','Jack','William','Averell']` ?\n",
    "\n",
    "__Réponse :__\n",
    "\n",
    "*  \n",
    "\n",
    "__2.__ En supposant que la fonction `double(x)` renvoie le double de la valeur `x` passée en paramètre, que doit renvoyer `applique(double,[1,2,3,4])` ?\n",
    "\n",
    "__Réponse :__\n",
    "\n",
    "*  \n",
    "\n",
    "__3.__ Compléter la fonction `applique` ci-dessous :"
   ]
  },
  {
   "cell_type": "code",
   "execution_count": 10,
   "metadata": {},
   "outputs": [],
   "source": [
    "def double(x):\n",
    "    return 2*x\n",
    "\n",
    "def applique(fonction, liste):\n",
    "    res=[]\n",
    "    \n",
    "    \n",
    "    \n",
    "    \n",
    "    \n",
    "    \n",
    "    return res"
   ]
  },
  {
   "cell_type": "code",
   "execution_count": 11,
   "metadata": {},
   "outputs": [
    {
     "data": {
      "text/plain": [
       "[3, 4, 7, 7]"
      ]
     },
     "execution_count": 11,
     "metadata": {},
     "output_type": "execute_result"
    }
   ],
   "source": [
    "#test 1\n",
    "applique(len,['Joe','Jack','William','Averell'])"
   ]
  },
  {
   "cell_type": "code",
   "execution_count": 12,
   "metadata": {},
   "outputs": [
    {
     "data": {
      "text/plain": [
       "[2, 4, 6, 8]"
      ]
     },
     "execution_count": 12,
     "metadata": {},
     "output_type": "execute_result"
    }
   ],
   "source": [
    "#test 2\n",
    "applique(double,[1,2,3,4])"
   ]
  },
  {
   "cell_type": "markdown",
   "metadata": {},
   "source": [
    "4. La fonction `map` existe sous python. Elle s'utilise presque comme celle que vous venez d'écrire, mais elle renvoie un objet que l'on peut ensuite convertir en liste avec la fonction `list()`.\n",
    "Utiliser `map()`pour retrouver les résultats des tests précédents. "
   ]
  },
  {
   "cell_type": "code",
   "execution_count": 13,
   "metadata": {},
   "outputs": [
    {
     "data": {
      "text/plain": [
       "[3, 4, 7, 7]"
      ]
     },
     "execution_count": 13,
     "metadata": {},
     "output_type": "execute_result"
    }
   ],
   "source": [
    " "
   ]
  },
  {
   "cell_type": "code",
   "execution_count": 14,
   "metadata": {},
   "outputs": [
    {
     "data": {
      "text/plain": [
       "[2, 4, 6, 8]"
      ]
     },
     "execution_count": 14,
     "metadata": {},
     "output_type": "execute_result"
    }
   ],
   "source": [
    " "
   ]
  },
  {
   "cell_type": "markdown",
   "metadata": {},
   "source": [
    "#### Exercice 3 : filter\n",
    "* La fonction `filtre` prend deux paramètres : une fonction booléènne (qui renvoie `True` ou `False`) et un itérateur. Elle renvoie une nouvel itérateur contenant les éléments filtrés à l'aide de la fonction booléènne.\n",
    "\n",
    "__1.__ En supposant que la fonction `pair(n)` renvoie `True` si et seulement si $n$ est pair, que renvoie `filtre(pair,[1,2,3,4]`) ?\n",
    "\n",
    "__Réponse:__ \n",
    "\n",
    "*  \n",
    "\n",
    "__2.__ Compléter la fonction `filtre()` ci-dessous :"
   ]
  },
  {
   "cell_type": "code",
   "execution_count": 1,
   "metadata": {},
   "outputs": [],
   "source": [
    "def pair(n):\n",
    "    return n%2==0\n",
    "\n",
    "def filtre(fonction, liste):\n",
    "    res=[]\n",
    "    \n",
    "    \n",
    "    \n",
    "    \n",
    "    \n",
    "    return res "
   ]
  },
  {
   "cell_type": "code",
   "execution_count": 7,
   "metadata": {},
   "outputs": [
    {
     "data": {
      "text/plain": [
       "[2, 4]"
      ]
     },
     "execution_count": 7,
     "metadata": {},
     "output_type": "execute_result"
    }
   ],
   "source": [
    "filtre(pair,[1,2,3,4])"
   ]
  },
  {
   "cell_type": "markdown",
   "metadata": {},
   "source": [
    "__3.__ La fonction `filter` existe sous python. Elle s'utilise presque comme celle que vous venez d'écrire, mais elle renvoie un objet que l'on peut ensuite convertir en liste avec la fonction `list()`.\n",
    "Utiliser `filter()`pour retrouver le résultat du test précédent. "
   ]
  },
  {
   "cell_type": "code",
   "execution_count": 5,
   "metadata": {},
   "outputs": [
    {
     "data": {
      "text/plain": [
       "[2, 4]"
      ]
     },
     "execution_count": 5,
     "metadata": {},
     "output_type": "execute_result"
    }
   ],
   "source": []
  },
  {
   "cell_type": "markdown",
   "metadata": {},
   "source": [
    "#### Exercice 4 : reduce\n",
    "La fonction `reduit` est un peut plus délicate à comprendre. Elle prend en paramètre une fonction et un itérable et renvoie une combinaison des éléments de l'itérable. Au premier appel, les deux premiers éléments de l'itérable sont passés en paramètres. Ensuite, le résultat de cet appel et l’élément suivant de l'itérable sont passés en paramètres, et ainsi de suite...\n",
    "\n",
    "__1.__ En supposant que la fonction `g(x,y)` renvoie la somme des éléments `x` et `y`, que renvoie `reduit(g,['a','b','c','d'])` ?\n",
    "\n",
    "__Réponse :__\n",
    "*  \n",
    "\n",
    "__2.__ Que renvoie `reduit(g,[1,2,3,4])` ?\n",
    "\n",
    "__Réponse :__\n",
    "*  \n",
    "\n",
    "__3.__ Compléter la fonction `reduit` ci-dessous :"
   ]
  },
  {
   "cell_type": "code",
   "execution_count": 2,
   "metadata": {},
   "outputs": [],
   "source": [
    "def g(x,y):\n",
    "    return x+y\n",
    "\n",
    "def reduit(fonction,liste):\n",
    "    i=0\n",
    "    valeur=liste[i]\n",
    "     \n",
    "        \n",
    "        \n",
    "        \n",
    "    return valeur"
   ]
  },
  {
   "cell_type": "code",
   "execution_count": 3,
   "metadata": {},
   "outputs": [
    {
     "data": {
      "text/plain": [
       "'abcd'"
      ]
     },
     "execution_count": 3,
     "metadata": {},
     "output_type": "execute_result"
    }
   ],
   "source": [
    "reduit(g,['a','b','c','d'])"
   ]
  },
  {
   "cell_type": "code",
   "execution_count": 4,
   "metadata": {},
   "outputs": [
    {
     "data": {
      "text/plain": [
       "10"
      ]
     },
     "execution_count": 4,
     "metadata": {},
     "output_type": "execute_result"
    }
   ],
   "source": [
    "reduit(g,[1,2,3,4])"
   ]
  },
  {
   "cell_type": "markdown",
   "metadata": {},
   "source": [
    "__4.__ La fonction `reduce` existe sous python. Elle s'utilise comme celle que vous venez d'écrire, mais elle renvoie un objet \n",
    "Utiliser `reduce()`pour retrouver le résultat du test précédent.\n",
    "\n",
    "*Remarque : Cette fonction n'est pas disponible par défaut sur python. Elle fait partie du module `functools` qu'il faut donc importer*"
   ]
  },
  {
   "cell_type": "code",
   "execution_count": 5,
   "metadata": {},
   "outputs": [
    {
     "data": {
      "text/plain": [
       "10"
      ]
     },
     "execution_count": 5,
     "metadata": {},
     "output_type": "execute_result"
    }
   ],
   "source": [
    " \n",
    "    "
   ]
  },
  {
   "cell_type": "code",
   "execution_count": 6,
   "metadata": {},
   "outputs": [
    {
     "data": {
      "text/plain": [
       "'abcd'"
      ]
     },
     "execution_count": 6,
     "metadata": {},
     "output_type": "execute_result"
    }
   ],
   "source": []
  },
  {
   "cell_type": "markdown",
   "metadata": {},
   "source": [
    "## 3.  Fonction anonyme\n",
    "* Dans les fonctions `map`, `filter` et `reduce`, l'un des arguments est une fonction qui elle même doit être définie. Il existe une façon de faire qui permet de se passer du mot-clé `def`, et d'intégrer directement la définition de la fonction comme paramètre de  `map`, `filter` ou `reduce` (ou toute autre fonction qu prend en argument une fonction).\n",
    "\n",
    "\n",
    "*  Sous python, l'opérateur `lambda` permet de créer des fonctions \"à la volée\" en une seule ligne.\n",
    "\n",
    "\n",
    "* On parle de *fonction anonyme* car ces fonctions n'existent pas en dehors de la ligne à la quelle elle ont été créées.\n",
    "\n",
    "\n",
    "##### Exemple 2:\n",
    "Reprenons l'exercice 2 et l'utilisation de `map`. Plutôt que de définir la fonction carré puis de l'appeler dans `map`, on peut utiliser l'opérateur `lambda` :"
   ]
  },
  {
   "cell_type": "code",
   "execution_count": 14,
   "metadata": {},
   "outputs": [
    {
     "data": {
      "text/plain": [
       "[2, 4, 6, 8]"
      ]
     },
     "execution_count": 14,
     "metadata": {},
     "output_type": "execute_result"
    }
   ],
   "source": [
    "res=map( lambda x:2*x , [1,2,3,4])\n",
    "list(res)"
   ]
  },
  {
   "cell_type": "markdown",
   "metadata": {},
   "source": [
    "On peut lire ici `lambda x:2*x`comme \"Une fonction qui prend en paramètre $x$ et qui renvoie $x²$.\""
   ]
  },
  {
   "cell_type": "markdown",
   "metadata": {},
   "source": [
    "##### Exemple 3 :\n",
    "Voici quelques exemples de syntaxes utilisables pour les fonctions lambda :\n",
    "\n",
    "* `lambda n : n//2 if n%2==0 else 3*n+1` : Une fonction qui renvoie le quotient de $n$ dans la division par $2$ s'il est pair, et qui renvoie $3n+1$ sinon.\n",
    "\n",
    "* `lambda x,y : x+y` : Une fonction qui renvoie la somme des valeurs $x$ et $y$, ou leur concaténation si x et y sont des chaînes de caractères.\n"
   ]
  },
  {
   "cell_type": "markdown",
   "metadata": {},
   "source": [
    "#### Exercice 5 : lambda\n",
    "On considère les variables ci-dessous"
   ]
  },
  {
   "cell_type": "code",
   "execution_count": 3,
   "metadata": {},
   "outputs": [],
   "source": [
    "textes=['numérique','science','informatique']\n",
    "nombres=[1,2,3,4]"
   ]
  },
  {
   "cell_type": "markdown",
   "metadata": {},
   "source": [
    "En utilisant une fonction lambda et `map`, `filter` ou `reduce`, répondre à chaque question en utilisant une seule ligne code( on appelle cela un *one-liner*)."
   ]
  },
  {
   "cell_type": "markdown",
   "metadata": {},
   "source": [
    "__1.__ Renvoyer la liste des carrés des éléments de `nombres` ( le résultat doit être `[1,4,9,16]`)"
   ]
  },
  {
   "cell_type": "code",
   "execution_count": 20,
   "metadata": {},
   "outputs": [
    {
     "data": {
      "text/plain": [
       "[1, 4, 9, 16]"
      ]
     },
     "execution_count": 20,
     "metadata": {},
     "output_type": "execute_result"
    }
   ],
   "source": [
    "#1. \n",
    " "
   ]
  },
  {
   "cell_type": "markdown",
   "metadata": {},
   "source": [
    "__2.__ Renvoyer les éléments impairs de `nombres` dans une liste ( le résultat doit être `[1,3]`)."
   ]
  },
  {
   "cell_type": "code",
   "execution_count": 21,
   "metadata": {},
   "outputs": [
    {
     "data": {
      "text/plain": [
       "[1, 3]"
      ]
     },
     "execution_count": 21,
     "metadata": {},
     "output_type": "execute_result"
    }
   ],
   "source": [
    "#2. \n",
    " "
   ]
  },
  {
   "cell_type": "markdown",
   "metadata": {},
   "source": [
    "__3.__ Renvoyer le produit des éléments de `nombres` ( le résultat doit être $24$)"
   ]
  },
  {
   "cell_type": "code",
   "execution_count": 25,
   "metadata": {},
   "outputs": [
    {
     "data": {
      "text/plain": [
       "24"
      ]
     },
     "execution_count": 25,
     "metadata": {},
     "output_type": "execute_result"
    }
   ],
   "source": [
    "#3.\n",
    "\n"
   ]
  },
  {
   "cell_type": "markdown",
   "metadata": {},
   "source": [
    "__4.__ Convertir les éléments de `textes` en majuscules (on pourra utiliser `.upper()`) et les renvoyer dans une liste (le résultat doit être : `['NUMÉRIQUE', 'SCIENCE', 'INFORMATIQUE']`)"
   ]
  },
  {
   "cell_type": "code",
   "execution_count": 22,
   "metadata": {},
   "outputs": [
    {
     "data": {
      "text/plain": [
       "['NUMÉRIQUE', 'SCIENCE', 'INFORMATIQUE']"
      ]
     },
     "execution_count": 22,
     "metadata": {},
     "output_type": "execute_result"
    }
   ],
   "source": [
    "#4.\n",
    " "
   ]
  },
  {
   "cell_type": "markdown",
   "metadata": {},
   "source": [
    "__5.__ Ne garder que le premier caractère de chaque élément de `textes`, le convertir , et  renvoyer le tout dans une liste. (le résultat doit être : `['N','S','I']` )"
   ]
  },
  {
   "cell_type": "code",
   "execution_count": 23,
   "metadata": {},
   "outputs": [
    {
     "data": {
      "text/plain": [
       "['N', 'S', 'I']"
      ]
     },
     "execution_count": 23,
     "metadata": {},
     "output_type": "execute_result"
    }
   ],
   "source": [
    "#5.\n",
    " "
   ]
  },
  {
   "cell_type": "markdown",
   "metadata": {},
   "source": [
    "__6.__ Ne garder que le premier caractère de chaque élément de `textes`, le convertir en majuscule, et concaténer le tout pour obtenir `'N.S.I'`."
   ]
  },
  {
   "cell_type": "code",
   "execution_count": 24,
   "metadata": {},
   "outputs": [
    {
     "data": {
      "text/plain": [
       "'N.S.I'"
      ]
     },
     "execution_count": 24,
     "metadata": {},
     "output_type": "execute_result"
    }
   ],
   "source": [
    "#6.\n",
    "\n"
   ]
  },
  {
   "cell_type": "markdown",
   "metadata": {},
   "source": [
    "## 4. Fonction renvoyée comme résultat\n",
    "\n",
    "* Comme déjà dit auparavant, une fonction est une donnée comme une autre, elle peut donc être aussi renvoyée comme sortie d'une autre fonction !\n",
    "\n",
    "#### Exercice 6 :\n",
    "On considère la fonction ci-dessous :"
   ]
  },
  {
   "cell_type": "code",
   "execution_count": 1,
   "metadata": {},
   "outputs": [],
   "source": [
    "def f(n):\n",
    "    def g(m):\n",
    "        return m**n\n",
    "    return g"
   ]
  },
  {
   "cell_type": "markdown",
   "metadata": {},
   "source": [
    "__1.__ En effectuant quelques tests, trouver comment utiliser la fonction ci-dessous :"
   ]
  },
  {
   "cell_type": "code",
   "execution_count": 4,
   "metadata": {},
   "outputs": [
    {
     "data": {
      "text/plain": [
       "9"
      ]
     },
     "execution_count": 4,
     "metadata": {},
     "output_type": "execute_result"
    }
   ],
   "source": [
    "#tests\n",
    "\n",
    "\n",
    "\n"
   ]
  },
  {
   "cell_type": "markdown",
   "metadata": {},
   "source": [
    "__2.__ Simplfier le code de `f` en remplaçant le code de la fonction `g` par une fonction `lambda`:"
   ]
  },
  {
   "cell_type": "code",
   "execution_count": 3,
   "metadata": {},
   "outputs": [],
   "source": [
    "\n"
   ]
  },
  {
   "cell_type": "code",
   "execution_count": 4,
   "metadata": {},
   "outputs": [
    {
     "data": {
      "text/plain": [
       "9"
      ]
     },
     "execution_count": 4,
     "metadata": {},
     "output_type": "execute_result"
    }
   ],
   "source": [
    "#tests\n"
   ]
  },
  {
   "cell_type": "markdown",
   "metadata": {},
   "source": [
    "## 5. Structures immuables\n",
    "* Un autre aspect de la programmation fonctionnelle est l'utilisation de structures de données *immuables*. Il s'agit d'une structures de données comme un tableau, une chaîne de caractères, un dictionnaire, que l'on ne modifie plus après sa création. On l'utilise bien sûr pour la consulter ou pour créer de nouvelles strucutres.\n",
    "* Avec Python, on est plutôt habitué pour l'instant à une programmation ou les structures de données sont *mutables*, c'est à dire que leur contenu est modifié par des opérations( affecter de nouvelles cases au tableau, ajouter de nouvelles clés dans un dictionnaire,...)\n",
    "* Le paradigme fonctionnel incite le programmeur non pas à modifier une structure existante, mais plutôt à créer une nouvelle structure à partir de celle existante, ainsi on évite les effets de bords.\n",
    "\n",
    "##### Exemple 4 :\n",
    "Python est langage qui permet de programmer dans différents paradigmes. Par exemple, les tableaux permettent des opérations *impératives* mais aussi *fonctionnelles*."
   ]
  },
  {
   "cell_type": "code",
   "execution_count": 7,
   "metadata": {},
   "outputs": [
    {
     "data": {
      "text/plain": [
       "[1, 1, 2, 3]"
      ]
     },
     "execution_count": 7,
     "metadata": {},
     "output_type": "execute_result"
    }
   ],
   "source": [
    "#1. C'est le même tableau qui change d'état au fur et à mesure\n",
    "tab_depart=[1,1]\n",
    "tab_depart.append(2)\n",
    "tab_depart.append(3)\n",
    "tab_depart"
   ]
  },
  {
   "cell_type": "code",
   "execution_count": 1,
   "metadata": {},
   "outputs": [
    {
     "data": {
      "text/plain": [
       "[1, 1, 2, 3]"
      ]
     },
     "execution_count": 1,
     "metadata": {},
     "output_type": "execute_result"
    }
   ],
   "source": [
    "#2.On ne modifie pas les variables de départ. On en crée d'autres à partir de celles-ci.\n",
    "tab_depart=[1,1]\n",
    "tab = tab_depart+[2,3]\n",
    "tab"
   ]
  },
  {
   "cell_type": "markdown",
   "metadata": {},
   "source": [
    "#### Exemple 5 : Le cas des listes python"
   ]
  },
  {
   "cell_type": "code",
   "execution_count": 3,
   "metadata": {},
   "outputs": [
    {
     "name": "stdout",
     "output_type": "stream",
     "text": [
      "[1, 2, 3, 4, 5]\n",
      "[1, 2, 3, 4, 5]\n"
     ]
    }
   ],
   "source": [
    "L1=[1,2,3,4]\n",
    "L2=L1\n",
    "\n",
    "L1.append(5)\n",
    "print(L1)\n",
    "print(L2)"
   ]
  },
  {
   "cell_type": "markdown",
   "metadata": {},
   "source": [
    "Contrairement à e que l'on pourrait attendre, la copie L2 de la liste L1 aussi a été modifiée… \n",
    "Une liste en Python ne contient en réalité que l'adresse mémoire où sont stockés ses éléments ; c'est ce que l'on appelle un pointeur.\n",
    "Ici, le fait d'écrire `L2=L1` ne fait qu'ajouter un *alias* de la même liste mais c'est bien la même adresse mémoire qui est référencée.\n",
    "\n",
    "Cette manière de procéder permet un gain de temps (copie rapide) et de mémoire (une seule plage mémoire pour deux variables). Mais elle pose un problème technique : si le contenu de la plage mémoire de la valeur de L1 est modifié cela entraine automatiquement la modification de la valeur de L2 ! Pour le programmeur Python non averti, cet effet de bord, peut provoquer une erreur de programmation difficile à élucider.\n",
    "\n",
    "Si l'on veut réellement copier une liste, on peut utiliser utiliser la méthode `deepcopy()` du module standard `copy` qui effectue une « copie profonde »:"
   ]
  },
  {
   "cell_type": "code",
   "execution_count": 2,
   "metadata": {},
   "outputs": [
    {
     "name": "stdout",
     "output_type": "stream",
     "text": [
      "[1, 2, 3, 4, 5]\n",
      "[1, 2, 3, 4]\n"
     ]
    }
   ],
   "source": [
    "from copy import deepcopy\n",
    "\n",
    "L1=[1,2,3,4]\n",
    "L2=deepcopy(L1)\n",
    "\n",
    "L1.append(5)\n",
    "print(L1)\n",
    "print(L2)"
   ]
  },
  {
   "cell_type": "markdown",
   "metadata": {},
   "source": [
    "#### Exercice 7 :  immuables/mutables\n",
    "En python, un type de données est soit *mutable*(on peut le mettre  jour), soit *immuable*(la valeur d'une variable de ce type ne peut changer que par l'affectation d'une nouvelle valeur à cette variable). \n",
    "\n",
    "Considérons le type de données entier (\"int\"), et déterminons s'il est immuable ou mutable:"
   ]
  },
  {
   "cell_type": "markdown",
   "metadata": {},
   "source": [
    "* La fonction `id(x)` de python indique l'adresse mémoire( pour simplifier) à laquelle est stockée la valeur de la variable `x`."
   ]
  },
  {
   "cell_type": "code",
   "execution_count": 18,
   "metadata": {},
   "outputs": [
    {
     "name": "stdout",
     "output_type": "stream",
     "text": [
      "5 140711551637280\n",
      "5 140711551637280\n"
     ]
    }
   ],
   "source": [
    "#int\n",
    "a=5\n",
    "b=a\n",
    "print(a,id(a))\n",
    "print(b,id(b))"
   ]
  },
  {
   "cell_type": "markdown",
   "metadata": {},
   "source": [
    "Les lignes ci-dessus indiquent le même identifiant pour `a`et `b`, ces variables pointent vers la même adresse (celle à laquelle est stockée le nombre $5$).\n",
    "\n",
    "* Modifions la valeur de `a` :"
   ]
  },
  {
   "cell_type": "code",
   "execution_count": 19,
   "metadata": {},
   "outputs": [
    {
     "name": "stdout",
     "output_type": "stream",
     "text": [
      "6 140711551637312\n",
      "5 140711551637280\n"
     ]
    }
   ],
   "source": [
    "a=a+1\n",
    "print(a, id(a))\n",
    "print(b,id(b))"
   ]
  },
  {
   "cell_type": "markdown",
   "metadata": {},
   "source": [
    "Cette fois l'identifiant de `a` a changé, mais pas celui de `b` qui pointe toujours vers le nombre $5$.\n",
    "\n",
    "La modification de la valeur de `a`, n'a aucun effet sur la valeur de `b`.\n",
    "\n",
    "Ceci est vrai quelque soit l'entier. Le type entier est *immuable*.\n",
    "\n",
    "__En utilisant un raisonnement analogue, compléter le tableau ci-dessous en indiquant pour chaque type de données s'il est *immuable* ou *mutable*.__\n",
    "\n",
    "| Type | Immuable | Mutable |\n",
    "|:----:|:--------:|:-------:|\n",
    "| int  |     X    |         |\n",
    "|float |          |         |\n",
    "| bool |          |         |\n",
    "|string|          |         |\n",
    "|tuple |          |         |\n",
    "|list  |          |         |\n",
    "| dict |          |         |"
   ]
  },
  {
   "cell_type": "code",
   "execution_count": 2,
   "metadata": {},
   "outputs": [],
   "source": [
    "#float\n",
    "\n",
    "\n",
    "\n",
    "\n",
    "\n",
    "\n",
    "\n",
    "#"
   ]
  },
  {
   "cell_type": "code",
   "execution_count": 3,
   "metadata": {},
   "outputs": [],
   "source": [
    "#bool\n",
    "\n",
    "\n",
    "\n",
    "\n",
    "\n",
    "\n",
    "\n",
    "#"
   ]
  },
  {
   "cell_type": "code",
   "execution_count": 4,
   "metadata": {},
   "outputs": [],
   "source": [
    "#string\n",
    "\n",
    "\n",
    "\n",
    "\n",
    "\n",
    "\n",
    "\n",
    "#"
   ]
  },
  {
   "cell_type": "code",
   "execution_count": 5,
   "metadata": {},
   "outputs": [],
   "source": [
    "#tuple\n",
    "\n",
    "\n",
    "\n",
    "\n",
    "\n",
    "\n",
    "\n",
    "#"
   ]
  },
  {
   "cell_type": "code",
   "execution_count": 6,
   "metadata": {},
   "outputs": [],
   "source": [
    "#list\n",
    "\n",
    "\n",
    "\n",
    "\n",
    "\n",
    "\n",
    "\n",
    "\n",
    "#"
   ]
  },
  {
   "cell_type": "code",
   "execution_count": 7,
   "metadata": {},
   "outputs": [],
   "source": [
    "#dict\n",
    "\n",
    "\n",
    "\n",
    "\n",
    "\n",
    "\n",
    "\n",
    "\n",
    "#"
   ]
  },
  {
   "cell_type": "markdown",
   "metadata": {},
   "source": [
    "## 6. Conclusion\n",
    "* Au delà de la connaissance de plusieurs langages de programmation qui sont par ailleurs en constante évolution, il est important de pouvoir penser dans plusieurs paradigmes de programmation (impératif, objet ou encore fonctionnel). En effet, il sera plus facile d'utiliser le paradigme objet dans certains cas alors que dans d'autres situations, l'utilisation du paradigme fonctionnel sera préférable. \n",
    "* Être capable de Choisir le \"bon\" paradigme en fonction des situations fait partie du bagage de tout bon programmeur."
   ]
  }
 ],
 "metadata": {
  "kernelspec": {
   "display_name": "Python 3",
   "language": "python",
   "name": "python3"
  },
  "language_info": {
   "codemirror_mode": {
    "name": "ipython",
    "version": 3
   },
   "file_extension": ".py",
   "mimetype": "text/x-python",
   "name": "python",
   "nbconvert_exporter": "python",
   "pygments_lexer": "ipython3",
   "version": "3.8.5"
  }
 },
 "nbformat": 4,
 "nbformat_minor": 4
}
