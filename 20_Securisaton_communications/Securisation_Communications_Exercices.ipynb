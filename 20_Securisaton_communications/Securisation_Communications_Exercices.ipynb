{
 "cells": [
  {
   "cell_type": "markdown",
   "metadata": {},
   "source": [
    "# <center> Sécurisation des communications sur Internet </center>\n",
    "## <center> Exercices </center>"
   ]
  },
  {
   "cell_type": "markdown",
   "metadata": {},
   "source": [
    "### Exercice 1 : Le code césar\n",
    "\n",
    "* Le chiffrement par décalage (appelé aussi codage de César, en référence à Jules César qui utilisait cette technique pour ses correspondances militaires) consiste à choisir un entier 𝑛 et à décaler chaque lettre du message initial de 𝑛 lettres dans l'alphabet (en recommançant à \"A\" si le décalage fait dépasser \"Z\"). C'est l'entier 𝑛 qui constitue la clé de chiffrement. La méthode de déchiffrment revient à décaler les lettres du message chiffré de 𝑛 positions dans l'autre sens.\n",
    "\n",
    "__1.__ Compléter la fonction `cesar(message,n)` qui prend en paramètres une chaîne de caractère et un entier $n$. Cette fonction renvoie la chaîne de caractères chiffrée avec un décalage de $n$ lettres \"vers la droite\"."
   ]
  },
  {
   "cell_type": "code",
   "execution_count": 8,
   "metadata": {},
   "outputs": [],
   "source": [
    "def cesar_1(message, n):\n",
    "    alphabet='abcdefghijklmnopqrstuvwxyz'\n",
    "    speciaux=[' ']\n",
    "    res=''\n",
    "    \n",
    "    \n",
    "    \n",
    "    \n",
    "    \n",
    "    \n",
    "    \n",
    "    return res\n",
    "\n",
    "message='ils sont fous ces romains'\n",
    "assert(cesar_1(message,3)=='lov vrqw irxv fhv urpdlqv')"
   ]
  },
  {
   "cell_type": "markdown",
   "metadata": {},
   "source": [
    "__2.__ En utilisant judicieusement la fonction précédente, décoder ce message : `'zsg uoizcwg bs gcbh dog awsil'`"
   ]
  },
  {
   "cell_type": "code",
   "execution_count": 1,
   "metadata": {},
   "outputs": [],
   "source": [
    "#Réponse :\n",
    "\n",
    "\n",
    "\n",
    "\n",
    "\n",
    "\n"
   ]
  },
  {
   "cell_type": "markdown",
   "metadata": {},
   "source": [
    "### Exercice 2 : Le code césar v2\n",
    "Dans l'exercice précédent, il n'y a que 25 clés disponibles. Améliorons un peu le chiffrement, tout en simplifiant le code précédent, à l'aide de la norme Unicode. Pour cela, chaque caractère( y compris les caractères spéciaux et accentués) du message à chiffrer sera décalé de $n$ rangs vers la droite, ou $n$ est un entier compris entre $1$ et potentiellement $+ \\infty$...\n",
    "\n",
    "Voici des extraits de la documentation python concernant les fonctions `ord()` et `chr()` :\n",
    "* La fonction `ord()`renvoie le nombre entier représentant le code Unicode du caractère représenté par la chaîne donnée. Par exemple, `ord('a')` renvoie le nombre entier $97$ et `ord('€')` (symbole euro) renvoie $8364$. Il s'agit de l'inverse de `chr()`.\n",
    "* La fonction `chr(i)` renvoie la chaîne représentant un caractère dont le code de caractère Unicode est le nombre entier `i`. Par exemple, `chr(97)` renvoie la chaîne de caractères `'a'`, tandis que `chr(8364)` renvoie `'€'`. Il s'agit de l'inverse de `ord()`."
   ]
  },
  {
   "cell_type": "markdown",
   "metadata": {},
   "source": [
    " __1.__ On souhaite chiffrer chaque caractère du message avec la clé $8400$. En utilisant les fonctions `ord()` et `car()`, écrire l'instruction qui permet de chiffrer `'e'`."
   ]
  },
  {
   "cell_type": "code",
   "execution_count": null,
   "metadata": {},
   "outputs": [],
   "source": [
    "\n",
    "\n"
   ]
  },
  {
   "cell_type": "markdown",
   "metadata": {},
   "source": [
    "__2.__ Compléter la fonction `cesar_2(message,n)`qui prend en paramètres une chaîne de caractère et un entier $n$. Cette fonction renvoie la chaîne de caractères chiffrée avec un décalage de $n$ \"vers la droite\"."
   ]
  },
  {
   "cell_type": "code",
   "execution_count": 70,
   "metadata": {},
   "outputs": [],
   "source": [
    "def cesar_2(message,n):\n",
    "    m=''\n",
    "    \n",
    "    \n",
    "    \n",
    "\n",
    "\n",
    "    return m"
   ]
  },
  {
   "cell_type": "code",
   "execution_count": 71,
   "metadata": {},
   "outputs": [],
   "source": [
    "message=\"c'est formidable l'informatique\"\n",
    "assert(cesar_2(message,214)=='ĹýĻŉŊöļŅňŃĿĺķĸłĻöłýĿńļŅňŃķŊĿŇŋĻ')"
   ]
  },
  {
   "cell_type": "markdown",
   "metadata": {},
   "source": [
    "__3.__ Décoder le message suivant : `'ØúµĆĊúµĉĊµþüăĄćúĈµċöĊĉµąöćûĄþĈµĂþúĊčµĆĊúµøúµĆĊúµĉĊµĈöþĈÃ'`.\n",
    "*Indice : On sait que la clé est inférieure à 165*"
   ]
  },
  {
   "cell_type": "code",
   "execution_count": null,
   "metadata": {},
   "outputs": [],
   "source": [
    "\n",
    "\n",
    "\n",
    "\n",
    "\n",
    "\n",
    "\n",
    "\n",
    "\n",
    "\n",
    "\n"
   ]
  },
  {
   "cell_type": "markdown",
   "metadata": {},
   "source": [
    "### Exercice 3 : XOR\n",
    "Le but de cet exercice est de chiffrer un message à l'aide de l'opérateur XOR (voir cours). L'un des intérêts de cet opérateur est qu'il est réversible.\n",
    "En python, cette opération est possible avec le symbole `^` qui applique cet opérateur bit à bit.\n",
    "\n",
    "*Exemple : `78^84` renvoie `26` (ce qui correspond en binaire à  01010100  ⊕  01001110 = 00011010)*\n",
    "\n",
    "__1.__ Vérifier que cet opérateur est réversible."
   ]
  },
  {
   "cell_type": "code",
   "execution_count": null,
   "metadata": {},
   "outputs": [],
   "source": []
  },
  {
   "cell_type": "markdown",
   "metadata": {},
   "source": [
    "__2.__ Une chaîne de caractères Unicode est une séquence de points de code, qui sont des nombres de 0 à 0x10FFFF (1 114 111 en décimal). Cette séquence de points de code doit être stockée en mémoire sous la forme d'un ensemble de unités de code, et les unités de code sont ensuite transposées en octets de 8 bits. Les règles de traduction d'une chaîne Unicode en une séquence d'octets sont appelées un encodage de caractères ou simplement un encodage.\n",
    "Python permet de travailler avec ces séquences d'octets grâce aux méthodes `encode()`,`decode()` et `bytes()`\n",
    "\n",
    "*Exemple 1 :*"
   ]
  },
  {
   "cell_type": "code",
   "execution_count": 19,
   "metadata": {},
   "outputs": [
    {
     "name": "stdout",
     "output_type": "stream",
     "text": [
      "b'\\xc3\\xa0' <class 'bytes'>\n"
     ]
    }
   ],
   "source": [
    "octets='à'.encode()\n",
    "print(octets, type(octets))"
   ]
  },
  {
   "cell_type": "markdown",
   "metadata": {},
   "source": [
    "La méthode `.encode()` renvoie une version encodée(par défaut en utf-8) de la chaîne sous la forme d'un objet \"bytes\" (une \"liste\" d'octets, byte signifie octet en anglais). L'affichage de sortie est précédé d'un `b` (comme byte). On remarque ici que le caractère \"à\" est codé sur 2 octets : c3 et a0, ce qui en base 10 correspond aux entiers 195 et 160 :"
   ]
  },
  {
   "cell_type": "code",
   "execution_count": 20,
   "metadata": {},
   "outputs": [
    {
     "name": "stdout",
     "output_type": "stream",
     "text": [
      "195 160\n"
     ]
    }
   ],
   "source": [
    "print(octets[0], octets[1])"
   ]
  },
  {
   "cell_type": "markdown",
   "metadata": {},
   "source": [
    "*Exemple 2:*"
   ]
  },
  {
   "cell_type": "code",
   "execution_count": 23,
   "metadata": {},
   "outputs": [
    {
     "data": {
      "text/plain": [
       "b'\\xc3\\xa0'"
      ]
     },
     "execution_count": 23,
     "metadata": {},
     "output_type": "execute_result"
    }
   ],
   "source": [
    "octets=bytes([195,160])"
   ]
  },
  {
   "cell_type": "markdown",
   "metadata": {},
   "source": [
    "Réciproquement, la fonction `bytes` convertit une liste d'entiers en octets. Il ne reste plus alors, qu'à utiliser la méthode `decode()` pour convertir ces octets en caractère(s) :"
   ]
  },
  {
   "cell_type": "code",
   "execution_count": 24,
   "metadata": {},
   "outputs": [
    {
     "data": {
      "text/plain": [
       "'à'"
      ]
     },
     "execution_count": 24,
     "metadata": {},
     "output_type": "execute_result"
    }
   ],
   "source": [
    "octets.decode()"
   ]
  },
  {
   "cell_type": "markdown",
   "metadata": {},
   "source": [
    "__Compléter la foncton `xor(message,cle)` qui prend en paramètres deux listes d'octets, l'une représentant le message à chiffrer et l'autre la clé utilisée.Cette fonction renvoie le message chiffré sous forme d'octets.__\n",
    "\n",
    "\n",
    "*Aide :*\n",
    " * Pour chaque octet du message, on applique l'opérateur `^` à l'octet de la clé que l'on aura étendue.\n",
    " * On obtient une liste d'entiers que l'on renvoie sous forme d'octets."
   ]
  },
  {
   "cell_type": "code",
   "execution_count": 3,
   "metadata": {},
   "outputs": [],
   "source": [
    "def xor(message,cle):\n",
    "    res=[]\n",
    "    #parcourir le message et appliquer l'opérateur xor\n",
    "    \n",
    "    \n",
    "    \n",
    "    \n",
    "    \n",
    "    \n",
    "    \n",
    "    \n",
    "    #renvoyer les octets obtenus\n",
    "    return bytes(res)"
   ]
  },
  {
   "cell_type": "code",
   "execution_count": 4,
   "metadata": {},
   "outputs": [
    {
     "data": {
      "text/plain": [
       "b''"
      ]
     },
     "execution_count": 4,
     "metadata": {},
     "output_type": "execute_result"
    }
   ],
   "source": [
    "#tests\n",
    "M=\"L'INFORMATIQUE C'EST SUPER\"\n",
    "C=\"NSI\"\n",
    "secret= xor(M.encode(),C.encode())\n",
    "assert (secret==b'\\x02t\\x00\\x00\\x15\\x06\\x1c\\x1e\\x08\\x1a\\x1a\\x18\\x1b\\x16i\\rt\\x0c\\x1d\\x07i\\x1d\\x06\\x19\\x0b\\x01')"
   ]
  },
  {
   "cell_type": "markdown",
   "metadata": {},
   "source": [
    "__3.__ Quelle instruction, utilisant la fonction `xor` de la question précédente, permet de retrouver le message de départ ?"
   ]
  },
  {
   "cell_type": "code",
   "execution_count": null,
   "metadata": {},
   "outputs": [],
   "source": []
  },
  {
   "cell_type": "markdown",
   "metadata": {},
   "source": [
    "### Exercice 4 : Casser le chiffrement\n",
    "\n",
    "En disposant de quelques informations pertinentes et à condition que la clé ne soit pas trop grande, il est possible de casser ce chiffrement en utilisant la force brute , c'est à dire tester toutes les possibilités.\n",
    "\n",
    "Le message chiffré est `'\\x0e6/+y;.< x-(7,,\\x9b\\xf0z48z:646<z*\\x9a\\xf3(64+<{'`. On sait aussi que :\n",
    "* La clé utilisée contient 3 lettres majuscules de l'alphabet français.\n",
    "* Le message décodé contient les octets  `nse!`.\n",
    "\n",
    "A l'aide de la fonction de l'exercice précédent, décrypter ce message et retrouver la clé utilisée :"
   ]
  },
  {
   "cell_type": "code",
   "execution_count": 1,
   "metadata": {},
   "outputs": [],
   "source": [
    "secret=b'\\x0e6/+y;.< x-(7,,\\x9b\\xf0z48z:646<z*\\x9a\\xf3(64+<{'\n",
    "a='ABCDEFGHIJKLMNOPQRSTUVWXYZ'\n",
    "\n",
    "\n",
    "\n",
    "\n",
    "\n",
    "\n",
    "\n",
    "\n",
    "\n",
    "\n",
    "\n",
    "\n",
    "\n",
    "#"
   ]
  },
  {
   "cell_type": "markdown",
   "metadata": {},
   "source": [
    "### Exercice 5 : Casser le chiffrement 😉👊👌\n",
    "Même exercice que le précédent. \n",
    "Le message secret est\n",
    "\n",
    "`\\x00!A.\\x14m=-A)\\x00$ h\\x11;\\x12m<\\x8b\\xd8z\\x158s>\\x00)Mm!-\\x155\\x14?=-A>F\"\\x90\\xf1A.\\x14m%!\\x044\\x12c`.\n",
    "\n",
    "On sait cette fois que le message en clair contient les octets `retourne` et que la clé est un mot de 5 lettres (des minuscules et des majuscules)."
   ]
  },
  {
   "cell_type": "code",
   "execution_count": 6,
   "metadata": {},
   "outputs": [],
   "source": [
    "secret=b'\\x00!A.\\x14m=-A)\\x00$ h\\x11;\\x12m<\\x8b\\xd8z\\x158s>\\x00)Mm!-\\x155\\x14?=-A>F\"\\x90\\xf1A.\\x14m%!\\x044\\x12c'\n",
    "Aa='ABCDEFGHIJKLMNOPQRSTUVWXYZabcdefghijklmnopqrstuvwxyz'\n",
    "\n",
    "\n",
    "\n",
    "\n",
    "\n",
    "\n",
    "\n",
    "\n",
    "\n",
    "\n",
    "\n",
    "\n",
    "\n",
    "\n",
    "\n",
    "\n",
    "\n",
    "\n",
    "#"
   ]
  },
  {
   "cell_type": "markdown",
   "metadata": {},
   "source": [
    "### Exercice 6: Diffie-Hellman\n",
    "1. Compléter la fonction `cle(p,g,a)` qui prend en paramètres un nombre premier `p`, un nombre entier `g` inférieur à `p` et une clé privée entière `a`. Cette fonction renvoie la valeur d'une clé publique à l'aide du calcul utilisé dans le protocole de Diffie Hellman."
   ]
  },
  {
   "cell_type": "code",
   "execution_count": 7,
   "metadata": {},
   "outputs": [],
   "source": [
    "def cle(p,g,a):\n",
    "    return"
   ]
  },
  {
   "cell_type": "markdown",
   "metadata": {},
   "source": [
    "2. On suppose que le nombre premier p est égal à 23 et que g est égal à 5. Alice choisit 6 comme clé privée et Bob choisit 15.\n",
    "Calculer les clés publiques d'Alice et Bob et Vérifier que la clé secrète partagée est égale à 2."
   ]
  },
  {
   "cell_type": "code",
   "execution_count": 2,
   "metadata": {},
   "outputs": [],
   "source": [
    "P=23\n",
    "G=5\n",
    "\n",
    "Apriv=6\n",
    "Bpriv=15\n",
    "\n"
   ]
  },
  {
   "cell_type": "markdown",
   "metadata": {},
   "source": [
    "### Exercice 7 : Diffie-Hellman\n",
    "Alice et Bob choisissent le protocole de Diffie-Hellman pour s'envoyer une clé secrète qui leur servira ensuite à échanger des informations. Ils utilisent pour cela le nombre premier $P=941$ et le nombre $G=627$. Alice a choisi $a=347$ comme clé privée et Bob a choisi $b=781$.\n",
    "En vous aidant de la fonction précédente, déterminer la clé secrète qui sera partagée par Alice et Bob."
   ]
  },
  {
   "cell_type": "code",
   "execution_count": null,
   "metadata": {},
   "outputs": [],
   "source": [
    "\n",
    "\n",
    "\n",
    "\n",
    "\n"
   ]
  }
 ],
 "metadata": {
  "kernelspec": {
   "display_name": "Python 3",
   "language": "python",
   "name": "python3"
  },
  "language_info": {
   "codemirror_mode": {
    "name": "ipython",
    "version": 3
   },
   "file_extension": ".py",
   "mimetype": "text/x-python",
   "name": "python",
   "nbconvert_exporter": "python",
   "pygments_lexer": "ipython3",
   "version": "3.8.5"
  }
 },
 "nbformat": 4,
 "nbformat_minor": 4
}
