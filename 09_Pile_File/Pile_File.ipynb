{
 "cells": [
  {
   "cell_type": "markdown",
   "metadata": {},
   "source": [
    "# <center> PILES ET FILES </center>"
   ]
  },
  {
   "cell_type": "markdown",
   "metadata": {},
   "source": [
    "## 1. Introduction\n",
    "* Nous allons aborder deux structures de données abstraites linéaires :  Les piles et les files .\n",
    "* Ces structures permettent de stocker des éléments et fournissent des opérations permettant d'ajouter ou de retirer des éléments un à un.\n",
    "* Chacune de ces structures a ses règles adaptées à de nombreuses situations en informatique."
   ]
  },
  {
   "cell_type": "markdown",
   "metadata": {},
   "source": [
    "<img src='pile.jpeg' style='float:right;' width=200>\n",
    "\n",
    "\n",
    "## 2. Pile (LIFO)\n",
    "\n",
    "* Dans une pile (\"stack\" en anglais), chaque opération de retrait retire l'élément arrivé le plus récemment. \n",
    "* On associe cette structure à l'image d'une pile d'assiettes, dans laquelle chaque nouvelle assiette est ajoutée au-dessus des précédentes et où l'assiette retirée est systématiquement celle du sommet.\n",
    "* Ce principe est nommé \"dernier entré, premier sorti\", plus couramment LIFO en anglais (Last In First Out).\n",
    "* Exemples d'utilisation :\n",
    "  * Bouton de retour en arrière (undo) qui permet d'annuler la(les) dernière(s) modification(s) effectuée(s).\n",
    "  * Historique d'un navigateur web.\n",
    "  * Pile des appels d'une fonction récursive.\n",
    "  * Un processeur utilise une pile pour gérer les instructions à éxécuter.\n",
    "  * Un algorithme de parcours en profondeur utilise une pile pour mémoriser les nœuds non encore visités.\n"
   ]
  },
  {
   "cell_type": "markdown",
   "metadata": {},
   "source": [
    "### Interface d'une pile\n",
    "\n",
    "Voici les principales fonctions souhaitées pour cette interface :\n",
    "\n",
    "1. Créer une pile, afficher son contenu.\n",
    "2. Déterminer si une pile est vide.\n",
    "3. Empiler (push en anglais) un élément, c'est à dire le placer au sommet de la pile.\n",
    "4. Dépiler(pop en anglais) l'élément placé au sommet de la pile.\n",
    "\n",
    "D'autres fonctionnalités qui facilitent la manipulation :\n",
    "\n",
    "5. Lire la valeur située au sommet de la pile (sans la dépiler).\n",
    "6. Connaître le nombre d'élément de la pile.\n",
    "7. Vider une pile.\n"
   ]
  },
  {
   "cell_type": "markdown",
   "metadata": {},
   "source": [
    "*Représentations :* \n",
    "\n",
    "* Dans la pile ci-dessous, on considère que 3 est arrivé en dernier et se trouve au sommet de la pile.\n",
    "\n",
    "```\n",
    "|3|\n",
    "|2|\n",
    "|1|\n",
    "|1|\n",
    "‾‾‾\n",
    "```\n",
    "\n",
    "\n",
    "Ainsi empiler 5 placera cette valeur au sommet de la pile et donnera la pile :\n",
    "\n",
    "```\n",
    "|5|\n",
    "|3|\n",
    "|2|\n",
    "|1|\n",
    "|1|\n",
    "‾‾‾\n",
    "```"
   ]
  },
  {
   "cell_type": "markdown",
   "metadata": {},
   "source": [
    "### Implémentation d'une pile\n",
    "\n",
    "* On utilise ici le paradigme de la programmation objet, mais ce n'est pas la seule façon de faire.\n",
    "* L'implémentation se fait aisément à l'aide du type `list` de python, en particulier avec les méthodes suivantes :\n",
    "\n",
    "  * La méthode `append()` qui ajoute un élément en fin de liste.\n",
    "  * La méthode `pop()` qui supprime le dernier élément d'une liste, en le renvoyant.\n",
    "  * la méthode `len()` qui renvoie la longueur d'une liste c'est à dire son nombre d'éléments.\n",
    "  \n",
    "* Quelques rappels :\n",
    "  * L'indice `-1` permet d'accéder au dernier élément d'une liste.\n",
    "  * `[]` est la liste vide.\n",
    "  \n",
    "* Le type `list` de Python est particulier. Nous verrons ultérieurement une autre façon de faire, qui utilise une structure de données adaptable à d'autres langages de programmation."
   ]
  },
  {
   "cell_type": "markdown",
   "metadata": {},
   "source": [
    "##### Exercice 1 :\n",
    "Implémenter toutes les fonctionnalités de l'interface (numérotées plus haut) en complétant le code de la classe `Pile`."
   ]
  },
  {
   "cell_type": "code",
   "execution_count": 9,
   "metadata": {},
   "outputs": [],
   "source": [
    "class Pile:\n",
    "    #1.\n",
    "    def __init__(self):\n",
    "        self.valeurs=[]\n",
    "        \n",
    "    def affiche(self):\n",
    "        '''Affiche le contenu de la pile'''\n",
    "        n=len(self.valeurs)\n",
    "        if n==0:\n",
    "            print('| |')\n",
    "        else:\n",
    "            for i in range(n):\n",
    "                print('|'+ str(self.valeurs[n-1-i]) + '|')\n",
    "        print('‾‾‾')\n",
    "            \n",
    "    \n",
    "    #2.\n",
    "    def est_vide(self):\n",
    "        '''renvoie True si la pile est vide,\n",
    "        False sinon'''\n",
    "        \n",
    "        \n",
    "        pass\n",
    "    \n",
    "    #3.\n",
    "    def empiler(self,a):\n",
    "        '''Place l'élément a au sommet de la pile'''\n",
    "        \n",
    "        \n",
    "        pass\n",
    "    \n",
    "    #4.\n",
    "    def depiler(self):\n",
    "        '''Supprime l'élément placé au sommet de la pile\n",
    "        A condition qu'elle soit non vide.\n",
    "        Renvoie l'élément supprimé.'''\n",
    "        \n",
    "        \n",
    "        \n",
    "        pass\n",
    "    \n",
    "    #5.\n",
    "    def sommet(self):\n",
    "        '''Renvoie la valeur du sommet de la pile\n",
    "        si elle est n'est pas vide\n",
    "        (sans la retirer)'''\n",
    "        \n",
    "        \n",
    "        \n",
    "        pass\n",
    "    \n",
    "    #6.\n",
    "    def longueur(self):\n",
    "        '''Renvoie le nombre d'élément dans la pile'''\n",
    "        \n",
    "        \n",
    "        pass\n",
    "    \n",
    "    #7.\n",
    "    def vider(self):\n",
    "        '''Vide la pile'''\n",
    "        \n",
    "        \n",
    "        pass\n",
    "        \n",
    "#Jeu de tests pour les piles ci-dessous        "
   ]
  },
  {
   "cell_type": "code",
   "execution_count": 10,
   "metadata": {},
   "outputs": [
    {
     "name": "stdout",
     "output_type": "stream",
     "text": [
      "| |\n",
      "‾‾‾\n"
     ]
    }
   ],
   "source": [
    "#1 init\n",
    "p=Pile()\n",
    "p.affiche() # la pile est vide par défaut"
   ]
  },
  {
   "cell_type": "code",
   "execution_count": 11,
   "metadata": {},
   "outputs": [
    {
     "data": {
      "text/plain": [
       "True"
      ]
     },
     "execution_count": 11,
     "metadata": {},
     "output_type": "execute_result"
    }
   ],
   "source": [
    "#2 est_vide\n",
    "p.est_vide() # renvoie True"
   ]
  },
  {
   "cell_type": "code",
   "execution_count": 12,
   "metadata": {},
   "outputs": [
    {
     "name": "stdout",
     "output_type": "stream",
     "text": [
      "|5|\n",
      "|3|\n",
      "|2|\n",
      "|1|\n",
      "|1|\n",
      "‾‾‾\n"
     ]
    },
    {
     "data": {
      "text/plain": [
       "False"
      ]
     },
     "execution_count": 12,
     "metadata": {},
     "output_type": "execute_result"
    }
   ],
   "source": [
    "#3 empiler\n",
    "p.empiler(1)\n",
    "p.empiler(1)\n",
    "p.empiler(2)\n",
    "p.empiler(3)\n",
    "p.empiler(5)\n",
    "p.affiche()  # 5 est au sommet de la pile\n",
    "p.est_vide() # renvoie False"
   ]
  },
  {
   "cell_type": "code",
   "execution_count": 13,
   "metadata": {},
   "outputs": [
    {
     "name": "stdout",
     "output_type": "stream",
     "text": [
      "|2|\n",
      "|1|\n",
      "|1|\n",
      "‾‾‾\n"
     ]
    }
   ],
   "source": [
    "#4 depiler\n",
    "p.depiler()\n",
    "p.depiler()\n",
    "p.affiche() #2 est au sommet de la pile"
   ]
  },
  {
   "cell_type": "code",
   "execution_count": 14,
   "metadata": {},
   "outputs": [
    {
     "data": {
      "text/plain": [
       "5"
      ]
     },
     "execution_count": 14,
     "metadata": {},
     "output_type": "execute_result"
    }
   ],
   "source": [
    "#5 sommet\n",
    "p.empiler(5)\n",
    "p.sommet() # le sommet est 5"
   ]
  },
  {
   "cell_type": "code",
   "execution_count": 15,
   "metadata": {},
   "outputs": [
    {
     "name": "stdout",
     "output_type": "stream",
     "text": [
      "|5|\n",
      "|2|\n",
      "|1|\n",
      "|1|\n",
      "‾‾‾\n"
     ]
    },
    {
     "data": {
      "text/plain": [
       "4"
      ]
     },
     "execution_count": 15,
     "metadata": {},
     "output_type": "execute_result"
    }
   ],
   "source": [
    "#6 longueur\n",
    "p.affiche()\n",
    "p.longueur()"
   ]
  },
  {
   "cell_type": "code",
   "execution_count": 16,
   "metadata": {},
   "outputs": [
    {
     "name": "stdout",
     "output_type": "stream",
     "text": [
      "| |\n",
      "‾‾‾\n",
      "True\n"
     ]
    }
   ],
   "source": [
    "#7 vider\n",
    "p.vider()\n",
    "p.affiche()\n",
    "print(p.est_vide()) # la pile est vide"
   ]
  },
  {
   "cell_type": "markdown",
   "metadata": {},
   "source": [
    "##### Exercice 2 :\n",
    "* En utilisant les méthodes de l'implémentation précédente, compléter le code de la fonction `inverse(chaine)` qui prend en paramètre une chaîne de caractères et qui renvoie la chaîne de caractère inversée.\n",
    "* Par exemple, `inverse('abcdef')` doit renvoyer `'fedcba'`."
   ]
  },
  {
   "cell_type": "code",
   "execution_count": 13,
   "metadata": {},
   "outputs": [],
   "source": [
    "def inverse(chaine):\n",
    "    #on crée une pile vide\n",
    "    p=...\n",
    "    \n",
    "    #On parcourt la chaîne et on empile les éléments dans p\n",
    "    for lettre in chaine:\n",
    "        ...\n",
    "\n",
    "    #On crée une chaîne de caractère vide\n",
    "    inv=...\n",
    "    \n",
    "    # Tant que p n'est pas vide, on dépile et on ajoute à la chaîne inversée.\n",
    "    while p.est_vide()==False:\n",
    "        inv=...\n",
    "\n",
    "    return ..."
   ]
  },
  {
   "cell_type": "code",
   "execution_count": 14,
   "metadata": {},
   "outputs": [],
   "source": [
    "#tests\n",
    "assert inverse('abcdef')=='fedcba'\n",
    "assert inverse('a')=='a'\n",
    "assert inverse('')==''"
   ]
  },
  {
   "cell_type": "markdown",
   "metadata": {},
   "source": [
    "\n",
    "\n",
    "## 3. File (FIFO)\n",
    "\n",
    "<img src='file.png' style='float:right;' width=300>\n",
    "\n",
    "\n",
    "* Dans une file (\"queue\" en anglais), chaque opération de retrait retire l'élément qui avait été ajouté en premier. On associe cette structure à l'image d'une file d'attente, dans laquelle les personnes arrivent à tour de rôle, patientent et sont servies dans leur ordre d'arrivée.\n",
    "* Ce principe est appelé \"premier entré, premier sorti\", plus couramment en anglais FIFO (First In First Out).\n",
    "* En programmation, les files sont utiles pour mettre en attente des informations dans l'ordre dans lequel elles sont arrivées.\n",
    "* Exemple d'utilisation :\n",
    "  * Les serveurs d'impression traitent les requêtes dans l'ordre dans lequel elles arrivent et les insèrent dans une file d'attente (dite aussi queue ou spool).\n",
    "  * Un algorithme de parcours en largeur utilise une file pour mémoriser les nœuds non encore visités.\n",
    "  * Gestion de mémoires tampons (en anglais « buffers »), par exemple lors de la lecture d'une vidéo.\n"
   ]
  },
  {
   "cell_type": "markdown",
   "metadata": {},
   "source": [
    "### Interface d'une file\n",
    "\n",
    "Voici les principales fonctions souhaitées pour cette interface :\n",
    "\n",
    "1. Créer une file, afficher son contenu.\n",
    "2. Déterminer si une file est vide.\n",
    "3. Enfiler (enqueue en anglais) un élément, c'est à dire le placer à la fin de la file.\n",
    "4. Défiler(dequeue en anglais) l'élément placé au début de la file.\n",
    "\n",
    "D'autres fonctionnalités qui facilitent la manipulation :\n",
    "\n",
    "5. Lire la valeur située à l'avant de la file (sans la défiler).\n",
    "6. Connaître le nombre d'élément de la file.\n",
    "7. Vider une file.\n"
   ]
  },
  {
   "cell_type": "markdown",
   "metadata": {},
   "source": [
    "*Représentation :* \n",
    "\n",
    "Dans la file ci-dessous, on considère que 1 est arrivé en premier et se trouve en tête de file.\n",
    "```\n",
    "→ 3 | 2 | 1 | 1 →\n",
    "```\n",
    "\n",
    "Ainsi, enfiler 5 le placera en queue de file et donnera la file \n",
    "```\n",
    "→ 5 | 3 | 2 | 1 | 1 →\n",
    "```\n"
   ]
  },
  {
   "cell_type": "markdown",
   "metadata": {},
   "source": [
    "### Implémentations d'une file"
   ]
  },
  {
   "cell_type": "markdown",
   "metadata": {},
   "source": [
    "#### Directement avec le type `list` de python &#128530;\n",
    "\n",
    "* On pourra ici utiliser la méthode :\n",
    "   * `insert(i, e)` pour insérer l'élément `e` à l'index `i`.\n",
    "   "
   ]
  },
  {
   "cell_type": "markdown",
   "metadata": {},
   "source": [
    "##### Exercice 3 :\n",
    " Implémenter les fonctionnalités de l'interface d'une file numérotées plus haut."
   ]
  },
  {
   "cell_type": "code",
   "execution_count": 15,
   "metadata": {},
   "outputs": [],
   "source": [
    "class File:\n",
    "    #1.\n",
    "    def __init__(self):\n",
    "        self.valeurs=[]\n",
    "        \n",
    "    def affiche(self):\n",
    "        '''Affiche le contenu de la file'''\n",
    "        n=len(self.valeurs)\n",
    "        print('→', end=' ')\n",
    "        if n !=0:\n",
    "            for i in range(n-1):\n",
    "                print(str(self.valeurs[i]), end=' | ')\n",
    "            print(str(self.valeurs[-1]), end=' ')\n",
    "        print('→')\n",
    "        \n",
    "        \n",
    "    #2.\n",
    "    def est_vide(self):\n",
    "        '''renvoie True si la file est vide,\n",
    "        False sinon'''\n",
    "        \n",
    "        \n",
    "        pass\n",
    "    \n",
    "    #3.\n",
    "    def enfiler(self,a):\n",
    "        '''Place l'élément a en queue de file'''\n",
    "        \n",
    "        \n",
    "        pass\n",
    "    \n",
    "    #4.\n",
    "    def defiler(self):\n",
    "        '''Supprime l'élément placé en tête de  file\n",
    "        A condition qu'elle soit non vide\n",
    "        Renvoie l'élément supprimé.'''\n",
    "        \n",
    "        \n",
    "        \n",
    "        pass\n",
    "    \n",
    "    #5.\n",
    "    def tete(self):\n",
    "        '''Renvoie la valeur en début de file\n",
    "        si elle n'est pas vide\n",
    "        (sans la defiler)'''\n",
    "        \n",
    "        \n",
    "        \n",
    "        pass\n",
    "    \n",
    "    #6.\n",
    "    def longueur(self):\n",
    "        '''Renvoie le nombre d'élément dans la file'''\n",
    "        \n",
    "        \n",
    "        pass\n",
    "    \n",
    "    #7.\n",
    "    def vider(self):\n",
    "        '''Vide la file'''\n",
    "        \n",
    "        \n",
    "        pass\n",
    "\n",
    "#Jeu de tests pour les files"
   ]
  },
  {
   "cell_type": "code",
   "execution_count": 16,
   "metadata": {},
   "outputs": [
    {
     "name": "stdout",
     "output_type": "stream",
     "text": [
      "→ →\n"
     ]
    }
   ],
   "source": [
    "#1 init\n",
    "f=File()\n",
    "f.affiche() #La file f est vide"
   ]
  },
  {
   "cell_type": "code",
   "execution_count": 17,
   "metadata": {},
   "outputs": [
    {
     "data": {
      "text/plain": [
       "True"
      ]
     },
     "execution_count": 17,
     "metadata": {},
     "output_type": "execute_result"
    }
   ],
   "source": [
    "#2 est_vide\n",
    "f.est_vide() # renvoie True"
   ]
  },
  {
   "cell_type": "code",
   "execution_count": 18,
   "metadata": {},
   "outputs": [
    {
     "name": "stdout",
     "output_type": "stream",
     "text": [
      "→ 5 | 3 | 2 | 1 | 1 →\n"
     ]
    }
   ],
   "source": [
    "#3 enfiler\n",
    "f.enfiler(1)\n",
    "f.enfiler(1)\n",
    "f.enfiler(2)\n",
    "f.enfiler(3) \n",
    "f.enfiler(5)\n",
    "\n",
    "f.affiche() # 1 est en tête de file"
   ]
  },
  {
   "cell_type": "code",
   "execution_count": 19,
   "metadata": {},
   "outputs": [
    {
     "name": "stdout",
     "output_type": "stream",
     "text": [
      "→ 5 | 3 →\n"
     ]
    }
   ],
   "source": [
    "#4 defiler\n",
    "f.defiler()\n",
    "f.defiler()\n",
    "f.defiler()\n",
    "f.affiche() #3 est en tête de file"
   ]
  },
  {
   "cell_type": "code",
   "execution_count": 20,
   "metadata": {},
   "outputs": [
    {
     "data": {
      "text/plain": [
       "3"
      ]
     },
     "execution_count": 20,
     "metadata": {},
     "output_type": "execute_result"
    }
   ],
   "source": [
    "#5 tete\n",
    "f.tete() #renvoie 3"
   ]
  },
  {
   "cell_type": "code",
   "execution_count": 21,
   "metadata": {},
   "outputs": [
    {
     "name": "stdout",
     "output_type": "stream",
     "text": [
      "→ 5 | 3 →\n"
     ]
    },
    {
     "data": {
      "text/plain": [
       "2"
      ]
     },
     "execution_count": 21,
     "metadata": {},
     "output_type": "execute_result"
    }
   ],
   "source": [
    "#6 longueur\n",
    "f.affiche()\n",
    "f.longueur() #renvoie 2"
   ]
  },
  {
   "cell_type": "code",
   "execution_count": 23,
   "metadata": {},
   "outputs": [
    {
     "name": "stdout",
     "output_type": "stream",
     "text": [
      "→ →\n"
     ]
    }
   ],
   "source": [
    "#7 vider\n",
    "f.vider()\n",
    "f.affiche() #la file est vide"
   ]
  },
  {
   "cell_type": "markdown",
   "metadata": {},
   "source": [
    "#### Remarque :\n",
    "* Cette solution peut convenir pour des files de taille raisonnable. Mais lorsque le nombre d'éléments est très grand, le coût en temps de l'insertion d'un élément à l'index 0 est important car il faut décaler tous les autres éléments vers la droite."
   ]
  },
  {
   "cell_type": "markdown",
   "metadata": {},
   "source": [
    "#### Avec deux piles  &#128522;\n",
    "\n",
    "* Une file est dans ce cas caractérisée par deux piles. La première contient les éléments que l'on veut enfiler, la seconde contient les éléments que l'on veut défiler.\n",
    "\n",
    "<img src='2piles.gif' style='float:right;' width=150>\n",
    "\n",
    "*Exemple :* \n",
    "\n",
    "On veut créer la file ```→ 3 | 2 | 1  → ``` , enfiler 4 puis défiler l'élément 1.\n",
    "\n",
    "La file deviendra alors `→ 4 | 3 | 2  →`.\n",
    "   \n",
    "   \n",
    "   * On crée 2 piles, une pile d'entrée et une pile de sortie.\n",
    "   * Pour enfiler un élément, il suffit d'empiler les éléments dans leur ordre d'arrivée dans la pile d'entrée.\n",
    "     * Ainsi , on empile les trois premiers éléments `1` , puis `2` puis `3` et ensuite le quatrième `4`\n",
    "   * Lorsque l'on veut défiler l'élément en tête de file(ici `1`, celui qui est arrivé en premier) :\n",
    "     * On dépile les éléments de la pile d'entrée pour les empiler dans la pile de sortie.\n",
    "     * Le dernier élément empilé dans la pile de sortie est bien `1`\n",
    "     * On le dépile de la pile de sortie."
   ]
  },
  {
   "cell_type": "markdown",
   "metadata": {},
   "source": [
    "##### Exercice 4 :\n",
    "A l'aide de la description précédente et des méthodes de la classe `Pile`, compléter le code de la classe `File`ci-dessous :"
   ]
  },
  {
   "cell_type": "code",
   "execution_count": 25,
   "metadata": {},
   "outputs": [],
   "source": [
    "class File:\n",
    "    #1\n",
    "    def __init__(self):\n",
    "        '''Initialise une file à l'aide de deux piles vides'''\n",
    "        self.entree=...\n",
    "        self.sortie=...\n",
    "    \n",
    "    def affiche(self):\n",
    "        '''Affiche le contenu de la file'''\n",
    "        n1=len(self.entree.valeurs)\n",
    "        print('→', end=' ')\n",
    "        if n1 !=0:\n",
    "            for i in range(n1):\n",
    "                print(str(self.entree.valeurs[n1-1-i]), end=' | ')\n",
    "            \n",
    "        n2=len(self.sortie.valeurs)\n",
    "        if n2 !=0:\n",
    "            for i in range(n2-1):\n",
    "                print(str(self.sortie.valeurs[i]), end=' | ')\n",
    "            print(str(self.sortie.valeurs[-1]), end=' ')\n",
    "        print('→')\n",
    "    \n",
    "    #2\n",
    "    def est_vide(self):\n",
    "        '''Renvoie True si la file est vide,\n",
    "        False sinon'''\n",
    "        return ... and ...\n",
    "            \n",
    "    #3\n",
    "    def enfiler(self,a):\n",
    "        '''Place l'élément a en tête de file'''\n",
    "        self.entree. ...\n",
    "    \n",
    "    #4\n",
    "    def defiler(self):\n",
    "        '''Si la file n'est pas vide, défile l'élément en tête de file\n",
    "        et le renvoie'''\n",
    "        if not self.est_vide():\n",
    "            if self.sortie.est_vide():\n",
    "                while not self.entree.est_vide():\n",
    "                    a=self.entree.depiler()\n",
    "                    ...\n",
    "        return ...\n",
    "            \n",
    "    #5 \n",
    "    def tete(self):\n",
    "        '''Renvoie la valeur de l'élément en tête de file, si la file n'est pas vide.\n",
    "        Cet élément n'est pas supprimé'''\n",
    "        if self.entree.est_vide():\n",
    "            return ...\n",
    "        else:\n",
    "            return ...\n",
    "        \n",
    "    \n",
    "    #6\n",
    "    def longueur(self):\n",
    "        '''Renvoie len nombre d'éléments dans la file'''\n",
    "        return ...\n",
    "     \n",
    "    #7\n",
    "    def vider(self):\n",
    "        '''Vide la file'''\n",
    "        ...\n",
    "        ...\n",
    "        \n",
    "#Jeu de tests pour les files"
   ]
  },
  {
   "cell_type": "code",
   "execution_count": 32,
   "metadata": {},
   "outputs": [
    {
     "name": "stdout",
     "output_type": "stream",
     "text": [
      "→ →\n"
     ]
    }
   ],
   "source": [
    "#1 init\n",
    "f=File()\n",
    "f.affiche() #La file est vide"
   ]
  },
  {
   "cell_type": "code",
   "execution_count": 33,
   "metadata": {},
   "outputs": [
    {
     "data": {
      "text/plain": [
       "True"
      ]
     },
     "execution_count": 33,
     "metadata": {},
     "output_type": "execute_result"
    }
   ],
   "source": [
    "#2 est_vide\n",
    "f.est_vide() # renvoie True"
   ]
  },
  {
   "cell_type": "code",
   "execution_count": 34,
   "metadata": {},
   "outputs": [
    {
     "name": "stdout",
     "output_type": "stream",
     "text": [
      "→ 6 | 5 | 4 | 3 | 2 | 1 | →\n"
     ]
    }
   ],
   "source": [
    "#3 enfiler\n",
    "f.enfiler(1)\n",
    "f.enfiler(2)\n",
    "f.enfiler(3)\n",
    "f.enfiler(4) \n",
    "f.enfiler(5)\n",
    "f.enfiler(6)\n",
    "f.affiche() #1 est en tête de file"
   ]
  },
  {
   "cell_type": "code",
   "execution_count": 35,
   "metadata": {},
   "outputs": [
    {
     "name": "stdout",
     "output_type": "stream",
     "text": [
      "→ 6 | 5 | 4 | 3 →\n"
     ]
    }
   ],
   "source": [
    "#4 defiler\n",
    "f.defiler() #1\n",
    "f.defiler() #2\n",
    "f.affiche() #3 est en tête de file"
   ]
  },
  {
   "cell_type": "code",
   "execution_count": 36,
   "metadata": {},
   "outputs": [
    {
     "data": {
      "text/plain": [
       "3"
      ]
     },
     "execution_count": 36,
     "metadata": {},
     "output_type": "execute_result"
    }
   ],
   "source": [
    "#5 tete\n",
    "f.tete() # renvoie 3"
   ]
  },
  {
   "cell_type": "code",
   "execution_count": 37,
   "metadata": {},
   "outputs": [
    {
     "data": {
      "text/plain": [
       "4"
      ]
     },
     "execution_count": 37,
     "metadata": {},
     "output_type": "execute_result"
    }
   ],
   "source": [
    "#6 longueur\n",
    "f.longueur() #4"
   ]
  },
  {
   "cell_type": "code",
   "execution_count": 38,
   "metadata": {},
   "outputs": [
    {
     "name": "stdout",
     "output_type": "stream",
     "text": [
      "→ →\n"
     ]
    }
   ],
   "source": [
    "#7 vider\n",
    "f.vider()\n",
    "f.affiche() # la file est vide"
   ]
  },
  {
   "cell_type": "markdown",
   "metadata": {},
   "source": [
    "##### Exercice 5 : \n",
    "Ecrire la fonction `pile_vers_file(pile)` qui prend en paramètre une pile et qui renvoie cette pile transformée en file.\n",
    "\n",
    "Ainsi la pile ci-dessous,\n",
    "```\n",
    "|3|\n",
    "|2|\n",
    "|1|\n",
    "‾‾‾\n",
    "```\n",
    "deviendra la file `→ 1 | 2 | 3 →`\n"
   ]
  },
  {
   "cell_type": "code",
   "execution_count": 39,
   "metadata": {},
   "outputs": [],
   "source": [
    "def pile_vers_file(pile):\n",
    "    file=File()\n",
    "    \n",
    "    \n",
    "    \n",
    "    \n",
    "    \n",
    "    return file"
   ]
  },
  {
   "cell_type": "code",
   "execution_count": 40,
   "metadata": {},
   "outputs": [
    {
     "name": "stdout",
     "output_type": "stream",
     "text": [
      "|3|\n",
      "|2|\n",
      "|1|\n",
      "‾‾‾\n",
      "→ 1 | 2 | 3 | →\n"
     ]
    }
   ],
   "source": [
    "#test pile_vers_file\n",
    "p=Pile()\n",
    "p.empiler(1)\n",
    "p.empiler(2)\n",
    "p.empiler(3)\n",
    "p.affiche()\n",
    "\n",
    "f=pile_vers_file(p)\n",
    "f.affiche()"
   ]
  },
  {
   "cell_type": "markdown",
   "metadata": {},
   "source": [
    "## 4. Exercices"
   ]
  },
  {
   "cell_type": "markdown",
   "metadata": {},
   "source": [
    "##### Exercice 6 :\n",
    "On souhaite simuler la distribution d'un jeu de 32 cartes entre 2 joueurs. On suppose que toutes les cartes seront distribuées.\n",
    "On modélise le jeu de 32 cartes par une pile contenant les cartes qui sont mélangées(voir code donné).\n",
    "Pour la distribution, chaque carte au sommet de la pile est donné tour à tour aux deux joueurs pour constituer deux piles. Les deux dernières cartes distribuées sont donc au sommet de chacune des deux piles.\n",
    "\n",
    "Ecrire les instructions qui permettent de distribuer ainsi un jeu de 32 cartes."
   ]
  },
  {
   "cell_type": "code",
   "execution_count": 41,
   "metadata": {},
   "outputs": [
    {
     "name": "stdout",
     "output_type": "stream",
     "text": [
      "|D♦|\n",
      "|A♥|\n",
      "|8♠|\n",
      "|10♣|\n",
      "|R♦|\n",
      "|7♦|\n",
      "|9♥|\n",
      "|R♠|\n",
      "|A♦|\n",
      "|V♣|\n",
      "|V♦|\n",
      "|A♠|\n",
      "|D♣|\n",
      "|10♥|\n",
      "|D♥|\n",
      "|8♥|\n",
      "|V♠|\n",
      "|8♣|\n",
      "|7♠|\n",
      "|7♥|\n",
      "|9♠|\n",
      "|9♣|\n",
      "|V♥|\n",
      "|R♥|\n",
      "|9♦|\n",
      "|7♣|\n",
      "|A♣|\n",
      "|D♠|\n",
      "|R♣|\n",
      "|8♦|\n",
      "|10♠|\n",
      "|10♦|\n",
      "‾‾‾\n",
      "\n"
     ]
    }
   ],
   "source": [
    "from random import *\n",
    "#jeu de 32 cartes\n",
    "cartes=[i+j for i in ['7','8','9','10','V','D','R','A'] for j in [\"♠\",\"♥\",\"♦\",\"♣\"]]\n",
    "shuffle(cartes)\n",
    "\n",
    "#le jeu est une pile\n",
    "jeu=Pile()\n",
    "jeu.valeurs=cartes\n",
    "jeu.affiche()\n",
    "print()\n",
    "\n",
    "#distribution des cartes (piles)\n",
    "jeu1=Pile()\n",
    "jeu2=Pile()\n",
    "\n",
    "\n",
    "\n",
    "\n",
    "\n",
    "\n",
    "#"
   ]
  },
  {
   "cell_type": "code",
   "execution_count": 42,
   "metadata": {},
   "outputs": [
    {
     "name": "stdout",
     "output_type": "stream",
     "text": [
      "Jeu 1\n",
      "|10♠|\n",
      "|R♣|\n",
      "|A♣|\n",
      "|9♦|\n",
      "|V♥|\n",
      "|9♠|\n",
      "|7♠|\n",
      "|V♠|\n",
      "|D♥|\n",
      "|D♣|\n",
      "|V♦|\n",
      "|A♦|\n",
      "|9♥|\n",
      "|R♦|\n",
      "|8♠|\n",
      "|D♦|\n",
      "‾‾‾\n",
      "\n",
      "Jeu 2\n",
      "|10♦|\n",
      "|8♦|\n",
      "|D♠|\n",
      "|7♣|\n",
      "|R♥|\n",
      "|9♣|\n",
      "|7♥|\n",
      "|8♣|\n",
      "|8♥|\n",
      "|10♥|\n",
      "|A♠|\n",
      "|V♣|\n",
      "|R♠|\n",
      "|7♦|\n",
      "|10♣|\n",
      "|A♥|\n",
      "‾‾‾\n"
     ]
    }
   ],
   "source": [
    "#tests\n",
    "print('Jeu 1')\n",
    "jeu1.affiche()\n",
    "print()\n",
    "print('Jeu 2')\n",
    "jeu2.affiche()"
   ]
  },
  {
   "cell_type": "markdown",
   "metadata": {},
   "source": [
    "##### Exercice 7 : \n",
    "Dans certaines calculatrices, les expressions sont évaluées à l'aide de la notation polonaise inversée (ce nom vient du Mathématicien polonais *Jan Łukasiewicz*).Cette notation ne cécéssite aucune parenthèse ni aucune règle de priorité. Elle place les opérandes avant les opérateurs.\n",
    "\n",
    "*Exemple* : En notation polonaise inversée, l'expression `(1+2)*3+4` peut s'écrire `4321+*+`.\n",
    "* Pour calculer cette expression, on lit de gauche à droite jusqu'à trouver un opérateur, ici $+$.\n",
    "* On utilise ensuite les deux derniers opérandes trouvés qui sont $2$  et $1$, puis on effectue l'opération $1+2$.\n",
    "* On remplace les opérandes et l'opérateur utilisés par le résultat de l'opération, ici l'expression devient alors `433*+`.\n",
    "* On utilise l'opérateur suivant sur les deux derniers opérandes présents dans l'expression.Ici on effectue donc $3 \\times 3$.\n",
    "* On remplace les opérandes et l'opérateur utilisés par le résultat de l'opération, ici l'expression devient alors `49+`.\n",
    "* On réitère le procédé sur les derniers opérandes, ce qui revient ici à effectuer le calcul $4+9$.\n",
    "* Le résultat est bien $13$.\n",
    "\n",
    "\n",
    "__Partie A : Manipulation__\n",
    "1. Quelle notation sera utilisée pour calculer `(3+4)*6+1` ? __Réponse :__\n",
    "2. A quelle expression correspond la notation `4132*+*`? __Réponse :__\n",
    "\n",
    "__Partie B : Implémentation__\n",
    "\n",
    "Pour simplifier , on suppose que :\n",
    "* L'on utilise uniquement les opérateurs `+` et `*`.\n",
    "* Les opérandes sont des entiers naturels à un chiffre (entre 0 et 9).\n",
    "* L'expression à évaluer est une chaîne de caractères.\n",
    "\n",
    "La valeur d'une expression en notation polonaise inversée peut être calculée à l'aide d'une pile pour stocker les résultats intermédiaires. Pour cela, on parcourt l'expression de gauche à droite et on effectue les actions suivantes :\n",
    "* Si on voit un nombre , on le place sur la pile.\n",
    "* Si on voit un opérateur, on récupère les deux nombres au sommet de la pile, on leur applique l'opérateur et on replace le résultat au sommet de la pile.\n",
    "* A la fin du processus, il reste exactement un nombre sur la pile, qui est le résultat.\n",
    "\n",
    "Ecrire la fonction `npi(expr)` qui prend en paramètre un chaîne de caractères contenant une expression à évaluer et qui renvoie le résultat de l'évalution de cette expression.\n"
   ]
  },
  {
   "cell_type": "code",
   "execution_count": 43,
   "metadata": {},
   "outputs": [],
   "source": [
    "def npi(expr):\n",
    "    #pile pour stocker les résultats intermédiaires\n",
    "    pile=Pile()\n",
    "    #variable qui contient le résultat final\n",
    "    res=0\n",
    "    \n",
    "    \n",
    "    \n",
    "    \n",
    "    \n",
    "    \n",
    "    \n",
    "    \n",
    "    \n",
    "    \n",
    "    \n",
    "    \n",
    "    \n",
    "    \n",
    "    return res"
   ]
  },
  {
   "cell_type": "code",
   "execution_count": 44,
   "metadata": {},
   "outputs": [],
   "source": [
    "#tests pour la fonction npi\n",
    "e1='4312+*+'\n",
    "e2='1643+*+'\n",
    "e3='4132*+*'\n",
    "assert(npi(e1)==13)\n",
    "assert(npi(e2)==43)\n",
    "assert(npi(e3)==28)"
   ]
  },
  {
   "cell_type": "markdown",
   "metadata": {},
   "source": [
    "##### Exercice 8 :\n",
    "* On dit qu'une chaîne de caractères comprenant, entre autre choses, des parenthèses `(` et `)` est bien parenthésée lorsque chaque parenthèse ouvrante est associée à une unique fermante et réciproquement.\n",
    "\n",
    "1. Dans la chaîne `.(..(.).())`:\n",
    "   * La parenthèse ouvrante d'indice $1$ est associée à la prenthèse fermante d'indice $10$.\n",
    "   * La parenthèse fermante d'indice $6$ est associée à la parenthèse ouvrante d'indice $4$.\n",
    "   * Quelle autre association de parenthèses peut-on faire dans cette chaîne ?\n",
    "   \n",
    "     __Réponse__ :  \n",
    "\n",
    "\n",
    "2. On souhaite écrire la fonction `ouvrante_associee(f,chaine)` qui prend en paramètres une chaîne de caractères bien parenthésée et un l'indice d'une parenthèse fermante.Cette fonction renvoie l'indice de la parenthèse ouvrante correspondante : \n",
    "   * Une parenthèse fermante correspond à la dernière parenthèse à avoir été ouverte.\n",
    "   * On peut utiliser une pile pour suivre ces associations.\n",
    "   * Cette pile enregistre les indices des parenthèses ouvertes qui n'on pas encore été associées à des parenthèses fermantes.\n",
    "   * En parcourant la chaîne jusqu'à l'indice `f` :\n",
    "      * Si l'on trouve une parenthèse ouvrante, on empile son indice au sommet de la pile.\n",
    "      * Si l'on trouuve une parenthèse fermante, on dépile l'indice stocké au sommet de la pile, puisqu'il correspond à la parenthèse ouvrante associée.\n",
    "   * Une fois l'indice `f` atteint, le dernier élément au sommet de la pile est bien celui de la parenthèse ouvrante cherché, on le renvoie.\n",
    "   \n",
    "   \n",
    "A l'aide de ces indications, compléter la fonction."
   ]
  },
  {
   "cell_type": "code",
   "execution_count": 45,
   "metadata": {},
   "outputs": [],
   "source": [
    "def ouvrante_associee(f,chaine):\n",
    "    '''chaine : chaine de caractères bien parenthésée\n",
    "       f : indice d'une parenthèse fermante, entier\n",
    "       return : indice de sa parenthèse ouvrante associée, entier'''\n",
    "    pile=Pile()\n",
    "    for i in range(f):\n",
    "        if chaine[i]==...:\n",
    "            pile.empiler(...)\n",
    "        elif chaine[i]==...:\n",
    "            ...\n",
    "    return ..."
   ]
  },
  {
   "cell_type": "code",
   "execution_count": 46,
   "metadata": {},
   "outputs": [
    {
     "name": "stdout",
     "output_type": "stream",
     "text": [
      "1\n",
      "4\n",
      "8\n"
     ]
    }
   ],
   "source": [
    "#tests ouvrante_associée\n",
    "chaine='.(..(.).())'\n",
    "print(ouvrante_associee(10, chaine)) #1\n",
    "print(ouvrante_associee(6, chaine)) #4\n",
    "print(ouvrante_associee(9, chaine)) #8"
   ]
  },
  {
   "cell_type": "markdown",
   "metadata": {},
   "source": [
    "#### Exercice 9 :\n",
    "Une chaîne de caractère est bien parenthésée si chaque parenthèse fermante est associée à une parenthèse ouvrante.\n",
    "Ecrire la fonction `bonnes_parentheses(chaine)` qui prend en paramètre une chaîne de caractères parenthésée qui renvoie `True` si la chaîne est bien parenthésée et `False` sinon.\n",
    "\n",
    "*Aide* : \n",
    "On pourra utiliser une pile pour stocker toutes les parenthèses ouvrantes non encore fermées lors du parcours de la chaîne :\n",
    "* Lorsque l'on trouve un parenthèse fermante, plusieurs cas peuvent indiquer que la chaîne est mal parenthésée:\n",
    "  * La pile est vide (une parenthèse fermante est obligatoirement associé à une ouvrante)\n",
    "  * La valeur que l'on dépile n'est pas une parenthèse ouvrante\n",
    "* A la fin du parcours, si la pile n'est pas vide, c'est également que la chaîne n'est pas bien parenthésée."
   ]
  },
  {
   "cell_type": "code",
   "execution_count": 47,
   "metadata": {},
   "outputs": [],
   "source": [
    "def bonnes_parentheses(chaine):\n",
    "    pile=Pile()\n",
    "    reponse =True\n",
    "    \n",
    "    \n",
    "    \n",
    "    \n",
    "    \n",
    "    \n",
    "    \n",
    "    \n",
    "    \n",
    "    \n",
    "    \n",
    "    \n",
    "    \n",
    "    return reponse       "
   ]
  },
  {
   "cell_type": "code",
   "execution_count": 48,
   "metadata": {},
   "outputs": [],
   "source": [
    "#tests bonnes_parenthèses\n",
    "assert(bonnes_parentheses('()')==True)\n",
    "assert(bonnes_parentheses('())')==False)\n",
    "assert(bonnes_parentheses('(..(.))')==True)"
   ]
  }
 ],
 "metadata": {
  "kernelspec": {
   "display_name": "Python 3",
   "language": "python",
   "name": "python3"
  },
  "language_info": {
   "codemirror_mode": {
    "name": "ipython",
    "version": 3
   },
   "file_extension": ".py",
   "mimetype": "text/x-python",
   "name": "python",
   "nbconvert_exporter": "python",
   "pygments_lexer": "ipython3",
   "version": "3.8.5"
  }
 },
 "nbformat": 4,
 "nbformat_minor": 4
}
