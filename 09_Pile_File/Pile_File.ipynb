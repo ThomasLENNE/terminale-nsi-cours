{
 "cells": [
  {
   "cell_type": "markdown",
   "metadata": {},
   "source": [
    "# <center> PILES ET FILES </center>"
   ]
  },
  {
   "cell_type": "markdown",
   "metadata": {},
   "source": [
    "## 1. Introduction\n",
    "* Nous allons aborder deux structures de données abstraites linéaires :  Les piles et les files .\n",
    "* Ces structures permettent de stocker des éléments et fournissent des opérations permettant d'ajouter ou de retirer des éléments un à un.\n",
    "* Chacune de ces structures a ses règles adaptées à de nombreuses situations en informatique."
   ]
  },
  {
   "cell_type": "markdown",
   "metadata": {},
   "source": [
    "<img src='pile.jpeg' style='float:right;' width=200>\n",
    "\n",
    "\n",
    "## 2. Pile (LIFO)\n",
    "\n",
    "* Dans une pile (\"stack\" en anglais), chaque opération de retrait retire l'élément arrivé le plus récemment. \n",
    "* On associe cette structure à l'image d'une pile d'assiettes, dans laquelle chaque nouvelle assiette est ajoutée au-dessus des précédentes et où l'assiette retirée est systématiquement celle du sommet.\n",
    "* Ce principe est nommé \"dernier entré, premier sorti\", plus couramment LIFO en anglais (Last In First Out).\n",
    "* Exemples d'utilisation :\n",
    "  * Bouton de retour en arrière (undo) qui permet d'annuler la(les) dernière(s) modification(s) effectuée(s).\n",
    "  * Historique d'un navigateur web.\n",
    "  * Pile des appels d'une fonction récursive.\n",
    "  * Un processeur utilise une pile pour gérer les instructions à éxécuter.\n",
    "  * Un algorithme de parcours en profondeur utilise une pile pour mémoriser les nœuds visités.\n"
   ]
  },
  {
   "cell_type": "markdown",
   "metadata": {},
   "source": [
    "### Interface d'une pile\n",
    "\n",
    "Voici les principales fonctions souhaitées pour cette interface :\n",
    "\n",
    "1. Créer une pile, afficher son contenu.\n",
    "2. Déterminer si une pile est vide.\n",
    "3. Empiler (push en anglais) un élément, c'est à dire le placer au sommet de la pile.\n",
    "4. Dépiler(pop en anglais) l'élément placé au sommet de la pile.\n",
    "\n",
    "D'autres fonctionnalités qui facilitent la manipulation :\n",
    "\n",
    "5. Lire la valeur située au sommet de la pile (sans la dépiler).\n",
    "6. Connaître le nombre d'élément de la pile.\n",
    "7. Vider une pile.\n"
   ]
  },
  {
   "cell_type": "markdown",
   "metadata": {},
   "source": [
    "*Représentations :* \n",
    "\n",
    "* Dans la pile `[1,2,3]` on considère que `3` est arrivé en dernier et se trouve au sommet de la pile.Ainsi empiler `4` placera la valeur `4` au sommet de la pile et donnera la pile `[1,2,3,4]`\n",
    "\n",
    "\n",
    "* Utilisation d'une pile pour inverser les caractères `'AB'` en `'BA'` :\n",
    "<img src='abba.png' style='float:right;' width=500>\n",
    "\n",
    "  * Empiler A\n",
    "  * Empiler B\n",
    "  * Dépiler B\n",
    "  * Dépiler A \n",
    "\n"
   ]
  },
  {
   "cell_type": "markdown",
   "metadata": {},
   "source": [
    "### Implémentation d'une pile\n",
    "\n",
    "* On utilise ici le paradigme de la programmation objet, mais ce n'est pas la seule façon de faire.\n",
    "* L'implémentation se fait aisément à l'aide du type `list` de python, en particulier avec les méthodes suivantes :\n",
    "\n",
    "  * La méthode `append()` qui ajoute un élément en fin de liste.\n",
    "  * La méthode `pop()` qui supprime le dernier élément d'une liste, en le renvoyant.\n",
    "  * la méthode `len()` qui renvoie la longueur d'une liste c'est à dire son nombre d'éléments.\n",
    "  \n",
    "* Quelques rappels :\n",
    "  * L'indice `-1` permet d'accéder au dernier élément d'une liste.\n",
    "  * `[]` est la liste vide.\n",
    "  \n",
    "* Le type `list` de Python est particulier. Nous verrons ultérieurement une autre façon de faire, qui utilise une structure de données adaptable à d'autres langages de programmation."
   ]
  },
  {
   "cell_type": "markdown",
   "metadata": {},
   "source": [
    "##### Exercice 1 :\n",
    "Implémenter toutes les fonctionnalités proposées par l'interface en complétant le code de la classe `Pile`."
   ]
  },
  {
   "cell_type": "code",
   "execution_count": 4,
   "metadata": {},
   "outputs": [],
   "source": [
    "class Pile:\n",
    "    #1.\n",
    "    def __init__(self, valeurs=[]):\n",
    "        self.valeurs=valeurs\n",
    "        \n",
    "    def __str__(self):\n",
    "        for valeur in self.valeurs :\n",
    "            return str(self.valeurs)\n",
    "    \n",
    "    #2.\n",
    "    def est_vide(self):\n",
    "        '''renvoie True si la pile est vide,\n",
    "        False sinon'''\n",
    "        pass\n",
    "    \n",
    "    #3.\n",
    "    def empiler(self,a):\n",
    "        '''Place l'élément a au sommet de la pile'''\n",
    "        pass\n",
    "    \n",
    "    #4.\n",
    "    def depiler(self):\n",
    "        '''Supprime l'élément placé au sommet de la pile\n",
    "        A condition qu'elle soit non vide\n",
    "        Renvoie l'élément supprimé.'''\n",
    "        pass\n",
    "    \n",
    "    #5.\n",
    "    def sommet(self):\n",
    "        '''Renvoie la valeur du sommet de la pile\n",
    "        si elle est n'est pas vide\n",
    "        (sans la retirer)'''\n",
    "        pass\n",
    "    \n",
    "    #6.\n",
    "    def longueur(self):\n",
    "        '''Renvoie le nombre d'élément dans la pile'''\n",
    "        pass\n",
    "    \n",
    "    #7.\n",
    "    def vider(self):\n",
    "        '''Vide la pile'''\n",
    "        pass"
   ]
  },
  {
   "cell_type": "code",
   "execution_count": 50,
   "metadata": {},
   "outputs": [
    {
     "name": "stdout",
     "output_type": "stream",
     "text": [
      "[1, 2, 3]\n",
      "False\n",
      "[1, 2, 3, 4, 5, 6]\n",
      "6\n",
      "[1, 2, 3, 4]\n",
      "4\n",
      "True\n"
     ]
    }
   ],
   "source": [
    "#Jeu de tests pour les piles\n",
    "\n",
    "p=Pile([])\n",
    "p.empiler(1)\n",
    "p.empiler(2)\n",
    "p.empiler(3)\n",
    "print(p) #[1,2,3]\n",
    "print(p.est_vide()) #False\n",
    "p.empiler(4) \n",
    "p.empiler(5)\n",
    "p.empiler(6)\n",
    "print(p) #[1, 2, 3, 4, 5, 6]\n",
    "print(p.longueur()) #6\n",
    "p.depiler()\n",
    "p.depiler()\n",
    "print(p) #[1,2,3,4]\n",
    "print(p.sommet())#4\n",
    "p.vider()\n",
    "print(p.est_vide()) #True"
   ]
  },
  {
   "cell_type": "markdown",
   "metadata": {},
   "source": [
    "##### Exercice 2 :\n",
    "* En utilisant les méthodes de l'implémentation précédente, compléter le code de la fonction `inverse(chaine)` qui prend en paramètre une chaîne de caractères et qui renvoie la chaîne de caractère inversée.\n",
    "* Ainsi, `inverse('abcdef')` doit renvoyer `'fedcba'`."
   ]
  },
  {
   "cell_type": "code",
   "execution_count": 27,
   "metadata": {},
   "outputs": [
    {
     "data": {
      "text/plain": [
       "'fedcba'"
      ]
     },
     "execution_count": 27,
     "metadata": {},
     "output_type": "execute_result"
    }
   ],
   "source": [
    "def inverse(chaine):\n",
    "    \n",
    "    pass\n",
    "\n",
    "inverse('abcdef')"
   ]
  },
  {
   "cell_type": "markdown",
   "metadata": {},
   "source": [
    "\n",
    "\n",
    "## 3. File (FIFO)\n",
    "\n",
    "<img src='file.png' style='float:right;' width=300>\n",
    "\n",
    "\n",
    "* Dans une file (\"queue\" en anglais), chaque opération de retrait retire l'élément qui avait été ajouté en premier. on associe cette structure à l'image d'une file d'attente, dans laquelle les personnes arrivent à tour de rôle, patientent et sont servies dans leur ordre d'arrivée.\n",
    "* Ce principe est appelé \"premier entré, premier sorti\", plus couramment en anglais FIFO (First In First Out).\n",
    "* En programmation, les files sont utiles pour mettre en attente des informations dans l'ordre dans lequel elles sont arrivées.\n",
    "* Exemple d'utilisation :\n",
    "  * Les serveurs d'impression traitent les requêtes dans l'ordre dans lequel elles arrivent et les insèrent dans une file d'attente (dite aussi queue ou spool).\n",
    "  * Un algorithme de parcours en largeur utilise une file pour mémoriser les nœuds visités.\n",
    "  * Gestion de mémoires tampons (en anglais « buffers »), par exemple la lecture d'une vidéo.\n"
   ]
  },
  {
   "cell_type": "markdown",
   "metadata": {},
   "source": [
    "### Interface d'une file\n",
    "\n",
    "Voici les principales fonctions souhaitées pour cette interface :\n",
    "\n",
    "1. Créer une file, afficher son contenu.\n",
    "2. Déterminer si une file est vide.\n",
    "3. Enfiler (enqueue en anglais) un élément, c'est à dire le placer à la fin de la file.\n",
    "4. Défiler(dequeue en anglais) l'élément placé au début de la file.\n",
    "\n",
    "D'autres fonctionnalités qui facilitent la manipulation :\n",
    "\n",
    "5. Lire la valeur située à l'avant de la file (sans la défiler).\n",
    "6. Connaître le nombre d'élément de la file.\n",
    "7. Vider une file.\n"
   ]
  },
  {
   "cell_type": "markdown",
   "metadata": {},
   "source": [
    "*Représentations :* \n",
    "\n",
    "* Dans la fille `[3,2,1]`, on considère que `1` est arrivé en premier et se trouve en tête de file. Ainsi enfiler `4` placera 4 en queue de file et donnera la file `[4,3,2,1]`\n",
    "\n",
    "Schéma d'utilisation d'une file.\n",
    "<img src='fifo.png' style='float:right;' width=300>\n",
    "\n",
    "* Enfiler A\n",
    "* Enfiler B\n",
    "* Défiler A\n",
    "* Défiler B \n",
    "\n"
   ]
  },
  {
   "cell_type": "markdown",
   "metadata": {},
   "source": [
    "### Implémentations d'une file"
   ]
  },
  {
   "cell_type": "markdown",
   "metadata": {},
   "source": [
    "#### Directement avec le type `list` de python &#128530;\n",
    "\n",
    "* On pourra ici utiliser la méthode :\n",
    "   * `insert(i, e)` pour insérer l'élément `e` à l'index `i`.\n",
    "   "
   ]
  },
  {
   "cell_type": "markdown",
   "metadata": {},
   "source": [
    "##### Exercice 3 :\n",
    " Implémenter les fonctionnalités décrites dans l'interface d'une file."
   ]
  },
  {
   "cell_type": "code",
   "execution_count": 48,
   "metadata": {},
   "outputs": [],
   "source": [
    "class File:\n",
    "    #1.\n",
    "    def __init__(self, valeurs=[]):\n",
    "        self.valeurs=valeurs\n",
    "        \n",
    "    def __str__(self):\n",
    "        return str(self.valeurs)\n",
    "        \n",
    "    #2.\n",
    "    def est_vide(self):\n",
    "        '''renvoie True si la file est vide,\n",
    "        False sinon'''\n",
    "        pass\n",
    "    \n",
    "    #3.\n",
    "    def enfiler(self,a):\n",
    "        '''Place l'élément a au sommet de la pile'''\n",
    "        pass\n",
    "    \n",
    "    #4.\n",
    "    def defiler(self):\n",
    "        '''Supprime l'élément placé au sommet de la pile\n",
    "        A condition qu'elle soit non vide\n",
    "        Renvoie l'élément supprimé.'''\n",
    "        pass\n",
    "        \n",
    "    #5.\n",
    "    def tete(self):\n",
    "        '''Renvoie la valeur en début de file\n",
    "        si elle n'est pas vide\n",
    "        (sans la defiler)'''\n",
    "        pass\n",
    "    \n",
    "    #6.\n",
    "    def longueur(self):\n",
    "        '''Renvoie le nombre d'élément dans la file'''\n",
    "        pass\n",
    "    \n",
    "    #7.\n",
    "    def vider(self):\n",
    "        '''Vide la file'''\n",
    "        pass"
   ]
  },
  {
   "cell_type": "code",
   "execution_count": 49,
   "metadata": {},
   "outputs": [
    {
     "name": "stdout",
     "output_type": "stream",
     "text": [
      "[3, 2, 1]\n",
      "False\n",
      "[6, 5, 4, 3, 2, 1]\n",
      "6\n",
      "[6, 5, 4, 3]\n",
      "3\n",
      "True\n"
     ]
    }
   ],
   "source": [
    "#Jeu de tests pour les files\n",
    "\n",
    "f=File([])\n",
    "f.enfiler(1)\n",
    "f.enfiler(2)\n",
    "f.enfiler(3)\n",
    "print(f) #[3,2,1]\n",
    "print(f.est_vide()) #False\n",
    "f.enfiler(4) \n",
    "f.enfiler(5)\n",
    "f.enfiler(6)\n",
    "print(f) #[6,5,4,3,2,1]\n",
    "print(f.longueur()) #6\n",
    "f.defiler()\n",
    "f.defiler()\n",
    "print(f) #[6,5,4,3]\n",
    "print(f.tete())#3\n",
    "f.vider()\n",
    "print(f.est_vide()) #True"
   ]
  },
  {
   "cell_type": "markdown",
   "metadata": {},
   "source": [
    "#### Remarque :\n",
    "* Cette solution peut convenir pour des files de taille raisonnable. Mais lorsque le nombre d'éléments est très grand, le coût en temps de l'insertion d'un élément à l'index 0 est important car il faut décaler tous les autres éléments vers la droite."
   ]
  },
  {
   "cell_type": "markdown",
   "metadata": {},
   "source": [
    "#### Avec deux piles  &#128522;\n",
    "\n",
    "* Une file est dans ce cas caractérisée par deux piles. La première contient les éléments que l'on veut enfiler, la seconde contient les éléments que l'on veut défiler.\n",
    "\n",
    "<img src='2piles.gif' style='float:right;' width=150>\n",
    "\n",
    "* Exemple : On veut créer la file `[3,2,1]`, en filer `4` puis défiler l'élément `1`, de telle sorte que la file devienne alors `[4,3,2]`.\n",
    "   * On crée 2 piles, une pile d'entrée et une pile de sortie.\n",
    "   * Pour enfiler un élément, il suffit d'empiler les éléments dans leur ordre d'arrivée dans la pile d'entrée.\n",
    "     * Ainsi , on empile les trois premiers éléments `1` , puis `2` puis `3` et ensuite le quatrième `4`\n",
    "   * Lorsque l'on veut défiler l'élément en tête de file(ici `1`, celui qui est arrivé en premier) :\n",
    "     * On dépile les éléments de la pile d'entrée pour les empiler dans la pile de sortie.\n",
    "     * Le dernier élément empilé dans la pile de sortie est bien `1`\n",
    "     * On le dépile de la pile de sortie."
   ]
  },
  {
   "cell_type": "markdown",
   "metadata": {},
   "source": [
    "##### Exercice 4 :\n",
    "A l'aide de la description précédente et des méthodes de la classe `Pile`, implémenter une file à l'aide de deux piles."
   ]
  },
  {
   "cell_type": "code",
   "execution_count": 54,
   "metadata": {},
   "outputs": [],
   "source": [
    "class File:\n",
    "    def __init__(self,entree=Pile([]),sortie=Pile([])):\n",
    "        '''Initialise une file à l'aide de deux piles'''\n",
    "        self.entree=entree\n",
    "        self.sortie=sortie\n",
    "    \n",
    "    \n",
    "    def est_vide(self):\n",
    "        '''Renvoie True si la file est vide,\n",
    "        False sinon'''\n",
    "        pass\n",
    "    \n",
    "    def enfiler(self,a):\n",
    "        '''Place l'élément a en tête de file'''\n",
    "        pass\n",
    "    \n",
    "    def defiler(self):\n",
    "        '''defile l'élément a en tête de file\n",
    "        et le renvoie'''\n",
    "        pass\n",
    "            \n",
    "    def longueur(self):\n",
    "        '''renvoie len nombre d'éléments dans la file'''\n",
    "        pass\n",
    "     \n",
    "    def vider(self):\n",
    "        '''vide la file'''\n",
    "        pass"
   ]
  },
  {
   "cell_type": "code",
   "execution_count": 58,
   "metadata": {},
   "outputs": [
    {
     "name": "stdout",
     "output_type": "stream",
     "text": [
      "False\n",
      "6\n",
      "2\n",
      "4\n",
      "True\n"
     ]
    }
   ],
   "source": [
    "#Jeu de tests pour les files\n",
    "\n",
    "f=File()\n",
    "f.enfiler(1)\n",
    "f.enfiler(2)\n",
    "f.enfiler(3)\n",
    "\n",
    "print(f.est_vide()) #False\n",
    "f.enfiler(4) \n",
    "f.enfiler(5)\n",
    "f.enfiler(6)\n",
    "\n",
    "print(f.longueur()) #6\n",
    "f.defiler()\n",
    "print(f.defiler()) #2\n",
    "\n",
    "print(f.longueur())\n",
    "f.vider()\n",
    "print(f.est_vide()) #True"
   ]
  },
  {
   "cell_type": "markdown",
   "metadata": {},
   "source": [
    "##### Exercice 5 : \n",
    "Ecrire la fonction `pile_vers_file(pile)` qui prend en paramètre une pile et qui renvoie cette pile transformée en file.\n",
    "Ainsi la Pile `1,2,3` deviendra `3,2,1`\n"
   ]
  },
  {
   "cell_type": "code",
   "execution_count": null,
   "metadata": {},
   "outputs": [],
   "source": [
    "\n",
    "\n"
   ]
  },
  {
   "cell_type": "code",
   "execution_count": null,
   "metadata": {},
   "outputs": [],
   "source": [
    "#test pile_vers_file\n",
    "p=Pile([])\n",
    "p.empiler(1)\n",
    "p.empiler(2)\n",
    "p.empiler(3)\n",
    "print(p)\n",
    "\n",
    "f=pile_vers_file(p)\n",
    "print (f.defiler(), f.defiler(), f.defiler())"
   ]
  },
  {
   "cell_type": "markdown",
   "metadata": {},
   "source": [
    "## 4. Exercices"
   ]
  },
  {
   "cell_type": "markdown",
   "metadata": {},
   "source": [
    "##### Exercice 6 :\n",
    "On souhaite simuler la distribution d'un jeu de 32 cartes entre 2 joueurs. On suppose que toutes les cartes seront distribuées.\n",
    "On modélise le jeu de 32 cartes par une pile contenant les cartes qu sont mélangées(voir code donné).\n",
    "Pour la distribution, chaque carte au sommet de la pile est donné tour à tour aux deux joueurs pour constituer deux piles. Les deux dernières cartes distribuées sont donc au sommet de chacune des deux piles.\n",
    "\n",
    "Ecrire les instructions qui permettent de distribuer ainsi un jeu de 32 cartes."
   ]
  },
  {
   "cell_type": "code",
   "execution_count": 68,
   "metadata": {},
   "outputs": [
    {
     "name": "stdout",
     "output_type": "stream",
     "text": [
      "JEU : ['8♥', 'V♥', 'R♥', '7♠', '7♦', 'A♦', 'A♣', '9♦', '8♣', 'A♥', 'A♠', 'V♦', 'R♦', 'V♣', 'D♣', '10♦', 'V♠', '7♥', 'D♥', '9♣', '9♥', '10♠', 'R♠', 'R♣', '10♥', 'D♦', 'D♠', '10♣', '8♦', '9♠', '8♠', '7♣']\n",
      "\n",
      "['7♣', '9♠', '10♣', 'D♦', 'R♣', '10♠', '9♣', '7♥', '10♦', 'V♣', 'V♦', 'A♥', '9♦', 'A♦', '7♠', 'V♥']\n",
      "['8♠', '8♦', 'D♠', '10♥', 'R♠', '9♥', 'D♥', 'V♠', 'D♣', 'R♦', 'A♠', '8♣', 'A♣', '7♦', 'R♥', '8♥']\n"
     ]
    }
   ],
   "source": [
    "from random import *\n",
    "#jeu de 32 cartes\n",
    "cartes=[i+j for i in ['7','8','9','10','V','D','R','A'] for j in [\"♠\",\"♥\",\"♦\",\"♣\"]]\n",
    "shuffle(cartes)\n",
    "jeu=Pile(cartes)\n",
    "print('JEU :',jeu)\n",
    "print()\n",
    "\n",
    "#distribution des cartes (piles)\n",
    "pass\n",
    "\n",
    "\n",
    "\n",
    "\n",
    "#tests\n",
    "print(jeu1)\n",
    "print(jeu2)"
   ]
  },
  {
   "cell_type": "markdown",
   "metadata": {},
   "source": [
    "##### Exercice 7 : \n",
    "Dans certaines calculatrices, les expressions sont évaluées à l'aide de la notation polonaise inversée (ce nom vient du Mathématicien polonais *Jan Łukasiewicz*).Cette notation ne cécéssite aucune parenthèse ni aucune règle de priorité. Elle place les opérandes avant les opérateurs.\n",
    "\n",
    "*Exemple* : En notation polonaise inversée, l'expression `(1+2)*3+4` peut s'écrire `4321+*+`.\n",
    "* Pour calculer cette expression, on lit de gauche à droite jusqu'à trouver un opérateur, ici $+$.\n",
    "* On utilise ensuite les deux derniers opérandes trouvés qui sont $2$  et $1$, puis on effectue l'opération $1+2$.\n",
    "* On remplace les opérandes et l'opérateur utilisés par le résultat de l'opération, ici l'expression devient alors `433*+`.\n",
    "* On utilise l'opérateur suivant sur les deux derniers opérandes présents dans l'expression.Ici on effectue donc $3 \\times 3$.\n",
    "* On remplace les opérandes et l'opérateur utilisés par le résultat de l'opération, ici l'expression devient alors `49+`.\n",
    "* On réitère le procédé sur les derniers opérandes, ce qui revient ici à effectuer le calcul $4+9$.\n",
    "* Le résultat est bien $13$.\n",
    "\n",
    "\n",
    "__Partie A : Manipulation__\n",
    "1. Quelle notation sera utilisée pour calculer `(3+4)*6+1` ? __Réponse :__ \n",
    "2. A quelle expression correspond la notation `4132*+*`? __Réponse :__ \n",
    "\n",
    "__Partie B : Implémentation__\n",
    "\n",
    "Pour simplifier , on suppose que :\n",
    "* L'on utilise uniquement les opérateurs `+` et `*`.\n",
    "* Les opérandes sont des entiers naturels à un chiffre (entre 0 et 9).\n",
    "* L'expression à évaluer est une chaîne de caractères.\n",
    "\n",
    "La valeur d'une expression en notation polonaise inversée peut être calculée à l'aide d'une pile pour stocker les résultats intermédiaires. Pour cela, on parcourt l'expression de gauche à droite et on effectue les actions suivantes :\n",
    "* Si on voit un nombre , on le place sur la pile.\n",
    "* Si on voit un opérateur, on récupère les deux nombres au sommet de la pile, on leur applique l'opérateur et on replace le résultat au sommet de la pile.\n",
    "* A la fin du processus, il reste exactement un bombre sur la pile, qui est le résultat.\n",
    "\n",
    "Ecrire la fonction `npi(expr)` qui prend en paramètre un chaîne de caractères contenant une expression à évaluer et qui renvoie le résultat de l'évalution de cette expression.\n"
   ]
  },
  {
   "cell_type": "code",
   "execution_count": 11,
   "metadata": {},
   "outputs": [],
   "source": [
    "def npi(expr):\n",
    "    pile=Pile()\n",
    "    for x in expr:\n",
    "        pass\n",
    "    \n",
    "    return res"
   ]
  },
  {
   "cell_type": "code",
   "execution_count": 12,
   "metadata": {},
   "outputs": [],
   "source": [
    "#tests pour la fonction npi\n",
    "e1='4312+*+'\n",
    "e2='1643+*+'\n",
    "e3='4132*+*'\n",
    "assert(npi(e1)==13)\n",
    "assert(npi(e2)==43)\n",
    "assert(npi(e3)==28)"
   ]
  },
  {
   "cell_type": "markdown",
   "metadata": {},
   "source": [
    "##### Exercice 8 :\n",
    "* On dit qu'une chaîne de caractères comprenant, entre autre choses, des parenthèses `(` et `)` est bien parenthésée lorsque chaque parenthèse ouvrante est associée à une unique fermante et réciproquement.\n",
    "\n",
    "1. Dans la chaîne `.(..(.).())`:\n",
    "   * La parenthèse ouvrante d'indice $1$ est associée à la prenthèse fermante d'indice $10$.\n",
    "   * La parenthèse fermante d'indice $6$ est associée à la parenthèse ouvrante d'indice $4$.\n",
    "   * Quelle autre association de parenthèses peut-on faire dans cette chaîne ?\n",
    "   \n",
    "     __Réponse__ : la parenthèse ouvrante d'indice $8$ est associée à la parenthèse fermante d'indice $9$.\n",
    "\n",
    "\n",
    "2. On souhaite écrire la fonction `ouvrante_associee(f,chaine)` qui prend en paramètres une chaîne de caractères bien parenthésée et un l'indice d'une parenthèse fermante.Cette fonction renvoie l'indice de la parenthèse ouvrante correspondante : \n",
    "   * Une parenthèse fermante correspond à la dernière parenthèse à avoir été ouverte.\n",
    "   * On peut utiliser une pile pour suivre ces associations.\n",
    "   * Cette pile enregistre les indices des parenthèses ouvertes qui n'on pas encore été associées à des parenthèses fermantes.\n",
    "   * En parcourant la chaîne jusqu'à l'indice `f` :\n",
    "      * Si l'on trouve une parenthèse ouvrante, on empile son indice au sommet de la pile.\n",
    "      * Si l'on trouuve une parenthèse fermante, on dépile l'indice stocké au sommet de la pile, puisqu'il correspond à la parenthèse ouvrante associée.\n",
    "   * Une fois l'indice `f` atteint, le dernier élément au sommet de la pile est bien celui de la parenthèse ouvrante cherché, on le renvoie.\n",
    "   \n",
    "   \n",
    "A l'aide de ces indications, programmer la fonction."
   ]
  },
  {
   "cell_type": "code",
   "execution_count": 38,
   "metadata": {},
   "outputs": [],
   "source": [
    "def ouvrante_associee(f,chaine):\n",
    "    '''chaine : chaine de caractères bien parenthésée\n",
    "       f : indice d'une parenthèse fermante, entier\n",
    "       return : indice de sa parenthèse ouvrante associée, entier'''\n",
    "    pass\n",
    "    \n",
    "    \n",
    "    \n",
    "    \n",
    "    \n",
    "    \n",
    "    "
   ]
  },
  {
   "cell_type": "code",
   "execution_count": 39,
   "metadata": {},
   "outputs": [
    {
     "name": "stdout",
     "output_type": "stream",
     "text": [
      "1\n",
      "4\n",
      "8\n"
     ]
    }
   ],
   "source": [
    "#tests ouvrante_associée\n",
    "chaine='.(..(.).())'\n",
    "print(ouvrante_associee(10, chaine)) #1\n",
    "print(ouvrante_associee(6, chaine)) #4\n",
    "print(ouvrante_associee(9, chaine)) #8"
   ]
  },
  {
   "cell_type": "markdown",
   "metadata": {},
   "source": [
    "#### Exercice 9 :\n",
    "Une chaîne de caractère est bien parenthésée si chaque parenthèse fermante est associée à une parenthèse ouvrante.\n",
    "Ecrire la fonction `bonnes_parentheses(chaine)` qui prend en paramètre une chaîne de caractères parenthésée qui renvoie `True` si la chaîne est bien parenthésée et `False` sinon.\n",
    "\n",
    "*Aide* : \n",
    "On pourra utiliser une pile pour stocker toutes les parenthèses ouvrantes non encore fermées lors du parcours de la chaîne :\n",
    "* Lorsque l'on trouve un parenthèse fermante, plusieurs cas peuvent indiquer que la chaîne est mal parenthésée:\n",
    "  * La pile est vide (une parenthèse fermante est obligatoirement associé à une ouvrante)\n",
    "  * La valeur que l'on dépile n'est pas une parenthèse ouvrante\n",
    "* A la fin du parcours, si la pile n'est pas vide, c'est également que la chaîne n'est pas bien parenthésée."
   ]
  },
  {
   "cell_type": "code",
   "execution_count": 40,
   "metadata": {},
   "outputs": [],
   "source": [
    "def bonnes_parentheses(chaine):\n",
    "    pass\n",
    "    \n",
    "    \n",
    "    \n",
    "    \n",
    "    \n",
    "    \n",
    "    "
   ]
  },
  {
   "cell_type": "code",
   "execution_count": 41,
   "metadata": {},
   "outputs": [],
   "source": [
    "#tests bonnes_parenthèses\n",
    "assert(bonnes_parentheses('()')==True)\n",
    "assert(bonnes_parentheses('())')==False)\n",
    "assert(bonnes_parentheses('(..(.))')==True)"
   ]
  }
 ],
 "metadata": {
  "kernelspec": {
   "display_name": "Python 3",
   "language": "python",
   "name": "python3"
  },
  "language_info": {
   "codemirror_mode": {
    "name": "ipython",
    "version": 3
   },
   "file_extension": ".py",
   "mimetype": "text/x-python",
   "name": "python",
   "nbconvert_exporter": "python",
   "pygments_lexer": "ipython3",
   "version": "3.8.5"
  }
 },
 "nbformat": 4,
 "nbformat_minor": 4
}
