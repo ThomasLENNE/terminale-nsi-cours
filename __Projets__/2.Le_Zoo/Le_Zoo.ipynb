{
 "cells": [
  {
   "cell_type": "markdown",
   "metadata": {},
   "source": [
    "# <center> LE ZOO</center>"
   ]
  },
  {
   "cell_type": "markdown",
   "metadata": {},
   "source": [
    "<p style='text-align:justify;'> L’ADER (l’Association pour le Développement des Espèces Rares)  a pour but  de favoriser l’étude,  la reproduction  et  l’échange  d’animaux  dans  les parcs  zoologiques d’Europe. Ces animaux  appartiennent tous à  une espèce  en voie de disparition dans son milieu naturel.</p>\n",
    "    \n",
    "<p style='text-align:justify;'> L’association recense actuellement  environ 2000 animaux  pour une cinquantaine d’espèces différentes.L’ensemble des informations conservées par l’association est stockée sur des fiches cartonnées. Le nombre d’animaux augmentant d’année en année, l’association décide d’investir dans du matériel informatique mais avant toute acquisition, elle vous prend en stage pour que vous lui fassiez une analyse et que vous lui proposiez une solution qui la satisfasse.</p>\n",
    "    \n",
    "  <p style='text-align:justify;'> L’association fonctionne grâce aux dons de membres bienfaiteurs( 1000 environ) et à la cotisation des parcs animaliers  adhérents( une centaine) envoyés à la secrétaire et transmis au trésorier. Chacun recoit régulièrement une lettre  d’information. </p> \n",
    "   \n",
    "  <p style='text-align:justify;'> Pour devenir adhérent de l’association, il faut faire une demande et présenter les activités et les animaux du parc que l’on dirige au bureau de l’association.Il y a une visite organisée dans  le parc avec la présentation de la charte de l’association que le parc  devra  obligatoirement  respecter une fois adhérent. Quelques jours après cette visite, la secrétaire de l’association envoie un avis favorable à l’adhésion ou un avis défavorable avec la liste des points qui motivent cet avis. Chaque  adhérent de l’association reçoit au début de l’année un appel à cotisation.</p>\n",
    "    \n",
    "  <p style='text-align:justify;'> Chaque directeur de parc adhérent, doit faire un bilan (décès, naissances, propositions d’échanges) régulier à l’association. Il peut aussi demander l’intervention d’un vétérinaire spécialisé pour un animal  malade. La secrétaire  contacte  dans ce cas un vétérinaire  qu’elle connaît en lui transmettant une copie de la fiche de l’animal malade  ainsi que l’adresse du zoo où il est hébergé. Le vétérinaire fait sa consultation pendant laquelle la personne  qui s’occupe de l’animal explique les symptomes  constatés. L’animal est ausculté et un traitement peut lui être délivré. Une fois la consultation  terminée le vétérinaire fait un rapport à l’association. Le directeur du parc doit lui aussi, envoyer une attestation de visite avec d’éventuelles remarques.</p>\n",
    "    \n",
    "<p style='text-align:justify;'> L'association dispose de personnes qui ont la charge de contrôler les parcs adhérents. Le bureau de l’association transmet aux contrôleurs  une liste de parcs à visiter ; ceux-ci effectuent la visite et font un compte-rendu, le bureau analyse ce compte-rendu  et transmet ses conclusions à la secrétaire qui les envoie au directeur du parc concerné. Ces conclusions peuvent être  que tout  va bien,  ou une liste  d’améliorations à  faire rapidement (un autre contrôle inopiné sera effectuée dans les 6 mois qui suivent) ou dans le cas de non respect flagrant de la charte, l’exclusion du parc de l’association.</p>\n",
    "    \n",
    "  <p style='text-align:justify;'> L’association a aussi des contacts  avec le service des douanes qui, lorsqu’il saisit des animaux protégés, lui demande  l’adresse de parcs pouvant accueillir ces animaux. Elle répond aussi favorablement à toute demande  d’information sur des animaux ou des espèces d’animaux qu’elle recense, provenant de chercheurs du monde entier.</p> \n",
    "    \n",
    "  <p style='text-align:justify;'> Une fois informatisées, ces informations  pourraient être mises sur le site Internet  de l’association.A partir  des documents trouvés lors de l’´etude de l’association  ADER, vous avez recensé l’ensemble des données suivantes  triées par ordre alphabétique :</p>\n",
    "\n",
    "<p style='text-align:justify;'>  \n",
    "— Adresse d’un contrôleur\n",
    "— Adresse d’un parc\n",
    "— Adresse d’un vétérinaire\n",
    "— Cause de décès d’un animal\n",
    "— Compte rendu du contrôe d’un parc par un contrôleur\n",
    "— Continent du pays d’origine d’un animal\n",
    "— Date d’entrée d’un parc dans l’association\n",
    "— Date  d’un contrôle  d’un parc  par  un contrôleur\n",
    "— Date d’une visite à un animal dans un parc par un vétérinaire\n",
    "— Date de décès d’un animal\n",
    "— Date de naissance d’un animal\n",
    "— Date éventuelle d’exclusion d’un parc animalier de l’association\n",
    "— Espèce(s) dans laquelle (lesquelles) le vétérinaire est spécialisé\n",
    "— Motif de la présence d’un animal dans le parc échange, achat, saisie douanière etc)\n",
    "— Numéro de portable  d’un vétérinaire\n",
    "— Numéro de téléphone d’un contrôleur\n",
    "— Numéro de téléphone d’un parc\n",
    "— Numéro de téléphone d’un vétérinaire\n",
    "— Nom d’un animal\n",
    "— Nom d’un contrôleur\n",
    "— Nom d’un parc\n",
    "— Nom d’un vétérinaire\n",
    "— Nom de l’espèce d’un animal\n",
    "— Nom du pays d’origine d’un animal\n",
    "— Nombre d’animaux  recenées par  l’association par espèce et par année\n",
    "— Nombre estimé d’animaux d’une espèe dans le monde\n",
    "— Prénom d’un contrôleur\n",
    "— Prénom d’un vétérinaire\n",
    "— Rapport du vétérinaire lors de la visite d’un animal dans un parc\n",
    "— Référence d’un animal\n",
    "— Références  des  parents   d’un  animal (lorsque celui-ci est né dans un parc adhérent à l’association)\n",
    "— Sexe d’un animal\n",
    "— Superficie d’un parc\n",
    "</p>\n",
    "\n",
    "Vous avez aussi établi les règles de gestions suivantes  :\n",
    "- RG1 : On conserve le pays  d’origine d’un animal uniquement lorsque celui-ci n’est pas né dans un parc recensé par l’association. On veut en plus conserver pour chaque espèce d’animaux le(s) pays lorsqu’il(s) existe(nt) possédant encore des spécimens de cette espèce en liberté.\n",
    "- RG2 : Un même contrôleur peut controler plusieurs fois le même parc mais a des dates différentes.\n",
    "- RG3 : On veut pouvoir retrouver où vit actuellement un animal recensé par l’association. On veut aussi dire où il vivait  pour une date passée. Un animal  peut  donc changer de parc et même revenir dans un parc où il a déjà vécu.\n",
    "- RG4 : On désire conserver en plus  pour  chaque  membre  bienfaiteur,  son nom son prénom, son adresse ainsi que la somme d’argent qu’il a versée à l’association chaque année.\n",
    "\n",
    "  <p style='text-align:justify;'> Construisez ci-dessous les  modèles conceptuel et logique des données avec les identifiants, les cardinalités et les dépendances fonctionnelles (si vous en trouvez). Prenez bien en compte toutes les règles de gestion.</p>\n"
   ]
  }
 ],
 "metadata": {
  "kernelspec": {
   "display_name": "Python 3",
   "language": "python",
   "name": "python3"
  },
  "language_info": {
   "codemirror_mode": {
    "name": "ipython",
    "version": 3
   },
   "file_extension": ".py",
   "mimetype": "text/x-python",
   "name": "python",
   "nbconvert_exporter": "python",
   "pygments_lexer": "ipython3",
   "version": "3.8.5"
  }
 },
 "nbformat": 4,
 "nbformat_minor": 4
}
