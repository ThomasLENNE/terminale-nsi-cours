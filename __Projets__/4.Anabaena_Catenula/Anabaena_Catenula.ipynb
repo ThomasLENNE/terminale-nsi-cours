{
 "cells": [
  {
   "cell_type": "markdown",
   "metadata": {},
   "source": [
    "# <center> ANABAENA CATENULA </center>"
   ]
  },
  {
   "cell_type": "markdown",
   "metadata": {},
   "source": [
    "\n",
    "\n",
    "    \n",
    "<img src=Anabaena.jpg style='float:center;' width=600>\n",
    "    \n",
    "Anabaena est un genre de cyanobactéries filamenteuses (anciennement appelées algues bleues), que l'on trouve dans le plancton.  L'espèce *anabaena catenula*( image de gauche) croît en filaments sous forme de chaînes de cellules(image de droite). Il y a deux types de cellules : les cellules spécialisées qui ne se divisent pas et des cellules non-spécialisées qui se divisent et sont responsables de la croissance de l’algue. \n",
    "\n",
    "Au départ nous avons une cellule non spécialisée de taille 4 symbolisée par un sens, par exemple une flèche $\\leftarrow$. Elle grandit de 1 à chaque étape de son évolution.Lorsqu'elle atteint la taille 9 qui est le maximum qu'une cellule peut atteindre, elle se divise en deux cellules, une de 4,  dans le sens $\\leftarrow$, et une de 5 symbolisée par le sens $\\rightarrow$ et l'évolution reprend. \n",
    "\n",
    "\n",
    "En résumé , dès qu'une cellule arrive à la taille 9 elle se divise en deux cellules de 4 et 5. La division est gouvernée par les règles suivantes :\n",
    "$$ \\overleftarrow{9} \\longrightarrow \\overleftarrow{4}\\overrightarrow{5} \\  \\ \\mbox{ et } \\ \\\n",
    "\\overrightarrow{9} \\longrightarrow \\overleftarrow{5}\\overrightarrow{4}$$\n",
    "\n",
    "\n",
    "Voici les premières étapes de la croissance :\n",
    "\n",
    "Etape 0 : 4←\n",
    "\n",
    "Etape 1 : 5←\n",
    "\n",
    "Etape 2 : 6← \n",
    "\n",
    "Etape 3 : 7← \n",
    "\n",
    "Etape 4 : 8←\n",
    "\n",
    "Etape 5 : 4← 5→\n",
    "\n",
    "Etape 6 : 5← 6→ \n",
    "\n",
    "Etape 7 : 6← 7→\n",
    "\n",
    "Etape 8 : 7← 8→\n",
    "\n",
    "Etape 9 : 8← 5← 4→ \n",
    "\n",
    "Etape 10 : 4← 5→ 6← 5→\n",
    "\n",
    "\n",
    "\n",
    "\n",
    "Le but de ce projet est de programmer une simulation  de la croissance de cette algue au cours du temps."
   ]
  },
  {
   "cell_type": "markdown",
   "metadata": {},
   "source": [
    "## Travail :\n",
    "### A faire\n",
    "* Par groupe de deux ou trois, vous devez écrire un progamme python qui affiche l'algue au bout de $n$ étapes\n",
    "* La structure de données à utiliser est la liste chaînée.\n",
    "* On pourra commencer par définir une classe `Cell` qui représente une cellule avec trois attributs : `taille` , `sens` et `suivante`.\n",
    "* On pourra améliorer cette simulation en affichant les étapes intermédiaires de la croissance.\n",
    "\n",
    "\n",
    "### A rendre\n",
    "* Un fichier individuel au format .pdf de 5 pages maximum contenant un rapport avec :\n",
    "     * La répartition des tâches dans le groupe.\n",
    "     * Les difficultés rencontrées et les solutions proposées.\n",
    "     * L'explication d'une partie de code que vous aurez plus spécifiquement travaillé."
   ]
  }
 ],
 "metadata": {
  "kernelspec": {
   "display_name": "Python 3",
   "language": "python",
   "name": "python3"
  },
  "language_info": {
   "codemirror_mode": {
    "name": "ipython",
    "version": 3
   },
   "file_extension": ".py",
   "mimetype": "text/x-python",
   "name": "python",
   "nbconvert_exporter": "python",
   "pygments_lexer": "ipython3",
   "version": "3.8.5"
  }
 },
 "nbformat": 4,
 "nbformat_minor": 4
}
