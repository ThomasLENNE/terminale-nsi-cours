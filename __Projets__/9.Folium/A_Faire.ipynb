{
 "cells": [
  {
   "cell_type": "markdown",
   "metadata": {},
   "source": [
    "# <center> Gougueul Mappe </center>"
   ]
  },
  {
   "cell_type": "markdown",
   "metadata": {},
   "source": [
    "## Imports"
   ]
  },
  {
   "cell_type": "code",
   "execution_count": null,
   "metadata": {},
   "outputs": [],
   "source": [
    "import folium\n",
    "from math import *"
   ]
  },
  {
   "cell_type": "markdown",
   "metadata": {},
   "source": [
    "## Classes"
   ]
  },
  {
   "cell_type": "code",
   "execution_count": null,
   "metadata": {},
   "outputs": [],
   "source": [
    "class Graphe:\n",
    "    '''Graphe pondéré non orienté représenté par un dictionnaire d'adjacence\n",
    "    '''\n",
    "    def __init__(self):\n",
    "        self.adj={}\n",
    "    \n",
    "    def affiche(self):\n",
    "        for k in self.adj:\n",
    "            print (k,self.adj[k])\n",
    "    \n",
    "    def ajouter_sommet(self,s):\n",
    "        if s not in self.adj:\n",
    "            self.adj[s]={}\n",
    "   \n",
    "    def ajouter_arc(self, s1, s2):\n",
    "        self.ajouter_sommet(s1)\n",
    "        self.ajouter_sommet(s2)\n",
    "        self.adj[s1][s2]=0 # à modifier\n",
    "        self.adj[s2][s1]=0 # à modifier\n",
    "    \n",
    "    def arc(self,s1,s2):\n",
    "        if s2 in self.adj[s1]:\n",
    "            return True\n",
    "        else :\n",
    "            return False\n",
    "    \n",
    "    def sommets(self):\n",
    "        s=[]\n",
    "        for k in self.adj:\n",
    "            s.append(k)\n",
    "        return s\n",
    "    \n",
    "    def voisins(self, s):\n",
    "        return self.adj[s]\n",
    "    \n",
    "    def nb_sommets(self):\n",
    "        return len(self.sommets())\n",
    "    \n",
    "    def degre(self,s):\n",
    "        return len(self.voisins(s))"
   ]
  },
  {
   "cell_type": "markdown",
   "metadata": {},
   "source": [
    "## Fonctions"
   ]
  },
  {
   "cell_type": "code",
   "execution_count": null,
   "metadata": {},
   "outputs": [],
   "source": [
    "#Extraction des donnees\n",
    "def data_extract(fichier):\n",
    "    f = open(fichier, \"r\",encoding='utf-8')\n",
    "    res = {} # Pour contenir le résultat qui sera un dictionnaire de dictionnaires\n",
    "    \n",
    "    \n",
    "    \n",
    "    \n",
    "    \n",
    "    \n",
    "    \n",
    "    f.close()\n",
    "    return res\n",
    "\n",
    "def distance(A,B):\n",
    "    '''distance entre 2 villes\n",
    "    entree : \n",
    "    A , B : str numdept\n",
    "    PREFS : dictionnaire des villes\n",
    "    \n",
    "    return  : la distance AB (float)'''\n",
    "    \n",
    "    global PREFS #variable globale, le dictionnaire des données\n",
    "    xA,yA=PREFS[A]['gps']\n",
    "    xB,yB=PREFS[B]['gps']\n",
    "    \n",
    "    #return sqrt((xB-xA)**2+(yB-yA)**2)*(40000/360)\n",
    "    return sqrt((xB-xA)**2+(yB-yA)**2)*100 #approximation\n",
    "\n",
    "\n",
    "def construit_graphe(fichier):\n",
    "    '''construit le graphe des dept limitrophes\n",
    "    d'après un fichier\n",
    "    entree : fichier txt\n",
    "    return : objet graphe'''\n",
    "    g=Graphe()\n",
    "    f=open(fichier,'r')\n",
    "    \n",
    "    \n",
    "    \n",
    "    \n",
    "    \n",
    "    \n",
    "    f.close()\n",
    "    return g\n",
    "\n",
    "\n",
    "def affiche_graphe(graphe, carte, prefs):\n",
    "    '''affiche le graphe sur la carte'''\n",
    "    pass\n",
    "\n",
    "\n",
    "        \n",
    "def affiche_chemin(t,carte,prefs):\n",
    "    '''affiche un chemin qui passe par des villes\n",
    "    entree : t tableau (list de Dept)'''\n",
    "    pass\n",
    "        \n",
    "        \n",
    "def dijkstra(graphe,source,fin):\n",
    "    '''calcule les plus court chemins\n",
    "    entre source et les sommets visités (dont fin)\n",
    "    entree : source et fin, villes (str numdept)\n",
    "    return : dict , contient les distances des sommets visités à la source'''\n",
    "    pass\n",
    "\n",
    "\n",
    "def plus_court_chemin(graphe,depart,arrivee):\n",
    "    '''construit le plus court chemin entre \n",
    "    les villes de depart et arrivee\n",
    "    return : tuple ,list de NumDept et distance totale'''\n",
    "    pass"
   ]
  },
  {
   "cell_type": "markdown",
   "metadata": {},
   "source": [
    "## Constantes"
   ]
  },
  {
   "cell_type": "code",
   "execution_count": null,
   "metadata": {
    "scrolled": true
   },
   "outputs": [],
   "source": [
    "#données des préfectures d'après fichier\n",
    "PREFS=data_extract('prefectures.csv')\n",
    "\n",
    "#gps centre de la France\n",
    "\n",
    "\n",
    "#Graphe des liaisons\n",
    "G=Graphe()\n",
    "construit_graphe('voisins.txt')"
   ]
  },
  {
   "cell_type": "markdown",
   "metadata": {},
   "source": [
    "## Carte"
   ]
  },
  {
   "cell_type": "code",
   "execution_count": null,
   "metadata": {
    "scrolled": false
   },
   "outputs": [],
   "source": [
    "#Affichage de la carte\n",
    "\n",
    "\n",
    "#Marquage des prefectures\n",
    "\n",
    "\n",
    "\n",
    "#Affichage du graphe\n",
    "\n",
    "\n",
    "#Affichage du plus court chemin\n",
    "\n"
   ]
  },
  {
   "cell_type": "markdown",
   "metadata": {},
   "source": [
    "## Calculs, tests"
   ]
  },
  {
   "cell_type": "code",
   "execution_count": null,
   "metadata": {},
   "outputs": [],
   "source": []
  }
 ],
 "metadata": {
  "kernelspec": {
   "display_name": "Python 3",
   "language": "python",
   "name": "python3"
  },
  "language_info": {
   "codemirror_mode": {
    "name": "ipython",
    "version": 3
   },
   "file_extension": ".py",
   "mimetype": "text/x-python",
   "name": "python",
   "nbconvert_exporter": "python",
   "pygments_lexer": "ipython3",
   "version": "3.8.5"
  }
 },
 "nbformat": 4,
 "nbformat_minor": 4
}
