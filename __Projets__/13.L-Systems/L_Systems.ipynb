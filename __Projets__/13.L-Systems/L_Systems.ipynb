{
 "cells": [
  {
   "cell_type": "markdown",
   "metadata": {},
   "source": [
    "# <center> L-Systèmes </center>"
   ]
  },
  {
   "cell_type": "markdown",
   "metadata": {},
   "source": [
    "<img src='AL.jpeg' style='float:right' width=20%>\n",
    "\n",
    "* Les systèmes de Lindenmayer, appelés aussi L-Systèmes, ont été imaginés par le biologiste Aristid Lindenmayer( 1925-1989) et modélisent le processus de développement et de prolifération de plantes. \n",
    "\n",
    "\n",
    "* Le concept central des L-Systèmes est la représentation d'une plante par une chaîne de caractères. Cela permet de modéliser son évolution, voire sa destruction par des agents pathogènes, au moyen de règles de transformations de ces caractères.\n",
    "\n",
    "<img src='demo.jpg' style='float:right' width=100%>\n",
    "\n",
    "* On utilisera ici le module `turtle` pour représenter un L-Système."
   ]
  },
  {
   "cell_type": "markdown",
   "metadata": {},
   "source": [
    "## 1. Un alphabet pour coder une figure.\n",
    "\n",
    "Définissons une figure $f$ par la donnée d'un triplet contenant :\n",
    "* Une longueur $L$.\n",
    "* Un pas de rotation $a$, donné en degrés.\n",
    "* Un mot, appelé motif, utilsant les caractères de l'ensemble {F ; + ; - } avec comme convention :\n",
    "  * \"F\" : avancer de $L$\n",
    "  * \"+\" : tourner à gauche de $a$ degrés\n",
    "  * \"-\" : tourner à droite de $a$ degrés\n",
    "\n",
    "Par exemple, la figure $f(50 ; 90 ; F+F+F+F )$ représente un carré dé 50 unités de côté.\n",
    "\n",
    "#### Exercice 1 :\n",
    "\n",
    "1. Que représente la figure $f(20 ; 60 ; F++F++F )$ ?\n",
    "\n",
    "__Réponse__ :  \n",
    "\n",
    "\n",
    "2. A quel figure $f$ peut correspondre le dessin ci-dessous ?\n",
    "\n",
    "\n",
    "\n",
    "<img src='koch.png' style='float:left' width=25%>\n",
    "\n",
    "__Réponse__ : "
   ]
  },
  {
   "cell_type": "markdown",
   "metadata": {},
   "source": [
    "#### Exercice 2 :\n",
    "Ecrire une fonction `dessiner(unite, angle, motif)` qui :\n",
    "\n",
    "* reçoit en paramètres :\n",
    "  * `unite` : un nombre représentant la longueur $L$.\n",
    "  * `angle` : un nombre représentant l'angle $a$ de rotation.\n",
    "  * `motif` : le motif  $m$ de la figure sous forme d'une chaîne de caractères\n",
    "\n",
    "* affiche le dessin de la figure $f(L,a,m)$ avec le module `turtle`"
   ]
  },
  {
   "cell_type": "code",
   "execution_count": 1,
   "metadata": {},
   "outputs": [],
   "source": [
    "from turtle import *\n",
    "\n",
    "def dessiner(unite, angle, motif) :\n",
    "    pass"
   ]
  },
  {
   "cell_type": "code",
   "execution_count": 2,
   "metadata": {},
   "outputs": [],
   "source": [
    "#tests\n",
    "dessiner(50,60,'F++F++F')\n",
    "mainloop()"
   ]
  },
  {
   "cell_type": "markdown",
   "metadata": {},
   "source": [
    "## 2. Premiers L-Systèmes\n",
    "\n",
    "L'intérêt des L-Systèmes est de permettre de décrire simplement l'évolution d'une figure. Prenons l'exemple du flocon de Von Koch (l'échelle d'une image à l'autre a été ajustée pour une meilleure visibilité) :\n",
    "\n",
    "<img src='kochn.png' style='float:center;' width=80%>\n",
    "\n",
    "\n",
    "En choisissant un pas d'angle de rotation de $60°$, les motifs des deux premières figures sont :\n",
    "\n",
    "\n",
    "<img src='etapes.png' style='float:center;' width=45%>\n",
    "\n",
    "\n",
    "A chaque étape, chaque lettre $F$ représentant un segment est remplacé par le motif $F+F--F+F$. Un L-système est la donnée d'un *axiome* (motif de départ) et d'une *règle* ou d'un ensemble de règles. \n",
    "\n",
    "Dans notre exemple, l'axiome est $F--F--F$ et la règle $F+F- -F+F$.\n"
   ]
  },
  {
   "cell_type": "markdown",
   "metadata": {},
   "source": [
    "#### Exercice 3 :\n",
    "\n",
    "Ecrire une fonction `suivant(motif,regle)` qui :\n",
    "* reçoit en paramètres deux chaînes de caractères :\n",
    "  * motif : le motif de la figure à une étape donnée\n",
    "  * regle : la regle d'évolution de la figure\n",
    "* retourne en sortie une chaîne de caractères représentant la figure à l'étape suivante.\n",
    "\n",
    "Par exemple : `suivant('F--F--F','F+F--F+F')` renvoie `'F+F--F+F--F+F--F+F--F+F--F+F'`"
   ]
  },
  {
   "cell_type": "code",
   "execution_count": 4,
   "metadata": {},
   "outputs": [],
   "source": [
    "def suivant(motif,regle):\n",
    "    res=''\n",
    "    \n",
    "    \n",
    "    \n",
    "    \n",
    "    \n",
    "    \n",
    "    return res"
   ]
  },
  {
   "cell_type": "code",
   "execution_count": 6,
   "metadata": {},
   "outputs": [
    {
     "data": {
      "text/plain": [
       "''"
      ]
     },
     "execution_count": 6,
     "metadata": {},
     "output_type": "execute_result"
    }
   ],
   "source": [
    "#\n",
    "dessiner(50,60,suivant('F--F--F','F+F--F+F'))\n",
    "mainloop()\n",
    "suivant('F--F--F','F+F--F+F')"
   ]
  },
  {
   "cell_type": "markdown",
   "metadata": {},
   "source": [
    "#### Exercice 4 :\n",
    "Programmer la fonction `evolution(axiome,regle,etape)` qui :\n",
    "* reçoit en entrée :\n",
    "  * axiome : une chaîne de caractères représentant le motif de départ\n",
    "  * regle : une chaîne de caractères indiquant la règle d'évolution\n",
    "  * etape : un entier indiquant le numéro de l'étape à calculer\n",
    "* retourne en sortie une chaîne de caractères représentant la figure à l'étape demandée.\n",
    "\n",
    "Par exemple : `evolution('F','F+' ,4)` renvoie `'F++++'`"
   ]
  },
  {
   "cell_type": "code",
   "execution_count": 7,
   "metadata": {},
   "outputs": [],
   "source": [
    "def evolution(axiome, regle,etape):\n",
    "    pass"
   ]
  },
  {
   "cell_type": "code",
   "execution_count": 8,
   "metadata": {},
   "outputs": [],
   "source": [
    "evolution('F','F+',4)"
   ]
  },
  {
   "cell_type": "markdown",
   "metadata": {},
   "source": [
    "#### Exercice 5 : \n",
    "En utilisant les foncitons précédentes, dessiner le flocon de Von Koch à l'étape 4"
   ]
  },
  {
   "cell_type": "code",
   "execution_count": 10,
   "metadata": {},
   "outputs": [],
   "source": [
    "speed(0)\n",
    "\n",
    "#Von Koch\n",
    "\n",
    "\n",
    "mainloop()"
   ]
  },
  {
   "cell_type": "markdown",
   "metadata": {},
   "source": [
    "## 3. Gestions des ramifications\n",
    "\n",
    "On souhaite à présent représenter une plante à l'aide d'un L-Système. Par exemple, avec une règle préalablement choisie et partant d'une branche $F$, on peut obtenir les images suivantes où le pas de rotation est de $20°$ (l'échelle est ajustée d'une image à l'autre et l'azimut de départ initialisée à $90°$ pour un rendu plus réaliste) :\n",
    "\n",
    "<img src='etapes2.png' style='float:center;' width=55%>\n",
    "\n",
    "On se propose d'ajouter deux nouveaux symboles à l'alphabet des L-Systèmes :\n",
    "* \" [ \" : place l'état de la tortue (coordonnées et orientation) en tête d'une pile.\n",
    "* \" ] \" : dépile la dernière position de la tortue et replace la tortue à cet endroit (sans effectuer de\n",
    "tracé).\n",
    "\n",
    "Par exemple, le motif de l'étape 1 est alors décrit par la chaîne \"F[+F]F[-F]F\""
   ]
  },
  {
   "cell_type": "markdown",
   "metadata": {},
   "source": [
    "#### Exercice 6 :\n",
    "Que représente la figure $f(2,90,F[-F[+F]-F]F)$ :\n",
    "\n",
    "__Réponse__ :"
   ]
  },
  {
   "cell_type": "markdown",
   "metadata": {},
   "source": [
    "#### Exercice 7 :\n",
    "Réécrire la fonction `dessiner(unite,angle,motif,azimut)` pour qu'elle tienne compte de ces deux nouveaux symboles. Elle prend en paramètres :\n",
    "* `unite` : la longueur\n",
    "* `angle` : le pas de rotation a en degrés\n",
    "* `motif` : une chaîne de caractèresreprésentant le motif de la figure\n",
    "* `azimut` : l'azimut initial du tracé ( il est égal à $0$ par défaut)\n",
    "\n",
    "*Indications* :\n",
    "* La pile qui mémorise l'état de la tortue sera géréee par une liste et par les méthodes `append` et `pop`.\n",
    "* Quelques commandes `turtle` :\n",
    "  * `heading()` : renvoie le cap en degrés de la tortue\n",
    "  * `position()` : renvoie un tuple qui contient les coordonnées cartésiennes de la tortue.\n",
    "  * `setheading(cap)` : oriente la tortue au cap passé en argument, en degrés\n",
    "  * `goto(x,y)` : déplace la tortue aux coordonnées cartésiennes passées en arguments\n",
    "  * `up()` : relève le stylo\n",
    "  * `down()` : abaisse le stylo\n",
    "  "
   ]
  },
  {
   "cell_type": "code",
   "execution_count": 14,
   "metadata": {},
   "outputs": [],
   "source": [
    "def dessiner(unite, angle, motif, azimut) :\n",
    "    pile=[]\n",
    "    setheading(azimut)\n",
    "    pass  "
   ]
  },
  {
   "cell_type": "code",
   "execution_count": 16,
   "metadata": {},
   "outputs": [],
   "source": [
    "#tests\n",
    "hideturtle()\n",
    "dessiner(20,90,'F[-F[+F]-F]F',45)\n",
    "mainloop()"
   ]
  },
  {
   "cell_type": "markdown",
   "metadata": {},
   "source": [
    "<img src='exemples.png' style='float:right;' width=45%>\n",
    "\n",
    "#### Exercice 8 :\n",
    "\n",
    "* L'image ci-contre est extraite de l'ouvrage d'Aristid Lindenmayer \"Algorithmic Beauty Of Plants\".\n",
    "\n",
    "* En utilisant les différentes fonctions écrites précédemment, dessiner les trois exemples présentés sur cette image."
   ]
  },
  {
   "cell_type": "code",
   "execution_count": 18,
   "metadata": {},
   "outputs": [],
   "source": [
    "#initialisaiton turtle\n",
    "tracer(120)\n",
    "up()\n",
    "goto(0,-200)\n",
    "hideturtle()\n",
    "\n",
    "\n",
    "#Exemples\n",
    "\n",
    "\n",
    "mainloop()"
   ]
  },
  {
   "cell_type": "markdown",
   "metadata": {},
   "source": [
    "## 4. En savoir plus"
   ]
  },
  {
   "cell_type": "markdown",
   "metadata": {},
   "source": [
    "Il ne s'agissait ici que d'un bref aperçu des L-Systèmes. Cette modélisation est très puissante et permet, au delà de l'intérêt scientifique, de pousser le réalisme visuel obtenu à des niveaux très impressionnants :\n",
    "\n",
    "* Vidéo générée avec le logiciel Houdini utilisant les L-Systèmes : https://vimeo.com/356351056\n",
    "* Page wikipédia sur les L-sytèmes : https://fr.wikipedia.org/wiki/L-Syst%C3%A8me\n"
   ]
  },
  {
   "cell_type": "markdown",
   "metadata": {},
   "source": [
    "<img src='fin.jpg' style='float:center;' width=75%>\n"
   ]
  }
 ],
 "metadata": {
  "kernelspec": {
   "display_name": "Python 3",
   "language": "python",
   "name": "python3"
  },
  "language_info": {
   "codemirror_mode": {
    "name": "ipython",
    "version": 3
   },
   "file_extension": ".py",
   "mimetype": "text/x-python",
   "name": "python",
   "nbconvert_exporter": "python",
   "pygments_lexer": "ipython3",
   "version": "3.8.5"
  }
 },
 "nbformat": 4,
 "nbformat_minor": 4
}
