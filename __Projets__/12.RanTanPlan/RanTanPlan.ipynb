{
 "cells": [
  {
   "cell_type": "markdown",
   "metadata": {},
   "source": [
    "# <center> Rantanplan </center>\n",
    "\n",
    "* Pendant qu’Averell finit de manger, les trois autres Daltons prennent l’air dans un champ.Rantanplan traîne aussi dans le champ. Les trois Daltons appellent simultanément le chien qui se dirige aléatoirement vers l’un d’eux. Trahi par sa mémoire défaillante, il s’arrête au milieu de son trajet et creuse un trou. Les trois Dalton le rappellent, il repart au hasard vers l’un d’eux, s’arrête à mi-chemin , creuse un trou...\n",
    "\n",
    "### A faire : Afficher l’ensemble des trous faits par Rantanplan lorsqu’il est appelé un grand nombre de fois.\n",
    "\n",
    "### Indications : *On pourra:*\n",
    "* Réaliser une fonction qui prend en argument les coordonnées de rantanplan et qui renvoie les coordonnées du trou suivant\n",
    "* Réaliser une fonction qui affiche $n$ trous, à l'aide du module matplolib\n",
    "\n",
    "\n",
    "Le résultat est épatant non ?"
   ]
  },
  {
   "cell_type": "code",
   "execution_count": 2,
   "metadata": {},
   "outputs": [],
   "source": [
    "from random import *\n",
    "from matplotlib import pyplot\n",
    "from math import *"
   ]
  },
  {
   "cell_type": "code",
   "execution_count": 3,
   "metadata": {},
   "outputs": [
    {
     "data": {
      "image/png": "[encoded data removed]",
      "text/plain": [
       "<Figure size 432x288 with 1 Axes>"
      ]
     },
     "metadata": {
      "needs_background": "light"
     },
     "output_type": "display_data"
    }
   ],
   "source": [
    "#positons des daltons\n",
    "x_joe,y_joe=0,0\n",
    "x_jack,y_jack=10,0\n",
    "x_wil,y_wil=5,10\n",
    "\n",
    "#position initiale de rantanplan\n",
    "x_rtp=randint(0,10)\n",
    "y_rtp=randint(0,10)\n",
    "\n",
    "\n",
    "\n",
    "        \n",
    "\n",
    "\n",
    "pyplot.plot(x_joe,y_joe,'*')\n",
    "pyplot.plot(x_jack,y_jack,'*')\n",
    "pyplot.plot(x_wil,y_wil,'*')\n",
    "\n",
    "\n",
    "pyplot.show()"
   ]
  }
 ],
 "metadata": {
  "kernelspec": {
   "display_name": "Python 3",
   "language": "python",
   "name": "python3"
  },
  "language_info": {
   "codemirror_mode": {
    "name": "ipython",
    "version": 3
   },
   "file_extension": ".py",
   "mimetype": "text/x-python",
   "name": "python",
   "nbconvert_exporter": "python",
   "pygments_lexer": "ipython3",
   "version": "3.8.5"
  }
 },
 "nbformat": 4,
 "nbformat_minor": 4
}
