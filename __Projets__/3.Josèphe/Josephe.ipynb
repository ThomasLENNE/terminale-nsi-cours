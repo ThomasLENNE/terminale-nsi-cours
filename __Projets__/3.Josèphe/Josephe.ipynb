{
 "cells": [
  {
   "cell_type": "markdown",
   "metadata": {},
   "source": [
    "# <center> LE PROBLEME DE JOSEPHE </center>"
   ]
  },
  {
   "cell_type": "markdown",
   "metadata": {},
   "source": [
    "<img src='josephus.jpg' style='float:right;' width=200>\n",
    "Josèphe Flavius était un célèbre historien du premier siècle. Durant une guerre il fut pris au piège dans une grotte avec son groupe de 40 soldats, entouré par les troupes ennemies. La légende raconte que le groupe encerclé préféra se suicider plutôt que d'être capturé. Ainsi Josèphe et ses soldats formèrent un cercle et décidèrent de se tuer mutuellement et successivement, de manière à ce qu'une personne tue la troisième personne sur sa gauche, que la personne à droite du mort tue à son tour la troisième personne sur sa gauche, ainsi de suite jusqu'à ce qu'il ne reste qu'un seul survivant. Restant seul, ce dernier est censé se suicider lui-même. Josephus, qui ne souhaitait pas mourir, trouva rapidement la place sûre, c'est-à-dire la place de la dernière personne debout, sans que quiconque ne reste pour le tuer. Ainsi il resta en vie et put par la suite raconter cette légende. Trouver cette place sûre est maintenant appelé le problème de Josèphe.\n",
    "\n",
    "Le but de ce projet est d'écrire un programme qui simule une version généralisée de ce problème avec $n$ soldats (Josèphe inclus), où il faut retirer les soldats un par un jusqu'à ce qu'il n'y en ait plus qu'un."
   ]
  },
  {
   "cell_type": "markdown",
   "metadata": {},
   "source": [
    "## Travail :\n",
    "### A faire\n",
    "* Par groupe de deux ou trois, vous devez écrire un progamme python qui simule cette situation pour un nombre quelconque de soldats et qui identifie le soldat survivant\n",
    "* La structure de données à utiliser est la liste chaînée.\n",
    "* On pourra améliorer le rendu de la simulation en affichant des étapes intermédiares(soldats tués, soldats restants, etc...)\n",
    "\n",
    "### A rendre\n",
    "* Un fichier individuel au format .pdf de 5 pages maximum contenant un rapport avec :\n",
    "     * La répartition des tâches dans le groupe.\n",
    "     * Les difficultés rencontrées et les solutions proposées.\n",
    "     * L'explication d'une partie de code que vous aurez plus spécifiquement travaillé."
   ]
  }
 ],
 "metadata": {
  "kernelspec": {
   "display_name": "Python 3",
   "language": "python",
   "name": "python3"
  },
  "language_info": {
   "codemirror_mode": {
    "name": "ipython",
    "version": 3
   },
   "file_extension": ".py",
   "mimetype": "text/x-python",
   "name": "python",
   "nbconvert_exporter": "python",
   "pygments_lexer": "ipython3",
   "version": "3.8.5"
  }
 },
 "nbformat": 4,
 "nbformat_minor": 4
}
