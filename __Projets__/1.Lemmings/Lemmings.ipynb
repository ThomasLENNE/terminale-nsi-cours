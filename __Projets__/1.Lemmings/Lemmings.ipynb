{
 "cells": [
  {
   "cell_type": "markdown",
   "metadata": {},
   "source": [
    "# <center> Lemmings </center>"
   ]
  },
  {
   "cell_type": "markdown",
   "metadata": {},
   "source": [
    "## 1. Descriptif"
   ]
  },
  {
   "cell_type": "markdown",
   "metadata": {},
   "source": [
    "Ce projet est inspiré du jeu des lemmings. Dans ce jeu, les lemmings marchent dans une grotte représentée par une grille à deux dimensions dont chaque case est soit un mur soit un espace vide, un espace vide pouvant contenir au maximum un seul lemming à un instant donné. Les lemmings apparaissent l'un après l'autre à une position de départ et disparaissent lorsqu'ils atteignent une case de sortie. Chaque lemming a une coordonnée verticale et une coordonnée horizontale désignant la case dans laquelle il se trouve, ainsi qu'une direction( gauche ou droite). Les lemmings se déplacent à tour de rôle, toujours dans l'ordre correspondant à leur introduction dans le jeu, de la manière suivante :\n",
    "* Si l'espace immédiatement en-dessous est libre, le lemming tombe d'une case.\n",
    "* Sinon, si l'espace immédiatement devant est libre( dans la direction du lemming concerné), le lemming avance d'une case.\n",
    "* Enfin, si aucune de ces deux conditions n'est vérifiée, le lemming se retourne.\n",
    "\n",
    "L'objectif est de voir évoluer une colonie de lemmings en utilisant le paradigme de la programmation objet.Pour cela , trois classes seront créées. `Lemming` pour les lemmings , `Case` pour les cases de la grotte et `Jeu` pour les données globales et le déroulement du jeu.\n",
    "\n",
    "* La classe principale `Jeu` contient:\n",
    "   * Deux attributs :\n",
    "       * Un attribut `grotte`contenant un tableau à deux dimensions de cases (une liste de listes).\n",
    "       * Un attribut `lemmings`contenant un tableau des lemmings actuellement en jeu (une liste).\n",
    "    * Les méthodes suivantes :\n",
    "       * `__init()__` : la méthode constructeur initialise la grotte à partir d'une carte donnée par un fichier texte dans lequel le caractère `#` représente un mur et le caractère `O` la sortie.Les lemmings apparaissent dans une entrée qui est une  case vide.\n",
    "       * `affiche(self)` : affiche la carte avec les positions et direction de tous les lemmings en jeu.\n",
    "       * `tour(self)` : fait agir chaque lemming une fois et affiche le nouvel état du jeu.\n",
    "       * `demarre(self)` : lance une boucle infinie attendant des commandes de l'utilisateur :\n",
    "          * `1` pour ajouter un lemming à l'entrée (si c'est possible)\n",
    "          * La touche entrée pour jouer un tour.\n",
    "          * `q` pour quitter.\n",
    "          \n",
    "          \n",
    "* La classe `Lemming` contient :\n",
    "   * 4 attributs :\n",
    "      * Deux entiers positifs `ligne` et `colonne` indiquant repsectivement la ligne et la colonne ou se trouve le lemming.\n",
    "      * Un attribut `direction` indiquant la direction du lemming : $1$ pour la droite et $-1$ pour la gauche.\n",
    "      * Un attribut `jeu` pointant sur l'instance de la classe `Jeu` pour laquelle le lemming a été créé, pour pouvoir accéder au terrain et à la liste des lemmings.\n",
    "    * Les méthodes suivantes :\n",
    "      * `__init(self)__` : la méthode constructeur initialise les attributs précédents.\n",
    "      * `__str(self)__` renvoie:\n",
    "           * `>` si le lemming se dirige vers la droite.\n",
    "           * `<` si le lemming se dirige vers la gauche.\n",
    "      * `action(self)` : déplace ou retourne le lemming.\n",
    "      * `sort(self)` : retire le lemming du jeu.\n",
    "      \n",
    "* La classe `Case` contient :\n",
    "   * Deux attributs :\n",
    "      * `terrain` contenant le caractère représentant la case( mur, vide ou sortie).\n",
    "      * `lemming` contenant l'éventuel lemming présent dans cette case et `None` si la case est libre.\n",
    "   * Les méthodes suivantes :\n",
    "      * `__init(self)` : la méthode constructeur initialise les attributs.\n",
    "      * `__str(self)` renvoie le caractère à afficher pour représenter cette case ou son éventuel occupant.\n",
    "      * `libre(self)` renvoie `True` si la case peut recevoir un lemming (elle n'est ni un mur, ni occupée).\n",
    "      * `depart(self)` retire le lemming present de la case\n",
    "      * `arrivee(self, lem)` :place le lemming `lem` sur la case ou le fait sortir du jeu si la case est une sortie."
   ]
  },
  {
   "cell_type": "markdown",
   "metadata": {},
   "source": [
    "<img src='lem1.png' style='float:left;' width=200>\n",
    "\n",
    "    < A gauche : Le premier lemming entre en jeu \n",
    "     dans la grotte par la case vide du haut\n",
    "\n",
    "\n",
    "<img src='lem2.png' style='float:right' width=200>\n",
    "\n",
    "\n",
    "                                       A droite > : Plusieurs lemmings en jeu\n",
    "     \n",
    "\n",
    "                                   \n"
   ]
  },
  {
   "cell_type": "markdown",
   "metadata": {},
   "source": [
    "## 2. Travail"
   ]
  },
  {
   "cell_type": "markdown",
   "metadata": {},
   "source": [
    "### A faire :\n",
    "* Par groupe de deux ou trois, vous devez implémenter en python ce jeu.\n",
    "* Aucun module n'est à installer pour développer ce projet.\n",
    "* Les seuls modules autorisés sont éventuellement `math` et `random`.\n",
    "* Cette base pourra être améliorée avec des terrains plus étendus, de nouvelles possibilités d'interaction pour le joueur, comptage des lemmings sauvés, objectifs à atteindre, etc...\n"
   ]
  },
  {
   "cell_type": "markdown",
   "metadata": {},
   "source": [
    "### A rendre :"
   ]
  },
  {
   "cell_type": "markdown",
   "metadata": {},
   "source": [
    "Le projet est collectif maisle rendu est individuel. Vous devrez rendre un dossier nommé `Lemmings_NOM` ou `NOM` est votre nom de famille, contenant:\n",
    "   * Un sous dossier 'jeu' contenant :\n",
    "        * Un fichier `lemmings.py` avec le code du jeu\n",
    "        * Le ou les fichiers textes utilisés pour générer les niveaux.\n",
    "    \n",
    "   * Un fichier au format .pdf de 5 pages maximum contenant un rapport avec :\n",
    "       * La répartition des tâches dans le groupe.\n",
    "       * Les difficultés rencontrées et les solutions proposées.\n",
    "       * L'explication d'une partie de code que vous aurez plus spécifiquement travaillé."
   ]
  }
 ],
 "metadata": {
  "kernelspec": {
   "display_name": "Python 3",
   "language": "python",
   "name": "python3"
  },
  "language_info": {
   "codemirror_mode": {
    "name": "ipython",
    "version": 3
   },
   "file_extension": ".py",
   "mimetype": "text/x-python",
   "name": "python",
   "nbconvert_exporter": "python",
   "pygments_lexer": "ipython3",
   "version": "3.8.5"
  }
 },
 "nbformat": 4,
 "nbformat_minor": 4
}
