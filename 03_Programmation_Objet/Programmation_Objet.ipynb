{
 "cells": [
  {
   "cell_type": "markdown",
   "metadata": {},
   "source": [
    "# <center> INITIATION A LA PROGRAMMATION OBJET </center>"
   ]
  },
  {
   "cell_type": "markdown",
   "metadata": {},
   "source": [
    "## 1. Introduction"
   ]
  },
  {
   "cell_type": "markdown",
   "metadata": {},
   "source": [
    "Depuis la première, voici un résumé de ce que nous avons appris à faire pour programmer:\n",
    "\n",
    "* Au début, nous avons d’abord utilisé de simples instructions( `if`, `for` , `while`,...). Nous avons en quelque sorte « programmé à la main » (c’est-à-dire pratiquement sans outils).\n",
    "* Nous avons ensuite découvert les fonctions prédéfinies(`print()`, `input()`,...) et appris qu’il existait ainsi de vastes collections d’outils spécialisés, réalisés par d’autres programmeurs.\n",
    "* En apprenant à écrire nos propres fonctions(`def`,`return`), nous sommes devenus capables de créer nous-même de nouveaux outils, ce qui nous a donné un surcroît de puissance considérable.\n",
    "\n",
    "\n",
    "Voici l'étape suivante :\n",
    "\n",
    "* Nous allons apprendre les bases et le vocabulaire de la programmation objet avec Python, mais la plupart des langages modernes sont des langages objets. C'est comme si nous devenions capables de construire des machines qui produisent des outils.\n",
    "\n",
    "Qu'est-ce qu'un objet ? :\n",
    "\n",
    "* Un objet est une entité que l’on construit à partir d’une classe (c’est-à-dire en quelque sorte une « catégorie » ou un « type » d’objet)\n",
    "\n",
    "* Comme les objets de la vie courante, les objets informatiques peuvent être très simples ou très compliqués. Ils peuvent être composés de différentes parties, qui soient elles-mêmes des objets, ceux-ci étant faits à leur tour d’autres objets plus simples, etc."
   ]
  },
  {
   "cell_type": "markdown",
   "metadata": {},
   "source": [
    "##### Un exemple"
   ]
  },
  {
   "cell_type": "code",
   "execution_count": 36,
   "metadata": {
    "scrolled": false
   },
   "outputs": [
    {
     "ename": "Terminator",
     "evalue": "",
     "output_type": "error",
     "traceback": [
      "\u001b[1;31m---------------------------------------------------------------------------\u001b[0m",
      "\u001b[1;31mTerminator\u001b[0m                                Traceback (most recent call last)",
      "\u001b[1;32m<ipython-input-36-9992f2a36a63>\u001b[0m in \u001b[0;36m<module>\u001b[1;34m\u001b[0m\n\u001b[0;32m      8\u001b[0m \u001b[1;33m\u001b[0m\u001b[0m\n\u001b[0;32m      9\u001b[0m \u001b[0mexitonclick\u001b[0m\u001b[1;33m(\u001b[0m\u001b[1;33m)\u001b[0m\u001b[1;33m\u001b[0m\u001b[1;33m\u001b[0m\u001b[0m\n\u001b[1;32m---> 10\u001b[1;33m \u001b[0mmainloop\u001b[0m\u001b[1;33m(\u001b[0m\u001b[1;33m)\u001b[0m\u001b[1;33m\u001b[0m\u001b[1;33m\u001b[0m\u001b[0m\n\u001b[0m",
      "\u001b[1;32mc:\\program files\\python38\\lib\\turtle.py\u001b[0m in \u001b[0;36mmainloop\u001b[1;34m()\u001b[0m\n",
      "\u001b[1;31mTerminator\u001b[0m: "
     ]
    }
   ],
   "source": [
    "from turtle import * #1.\n",
    "\n",
    "tortue=Turtle(shape='turtle') #2.\n",
    "\n",
    "for i in range(3):\n",
    "    tortue.forward(100) #3.\n",
    "    tortue.left(120) #4.\n",
    "\n",
    "exitonclick()\n",
    "mainloop()"
   ]
  },
  {
   "cell_type": "markdown",
   "metadata": {},
   "source": [
    "1. On utilise le module `turtle` qui est un fichier qui contient des définitions de classes d'objets(des \"modèles\" d'objets).\n",
    "2. On crée une instance de la classe `Turtle()`(un objet appelé `tortue`) et on initialise l'attribut `shape`  à la valeur `turtle`.\n",
    "3. On applique la méthode `forward` avec l'argument `100` à l'objet `tortue`.\n",
    "4. On applique la méthode `left` avec l'argument `120` à l'objet `tortue`."
   ]
  },
  {
   "cell_type": "markdown",
   "metadata": {},
   "source": [
    "### A retenir\n",
    "L’idée de base de la programmation orientée objet consiste à regrouper dans un même ensemble (l’objet), à la fois un certain nombre de données (ce sont les attributs d’instance), et les algorithmes destinés à effectuer divers traitements sur ces données (ce sont les méthodes, à savoir des fonctions particulières encapsulées dans l’objet).\n",
    "\n",
    "* En résumé :   _Objet = [ attributs + méthodes ]_\n"
   ]
  },
  {
   "cell_type": "markdown",
   "metadata": {},
   "source": [
    "## 2. Classes et attributs\n",
    "\n",
    "Les classes sont les principaux outils de la programmation orientée objet (Object Oriented Programming ou OOP). Ce type de programmation permet de structurer les logiciels complexes en les organisant comme des ensembles d’objets qui interagissent, entre eux et avec le monde extérieur."
   ]
  },
  {
   "cell_type": "markdown",
   "metadata": {},
   "source": [
    "### Définition d'une classe\n",
    "Pour créer une nouvelle classe d’objets Python, on utilise l’instruction `class`. Nous allons donc apprendre à utiliser cette instruction, en commençant par définir un objet : la voiture."
   ]
  },
  {
   "cell_type": "code",
   "execution_count": 3,
   "metadata": {},
   "outputs": [],
   "source": [
    "class Voiture:\n",
    "    '''Definition d'une voiture'''"
   ]
  },
  {
   "cell_type": "markdown",
   "metadata": {},
   "source": [
    "#### Remarques :\n",
    "* L'instruction `class` nécéssite le double point à la fin de la ligne comme les autres instructions compposées sous python (`if`, `def`, ...)\n",
    "* Le bloc doit contenir au moins une ligne. Dans cet exemple, il n'y a rien d'autre qu'une description entre les symboles `'''` (docstring).\n",
    "* Par convention, le nom d'une classe commence par une majuscule"
   ]
  },
  {
   "cell_type": "markdown",
   "metadata": {},
   "source": [
    "### Création d'un objet\n",
    "Nous pouvons désormais nous servir de cette classe pour créer un objet de cette classe. Voyons ce que nous pouvons en faire :"
   ]
  },
  {
   "cell_type": "code",
   "execution_count": 7,
   "metadata": {},
   "outputs": [
    {
     "name": "stdout",
     "output_type": "stream",
     "text": [
      "<__main__.Voiture object at 0x00000249176D7D60>\n",
      "Definition d'une voiture\n"
     ]
    }
   ],
   "source": [
    "my_car=Voiture()\n",
    "print(my_car)\n",
    "print(my_car.__doc__)"
   ]
  },
  {
   "cell_type": "markdown",
   "metadata": {},
   "source": [
    "#### Remarques :\n",
    "* Après cette instruction, la variable `my_car` contient la référence d'un nouvel objet `Voiture()`. On dit que `my_car`est une instance de la classe `Voiture()`.\n",
    "* Comme pour les fonctions, les classes auxquelles on fait appel doivent être accompagnées de parenthèses.\n",
    "* Le premier message indique bien que `my_car` est une instance de la classe `Voiture()`, située à l'adresse mémoire indiquée ici en notation héxadécimale.\n",
    "* Le deuxième message affiche la documentation de la classe que nous avons nous-mêmes saisi.Nous rencontrerons de nouveau les caractères `__` dans la suite de la feuille"
   ]
  },
  {
   "cell_type": "markdown",
   "metadata": {},
   "source": [
    "### Manipuler les attributs\n",
    "L'objet que nous venons de créer est juste une coquille vide. Nous allons à présent lui ajouter des composants, à l'aide du symbole `=` et du point `.`"
   ]
  },
  {
   "cell_type": "code",
   "execution_count": 8,
   "metadata": {},
   "outputs": [],
   "source": [
    "my_car.marque='Peugeot'\n",
    "my_car.modele='504'\n",
    "my_car.couleur='beige'\n",
    "my_car.km=200000\n",
    "my_car.annee=1983"
   ]
  },
  {
   "cell_type": "code",
   "execution_count": 9,
   "metadata": {},
   "outputs": [
    {
     "name": "stdout",
     "output_type": "stream",
     "text": [
      "504\n",
      "False\n"
     ]
    }
   ],
   "source": [
    "print(my_car.modele)\n",
    "print(my_car.annee >2000)"
   ]
  },
  {
   "cell_type": "markdown",
   "metadata": {},
   "source": [
    "### Remarques:\n",
    "* Les variables définies ainsi sont directement liées à `my_car`, ce sont les attributs de cet objet. On les appelle également des variables d'instance.\n",
    "* On peut ensuite utiliser ces attributs comme n'importe quelle expression et les manipuler comme des variables ordinaires.\n",
    "* ATTENTION : les exemples données ici sont provisoires, ils sont fait pour simplifier cette première approche. La bonne manière de les utiliser est abordée un peu plus loin."
   ]
  },
  {
   "cell_type": "markdown",
   "metadata": {},
   "source": [
    "### Similitude et unicité"
   ]
  },
  {
   "cell_type": "markdown",
   "metadata": {},
   "source": [
    "##### Exercice 1 : \n",
    "1. Créer une instance `your_car` de la classe `Voiture()`  avec les valeurs de variables d'instance suivantes :\n",
    "* 'Renault', '4L', 'bleu', 150000, 1970"
   ]
  },
  {
   "cell_type": "code",
   "execution_count": 12,
   "metadata": {},
   "outputs": [],
   "source": [
    "#1.\n",
    "your_car=Voiture()"
   ]
  },
  {
   "cell_type": "markdown",
   "metadata": {},
   "source": [
    "2. Créer une instance `her_car` de la classe `Voiture()` avec les mêmes attributs et valeurs que `my_car`(il y a 2 façons de faire). `my_car` et `her_car` sont-ils le même objet ?\n"
   ]
  },
  {
   "cell_type": "code",
   "execution_count": 71,
   "metadata": {},
   "outputs": [
    {
     "name": "stdout",
     "output_type": "stream",
     "text": [
      "False <__main__.Voiture object at 0x000002D299E42490> <__main__.Voiture object at 0x000002D299E4A0A0>\n",
      "True <__main__.Voiture object at 0x000002D299E42490> <__main__.Voiture object at 0x000002D299E42490>\n"
     ]
    }
   ],
   "source": [
    "#2. méthode 1\n",
    "her_car=Voiture()\n",
    "\n",
    "\n",
    "print(my_car==her_car,my_car, her_car)\n",
    "\n",
    "#2. méthode 2\n",
    "\n",
    "print(my_car==her_car,my_car, her_car)"
   ]
  },
  {
   "cell_type": "markdown",
   "metadata": {},
   "source": [
    "#### Remarques :\n",
    "\n",
    "* Dans la langue parlée, le mot « même », a des significations différentes dans les phrases : « Charles et moi avons la même voiture » et « Charles et moi avons la même mère ». Dans la première, ce que je veux dire est que la voiture de Charles et la mienne sont du même modèle. Il s’agit pourtant de deux voitures distinctes. Dans la seconde, j’indique que la mère de Charles et la mienne constituent en fait une seule et unique personne.\n",
    "\n",
    "* Lorsque nous traitons d’objets logiciels, nous pouvons rencontrer la même ambiguïté. Par exemple, si nous parlons de l’égalité de deux objets `Voiture()`, cela signifie-t-il que ces deux objets contiennent les mêmes données (leurs attributs), ou bien cela signifie-t-il que nous parlons de deux références à un même et unique objet ? \n",
    "\n",
    "* Dans la méthode 1 de la deuxième question, les instructions créent deux objets dstincts qui ont les mêmes attributs et valeurs (`my_car` et `her_car`) ne désignent pas le même objet, chacun a son adresse mémoire.\n",
    "\n",
    "* Dans la méthode 2 de la deuxième question, Par l’instruction `her_car=my_car` , nous assignons le contenu de `my_car` à `her_car`. Cela signifie que désormais ces deux variables référencent le même objet. Ces variables sont des alias  l’une de l’autre.Lorsque l'on modifie un attribut d'une variable , l'autre est également modifiée.\n",
    "\n"
   ]
  },
  {
   "cell_type": "markdown",
   "metadata": {},
   "source": [
    "## 3. Méthodes\n",
    "* Comme déjà signalé plus haut, utiliser de cette façon les attributs d’une instance n’est pas une pratique recommandable, car les attributs que nous déclarons à nos objets doivent être valable pour tous les objets de la même classe.\n",
    "* Nous allons maintenant étudier comment faire fonctionner les objets à l’aide d’outils vraiment appropriés, que nous appellerons des méthodes(qui ressemblent beaucoup aux fonctions).\n",
    "* L’ensemble de ces méthodes constituera ce que nous appellerons désormais l’interface de l’objet."
   ]
  },
  {
   "cell_type": "markdown",
   "metadata": {},
   "source": [
    "Reprenons une nouvelle voiture :"
   ]
  },
  {
   "cell_type": "code",
   "execution_count": 10,
   "metadata": {},
   "outputs": [],
   "source": [
    "new_car=Voiture()\n",
    "new_car.marque='Ford'\n",
    "new_car.modele='Ranger'\n",
    "new_car.couleur='noir'\n",
    "new_car.km=300000\n",
    "new_car.annee=2007"
   ]
  },
  {
   "cell_type": "markdown",
   "metadata": {},
   "source": [
    "##### Exercice 2:\n",
    "Compléter la fonction `rouler(car,vitesse,temps)` ci-dessous :"
   ]
  },
  {
   "cell_type": "code",
   "execution_count": 13,
   "metadata": {},
   "outputs": [],
   "source": [
    "def rouler(car, vitesse, temps):\n",
    "    '''Fait rouler une voiture à une vitesse en km/h et pendant un temps en h\n",
    "    et modifie le kilométrage.\n",
    "    Parametres:\n",
    "    car : instance de la classe Voiture\n",
    "    vitesse : vitesse en km/h, type entier\n",
    "    temps : temps, en heures, type entier\n",
    "    \n",
    "    Sortie :affiche le nouveau kilométrage\n",
    "    '''\n",
    "    \n",
    "    \n",
    "    \n",
    "rouler(new_car,130,2)   \n",
    "rouler(my_car,60,3)\n",
    "rouler(your_car,240,4)"
   ]
  },
  {
   "cell_type": "markdown",
   "metadata": {},
   "source": [
    "#### Remarques:\n",
    "\n",
    "* Cette fonction peut être utilisée pour faire rouler toutes les voitures, c'est à dire toutes les instances de la classe`Voiture()`.\n",
    "* Il serait donc judicieux d’arriver à encapsuler cette fonction dans la classe `Voiture()` elle-même, de manière à s’assurer qu’elle soit toujours automatiquement disponible, chaque fois que l’on aura à manipuler des objets de cette classe.\n",
    "* Une fonction que l’on aura ainsi encapsulée dans une classe s’appelle une méthode.\n"
   ]
  },
  {
   "cell_type": "markdown",
   "metadata": {},
   "source": [
    "### Définition d'une méthode\n",
    "Ecrivons la méthode `rouler` dans la classe `Voiture`:"
   ]
  },
  {
   "cell_type": "code",
   "execution_count": 96,
   "metadata": {},
   "outputs": [],
   "source": [
    "class Voiture:\n",
    "    '''Definition d'une voiture'''\n",
    "    \n",
    "    def rouler(self, vitesse, temps):\n",
    "        '''Fait rouler une voiture à une vitesse en km/h et pendant un temps en h\n",
    "        et modifie le kilométrage.\n",
    "        \n",
    "        Parametres:\n",
    "        car : instance de la classe Voiture\n",
    "        vitesse : vitesse en km/h, type entier\n",
    "        temps : temps, en heures, type entier\n",
    "    \n",
    "        Sortie :affiche le nouveau kilométrage\n",
    "        '''\n",
    "    \n",
    "        self.km=self.km+vitesse*temps\n",
    "        print(self.km)"
   ]
  },
  {
   "cell_type": "markdown",
   "metadata": {},
   "source": [
    "* On définit une méthode comme on définit une fonction, c’est-à-dire en écrivant un bloc d’instructions à la suite du mot réservé `def`, mais cependant avec deux différences :\n",
    "  * La définition d’une méthode est toujours placée à l’intérieur de la définition d’une classe, de manière à ce que la relation qui lie la méthode à la classe soit clairement établie.\n",
    "  * La définition d’une méthode doit toujours comporter au moins un paramètre, lequel doit être une référence d’instance, et ce paramètre particulier doit toujours être listé en premier.\n",
    "  \n",
    "* On en principe utiliser un nom de variable quelconque pour ce premier paramètre, mais il est vivement conseillé de respecter la convention qui consiste à toujours lui donner le nom : `self`.Ce paramètre `self` est nécessaire, parce qu’il faut pouvoir désigner l’instance à laquelle la méthode sera associée, dans les instructions faisant partie de sa définition. \n",
    "\n",
    "* On remarque que la définition d’une méthode comporte toujours au moins un paramètre : self, alors que la définition d’une fonction peut n’en comporter aucun."
   ]
  },
  {
   "cell_type": "markdown",
   "metadata": {},
   "source": [
    "### Utilisation d'une méthode"
   ]
  },
  {
   "cell_type": "markdown",
   "metadata": {},
   "source": [
    "##### Exercice 3 : \n",
    "Essayons maintenant notre méthode.\n",
    "1. Exécuter le code suivant."
   ]
  },
  {
   "cell_type": "code",
   "execution_count": 97,
   "metadata": {},
   "outputs": [
    {
     "ename": "AttributeError",
     "evalue": "'Voiture' object has no attribute 'km'",
     "output_type": "error",
     "traceback": [
      "\u001b[1;31m---------------------------------------------------------------------------\u001b[0m",
      "\u001b[1;31mAttributeError\u001b[0m                            Traceback (most recent call last)",
      "\u001b[1;32m<ipython-input-97-3cfc6879e8cb>\u001b[0m in \u001b[0;36m<module>\u001b[1;34m\u001b[0m\n\u001b[0;32m      1\u001b[0m \u001b[1;31m#1.\u001b[0m\u001b[1;33m\u001b[0m\u001b[1;33m\u001b[0m\u001b[1;33m\u001b[0m\u001b[0m\n\u001b[0;32m      2\u001b[0m \u001b[0manother_car\u001b[0m\u001b[1;33m=\u001b[0m\u001b[0mVoiture\u001b[0m\u001b[1;33m(\u001b[0m\u001b[1;33m)\u001b[0m\u001b[1;33m\u001b[0m\u001b[1;33m\u001b[0m\u001b[0m\n\u001b[1;32m----> 3\u001b[1;33m \u001b[0manother_car\u001b[0m\u001b[1;33m.\u001b[0m\u001b[0mrouler\u001b[0m\u001b[1;33m(\u001b[0m\u001b[1;36m80\u001b[0m\u001b[1;33m,\u001b[0m\u001b[1;36m1\u001b[0m\u001b[1;33m)\u001b[0m\u001b[1;33m\u001b[0m\u001b[1;33m\u001b[0m\u001b[0m\n\u001b[0m",
      "\u001b[1;32m<ipython-input-96-2ade75c5a3d7>\u001b[0m in \u001b[0;36mrouler\u001b[1;34m(self, vitesse, temps)\u001b[0m\n\u001b[0;32m     14\u001b[0m         '''\n\u001b[0;32m     15\u001b[0m \u001b[1;33m\u001b[0m\u001b[0m\n\u001b[1;32m---> 16\u001b[1;33m         \u001b[0mself\u001b[0m\u001b[1;33m.\u001b[0m\u001b[0mkm\u001b[0m\u001b[1;33m=\u001b[0m\u001b[0mself\u001b[0m\u001b[1;33m.\u001b[0m\u001b[0mkm\u001b[0m\u001b[1;33m+\u001b[0m\u001b[0mvitesse\u001b[0m\u001b[1;33m*\u001b[0m\u001b[0mtemps\u001b[0m\u001b[1;33m\u001b[0m\u001b[1;33m\u001b[0m\u001b[0m\n\u001b[0m\u001b[0;32m     17\u001b[0m         \u001b[0mprint\u001b[0m\u001b[1;33m(\u001b[0m\u001b[0mself\u001b[0m\u001b[1;33m.\u001b[0m\u001b[0mkm\u001b[0m\u001b[1;33m)\u001b[0m\u001b[1;33m\u001b[0m\u001b[1;33m\u001b[0m\u001b[0m\n",
      "\u001b[1;31mAttributeError\u001b[0m: 'Voiture' object has no attribute 'km'"
     ]
    }
   ],
   "source": [
    "#1.\n",
    "another_car=Voiture()\n",
    "another_car.rouler(80,1)"
   ]
  },
  {
   "cell_type": "markdown",
   "metadata": {},
   "source": [
    "2. Modifier ce code pour résoudre l'erreur."
   ]
  },
  {
   "cell_type": "code",
   "execution_count": 98,
   "metadata": {},
   "outputs": [
    {
     "name": "stdout",
     "output_type": "stream",
     "text": [
      "180\n"
     ]
    }
   ],
   "source": [
    "\n"
   ]
  },
  {
   "cell_type": "markdown",
   "metadata": {},
   "source": [
    "#### Remarques :\n",
    "* À plusieurs reprises, nous avons déjà signalé qu’il n’est pas recommandable de créer ainsi des attributs d’instance par assignation directe en dehors de l’objet lui-même, cette manière est source d'erreurs.\n",
    "* Nous allons nous arranger pour la méthode `rouler` puisse toujours afficher quelque chose, sans qu’il ne soit nécessaire d’effectuer au préalable une manipulation sur l’objet nouvellement créé. \n",
    "* En d’autres termes, il faut que les variables d’instance soient prédéfinies elles aussi à l’intérieur de la classe, avec pour chacune d’elles une valeur « par défaut ».\n",
    "* Pour obtenir cela, nous allons faire appel à une méthode particulière, que l’on désignera par la suite sous le nom de constructeur. Une méthode constructeur est exécutée automatiquement lorsque l’on instancie un nouvel objet à partir de la classe. On peut donc y placer tout ce qui semble nécessaire pour initialiser automatiquement l’objet que l’on crée."
   ]
  },
  {
   "cell_type": "markdown",
   "metadata": {},
   "source": [
    "### La méthode constructeur\n",
    "Insérons les caractéristiques d'une voiture dans la classe `Voiture()`:"
   ]
  },
  {
   "cell_type": "code",
   "execution_count": 99,
   "metadata": {},
   "outputs": [
    {
     "name": "stdout",
     "output_type": "stream",
     "text": [
      "Trabant\n",
      "1961\n",
      "e-legend\n",
      "1000\n"
     ]
    }
   ],
   "source": [
    "class Voiture:\n",
    "    '''Definition d'une voiture'''\n",
    "\n",
    "    def __init__(self,marque='Trabant',modele='601',couleur='gris',km=10000,annee=1961):\n",
    "        self.marque=marque\n",
    "        self.modele=modele\n",
    "        self.couleur=couleur\n",
    "        self.km=km\n",
    "        self.annee=annee\n",
    "    \n",
    "    def rouler(self, vitesse, temps):\n",
    "        '''Fait rouler une voiture à une vitesse en km/h et pendant un temps en h\n",
    "        et modifie le kilométrage.\n",
    "        \n",
    "        Parametres:\n",
    "        car : instance de la classe Voiture\n",
    "        vitesse : vitesse en km/h, type entier\n",
    "        temps : temps, en heures, type entier\n",
    "    \n",
    "        Sortie :affiche le nouveau kilométrage\n",
    "        '''\n",
    "    \n",
    "        self.km=self.km+vitesse*temps\n",
    "        \n",
    "        \n",
    "\n",
    "a_car=Voiture()\n",
    "print(a_car.marque)\n",
    "print(a_car.annee)\n",
    "        \n",
    "the_car=Voiture('Peugeot','e-legend','turquoise',0,2018)\n",
    "print(the_car.modele)\n",
    "the_car.rouler(100,10)\n",
    "print(the_car.km)"
   ]
  },
  {
   "cell_type": "markdown",
   "metadata": {},
   "source": [
    "#### Remarques :\n",
    "* Afin qu’elle soit reconnue comme telle par Python, la méthode constructeur devra obligatoirement s’appeler` __init__ `(deux caractères « souligné », le mot init, puis encore deux caractères « souligné »).\n",
    "* Cette méthode `__init__()`comporte à présent 6 paramètres, avec pour 5 d'entre eux une valeur par défaut. Nous obtenons ainsi une classe encore plus perfectionnée. \n",
    "* Lorsque nous instancions un objet de cette classe, nous pouvons maintenant initialiser ses principaux attributs à l’aide d’arguments, au sein même de l’instruction d’instanciation. Et si nous omettons tout ou partie d’entre eux, les attributs reçoivent de toute manière des valeurs par défaut.\n",
    "* Lorsque l’on écrit l’instruction d’instanciation d’un nouvel objet, et que l’on veut transmettre des arguments à sa méthode constructeur, il suffit de placer ceux-ci dans les parenthèses qui accompagnent le nom de la classe. On procède donc exactement de la même manière que lorsque l’on invoque une fonction quelconque."
   ]
  },
  {
   "cell_type": "markdown",
   "metadata": {},
   "source": [
    "##### Exercice 4 :\n",
    "1. Ajouter dans le programme ci-dessous la méthode `repeindre`. Cette méthode doit permettre de modifier la couleur d'une voiture.\n",
    "2. Ajouter la variable d'instance `puissance` avec comme valeur par défaut `26`.\n",
    "3. Ajouter la méthode `pimp` qui doit permettre d'augmenter la puissance d'une voiture d'un nombre de chevaux souhaité."
   ]
  },
  {
   "cell_type": "code",
   "execution_count": 14,
   "metadata": {},
   "outputs": [
    {
     "name": "stdout",
     "output_type": "stream",
     "text": [
      "gris\n",
      "26\n"
     ]
    }
   ],
   "source": [
    "class Voiture:\n",
    "    '''Definition d'une voiture'''\n",
    "    \n",
    "    def __init__(self,marque='Trabant',modele='601',couleur='gris',km=10000,annee=1961,puissance=26):\n",
    "        self.marque=marque\n",
    "        self.modele=modele\n",
    "        self.couleur=couleur\n",
    "        self.km=km\n",
    "        self.annee=annee\n",
    "        self.puissance=puissance\n",
    "    \n",
    "    def rouler(self, vitesse, temps):\n",
    "        '''Fait rouler une voiture à une vitesse en km/h et pendant un temps en h\n",
    "        et modifie le kilométrage.\n",
    "        \n",
    "        Parametres:\n",
    "        car : instance de la classe Voiture\n",
    "        vitesse : vitesse en km/h, type entier\n",
    "        temps : temps, en heures, type entier\n",
    "    \n",
    "        Sortie :affiche le nouveau kilométrage\n",
    "        '''\n",
    "    \n",
    "        self.km=self.km+vitesse*temps\n",
    "        \n",
    "    \n",
    "    def repeindre(self,nouv_couleur):\n",
    "        '''Repeind la voiture d'une couleur souhaitée\n",
    "        parametre :\n",
    "        nouv_couleur la nouvelle couleur type string\n",
    "        '''\n",
    "        pass\n",
    "        \n",
    "    def pimp(self,cv):\n",
    "        '''Modifie la puissance de la voiture\n",
    "        parametre : cv , nombre de chevaux en plus, type entier'''\n",
    "        \n",
    "        pass\n",
    "        \n",
    "\n",
    "trabi=Voiture()\n",
    "trabi.repeindre('rose avec des fleurs')\n",
    "print(trabi.couleur)\n",
    "trabi.pimp(120)\n",
    "print(trabi.puissance)"
   ]
  },
  {
   "cell_type": "markdown",
   "metadata": {},
   "source": [
    "### La méthode `__str__`\n",
    "* Lorsque l'on essaie d'afficher une instance, nous quelque chose qui n'est pas très fonctionnel:"
   ]
  },
  {
   "cell_type": "code",
   "execution_count": 103,
   "metadata": {},
   "outputs": [
    {
     "name": "stdout",
     "output_type": "stream",
     "text": [
      "<__main__.Voiture object at 0x000002D2982A9040>\n"
     ]
    }
   ],
   "source": [
    "car=Voiture()\n",
    "print(car)"
   ]
  },
  {
   "cell_type": "markdown",
   "metadata": {},
   "source": [
    "* Pouvoir afficher quelque chose de plus lisible pour un humain, nous allons redédinir le comportement de la fonction `print()` avec les instance de notre classe `Voiture()` grâce à une autre méthode spéciale : la méthode `__str`:"
   ]
  },
  {
   "cell_type": "code",
   "execution_count": 105,
   "metadata": {},
   "outputs": [
    {
     "name": "stdout",
     "output_type": "stream",
     "text": [
      "Trabant\n"
     ]
    }
   ],
   "source": [
    "class Voiture:\n",
    "    '''Definition d'une voiture'''\n",
    "    \n",
    "    def __init__(self,marque='Trabant',modele='601',couleur='gris',km=10000,annee=1961,puissance=26):\n",
    "        self.marque=marque\n",
    "        self.modele=modele\n",
    "        self.couleur=couleur\n",
    "        self.km=km\n",
    "        self.annee=annee\n",
    "        self.puissance=puissance\n",
    "    \n",
    "    def __str__(self):\n",
    "        return self.marque\n",
    "    \n",
    "car=Voiture()\n",
    "print(car)"
   ]
  },
  {
   "cell_type": "markdown",
   "metadata": {},
   "source": [
    "#### Remarques :\n",
    "* Cette méthode coporte un unique parametre `self`, qui désigne l'instance concernée par l'appel de cette méthode.\n",
    "* On peut y placer les informations de notre choix.\n",
    "* ce qui est renvoyé est nécéssairement une chaînde de caractères."
   ]
  },
  {
   "cell_type": "markdown",
   "metadata": {},
   "source": [
    "##### Exercice 5:\n",
    "Modifier le programme ci-dessous pour que la méthode `__str__` renvoie toutes les caractéristiques de la voiture de façon lisible."
   ]
  },
  {
   "cell_type": "code",
   "execution_count": 16,
   "metadata": {},
   "outputs": [
    {
     "name": "stdout",
     "output_type": "stream",
     "text": [
      "\n"
     ]
    }
   ],
   "source": [
    "class Voiture:\n",
    "    '''Definition d'une voiture'''\n",
    "    \n",
    "    def __init__(self,marque='Trabant',modele='601',couleur='gris',km=10000,annee=1961,puissance=26):\n",
    "        self.marque=marque\n",
    "        self.modele=modele\n",
    "        self.couleur=couleur\n",
    "        self.km=km\n",
    "        self.annee=annee\n",
    "        self.puissance=puissance\n",
    "    \n",
    "    def __str__(self):\n",
    "        \n",
    "        return ''\n",
    "\n",
    "car=Voiture()\n",
    "print(car)"
   ]
  },
  {
   "cell_type": "markdown",
   "metadata": {},
   "source": [
    "### Autres méthodes spéciales `__`\n",
    "D'autres méthodes particulières de python mermettent de faciliter la syntaxe, en voici quelques unes. On se réfèrera aux exercices 7 et 9 pour leur utilisation :\n",
    "\n",
    "| méthode  |     appel        |   effet                                      |\n",
    "| ---------|: --------------: | :-------------------------------------------:|\n",
    "|`__lt__`  |        a < b     |      renvoie `True` si a est plus petit que b|\n",
    "|`__eq__`  |        a == b      |      renvoie `True` si a est égal à b |\n",
    "|`__add__` |        a + b       |      redéfinit l'opérateur `+` |\n",
    "|`__mul__` |        a * b       |      redéfinit l'opérateur `*` |\n"
   ]
  },
  {
   "cell_type": "markdown",
   "metadata": {},
   "source": [
    "## 4. A retenir\n",
    "* La programmation objet structure les programmes en regroupant dans une même entité des données et le code manipulant ces données. \n",
    "* Dans ce paradigme de programmation, on manipule des objets pouvant contenir plusieurs données sous le forme d'attributs, à l'aide de fonctions particulières appelées méthodes. \n",
    "* Chaque objet est une instance d'une classe, la classe définissant l'ensemble des attributs et méthodes que possèdent ses instances."
   ]
  },
  {
   "cell_type": "markdown",
   "metadata": {},
   "source": [
    "## 5. Exercices"
   ]
  },
  {
   "cell_type": "markdown",
   "metadata": {},
   "source": [
    "##### Exercice 6  : Compte bancaire\n",
    "Définir une classe `CompteBancaire()`, qui permette d’instancier des objets tels que `compte1`, `compte2`, etc. \n",
    "1. Le constructeur de cette classe initialisera deux attributs d’instance `nom` et `solde`, avec les valeurs par défaut `'Dupont'` et `1000`.Trois autres méthodes seront définies :\n",
    "2. `__str__`\t\tdoit renvoyer le nom du titulaire et le solde de son compte.\n",
    "3. `depot(somme)`\tpermettra d’ajouter une certaine somme au solde.\n",
    "4. `retrait(somme)`\tpermettra de retirer une certaine somme du solde.\n",
    "\n",
    "On complètera le programme ci-dessous au fur et à mesure que l'on pourra tester sur les exemples proposés plus bas."
   ]
  },
  {
   "cell_type": "code",
   "execution_count": 151,
   "metadata": {},
   "outputs": [
    {
     "name": "stdout",
     "output_type": "stream",
     "text": [
      "Prunelle 800\n",
      "Prunelle 1130\n",
      "Dupont 1000\n",
      "Dupont 950\n"
     ]
    }
   ],
   "source": [
    "class CompteBancaire:\n",
    "    \n",
    "\n",
    "\n",
    "\n",
    "\n",
    "\n",
    "compte1=CompteBancaire('Prunelle',800)\n",
    "print(compte1)\n",
    "compte1.depot(350)\n",
    "compte1.retrait(20)\n",
    "print(compte1)\n",
    "\n",
    "compte2=CompteBancaire()\n",
    "print(compte2)\n",
    "compte2.depot(100)\n",
    "compte2.retrait(150)\n",
    "print(compte2)"
   ]
  },
  {
   "cell_type": "markdown",
   "metadata": {},
   "source": [
    "##### Exercice 7: Date\n",
    "Définir une classe `Date` pour représenter une date:\n",
    "1. La méthode constructeur comportera trois attributs entiers strictement positifs :\n",
    "   * `jour` avec la valeur par défaut `1`.\n",
    "   * `mois` avec la valeur par défaut `1`.\n",
    "   * `annee` avec la valeur par défaut `1970`.\n",
    "2. La méthode `__str__` qui renvoie une date du type `'1/1/1970'`\n",
    "3. La méthode `lt`(\"lower than\") qui reçoit une deuxième date `d` en argument et qui renvoie `True` si la première date est antérieure à la date `d`.\n",
    "4. Modifier le nom de la méthode`lt` en `__lt__`, puis utiliser l'opérateur `<` pour comparer deux dates. Epatant non ?"
   ]
  },
  {
   "cell_type": "code",
   "execution_count": 213,
   "metadata": {},
   "outputs": [
    {
     "name": "stdout",
     "output_type": "stream",
     "text": [
      "1/1/1970 20/7/1969\n",
      "False True False\n"
     ]
    }
   ],
   "source": [
    "class Date:\n",
    "    \n",
    "\n",
    "\n",
    "\n",
    "d1=Date()\n",
    "d2=Date(20,7,1969)\n",
    "print(d1,d2)\n",
    "print(d1<d2, d2<d1, d1<d1)\n",
    "\n",
    "        "
   ]
  },
  {
   "cell_type": "markdown",
   "metadata": {},
   "source": [
    "##### Exercice 8 :  Planètes\n",
    "Définir une classe `Sphere`. Les objets construits à partir de cette classe seront des Sphères de tailles et de matières variées pouvant représenter des planètes.\n",
    "1. La méthode constructeur comportera trois attributs :\n",
    "   * `nom` avec la valeur `'inconnue'` par défaut\n",
    "   * `rayon` avec la valeur par défaut $1$ (exprimée en $km$)\n",
    "   * `densité` avec la valeur par défaut $1$ (exprimée en $g/cm^3$)\n",
    "2. La méthode `__str__()` doit renvoyer le nom de la sphere ainsi que son rayon et sa densité, avec les unités.\n",
    "3. La méthode `circonference()` doit renvoyer la circonférence de la sphère (en km)\n",
    "3. La méthode `volume()` doit renvoyer le volume de la sphère (en $km^3$.\n",
    "4. La méthode `surface()`doit renvoyer la surface de la sphère (en $km²$).\n",
    "5. La méthode `masse()` doit renvoyer la masse de la sphère (exprimée en tonnes)."
   ]
  },
  {
   "cell_type": "code",
   "execution_count": 193,
   "metadata": {},
   "outputs": [
    {
     "name": "stdout",
     "output_type": "stream",
     "text": [
      "Terre : 6400 km, 5510 kg/m3\n",
      "circonference : 40212.385965949354  km\n",
      "volume : 1098066219443.5236 km3\n",
      "surface : 514718540.3641517 km2\n",
      "masse : 6.050344869133815e+21 tonnes\n"
     ]
    }
   ],
   "source": [
    "from math import *\n",
    "\n",
    "class Sphere:\n",
    "\n",
    "\n",
    "\n",
    "planete3=Sphere('Terre',6400,5510)\n",
    "print(planete3)\n",
    "print('circonference :', planete3.circonference(), ' km')\n",
    "print('volume :', planete3.volume(), 'km3')\n",
    "print('surface :', planete3.surface(), 'km2')\n",
    "print('masse :', planete3.masse(),'tonnes')"
   ]
  },
  {
   "cell_type": "markdown",
   "metadata": {},
   "source": [
    "#### Exercice 9 : Fraction\n",
    "Définir une classe `Fraction()` pour représenter un nombre rationnel.\n",
    "1. La méthode constructeur comportera deux attributs strictement positifs :\n",
    "   * `numerateur` avec la valeur `2` par défaut.\n",
    "   * `denominateur` avec la valeur `3` par défaut.\n",
    "   \n",
    "2. La méthode `__str__()` doit renvoyer une écriture du type `'2/3'`.\n",
    "\n",
    "3. La méthode `eq()` reçoit une deuxième fraction `f` en argument et qui doit renvoyer `True` si la première fraction est égale à la seconde fraction `f`.\n",
    "\n",
    "4. La méthode `lt()` (\"lower than\") reçoit une deuxième fraction `f` en argument et qui doit renvoyer `True` si la première fraction est strictement inférieure à la seconde fraction `f`.\n",
    "\n",
    "5. La méthode `add()` reçoit une deuxième fraction `f` en argument et  doit renvoyer la somme de la première et de la deuxième fraction.\n",
    "\n",
    "6. La méthode `mul()`reçoit une deuxième fraction `f` en argument et  doit renvoyer le produit de la première et de la deuxième fraction.\n",
    "\n",
    "7. Modifier les noms des méthodes des questions 3 à 6 en ajoutant de part et d'autres les symboles `__`.Trouver les opérateurs qui permettent alors de tester ici l'égalité, la comparaison, l'addition et la multiplication de fractions.\n",
    "\n",
    "On complétera le programme ci-dessous au fur et à mesure et on pourra utiliser les instructions écrites plus bas."
   ]
  },
  {
   "cell_type": "code",
   "execution_count": 215,
   "metadata": {},
   "outputs": [
    {
     "name": "stdout",
     "output_type": "stream",
     "text": [
      "2/3 4/6 3/4\n",
      "True False\n",
      "False True\n",
      "24/18 17/12\n",
      "8/18 6/12\n"
     ]
    }
   ],
   "source": [
    "class Fraction:\n",
    "    '''Definit une classe permettant de manipuler des fractions rationnelles\n",
    "    dont le numerateur et le denominateur sont strictement positifs'''\n",
    "    \n",
    "\n",
    "    \n",
    "    \n",
    "#1.\n",
    "f1=Fraction(2,3)\n",
    "f2=Fraction(4,6)\n",
    "f3=Fraction(3,4)\n",
    "\n",
    "#2.\n",
    "print(f1,f2,f3)\n",
    "\n",
    "#3.\n",
    "#print(f1.eq(f2),f1.eq(f3))\n",
    "print(f1==f2 , f1==f3)\n",
    "\n",
    "#4.\n",
    "#print(f1.lt(f2), f1.lt(f3))\n",
    "print(f1<f2 , f1<f3)\n",
    "\n",
    "#5.\n",
    "#print(f1.add(f2),f1.add(f3))\n",
    "print(f1+f2 , f1+f3)\n",
    "\n",
    "#6.\n",
    "#print(f1.mul(f2),f1.mul(f3))\n",
    "print(f1*f2 ,f1*f3)"
   ]
  },
  {
   "cell_type": "markdown",
   "metadata": {},
   "source": [
    "#### Exercice 10 : Jeu de cartes 1\n",
    "Définir une classe `JeuDeCartes()` permettant d’instancier des objets dont le comportement soit similaire à celui d’un vrai jeu de cartes.La classe devra comporter au moins les quatre méthodes suivantes :\n",
    "\n",
    "1. Méthode constructeur : création et remplissage d’une liste de $52$ éléments, qui sont eux-mêmes des tuples de $2$ entiers. Cette liste de tuples contiendra les caractéristiques de chacune des $52$ cartes. Pour chacune d’elles, il faut en effet mémoriser séparément un entier indiquant la valeur ($2$, $3$, $4$, $5$, $6$, $7$, $8$, $9$, $10$, $11$, $12$, $13$, $14$, les $4$ dernières valeurs étant celles des valet, dame, roi et as), et un autre entier indiquant la couleur de la carte (c’est-à-dire $3$,$2$,$1$,$0$ pour Cœur, Carreau, Trèfle et Pique).Dans une telle liste, l’élément ($11$,$2$) désigne donc le valet de Trèfle, et la liste terminée doit être du type :\n",
    "    `[(2, 0), (3,0), (3,0), (4,0), ..... (12,3), (13,3), (14,3)]`\n",
    "    \n",
    "2. Méthode `nom_carte()` : cette méthode doit renvoyer, sous la forme d’une chaîne, l’identité d’une carte quelconque dont on lui a fourni le tuple descripteur en argument. Par exemple, l’instruction : `print(jeu.nom_carte((14, 3)))` doit provoquer l’affichage de : `As de pique`.\n",
    "\n",
    "3. méthode `battre()` : comme chacun sait, battre les cartes consiste à les mélanger.Cette méthode sert donc à mélanger les éléments de la liste contenant les cartes, quel qu’en soit le nombre.\n",
    "*Aide : on pourra utiliser la méthode `shuffle` du module random pour les listes*\n",
    "\n",
    "4. méthode `tirer()` : lorsque cette méthode est invoquée, une carte est retirée du jeu. Le tuple contenant sa valeur et sa couleur est renvoyé au programme appelant. On retire toujours la première carte de la liste. Si cette méthode est invoquée alors qu’il ne reste plus aucune carte dans la liste, il faut alors renvoyer l’objet spécial `None` au programme appelant.\n",
    "*Aide : on pourra utiliser la fonction `del` pour les listes.*\n",
    "\n",
    "\n",
    "On complètera le programme ci-dessous au fur et à mesure. L'objectif est d'éxécuter le programme écrit sous la définition de la classe sans erreur."
   ]
  },
  {
   "cell_type": "code",
   "execution_count": 147,
   "metadata": {},
   "outputs": [
    {
     "name": "stdout",
     "output_type": "stream",
     "text": [
      "Valet de Pique | 10 de Coeur | Dame de Pique | 2 de Carreau | 6 de Pique | 2 de Coeur | Dame de Coeur | 9 de Pique | Valet de Coeur | 4 de Pique | 3 de Pique | 6 de Carreau | 7 de Coeur | 7 de Carreau | 8 de Pique | 9 de Carreau | 10 de Pique | Roi de Pique | 6 de Trèfle | Valet de Trèfle | 3 de Trèfle | 8 de Carreau | 10 de Carreau | 10 de Trèfle | 5 de Coeur | 2 de Trèfle | 9 de Coeur | As de Coeur | 8 de Trèfle | Valet de Carreau | Dame de Trèfle | 5 de Pique | 9 de Trèfle | Roi de Carreau | Roi de Coeur | 5 de Carreau | As de Pique | As de Carreau | 6 de Coeur | 7 de Trèfle | 8 de Coeur | 7 de Pique | 4 de Carreau | 3 de Coeur | Dame de Carreau | As de Trèfle | 4 de Coeur | 5 de Trèfle | 2 de Pique | 4 de Trèfle | 3 de Carreau | Roi de Trèfle | Terminé\n"
     ]
    }
   ],
   "source": [
    "from random import *\n",
    "\n",
    "class JeuDeCartes:\n",
    "    '''classe définissant un jeu de 52 cartes'''\n",
    "    \n",
    "    \n",
    "    \n",
    "        \n",
    "        \n",
    "jeu=JeuDeCartes()\n",
    "jeu.battre()\n",
    "\n",
    "for n in range(53):\n",
    "    carte=jeu.tirer()\n",
    "    if carte==None:\n",
    "        print('Terminé')\n",
    "    else:\n",
    "        print(jeu.nom_carte(carte), end=' | ')"
   ]
  },
  {
   "cell_type": "markdown",
   "metadata": {},
   "source": [
    "##### Exercice 11 : Jeu de cartes 2\n",
    "A l'aide de la classe de l'exercice précédent:\n",
    "1. Définir deux joueurs A et B en instanciant deux jeux de cartes et les battre.\n",
    "2. Ensuite , à l'aide d'une boucle, tirer 52 fois une carte pour chacun des deux joueurs et comparer les valeurs. Si c’est la première des deux qui a la valeur la plus élevée, on ajoute un point au joueur A. Si la situation contraire se présente, on ajoute un point au joueur B. Si les deux valeurs sont égales, on passe au tirage suivant. \n",
    "3. Au terme de la boucle, comparer les comptes de A et B pour déterminer le gagnant."
   ]
  },
  {
   "cell_type": "code",
   "execution_count": 206,
   "metadata": {},
   "outputs": [
    {
     "name": "stdout",
     "output_type": "stream",
     "text": [
      "A gagne avec 28 pts\n"
     ]
    }
   ],
   "source": [
    "A=JeuDeCartes()\n",
    "B=JeuDeCartes()\n",
    "A.battre()\n",
    "B.battre()\n",
    "\n",
    "scoreA=0\n",
    "scoreB=0\n",
    "\n",
    "\n",
    "    "
   ]
  }
 ],
 "metadata": {
  "kernelspec": {
   "display_name": "Python 3",
   "language": "python",
   "name": "python3"
  },
  "language_info": {
   "codemirror_mode": {
    "name": "ipython",
    "version": 3
   },
   "file_extension": ".py",
   "mimetype": "text/x-python",
   "name": "python",
   "nbconvert_exporter": "python",
   "pygments_lexer": "ipython3",
   "version": "3.8.5"
  }
 },
 "nbformat": 4,
 "nbformat_minor": 4
}
