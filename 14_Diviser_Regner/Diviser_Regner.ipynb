{
 "cells": [
  {
   "cell_type": "markdown",
   "metadata": {},
   "source": [
    "# <center> Diviser pour régner </center>"
   ]
  },
  {
   "cell_type": "markdown",
   "metadata": {},
   "source": [
    "<img src='dq.png' style='float:right;' width=400>\n",
    "\n",
    "* Diviser pour régner (\"Divide and Conquer\") est un principe de programmation qui consiste à décomposer un problème à résoudre en sous-problèmes, plus petits, les résoudre, éventuellement en les redécomposant encore avec le même principe, puis combiner les résultats des sous-problèmes pour en déduire le résultat du problème initial.\n",
    "\n",
    "* Ce type de résolution invite à penser à la récursivité.\n",
    "\n",
    "* Dans cette feuille seront détaillées deux applications de cette méthode :\n",
    "  * La recherche dichotomique (déjà abordée en première sous une autre forme)\n",
    "  * Un nouvel algorithme de tri  : Le tri fusion"
   ]
  },
  {
   "cell_type": "markdown",
   "metadata": {},
   "source": [
    "## 1. Recherche dichotomique\n",
    "* Il s'agit de déterminer si une valeur `v` apparaît dans un tableau `T` supposé trié par ordre croissant. On renvoie l'indice auquel se trouve la valeur dans le tableau, `False` si elle n'y est pas.\n",
    "* Le code ci-dessous génère une liste d'entiers aléatoires triée par ordre croissant."
   ]
  },
  {
   "cell_type": "code",
   "execution_count": 1,
   "metadata": {},
   "outputs": [],
   "source": [
    "#génération d'une liste triée de N nombres entiers aléatoires entre 0 et 65536\n",
    "from random import *\n",
    "N=2**16\n",
    "T=[randint(0,2**16) for _ in range(N)]\n",
    "T.sort() #tri du tableau"
   ]
  },
  {
   "cell_type": "markdown",
   "metadata": {},
   "source": [
    "### Algorithme itératif(vu en première)"
   ]
  },
  {
   "cell_type": "markdown",
   "metadata": {},
   "source": [
    "* Voici l'algorithme de recherche dichotomique d'un élément dans une liste d'entiers triée en ordre croissant qui a été vu en première :\n",
    "* Si l'élément est présent, son index est renvoyé, sinon le booléen `False` est renvoyé.\n",
    "\n",
    "\n",
    "$\\\\\n",
    "\\\\\n",
    "(1)\\; L \\; est\\;une\\;liste\\;d'entiers \\;triée, n\\;est\\;un\\;entier\\\\\n",
    "(2)\\; gauche \\leftarrow 0\\;(premier \\;index\\; de\\; la\\; liste)\\\\\n",
    "(3)\\; droite \\leftarrow dernier \\;index\\; de\\; la\\; liste\\\\\n",
    "(4)\\; Tant\\; que\\; gauche \\leq droite \\\\\n",
    "(5)\\; \\; \\; \\; \\;  m \\leftarrow (g+d)//2\\\\\n",
    "(6)\\; \\; \\; \\; \\;  Si\\; L[m]=n \\\\\n",
    "(7)\\; \\; \\; \\; \\; \\; \\; \\; \\;Renvoyer\\; m \\\\\n",
    "(8)\\; \\; \\; \\; \\;  Sinon\\\\  \n",
    "(9)\\; \\; \\; \\; \\; \\; \\; \\; \\;Si\\; L[m]>n \\\\ \n",
    "(10)\\;\\; \\; \\; \\; \\; \\; \\; \\;\\; \\; \\; \\;droite \\leftarrow m-1\\\\\n",
    "(11)\\; \\; \\; \\; \\; \\; \\; \\; Sinon \\\\ \n",
    "(12)\\;\\; \\; \\; \\; \\; \\; \\; \\;\\; \\; \\; \\;gauche \\leftarrow m+1\\\\ \n",
    "(13)\\; Renvoyer\\; False \\\\ $\n",
    "\n",
    " \n",
    " ##### Exemple\n",
    " Le programme ci-dessous affiche à chaque étape les indices `gauche` ,  `droite` l'indice médian `m` et sa valeur correspondante."
   ]
  },
  {
   "cell_type": "code",
   "execution_count": 2,
   "metadata": {},
   "outputs": [
    {
     "name": "stdout",
     "output_type": "stream",
     "text": [
      "On cherche  41325\n",
      "gauche : 0  droite : 65535  m : 32767 valeur : 32596\n",
      "gauche : 32768  droite : 65535  m : 49151 valeur : 48969\n",
      "gauche : 32768  droite : 49150  m : 40959 valeur : 40804\n",
      "gauche : 40960  droite : 49150  m : 45055 valeur : 44882\n",
      "gauche : 40960  droite : 45054  m : 43007 valeur : 42825\n",
      "gauche : 40960  droite : 43006  m : 41983 valeur : 41806\n",
      "gauche : 40960  droite : 41982  m : 41471 valeur : 41289\n",
      "gauche : 41472  droite : 41982  m : 41727 valeur : 41556\n",
      "gauche : 41472  droite : 41726  m : 41599 valeur : 41432\n",
      "gauche : 41472  droite : 41598  m : 41535 valeur : 41366\n",
      "gauche : 41472  droite : 41534  m : 41503 valeur : 41325\n",
      "\n",
      "Indice de  41325  : \n"
     ]
    },
    {
     "data": {
      "text/plain": [
       "41503"
      ]
     },
     "execution_count": 2,
     "metadata": {},
     "output_type": "execute_result"
    }
   ],
   "source": [
    "def dichotomie(n,T):\n",
    "    print('On cherche ', n)\n",
    "    gauche=0\n",
    "    droite=len(T)-1\n",
    "    while gauche<=droite:\n",
    "        m=(gauche+droite)//2\n",
    "        print('gauche :', gauche, ' droite :',droite, ' m :',m, 'valeur :',T[m] )\n",
    "        if T[m]==n:\n",
    "            print()\n",
    "            print('Indice de ',n,' : ')\n",
    "            return m\n",
    "        else:\n",
    "            if T[m]>n:\n",
    "                droite=m-1\n",
    "            else:\n",
    "                gauche=m+1\n",
    "    return False\n",
    "\n",
    "n=choice(T)\n",
    "dichotomie(n,T)"
   ]
  },
  {
   "cell_type": "markdown",
   "metadata": {},
   "source": [
    "#### Remarques :\n",
    " * On calcule à chaque étape l'indice médian de la partie du tableau dans laquelle on cherche l'élément.\n",
    " * On compare la valeur à cet indice avec la valeur cherchée.\n",
    " * Si on a pas trouvé la valeur , puisque le tableau est trié par ordre croissant, on cherche dans la partie gauche ou dans la partie droite en modifiant la valeur de `gauche` ou `droite`\n",
    " * L'algorithme est très efficace, un petit nombre d'étapes suffit pour trouver la valeur."
   ]
  },
  {
   "cell_type": "markdown",
   "metadata": {},
   "source": [
    "### Algorithme récursif\n",
    "* Cette nouvelle version récursive contient quatre arguments : La valeur `v`recherchée, le tableau `T` trié dans lequel on cherche la valeur et l'intervalle(en terme d'index), délimité par les indexes `g`(gauche) et `d`(droite) dans lequel se situe la recherche.\n",
    "\n",
    "* Les valeurs de `g` et `d` évoluent au fur et à mesure de la recherche\n",
    "\n",
    "Voici le déroulement de cet algorithme :\n",
    "* Si `g` est supérieur à `d`, c'est que la valeur `v` ne se trouve pas dans le tableau, on renvoie `False`\n",
    "* On calcule l'indice médian `m`entre `g` et `d` comme dans la précédente version.\n",
    "* Si la valeur du tableau à cet index est strictement inférieure à `v`, alors on relance récursivament une recherche dans la moitié gauche délimité par les indices `g` et `m-1`.\n",
    "* Si la valeur du tableau à cet index est strictement supérieure à `v`, alors on relance récursivament une recherche dans la moitié droite délimité par les indices `m+1` et `d`.\n",
    "* Sinon c'est que l'on a trouvé la valeur `v`, on renvoie son indice `m`"
   ]
  },
  {
   "cell_type": "markdown",
   "metadata": {},
   "source": [
    "##### Exercice 1\n",
    "On considère le tableau `T=[1,1,2,3,5,8,13,21]`.Ecrire la séquence des appels de la fonction précédente lors de l'éxécution de :\n",
    "\n",
    "\n",
    "__1.__ ```dichotomie_DQ(13, T , 0, 7)```\n",
    "__2.__ ```dichotomie_DQ(12, T , 0, 7)```\n"
   ]
  },
  {
   "cell_type": "markdown",
   "metadata": {},
   "source": [
    "__Réponse:__\n",
    "\n",
    "__1.__ \n",
    "   *  \n",
    "   *  \n",
    "   *  \n",
    "\n",
    "\n",
    "__2.__ \n",
    "   *  \n",
    "   *  \n",
    "   *  \n",
    "   *  "
   ]
  },
  {
   "cell_type": "markdown",
   "metadata": {},
   "source": [
    "##### Exercice 2 :\n",
    "Compléter la fonction `dichotomie_DQ(v,T,g,d)` comme décrite précédemment."
   ]
  },
  {
   "cell_type": "code",
   "execution_count": 2,
   "metadata": {},
   "outputs": [],
   "source": [
    "def dichotomie_DQ(v,T,g,d):\n",
    "\n",
    "    \n",
    "    \n",
    "    \n",
    "    \n",
    "    \n",
    "    \n",
    "    \n",
    "    \n",
    "    \n",
    "\n",
    "    \n",
    "    \n",
    "\n",
    "    \n",
    "    \n",
    "#"
   ]
  },
  {
   "cell_type": "code",
   "execution_count": 4,
   "metadata": {},
   "outputs": [],
   "source": [
    "#On choisit une valeur dans le tableau trié\n",
    "v=choice(T)\n",
    "#On vérifie que la recherche renvoie bien l'index de v\n",
    "assert(T[dichotomie_DQ(v,T,0,len(T)-1)]==v)\n",
    "\n",
    "#On vérifie que False est renvoyé lorsque la valeur v n'est pas dans le tableau\n",
    "v=-1\n",
    "assert(dichotomie_DQ(v,T,0,len(T)-1)==False)"
   ]
  },
  {
   "cell_type": "markdown",
   "metadata": {},
   "source": [
    "### Remarques :\n",
    "* On est sûr que cet algorithme termine car l'écart entre `g` et `d` diminue strictement à chaque appel récursif.Lorsque $g-d<0$, c'est à dire lorsque $g>d$, on sort de la fonction.\n",
    "* La stratégie \"diviser pour régner\" s'exprime ici par le fait que la taille de l'intervalle de recherche est divisée par deux à chaque étape. On se ramène à la résolution d'un problème plus petit.\n",
    "* Pour un tableau de $2^{16}=65536$ éléments, il ne faut au maximum que 16 étapes pour trouver la valeur. Cet algorithme est de complexité logarithmique.\n",
    "* Cet algorithme n'indique pas si une valeur se trouve plusieurs fois dans le tableau. Dès qu'il trouve un indice avec la valeur recherchée, il le renvoie."
   ]
  },
  {
   "cell_type": "markdown",
   "metadata": {},
   "source": [
    "## 2. Tri fusion\n",
    "En première , nous avons abordé deux algorithmes de tri :\n",
    "* Le tri par sélection\n",
    "* Le tri par insertion\n",
    "\n",
    "Dans les deux cas leur coût en temps est quadratique, c'est à dire de l'ordre de $n²$ ou $n$ est le nombre d'éléments à trier. Nous allons aborder un tri plus efficace, le tri fusion.\n",
    "\n",
    "### Présentation\n",
    "<img src='merge.gif' style='float:right;' width=400>\n",
    "\n",
    "* On partage l'ensemble des données à trier en deux parties de taille égale (à un élément près).\n",
    "* On trie chacune de ces parties récursivement avec le tri fusion(c'est à dire éventuellement en partageant chacune des parties en deux).\n",
    "* On fusionne les deux parties\n",
    "\n",
    "\n",
    "##### Exemple :\n",
    "Dans l'animation ci-contre, on cherche à trier la liste $6,5,3,1,8,7,2,4$.\n",
    "\n",
    "\n",
    "* On partage la liste en deux sous listes : $6,5,3,1$ et $8,7,2,4$\n",
    "\n",
    "\n",
    "* Pour trier ces deux sous listes, on les partage en deux $6,5$ | $3,1$ | $8,7$ | $2,4$\n",
    "\n",
    "\n",
    "* Pour trier chacune des parties, on partage en deux : $6$ | $5$ | $3$ | $1$ | $8$ | $7$ | $2$ | $4$\n",
    "\n",
    "\n",
    "* On peut plus partager mais toutes les parties sont triées, puisqu'elles n'ont qu'un seul élément.Il faut désormais les fusionner.\n",
    "\n",
    "\n",
    "* On fusionne les parties deux à deux:\n",
    "   * $5,6$ | $1,3$ | $7,8$ | $2,4$\n",
    "   * $1,3,5,6$ | $2,4,7,8$\n",
    "   * $1,2,3,4,5,6,7,8$\n",
    "   \n",
    "   \n",
    "* La liste est triée."
   ]
  },
  {
   "cell_type": "markdown",
   "metadata": {},
   "source": [
    "##### Exercice 3 :\n",
    "En détaillant le contenu à chaque étape, trier par fusion la liste $38,27,43,3,9,82,10$\n",
    "\n",
    "__Réponse__:\n",
    "\n",
    "\n",
    "\n",
    "\n",
    "* \n",
    "\n",
    "\n",
    "\n",
    "*  \n",
    "\n",
    "\n",
    "*  \n",
    "\n",
    "\n",
    "*  \n",
    "\n",
    "\n",
    "*  \n",
    "\n",
    "\n",
    "*  \n",
    "\n"
   ]
  },
  {
   "cell_type": "markdown",
   "metadata": {},
   "source": [
    "### Remarque\n",
    "* Il s'agit bien d'une application de la stratégie \"diviser pour régner\" car on ramène le problème du tri d'une liste aux sous-problèmes du tri de deux listes plus petites, jusqu'à parvenir à des listes d'au plus un élément, pour lesquelles il n'y a rien à faire.\n",
    "\n",
    "\n",
    "### Complexité\n",
    "* En comparaison des tris vus en première (sélection et insertion), le tri fusion est beaucoup plus efficace.\n",
    "* Ainsi pour trier 1 million d'éléments ($10^6$), il faut de l'ordre de $(10^6)^2=10^{12}$ opérations avec le tri sélection.\n",
    "* Alors qu'avec le tri fusion on est plutôt de l'ordre de $10^6 \\times log_2(10^6) \\approx 10^6 \\times 20 = 2 \\times 10^7$ opérations.\n",
    "* La division par deux du nombre d'éléments à chaque étape rend l'algorithme efficace.\n",
    "\n",
    "\n",
    "### Programmation\n",
    "* Il est possible d'utiliser le tri fusion pour trier des tableaux (le type `list` de python) mais c'est assez délicat à mettre en oeuvre en pratique sans avoir à passer par des copies de tableaux, ce qui rend l'algorithme plus compliqué à écrire et plus coûteux.\n",
    "* Nous allons donc implémenter le tri fusion sur des liste chaînées et pour cela réutiliser les classes ci-dessous.\n",
    "* La fonction `lst_random(n, N)` permet de générer une liste de $n$ entiers positifs inférieurs à $N$ et de faire des tests."
   ]
  },
  {
   "cell_type": "code",
   "execution_count": 3,
   "metadata": {},
   "outputs": [],
   "source": [
    "class Cell:\n",
    "    def __init__(self, valeur, suivant=None):\n",
    "        self.valeur=valeur\n",
    "        self.suivant=suivant\n",
    "\n",
    "class Lc:\n",
    "    def __init__(self, tete=None):\n",
    "        self.tete=tete\n",
    "    \n",
    "    def est_vide(self):\n",
    "        return self.tete is None\n",
    "    \n",
    "    def ajoute(self, nouvelle):\n",
    "        if self.tete is None:\n",
    "            self.tete=nouvelle\n",
    "        \n",
    "        else:\n",
    "            cellule=self.tete\n",
    "            while cellule.suivant is not None:\n",
    "                cellule=cellule.suivant\n",
    "            \n",
    "            cellule.suivant=nouvelle\n",
    "    \n",
    "    def __str__(self):\n",
    "        valeurs=str(self.tete.valeur)\n",
    "        cellule=self.tete\n",
    "        while cellule.suivant is not None:\n",
    "            valeurs=valeurs+' | '+ str(cellule.suivant.valeur)\n",
    "            cellule=cellule.suivant\n",
    "        return valeurs"
   ]
  },
  {
   "cell_type": "code",
   "execution_count": 4,
   "metadata": {},
   "outputs": [
    {
     "name": "stdout",
     "output_type": "stream",
     "text": [
      "87 | 50 | 83 | 91 | 56 | 3 | 99 | 2\n"
     ]
    }
   ],
   "source": [
    "from random import *\n",
    "\n",
    "def lst_random(n,N):\n",
    "    '''génère une liste chaînée contenant\n",
    "    n entiers positifs aléatoires inférieurs à N'''\n",
    "    tete=Cell(randint(0,N), None)\n",
    "    \n",
    "    for i in range(n-1):\n",
    "        nouvelle=Cell(randint(0,N), None)\n",
    "        nouvelle.suivant=tete\n",
    "        tete=nouvelle\n",
    "    \n",
    "    return Lc(tete)\n",
    "                \n",
    "print(lst_random(8,100))        "
   ]
  },
  {
   "cell_type": "markdown",
   "metadata": {},
   "source": [
    "Pour programmer le tri fusion, nous allons utiliser deux fonctions :\n",
    "* La fonction `couper`\n",
    "* La fonction `fusionner`\n",
    "\n",
    "#### Couper\n",
    "La fonction `couper(lst)`ci-dessous partage une liste en deux listes de taille égale à un élément près et les renvoie."
   ]
  },
  {
   "cell_type": "code",
   "execution_count": 5,
   "metadata": {},
   "outputs": [],
   "source": [
    "def couper(lst):\n",
    "    '''Sépare une liste en deux listes \n",
    "    ayant le même nombre d'éléments,\n",
    "    à un près'''\n",
    "    l1,l2=Lc(),Lc()\n",
    "    while not lst.est_vide() :\n",
    "        l1,l2=Lc(Cell(lst.tete.valeur,l2.tete)), l1\n",
    "        lst=Lc(lst.tete.suivant)\n",
    "        \n",
    "    return l1,l2              "
   ]
  },
  {
   "cell_type": "markdown",
   "metadata": {},
   "source": [
    "##### Exercice 4:\n",
    "On suppose que la liste `lst` à trier est `77 | 76 | 25 | 8 | 1 | 6 | 44 | 76 | 69` .\n",
    "\n",
    "__1.__ Ecrire un code qui permet de construire cette liste."
   ]
  },
  {
   "cell_type": "code",
   "execution_count": 6,
   "metadata": {},
   "outputs": [
    {
     "name": "stdout",
     "output_type": "stream",
     "text": [
      "77 | 76 | 25 | 8 | 1 | 6 | 44 | 76 | 69\n",
      "77 | 76 | 25 | 8 | 1 | 6 | 44 | 76 | 69\n"
     ]
    }
   ],
   "source": [
    "#1.\n",
    "\n",
    "\n",
    "\n",
    "\n",
    "\n",
    "\n",
    "\n",
    "\n",
    "\n",
    "\n",
    "\n",
    "\n",
    "\n",
    "\n",
    "\n",
    "\n",
    "\n",
    "\n",
    "\n",
    "\n",
    "\n",
    "\n",
    "\n",
    "\n",
    "#"
   ]
  },
  {
   "cell_type": "markdown",
   "metadata": {},
   "source": [
    "__2.__ En détaillant les étapes, déterminer les valeurs que contiendront les listes coupées `l1` et `l2` après l'appel de la fonction `couper(lst)` ?\n",
    "\n",
    "__Réponses :__\n",
    "\n",
    "\n",
    "\n",
    "&nbsp;\n",
    "\n",
    "\n",
    "\n",
    "&nbsp;\n",
    "\n",
    "\n",
    "\n",
    "\n",
    "&nbsp;\n",
    "\n",
    "\n",
    "\n",
    "\n",
    "&nbsp;\n",
    "\n",
    "\n",
    "\n",
    "\n",
    "&nbsp;\n",
    "\n",
    "\n",
    "\n",
    "&nbsp;\n",
    "\n",
    "\n",
    "\n",
    "\n",
    "&nbsp;\n",
    "\n",
    "\n",
    "\n",
    "\n",
    "&nbsp;\n",
    "\n",
    "\n",
    "\n",
    "\n",
    "&nbsp;\n",
    "\n",
    "\n",
    "\n",
    "\n",
    "&nbsp;\n",
    "\n",
    "\n",
    "\n",
    "\n",
    "\n",
    "* `l1`: \n",
    "* `l2`: "
   ]
  },
  {
   "cell_type": "markdown",
   "metadata": {},
   "source": [
    "__3.__ Vérifier votre réponse ci-dessous."
   ]
  },
  {
   "cell_type": "code",
   "execution_count": null,
   "metadata": {},
   "outputs": [],
   "source": [
    "#3.\n",
    "l1,l2=couper(lst)\n",
    "print(l1)\n",
    "print(l2)"
   ]
  },
  {
   "cell_type": "markdown",
   "metadata": {},
   "source": [
    "#### Fusionner\n",
    "La fonction `fusionner(l1,l2)` prend en paramètres deux listes triées et renvoie une liste triée contenant les éléments de ces deux listes.\n",
    "\n",
    "Descriptif :\n",
    "* On commence par le cas où l'une des deux listes est vide, il suffit alors de renvoyer l'autre.\n",
    "* Sinon , cela veut dire que les deux listes sont non vides.\n",
    "* On compare les premiers éléments de chaque liste entre eux.\n",
    "* Si le plus petit provient de la première liste :\n",
    "   * On le place en tête du résultat et le reste de la liste est construit en fusionnant récursivement le reste de la première liste avec la seconde.\n",
    "* Sinon c'est l'inverse :\n",
    "   * On place en tête le premier élément de la seconde liste et le reste de la liste est construit en fusionnant récursivement le reste de la seconde liste avec la première."
   ]
  },
  {
   "cell_type": "markdown",
   "metadata": {},
   "source": [
    "##### Exercice 5\n",
    "La fonction `fusionner(l1,l2)` ci-dessous correspond au descriptif précédent.\n",
    "Ecrire un jeu de test qui permet de s'assurer que cette fonction fait bien ce que l'on attend d'elle.On s'assurera de proposer des exemples qui permettent de tester toutes les lignes du code"
   ]
  },
  {
   "cell_type": "code",
   "execution_count": 10,
   "metadata": {},
   "outputs": [],
   "source": [
    "def fusionner(l1,l2):\n",
    "    '''Fusionne deux listes triées\n",
    "    en une seule'''\n",
    "    if l1.est_vide():\n",
    "        return l2\n",
    "    if l2.est_vide():\n",
    "        return l1\n",
    "    if l1.tete.valeur <= l2.tete.valeur:\n",
    "        return Lc(Cell(l1.tete.valeur,fusionner(Lc(l1.tete.suivant),l2).tete))   \n",
    "    else:\n",
    "        return Lc(Cell(l2.tete.valeur,fusionner(l1,Lc(l2.tete.suivant)).tete))   "
   ]
  },
  {
   "cell_type": "code",
   "execution_count": null,
   "metadata": {},
   "outputs": [],
   "source": [
    "#Réponses\n",
    "\n",
    "\n",
    "\n",
    "\n",
    "\n",
    "\n",
    "\n",
    "\n",
    "\n",
    "\n",
    "\n",
    "\n",
    "#"
   ]
  },
  {
   "cell_type": "markdown",
   "metadata": {},
   "source": [
    "#### Tri fusion\n",
    "##### Exercice 6 \n",
    "A l'aide des fonctions `couper` et `fusionner`, compléter la fonction `tri_fusion(lst)`."
   ]
  },
  {
   "cell_type": "code",
   "execution_count": 12,
   "metadata": {},
   "outputs": [],
   "source": [
    "def tri_fusion(lst):\n",
    "    if lst.tete is None or lst.tete.suivant is None:\n",
    "        return ...\n",
    "    else:\n",
    "        # on coupe la liste en deux sous listes l1 etl2\n",
    "        \n",
    "        \n",
    "        \n",
    "        # on trie l1 et l2 par fusion\n",
    "        \n",
    "        \n",
    "        \n",
    "        \n",
    "        return ...                   # on fusionne l1 et l2"
   ]
  },
  {
   "cell_type": "code",
   "execution_count": 13,
   "metadata": {},
   "outputs": [
    {
     "name": "stdout",
     "output_type": "stream",
     "text": [
      "23 | 18 | 10 | 73 | 34 | 4 | 35 | 69 | 5 | 77 | 61 | 7 | 55 | 24 | 29\n",
      "4 | 5 | 7 | 10 | 18 | 23 | 24 | 29 | 34 | 35 | 55 | 61 | 69 | 73 | 77\n"
     ]
    }
   ],
   "source": [
    "lst=lst_random(15,99)\n",
    "print(lst)\n",
    "print(tri_fusion(lst))"
   ]
  },
  {
   "cell_type": "markdown",
   "metadata": {},
   "source": [
    "## 3. Exercices"
   ]
  },
  {
   "cell_type": "markdown",
   "metadata": {},
   "source": [
    "##### Exercice 8 :\n",
    "Vous disposez d'un tas de 512 pièces soit disant en or. Toutes sont fausses sauf une qui est un peu plus lourde que les autres.\n",
    "Déterminer un algorithme qui permet de trouver rapidement la vraie pièce en or à l'aide d'une balance à deux plateaux."
   ]
  },
  {
   "cell_type": "markdown",
   "metadata": {},
   "source": [
    "__Réponse__:\n",
    "\n",
    "*  \n",
    "*  \n",
    "*  \n",
    "*  \n",
    "* \n",
    "* \n",
    "* \n"
   ]
  },
  {
   "cell_type": "markdown",
   "metadata": {},
   "source": [
    "##### Exercice 9 :\n",
    "La fonction `fusionner(l1,l2)` a été réécrite à l'aide d'une boucle `while`.La compléter.\n",
    "\n",
    "Aide : On pourra utiliser la méthode `ajoute(self,nouvelle)` disponible dans la classe `Lc()`"
   ]
  },
  {
   "cell_type": "code",
   "execution_count": 29,
   "metadata": {},
   "outputs": [],
   "source": [
    "def fusionner(l1,l2):\n",
    "    '''Renvoie une liste qui contient\n",
    "    la fusion des deux listes l1 et l2\n",
    "    '''\n",
    "    lst=...\n",
    "    \n",
    "    while not l1.est_vide() and ...:\n",
    "        if l1.tete.valeur <= l2.tete.valeur:\n",
    "            ...\n",
    "            l1.tete=l1.tete.suivant\n",
    "        else:\n",
    "            ...\n",
    "            l2=Lc(l2.tete.suivant)\n",
    "    \n",
    "    #A partir de ces lignes,les 2 listes ne sont pas nécéssairement vides\n",
    "    if l1.est_vide():\n",
    "        if l2.est_vide():\n",
    "            return ...\n",
    "        else:\n",
    "            ...\n",
    "    else:\n",
    "        ... \n",
    "    \n",
    "    return ...\n"
   ]
  },
  {
   "cell_type": "code",
   "execution_count": 33,
   "metadata": {},
   "outputs": [
    {
     "name": "stdout",
     "output_type": "stream",
     "text": [
      "1 | 2 | 3 | 4 | 5 | 6 | 7\n",
      "2 | 3 | 5\n",
      "1 | 4 | 6 | 7\n"
     ]
    }
   ],
   "source": [
    "#Tests fusionner\n",
    "l1=Lc(Cell(1,Cell(4,Cell(6,Cell(7,None)))))\n",
    "l2=Lc(Cell(2,Cell(3,Cell(5,None))))\n",
    "print(fusionner(l1,l2)) # 1 | 2 | 3 | 4 | 5 | 6 | 7\n",
    "\n",
    "#l1 est vide\n",
    "l1=Lc()\n",
    "print(fusionner(l1,l2)) #2 | 3 | 5\n",
    "\n",
    "#l2 est vide\n",
    "l2=Lc()\n",
    "l1=Lc(Cell(1,Cell(4,Cell(6,Cell(7,None)))))\n",
    "print(fusionner(l1,l2)) #1 | 4 | 6 | 7"
   ]
  },
  {
   "cell_type": "markdown",
   "metadata": {},
   "source": [
    "##### Exercice 10 : Les tours de Hanoi( voir l'exercice 13 du chapitre sur la récursivité)\n",
    "<img src='hanoi.png' style='float:center;' width=400>\n",
    "\n",
    "<center> Pour tester le jeu : <a href=http://championmath.free.fr/tourhanoi.htm>http://championmath.free.fr/tourhanoi.htm</a> </center>\n",
    "\n",
    "Ecrire la fonction `hanoi(a,b,c,n)` qui affiche la solution du problème des tours des Hanoi pour `n` disques , sous la forme de déplacements élémentaires désignant les trois tiges par les lettres $A$,$B$ et $C$ de la manière suivante :\n",
    " * `A vers C`\n",
    " * `A vers B`\n",
    " * ...\n",
    " \n",
    "Plus précisément, cette fonction déplace les $n$ disques de la tige $a$ vers la tige $c$ en passant par la tige $b$.\n",
    "\n",
    "*Rappel : Pour transférer $n$ disques de A vers C en passant par B :*\n",
    "<img src='hanoi_sol.png' style='float:right;' width=400>\n",
    "   * On transfère $n-1$ disques sur l'axe $B$ (1), \n",
    "   * Puis on transfère le plus gros disque sur le troisième axe  $C$ (2) ,\n",
    "   * Et enfin les $n-1$ disques sur le troisième axe, c'est à dire de $B$ vers $C$ (3).\n",
    "    \n",
    "On pourra vérifier l'exactitude de l'affichage à l'aide du jeu."
   ]
  },
  {
   "cell_type": "code",
   "execution_count": 35,
   "metadata": {},
   "outputs": [],
   "source": [
    "def hanoi(a,b,c,n):\n",
    "    '''deplace n disques de a vers c\n",
    "    en utilisant b comme intermédiaire'''\n",
    "    if n==0: #si n=0, on sort de la fonction\n",
    "        return\n",
    "    else:\n",
    "        \n",
    "        \n",
    "        \n",
    "        \n",
    "        \n",
    "        \n",
    "        \n",
    "        \n",
    "        pass"
   ]
  },
  {
   "cell_type": "code",
   "execution_count": 36,
   "metadata": {},
   "outputs": [
    {
     "name": "stdout",
     "output_type": "stream",
     "text": [
      "A vers C\n",
      "A vers B\n",
      "C vers B\n",
      "A vers C\n",
      "B vers A\n",
      "B vers C\n",
      "A vers C\n"
     ]
    }
   ],
   "source": [
    "#Tests\n",
    "hanoi('A','B','C',3) # 3 disques à déplacer"
   ]
  }
 ],
 "metadata": {
  "kernelspec": {
   "display_name": "Python 3",
   "language": "python",
   "name": "python3"
  },
  "language_info": {
   "codemirror_mode": {
    "name": "ipython",
    "version": 3
   },
   "file_extension": ".py",
   "mimetype": "text/x-python",
   "name": "python",
   "nbconvert_exporter": "python",
   "pygments_lexer": "ipython3",
   "version": "3.8.5"
  }
 },
 "nbformat": 4,
 "nbformat_minor": 4
}
