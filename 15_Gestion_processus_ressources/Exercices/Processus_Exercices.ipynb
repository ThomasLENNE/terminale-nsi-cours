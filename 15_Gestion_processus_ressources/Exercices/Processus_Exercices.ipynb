{
 "cells": [
  {
   "cell_type": "markdown",
   "metadata": {},
   "source": [
    "# <center> Processus : Exercices </center>"
   ]
  },
  {
   "cell_type": "markdown",
   "metadata": {},
   "source": [
    "### Exercice 1 :\n",
    "Le but de cet exercice est d'observer la mise en concurrence des processus en uilisant le programme python ci-dessous:\n",
    "\n",
    "```\n",
    "from os import getpid\n",
    "\n",
    "p=getpid()\n",
    "\n",
    "with open(\"test.txt\", \"a\") as fichier:\n",
    "    for i in range(1000):\n",
    "        fichier.write(str(p)+' : '+str(i)+\"\\n\")\n",
    "        fichier.flush()\n",
    "```\n",
    "\n",
    "Quelques explications :\n",
    "* Ce programme importe la fonction `getpid` du module `os`. Elle renvoie l'identifiant du processus qui sera attribué par le système à  l'éxécution de ce programme.\n",
    "* Le programme utilise ensuite un fichier appelé `test.txt` situé dans le même répertoire que le programme. Ce fichier est créé s'il n'existe pas, et sinon les informations sont ajoutées à la suite dans ce fichier (`a` pour append: ajouter)."
   ]
  },
  {
   "cell_type": "markdown",
   "metadata": {},
   "source": [
    "1. Recopier le code de ce programme dans un fichier qui sera nommé `pid.py`(par exemple avec IDLE).\n",
    "2. Exécuter ce programme : Que contient le fichier `test.txt`?"
   ]
  },
  {
   "cell_type": "markdown",
   "metadata": {},
   "source": [
    "__Reponse:__\n",
    "* \n",
    "* \n",
    "* \n",
    "* "
   ]
  },
  {
   "cell_type": "markdown",
   "metadata": {},
   "source": [
    "3. Effacer le fichier `test.txt`.\n",
    "4. Pour observer la mise en concurrence des processus, nous allons éxécuter trois fois ce programme simultanément.Voici la marche à suivre dans un environnement Windows.\n",
    "  * Créer un nouveau document texte.\n",
    "  * Y inscrire la suite d'instructions ci-dessous :\n",
    "```\n",
    "start /b python pid.py\n",
    "start /b python pid.py\n",
    "start /b python pid.py\n",
    "```\n",
    "  * Sauvegarder ce fichier sous le nom `start.bat` (penser à modifier l'extension `.txt` en `.bat`).\n",
    "\n",
    "\n",
    "5. Le fichier `start.bat` est éxécutable, double cliquer dessus.\n",
    "6. Décrire ce contient alors le fichier `test.txt` après l'éxécution du fichier."
   ]
  },
  {
   "cell_type": "markdown",
   "metadata": {},
   "source": [
    "__Réponse__:\n",
    "* \n",
    "* \n",
    "* \n",
    "* \n",
    "* \n"
   ]
  },
  {
   "cell_type": "markdown",
   "metadata": {},
   "source": [
    "7. Renommer le fichier `test.txt`, en `test1.txt`, pour le conserver.\n",
    "8. Relancer `start.bat`.\n",
    "9. Le fichier `test.txt` contient-il les mêmes informations que le fichier `test1.txt` ?"
   ]
  },
  {
   "cell_type": "markdown",
   "metadata": {},
   "source": [
    "__Réponse:__\n",
    "* \n",
    "* \n",
    "* \n",
    "* "
   ]
  },
  {
   "cell_type": "markdown",
   "metadata": {},
   "source": [
    "#### Remarque :\n",
    "*  Dans un environnement Linux, le comportement de l'ordonnanceur su système est similaire. Pour réalliser ce test, on pourra utiliser la commande suivante dans un terminal pour exécuter trois fois simultanément le même programme:\n",
    "\n",
    "\n",
    "`python pid.py & python pid.py & python pid.py`"
   ]
  },
  {
   "cell_type": "markdown",
   "metadata": {},
   "source": [
    "### Exercice 2 :\n",
    "<img src='ex2.png' style='float:right;' width=600>\n",
    "\n",
    "Ci-contre, une capture d'écran des principaux processus présents dans un environnement Linux à un instant donné, obtenue àprès l'éxécution de la commande `top`.\n",
    "\n",
    "\n",
    "Pour répondre aux questions, on pourra se documenter sur la commande`kill`\n",
    "\n",
    "1. Quel est l'identifiant du processus python ?\n",
    "2. Quel pourcentage de la puissance du processeur occupe-t-il ?\n",
    "3. Quel est le PID du processus occupe le plus la mémoire ?\n",
    "4. A quel processus correspond le PID 631 ?\n",
    "5. Combien de  processus sont en cours d'éxécution ? \n",
    "6. Le processus `web content` est planté, mais l'utilisateur veut essayer de l'arrêter proprement pour ne pas perdre son état. Quelle commande peut-il saisir ?\n",
    "7. Que se passe-t-il si l'on exécute `kill -9 728`?\n",
    "8. Que se passe-t-il si l'on exéctue `kill 1034` ?\n",
    "\n"
   ]
  },
  {
   "cell_type": "markdown",
   "metadata": {},
   "source": [
    "__Réponses:__\n",
    "\n",
    "1.  \n",
    "2.  \n",
    "3.  \n",
    "4.  \n",
    "5.  \n",
    "6.  \n",
    "7.  \n",
    "8.  "
   ]
  },
  {
   "cell_type": "markdown",
   "metadata": {},
   "source": [
    "##### Remaque :\n",
    "Il existe des émulateurs de terminaux Linux en ligne qui permettent de tester les commandes :\n",
    "* https://bellard.org/jslinux/vm.html?cpu=riscv64&url=fedora29-riscv-2.cfg&mem=256\n",
    "* https://www.offidocs.com/jor1k/demos/main.html?user=thomas&cpu=asm&n=1&relayURL=wss%3A%2F%2Frelay.widgetry.org%2F"
   ]
  },
  {
   "cell_type": "markdown",
   "metadata": {},
   "source": [
    "### Exercice 3:\n",
    "\n",
    "La circulation est impossible pour les quatre véhicules ci-contre car chacun veut aller tout droit et doit laisser la priorité à droite.<img src='carrefour.png' style='float:right;' width=200>\n",
    "\n",
    "En identifiant les voitures à des processus et les portions de route à des ressources, montrer que les quatre conditions de Coffman sont réunizs et qu'il s'agit donc d'une situation d'interblocage.\n",
    "\n",
    "On notera  V1, V2 V3 et V4 les processus(les voitures)  et R1, R2, R3, R4 les ressources(les portions de route devant les voitures):\n",
    "* V1 est la voiture rouge et veut passer sur la route R1.\n",
    "* V2 est la voiture jaune et veut passer sur la route R2.\n",
    "* V3 est la voiture verte et veut passer sur la route R3.\n",
    "* V4 est la voiture bleue et veut passer sur la route R4.\n",
    "\n"
   ]
  },
  {
   "cell_type": "markdown",
   "metadata": {},
   "source": [
    "__Réponse :__"
   ]
  },
  {
   "cell_type": "markdown",
   "metadata": {},
   "source": [
    "1. Les ressource sont en accès exclusifs : \n",
    "2. Rétention et attente : \n",
    "3. Non préemption : \n",
    "4. Attente cyclique : "
   ]
  }
 ],
 "metadata": {
  "kernelspec": {
   "display_name": "Python 3",
   "language": "python",
   "name": "python3"
  },
  "language_info": {
   "codemirror_mode": {
    "name": "ipython",
    "version": 3
   },
   "file_extension": ".py",
   "mimetype": "text/x-python",
   "name": "python",
   "nbconvert_exporter": "python",
   "pygments_lexer": "ipython3",
   "version": "3.8.5"
  }
 },
 "nbformat": 4,
 "nbformat_minor": 4
}
