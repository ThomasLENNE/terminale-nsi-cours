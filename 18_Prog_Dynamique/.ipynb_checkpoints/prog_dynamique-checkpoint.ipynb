{
 "cells": [
  {
   "cell_type": "markdown",
   "metadata": {
    "slideshow": {
     "slide_type": "slide"
    }
   },
   "source": [
    "<img src='bellman.jpg' style='float:right' padding=10px width=20%>\n",
    "\n",
    "\n",
    "# <center> PROGRAMMATION DYNAMIQUE 1/3</center> \n",
    "\n",
    "* La programmation dynamique est une approche de résolution de problèmes qui consiste à décomposer un problème complexe en sous-problèmes plus simples (ce que permet aussi la récursivité ou le paradigme \"diviser pour régner\").\n",
    "\n",
    "* La différence avec la récursivité est que chaque sous-problème ne sera résolu qu'une seule fois quand celui-ci se répète.\n",
    "\n",
    "* Ce principe permet un gain de temps considérable.\n",
    "\n",
    "* Le concept a été introduit au début des années 1950 par le mathématicien Richard Bellman (1920-1984). \n"
   ]
  },
  {
   "cell_type": "markdown",
   "metadata": {
    "slideshow": {
     "slide_type": "slide"
    }
   },
   "source": [
    "## A.  Principes\n",
    "\n",
    "### Exercice 1 : Un algorithme récursif\n",
    "* Dans la suite de Fibonacci :\n",
    "  * Les deux premiers termes sont égaux à $1$.\n",
    "  * Chaque terme à partir du troisième est égal à la somme des deux termes précédents. \n",
    "\n",
    "* Cette suite commence donc ainsi : $1,1,2,3,5,8,13,...$\n",
    "\n",
    "__1.__ Compléter la fonction récursive `f` ci-dessous. Elle prend en paramètre un entier $n \\geq 0$ et renvoie le terme de rang $n$ de la suite de Fibonacci.\n",
    "\n",
    "_Exemples de résultats attendus :_\n",
    "\n",
    "```\n",
    ">>> f(0)    >>> f(1)    >>> f(6)\n",
    "1           1           13\n",
    "\n",
    "```"
   ]
  },
  {
   "cell_type": "code",
   "execution_count": null,
   "metadata": {
    "slideshow": {
     "slide_type": "subslide"
    }
   },
   "outputs": [],
   "source": [
    "def f(n):\n",
    "    if n<=1: \n",
    "        ...\n",
    "    else :\n",
    "        ...\n",
    "        \n",
    "assert f(0)==1\n",
    "assert f(1)==1\n",
    "assert f(6)==13"
   ]
  },
  {
   "cell_type": "markdown",
   "metadata": {
    "slideshow": {
     "slide_type": "slide"
    }
   },
   "source": [
    "__2.__ Calculons les termes de rang $10$, $20$ et $30$."
   ]
  },
  {
   "cell_type": "code",
   "execution_count": null,
   "metadata": {
    "scrolled": true,
    "slideshow": {
     "slide_type": "subslide"
    }
   },
   "outputs": [],
   "source": [
    "#2. Calculons \n",
    "f(10)"
   ]
  },
  {
   "cell_type": "markdown",
   "metadata": {
    "slideshow": {
     "slide_type": "subslide"
    }
   },
   "source": [
    "* `f(10)` :  \n",
    "* `f(20)` :  \n",
    "* `f(30)` :  "
   ]
  },
  {
   "cell_type": "markdown",
   "metadata": {
    "slideshow": {
     "slide_type": "slide"
    }
   },
   "source": [
    "__3.__ A l'aide du module `time`, mesurons le temps de calcul des termes de rang $35$, $36$ et $37$."
   ]
  },
  {
   "cell_type": "code",
   "execution_count": null,
   "metadata": {
    "slideshow": {
     "slide_type": "subslide"
    }
   },
   "outputs": [],
   "source": [
    "from time import time\n",
    "t0=time() # début du chronomètre\n",
    "f(35) # calcul du terme de rang voulu\n",
    "t1=time() # fin du chronomètre\n",
    "print(t1-t0) # temps en secondes"
   ]
  },
  {
   "cell_type": "markdown",
   "metadata": {
    "slideshow": {
     "slide_type": "subslide"
    }
   },
   "source": [
    "* `f(35)` : \n",
    "* `f(36)` :  \n",
    "* `f(37)` :  "
   ]
  },
  {
   "cell_type": "markdown",
   "metadata": {
    "slideshow": {
     "slide_type": "subslide"
    }
   },
   "source": [
    "__4.__ Conclusion ?\n",
    "\n",
    "*   "
   ]
  },
  {
   "cell_type": "markdown",
   "metadata": {
    "slideshow": {
     "slide_type": "slide"
    }
   },
   "source": [
    "__5.__ Compléter l'arbre des appels pour `f(4)`. Combien de fois est appelé `f(2)` ?\n",
    "\n",
    "* Nombres d'appels de `f(2)`: \n",
    "\n",
    "<img src='f4_dashed.png' style='float:left;' width=60%>\n",
    "\n",
    "\n",
    "&nbsp;\n",
    "\n",
    "&nbsp;\n",
    "\n",
    "&nbsp;\n",
    "\n",
    "&nbsp;\n",
    "\n",
    "&nbsp;\n",
    "\n",
    "&nbsp;\n",
    "\n",
    "&nbsp;\n",
    "\n",
    "&nbsp;\n",
    "\n",
    "&nbsp;\n",
    "\n"
   ]
  },
  {
   "cell_type": "markdown",
   "metadata": {
    "slideshow": {
     "slide_type": "slide"
    }
   },
   "source": [
    "__6.__ Le nombre d'appels de la fonction `f` pour calculer `f(n)` correspond à la taille de l'arbre des appels.\n",
    "\n",
    "__a.__ A l'aide de l'arbre précédent, déterminer le nombre d'appels de la fonction `f` pour calculer `f(4)`, puis `f(3)`(le sous-arbre gauche de `f(4)`)."
   ]
  },
  {
   "cell_type": "markdown",
   "metadata": {
    "slideshow": {
     "slide_type": "subslide"
    }
   },
   "source": [
    "* Taille de l'arbre `f(3)` : \n",
    "* Taille de l'arbre `f(4)` : "
   ]
  },
  {
   "cell_type": "markdown",
   "metadata": {
    "slideshow": {
     "slide_type": "subslide"
    }
   },
   "source": [
    "__b.__ En déduire le nombre d'appels de la fonction `f` pour calculer `f(5)`, puis `f(6)`."
   ]
  },
  {
   "cell_type": "markdown",
   "metadata": {
    "slideshow": {
     "slide_type": "subslide"
    }
   },
   "source": [
    "* Taille de l'arbre `f(5)` : \n",
    "* Taille de l'arbre `f(6)` :"
   ]
  },
  {
   "cell_type": "markdown",
   "metadata": {
    "slideshow": {
     "slide_type": "slide"
    }
   },
   "source": [
    "### Conclusion :\n",
    "\n",
    "<img src='f.png' style='float:right;padding:10px;' width=350>\n",
    "\n",
    "* D'un rang au suivant, le nombre d'appels est multiplié par un facteur d'environ `1,5`.\n",
    "\n",
    "* La complexité en temps de cet algorithme est dite exponentielle, c'est déplorable algorithmiquement (voir graphique ci-contre).\n",
    "\n",
    "* La raison de cette inefficacité se situe dans la nécessité d'effectuer plusieurs fois le même calcul.\n",
    "  * Par exemple pour calculer `f(7)`, l'algorithme fait trois fois appel à `f(4)`, deux fois appel à `f(6)`, ...\n",
    "\n",
    "* Il nous faut trouver mieux !\n",
    "\n",
    "\n",
    "<p style=float:right;><i> Figure : Mesures effectuées à l'aide du module time</i></p>"
   ]
  },
  {
   "cell_type": "markdown",
   "metadata": {
    "slideshow": {
     "slide_type": "slide"
    }
   },
   "source": [
    "### Exercice 2 : Vers une solution plus efficace\n",
    "La clef d'une solution plus efficace serait de s'affranchir de la multiplicité des résolutions du même sous-problème. On améliore la complexité temporelle si, une fois calculé, on sauvegarde un résultat (dans un tableau par exemple). On peut ensuite réutiliser ce résultat si besoin.\n",
    "\n",
    "Utilisons un tableau `tab` qui contient les termes déjà calculés. Ce tableau est construit de telle sorte que pour chaque indice `i`, `tab[i]` est le terme de rang `i` de la suite.\n",
    "\n",
    "Ainsi : `tab[0]=1`, `tab[1]=1`, `tab[2]=2`, `tab[3]=3`, `tab[4]=5`, etc.\n",
    "\n",
    "Descriptif de l'algorithme :\n",
    "*  Au début du programme, le tableau contient les 2 premiers termes de la suite de Fibonacci.\n",
    "* Si le terme de rang $n$ a déjà été calculé, c'est la valeur d'indice $n$ du tableau, on la renvoie.\n",
    "* Sinon on le calcule à l'aide des deux termes précédents, on l'ajoute au tableau et le renvoie.\n",
    "    \n",
    "\n",
    "__1.__ A l'aide de la description ci-dessus, compléter la fonction récursive`f2(n)`. Cette fonction prend en paramètre un entier $n \\geq 0$ et renvoie le terme de rang $n$ de la suite de Fibonacci. "
   ]
  },
  {
   "cell_type": "code",
   "execution_count": null,
   "metadata": {
    "slideshow": {
     "slide_type": "subslide"
    }
   },
   "outputs": [],
   "source": [
    "#1. fonction f2 (version 1)\n",
    "tab=...\n",
    "def f2(n):\n",
    "    if n < ... :\n",
    "        return ...\n",
    "    else:\n",
    "        tab.append(      ...      )\n",
    "        return tab[n]\n",
    "    \n",
    "assert f2(0)==1\n",
    "assert f2(1)==1\n",
    "assert f2(6)==13"
   ]
  },
  {
   "cell_type": "markdown",
   "metadata": {
    "slideshow": {
     "slide_type": "slide"
    }
   },
   "source": [
    "__2.__ Calculer les termes de rang $37$ et $100$."
   ]
  },
  {
   "cell_type": "code",
   "execution_count": null,
   "metadata": {
    "slideshow": {
     "slide_type": "subslide"
    }
   },
   "outputs": [],
   "source": [
    "# tests v1\n",
    "tab=[1,1]\n",
    "f2(6)"
   ]
  },
  {
   "cell_type": "markdown",
   "metadata": {
    "slideshow": {
     "slide_type": "subslide"
    }
   },
   "source": [
    "* Terme de rang $37$ : \n",
    "* Terme de rang $100$ :"
   ]
  },
  {
   "cell_type": "markdown",
   "metadata": {
    "slideshow": {
     "slide_type": "slide"
    }
   },
   "source": [
    "__3.__ Pour des raisons pratiques, le tableau peut-être passé en paramètre de la fonction. Compléter la 2ème version de `f2` ci-dessous :"
   ]
  },
  {
   "cell_type": "code",
   "execution_count": null,
   "metadata": {
    "slideshow": {
     "slide_type": "subslide"
    }
   },
   "outputs": [],
   "source": [
    "#1. fonction f2 (version 2)\n",
    "\n",
    "def f2(n, tab):\n",
    "    if n< ... :\n",
    "        return ...\n",
    "    else:\n",
    "        tab.append(        ...        )\n",
    "        return ...\n",
    "\n",
    "assert f2(0,[1,1])==1\n",
    "assert f2(1,[1,1])==1\n",
    "assert f2(6,[1,1])==13"
   ]
  },
  {
   "cell_type": "markdown",
   "metadata": {
    "slideshow": {
     "slide_type": "slide"
    }
   },
   "source": [
    "__4.__ A l'aide du module `time`, mesurer le temps de calcul des termes de rang $37$ puis $100$."
   ]
  },
  {
   "cell_type": "code",
   "execution_count": null,
   "metadata": {
    "slideshow": {
     "slide_type": "subslide"
    }
   },
   "outputs": [],
   "source": [
    "from time import time\n",
    "t0=time() # début du chronomètre\n",
    "f2(10,[1,1]) # calcul du terme de rang voulu\n",
    "t1=time() # fin du chronomètre\n",
    "print(t1-t0) "
   ]
  },
  {
   "cell_type": "markdown",
   "metadata": {
    "slideshow": {
     "slide_type": "subslide"
    }
   },
   "source": [
    "* Temps de calcul pour `f(37)` : \n",
    "* Temps de calcul pour `f(100)` :"
   ]
  },
  {
   "cell_type": "markdown",
   "metadata": {
    "slideshow": {
     "slide_type": "subslide"
    }
   },
   "source": [
    "__5.__ Que constate-t-on ?\n",
    "*  \n",
    "*  "
   ]
  },
  {
   "cell_type": "markdown",
   "metadata": {
    "slideshow": {
     "slide_type": "slide"
    }
   },
   "source": [
    "## <center> ⚠️ Avant d'aller plus loin :  Sauvegarder le travail. ⚠️ </center>"
   ]
  },
  {
   "cell_type": "markdown",
   "metadata": {
    "slideshow": {
     "slide_type": "slide"
    }
   },
   "source": [
    "__6.__  Chercher le plus grand rang pour lequel on peut calculer un terme de la suite :"
   ]
  },
  {
   "cell_type": "code",
   "execution_count": null,
   "metadata": {
    "slideshow": {
     "slide_type": "subslide"
    }
   },
   "outputs": [],
   "source": [
    "# test rang maximal\n",
    "f2(6,[1,1])"
   ]
  },
  {
   "cell_type": "markdown",
   "metadata": {
    "slideshow": {
     "slide_type": "subslide"
    }
   },
   "source": [
    "__Réponse__: "
   ]
  },
  {
   "cell_type": "markdown",
   "metadata": {
    "slideshow": {
     "slide_type": "slide"
    }
   },
   "source": [
    "### Conclusion :\n",
    "\n",
    "<img src=\"ff2.png\" style='float:right;padding:10px;' width=350>\n",
    "\n",
    "* Cette approche du problème est dite \"descendante\" (top-down) : à partir du problème initial, on génére des sous-problèmes, on les résoud récursivement mais on mémorise les sous-problèmes déjà résolus (on parle de mémoïsation).\n",
    "\n",
    "\n",
    "* L'idée est simple, mais le gain de temps est considérable (voir graphique ci-contre).\n",
    "\n",
    "\n",
    "* On note tout de même que la complexité en mémoire augmente puisqu'il faut stocker les résultats des sous-problèmes et que le nombre d'appels récursifs est limité."
   ]
  },
  {
   "cell_type": "markdown",
   "metadata": {
    "slideshow": {
     "slide_type": "slide"
    }
   },
   "source": [
    "### Exercice 3 : Programmation dynamique ascendante\n",
    "On peut encore améliorer l'algorithme en se passant de la récursivité. On construit le tableau des termes à partir des deux premiers jusqu'au rang souhaité qui est la dernière valeur du tableau.\n",
    "\n",
    "__1.__ A l'aide d'une boucle `for` ou une boucle `while`, compléter la fonction `f3(n)`. Elle prend en paramètre un entier $ n \\geq 0$ et renvoie le terme de rang $n$ de la suite de Fibonacci."
   ]
  },
  {
   "cell_type": "code",
   "execution_count": null,
   "metadata": {
    "slideshow": {
     "slide_type": "subslide"
    }
   },
   "outputs": [],
   "source": [
    "#1. fonction f3 (plus de récursivité)\n",
    "def f3(n):\n",
    "    tab=[1,1]\n",
    "    # à compléter\n",
    "    \n",
    "    \n",
    "    \n",
    "    \n",
    "    \n",
    "    \n",
    "    return tab[n]\n",
    "\n",
    "assert f3(0)==1\n",
    "assert f3(1)==1\n",
    "assert f3(6)==13"
   ]
  },
  {
   "cell_type": "markdown",
   "metadata": {
    "slideshow": {
     "slide_type": "slide"
    }
   },
   "source": [
    "__2.__ Calculer `f3(5000)`, puis tester d'autres rang encore plus grands !"
   ]
  },
  {
   "cell_type": "code",
   "execution_count": null,
   "metadata": {
    "slideshow": {
     "slide_type": "subslide"
    }
   },
   "outputs": [],
   "source": [
    "#2. tests\n",
    "\n",
    "#"
   ]
  },
  {
   "cell_type": "markdown",
   "metadata": {
    "slideshow": {
     "slide_type": "slide"
    }
   },
   "source": [
    "__3.__ Comparons le temps d'exécution de`f3` à celui de `f2`.Le module `timeit` permet effectuer des mesures de temps d'exécution de morceaux de programmes et donne des résultats plus pertinents que le module `time`.\n",
    "\n",
    "A l'aide du code ci-dessous, comparer les temps de calcul du rang $800$ par les fonctions `f2` , puis `f3`."
   ]
  },
  {
   "cell_type": "code",
   "execution_count": null,
   "metadata": {
    "slideshow": {
     "slide_type": "subslide"
    }
   },
   "outputs": [],
   "source": [
    "import timeit\n",
    "test2='f2(800,[1,1])' # test de f2 au rang 800\n",
    "test3='f3(800)' # test de f3 au rang 800\n",
    "t=timeit.Timer(test2,globals=globals()) # objet chronomètre\n",
    "min(t.repeat(3,100)) # mesures effectués en secondes sur 3 échantillons de 100 tests, on garde le temps minimal mesuré"
   ]
  },
  {
   "cell_type": "markdown",
   "metadata": {
    "slideshow": {
     "slide_type": "subslide"
    }
   },
   "source": [
    "* Temps de calcul du terme de rang $800$ avec `f2` :\n",
    "* Temps de calcul du terme de rang $800$ avec `f3` :"
   ]
  },
  {
   "cell_type": "markdown",
   "metadata": {
    "slideshow": {
     "slide_type": "slide"
    }
   },
   "source": [
    "### Conclusion :\n",
    "<img src='f2f3.png' style='float:right;padding:10px;' width=350>\n",
    "\n",
    "* On y gagne encore car :\n",
    "   * Il n'y a plus à identifier si telle ou telle solution a déjà été calculée (gain de temps). \n",
    "   * Il n'y a plus d'appels récursifs (moins de mémoire occupée).\n",
    "   \n",
    "   \n",
    "* La complexité  en temps est celle de la construction du tableau, linéaire.\n",
    "\n",
    "\n",
    "* On résoud ici le problème en partant des plus petits sous-problèmes. On parle d'approche ascendante (bottom-up).\n",
    "\n",
    "<p style=float:right;><i> Figure : Mesures effectuées à l'aide du module timeit</i></p>"
   ]
  },
  {
   "cell_type": "markdown",
   "metadata": {
    "slideshow": {
     "slide_type": "slide"
    }
   },
   "source": [
    "### A retenir :\n",
    "* La programmation dynamique est une technique pour améliorer l'efficacité d'un algorithme en évitant les calculs redondants. Pour cela, on stocke dans un tableau les résultats intermédiaires du calcul afin de les réutiliser au lieu de les recalculer. \n",
    "\n",
    "\n",
    "* La programmation dynamique n'est pas sans rapport avec la technique \"diviser pour régner\" présentée dans un autre document. En effet , on commence souvent par concevoir une décomposition récursive d'un problème pour se rendre compte ensuite que certains appels récursifs vont être effectués plusieurs fois. On utilise alors la programmation dynamique pour y remédier."
   ]
  },
  {
   "cell_type": "markdown",
   "metadata": {
    "slideshow": {
     "slide_type": "slide"
    }
   },
   "source": [
    "## B. Exercices "
   ]
  },
  {
   "cell_type": "markdown",
   "metadata": {
    "slideshow": {
     "slide_type": "slide"
    }
   },
   "source": [
    "### Exercice 4 :\n",
    "<img src='cases.png' style='float:right;padding:5px;' width=150>\n",
    "\n",
    "Alice pose le problème suivant à Bob. Elle dessine sur une feuille un quadrillage comme ci-contre. Elle demande à Bob combien de chemins mènent de la case en haut à gauche à la case en bas à droite, en se deplaçant uniquement vers la droite et vers le bas. Difficile de tous les énumérer de façon exhaustive...Mais Bob connaît les principes de la programmation dynamique. Il a alors l'idée de noter au crayon, dans chaque case le nombre total de chemins qui partent de la case en haut à gauche. Il commence par le début et procède vers la droite et vers le bas.\n",
    "\n",
    "__1.__ Compléter la grille commencée par Bob ci-dessous et trouver le résultat. \n",
    "<img src='casessoldeb.png' style='float:center;' width=150>"
   ]
  },
  {
   "cell_type": "markdown",
   "metadata": {
    "slideshow": {
     "slide_type": "subslide"
    }
   },
   "source": [
    "__2.__ Question pour les matheux : Sans dessiner la grille, combien y a-t-il de tels chemins possibles sur une grille $4\\times6$ ?\n",
    "\n",
    "__Réponse :__\n",
    "*  \n",
    "*  "
   ]
  },
  {
   "cell_type": "markdown",
   "metadata": {
    "slideshow": {
     "slide_type": "slide"
    }
   },
   "source": [
    "### Exercice 5 :\n",
    "<img src='pieces.png' style='float:right;' width=250>\n",
    "\n",
    "Un robot est chargé de ramasser un maximum de pièces d'or réparties sur des quadrillages rectangulaires de $4 \\times 6$ cellules (exemple ci-contre).\n",
    "\n",
    "A chaque étape, il ne peut se déplacer que vers la droite ou vers le bas et ramasse uniquement les pièces situées sur les cellules qu'il traverse.\n",
    "\n",
    "\n",
    "\n",
    "\n",
    "__1.__ Combien de pièces au maximum le robot semble-t-il pouvoir ramasser sur le quadrillage ci-contre ?\n",
    "\n",
    "__Réponse__: \n",
    "\n",
    "__2.__ En complétant le schéma ci-dessous, vérifier la réponse en utilisant une méthode similaire à celle de l'exercice précédent.\n",
    "<img src='piecessoldeb.png' style='float:center;padding:5px;' width=250>"
   ]
  },
  {
   "cell_type": "markdown",
   "metadata": {
    "slideshow": {
     "slide_type": "slide"
    }
   },
   "source": [
    "__3.__ On représente le quadrillage ci-dessus par un tableau de $4$ tableaux contenant chacun $6$ éléments, appelé `grille`. Les cellules contenant une pièce d'or sont représentées par des $1$, les cellules vides par des $0$."
   ]
  },
  {
   "cell_type": "code",
   "execution_count": null,
   "metadata": {
    "slideshow": {
     "slide_type": "subslide"
    }
   },
   "outputs": [],
   "source": [
    "GRILLE=[[0,1,0,0,1,1],\n",
    "        [1,0,0,1,1,0],\n",
    "        [0,1,1,0,0,0],\n",
    "        [1,0,1,1,0,0]]"
   ]
  },
  {
   "cell_type": "markdown",
   "metadata": {
    "slideshow": {
     "slide_type": "subslide"
    }
   },
   "source": [
    "__a.__ Quelle est la valeur de `GRILLE[2][1]` ?\n",
    "\n",
    "__Réponse__:  "
   ]
  },
  {
   "cell_type": "markdown",
   "metadata": {
    "slideshow": {
     "slide_type": "subslide"
    }
   },
   "source": [
    "__b.__ La case \"arrivée\" ne contient pas de pièce. Quelle instruction permet de le vérifier ?\n"
   ]
  },
  {
   "cell_type": "code",
   "execution_count": null,
   "metadata": {
    "slideshow": {
     "slide_type": "subslide"
    }
   },
   "outputs": [],
   "source": [
    "# Réponse :\n",
    "\n",
    "#"
   ]
  },
  {
   "cell_type": "markdown",
   "metadata": {
    "slideshow": {
     "slide_type": "slide"
    }
   },
   "source": [
    "__4.__ La fonction récursive `maxi_pieces` ci-dessous prend en paramètres un tableau `grille` et deux entiers `i` et `j`. Elle renvoie le nombre maximal de pièces que le robot peut ramasser la première case en haut à gauche jusqu'à la case d'indices `i` et `j`.\n",
    "\n",
    "Exemples :\n",
    "* L'appel de `maxi_pieces(GRILLE,3,5)` renvoie `5`.\n",
    "* L'appel de `maxi_pieces(GRILLE,1,3)` renvoie `2`.\n",
    "\n",
    "En complétant les commentaires `#...`, expliquer ce que fait cette fonction."
   ]
  },
  {
   "cell_type": "code",
   "execution_count": null,
   "metadata": {
    "slideshow": {
     "slide_type": "subslide"
    }
   },
   "outputs": [],
   "source": [
    "def maxi_pieces(grille, i, j):\n",
    "    if i==0 and j==0:\n",
    "        #...\n",
    "        return grille[0][0]\n",
    "    else:\n",
    "        if i==0:\n",
    "            #...\n",
    "            return grille[i][j] + maxi_pieces(grille,i,j-1)\n",
    "        elif j==0:\n",
    "            #...\n",
    "            return grille[i][j] + maxi_pieces(grille,i-1,j)\n",
    "        else:\n",
    "            #...\n",
    "            return grille[i][j] + max(maxi_pieces(grille,i-1,j),maxi_pieces(grille,i,j-1))\n",
    "        \n",
    "print(maxi_pieces(GRILLE,3,5))"
   ]
  },
  {
   "cell_type": "markdown",
   "metadata": {
    "slideshow": {
     "slide_type": "slide"
    }
   },
   "source": [
    "__3.__ La fonction ci-dessous génère une grille de $n$ lignes sur $p$ colonnes contenant un nombre aléatoire de pièces."
   ]
  },
  {
   "cell_type": "code",
   "execution_count": null,
   "metadata": {
    "slideshow": {
     "slide_type": "subslide"
    }
   },
   "outputs": [],
   "source": [
    "from random import *\n",
    "def pieces(n,p):\n",
    "    '''renvoie un nombre aléatoire de pièces \n",
    "     sur un quadrillage de n lignes et p colonnes'''\n",
    "    return [[1 if random() < 0.5 else 0 for _ in range(p) ] for _ in range(n)]"
   ]
  },
  {
   "cell_type": "markdown",
   "metadata": {
    "slideshow": {
     "slide_type": "slide"
    }
   },
   "source": [
    "__a.__ Afficher une grille de 4 lignes sur 6 colonnes différente de la grille des questions précédentes, puis tester la fonction `maxi_pièces`sur différentes grilles de ces dimensions."
   ]
  },
  {
   "cell_type": "code",
   "execution_count": null,
   "metadata": {
    "slideshow": {
     "slide_type": "subslide"
    }
   },
   "outputs": [],
   "source": [
    "#une grille de 4x6\n",
    "\n",
    "\n",
    "#"
   ]
  },
  {
   "cell_type": "code",
   "execution_count": null,
   "metadata": {
    "slideshow": {
     "slide_type": "subslide"
    }
   },
   "outputs": [],
   "source": [
    "#tests maxi_pieces\n",
    "\n",
    "#"
   ]
  },
  {
   "cell_type": "markdown",
   "metadata": {
    "slideshow": {
     "slide_type": "slide"
    }
   },
   "source": [
    "## <center>⚠️ Avant d'aller plus loin :  Sauvegarder le travail. ⚠️ </center>"
   ]
  },
  {
   "cell_type": "markdown",
   "metadata": {
    "slideshow": {
     "slide_type": "slide"
    }
   },
   "source": [
    "__b.__ Tester la fonction `maxi_pièces`sur des grilles de différentes dimensions. Que constate-t-on ?"
   ]
  },
  {
   "cell_type": "code",
   "execution_count": null,
   "metadata": {
    "slideshow": {
     "slide_type": "subslide"
    }
   },
   "outputs": [],
   "source": [
    "GRILLE=pieces(4,6) #modifier les dimensions de la grille\n",
    "N=len(GRILLE)-1\n",
    "P=len(GRILLE[0])-1\n",
    "maxi_pieces(GRILLE,N,P)"
   ]
  },
  {
   "cell_type": "markdown",
   "metadata": {
    "slideshow": {
     "slide_type": "subslide"
    }
   },
   "source": [
    "__Réponse__ :  "
   ]
  },
  {
   "cell_type": "markdown",
   "metadata": {
    "slideshow": {
     "slide_type": "slide"
    }
   },
   "source": [
    "__4.__ Faisons donc de la programmation dynamique ascendante (bottom up) !\n",
    "\n",
    "__a.__ Compléter la fonction `maxi_pieces_dyn(grille)`. Cette fonction prend en paramètre une grille et renvoie le nombre maximal de pièces que le robot peut ramasser. Elle utilise la programmation dynamique ascendante (bottom-up). On construit le tableau des solutions en partant des cas les plus simples. Il n'y a pas de récursivité."
   ]
  },
  {
   "cell_type": "code",
   "execution_count": null,
   "metadata": {
    "slideshow": {
     "slide_type": "subslide"
    }
   },
   "outputs": [],
   "source": [
    "def maxi_pieces_dyn(grille):\n",
    "   \n",
    "    n=len(grille) # nombre de lignes de la grille\n",
    "    p=len(grille[0]) # nombre de colonnes de la grille\n",
    "    solutions=[[0 for _ in range(p) ] for _ in range(n)] # le tableau des solutions initialisé avec des 0\n",
    "    solutions[0][0]=grille[0][0] #la solution de la première case\n",
    "    \n",
    "    # Solutions de la première ligne\n",
    "    for j in range(1,p):\n",
    "        ...\n",
    "        \n",
    "    #Solutions de la premiere colonne\n",
    "    for i in range(1,n):\n",
    "        ...\n",
    "\n",
    "    # Reste du tableau des solutions\n",
    "    for j in range(1,p):\n",
    "        for i in range(1,n):\n",
    "            ...\n",
    "    \n",
    "    # on renvoie la valeur contenue dans la case \"inférieure droite\" du tableau\n",
    "    return ..."
   ]
  },
  {
   "cell_type": "code",
   "execution_count": null,
   "metadata": {
    "slideshow": {
     "slide_type": "subslide"
    }
   },
   "outputs": [],
   "source": [
    "#test\n",
    "GRILLE=pieces(4,6)\n",
    "maxi_pieces_dyn(GRILLE)"
   ]
  },
  {
   "cell_type": "markdown",
   "metadata": {
    "slideshow": {
     "slide_type": "slide"
    }
   },
   "source": [
    "__b.__ Tester cette fonction sur de grandes grilles et constater l'efficacité de cette programmation."
   ]
  },
  {
   "cell_type": "code",
   "execution_count": null,
   "metadata": {
    "slideshow": {
     "slide_type": "subslide"
    }
   },
   "outputs": [],
   "source": [
    "#tests grandes grilles\n",
    "\n",
    "\n",
    "\n",
    "#"
   ]
  },
  {
   "cell_type": "markdown",
   "metadata": {
    "slideshow": {
     "slide_type": "slide"
    }
   },
   "source": [
    "### Exercice 6 :\n",
    "\n",
    "<img src='ex5.png' style='float:right;' width=20%>\n",
    "\n",
    "* On considère un tableau de nombres de $n$ lignes et $p$ colonnes. Les lignes sont numérotées de $0$ à $n-1$ et les colonnes sont numérotées de $0$ à $p-1$. La case en haut à gauche est repérée par $(0 ; 0)$ et la case en bas à droite par $(n-1 ; p- 1)$.\n",
    "\n",
    "\n",
    "* On appelle chemin une succession de cases allant de la case $(0; 0)$ à la case $(n-1; p-1)$, en n’autorisant que des déplacements case par case : soit vers la droite, soit vers le bas. On appelle somme d’un chemin la somme des entiers situés sur ce chemin. \n",
    "\n",
    "\n",
    "* Par exemple, pour le tableau $T$ ci-contre :\n",
    "\n",
    "  * Un chemin est $(0 ; 0), (0 ; 1), (0 ; 2), (1 ; 2), (2 ; 2), (2 ; 3)$ (en gras sur le tableau).\n",
    "  * La somme du chemin précédent est $14$.\n",
    "  * $(0 ; 0), (0 ; 2), (2 ; 2), (2 ; 3)$ n’est pas un chemin.\n",
    "  \n",
    "* La fonction ci-dessous permet  de calculer la somme maximale pour tous les chemins possibles allant de la case (0; 0) à la case $(n - 1 ; p -1)$. En particulier pour le tableau $T$ donné en exemple, l'appel de `somme_max(T,2,3)` renvoie $16$."
   ]
  },
  {
   "cell_type": "code",
   "execution_count": null,
   "metadata": {
    "slideshow": {
     "slide_type": "slide"
    }
   },
   "outputs": [],
   "source": [
    "T=[[4,1,1,3],\n",
    "   [2,0,2,1],\n",
    "   [3,1,5,1]]\n",
    "\n",
    "def somme_max(T, i, j):\n",
    "    if i==0 and j==0:\n",
    "        return T[0][0]\n",
    "    else:\n",
    "        if i==0:\n",
    "            return T[i][j]+somme_max(T,i,j-1)\n",
    "        elif j==0:\n",
    "            return T[i][j]+somme_max(T,i-1,j)\n",
    "        else:\n",
    "            return T[i][j]+max(somme_max(T,i-1,j),somme_max(T,i,j-1))\n",
    "        \n",
    "print(somme_max(T,2,3))"
   ]
  },
  {
   "cell_type": "markdown",
   "metadata": {
    "slideshow": {
     "slide_type": "slide"
    }
   },
   "source": [
    "__1.__ Réecrire cette fonction ci-dessous à l'aide de la programmation dynamique. On construira un tableau contenant les solutions pour chaque case, sans utiliser la récursivité."
   ]
  },
  {
   "cell_type": "code",
   "execution_count": null,
   "metadata": {
    "slideshow": {
     "slide_type": "subslide"
    }
   },
   "outputs": [],
   "source": [
    "def somme_max_dyn(T):\n",
    "   \n",
    "    \n",
    "    \n",
    "    \n",
    "    \n",
    "    \n",
    "    \n",
    "    \n",
    "    \n",
    "    \n",
    "    \n",
    "    \n",
    "    \n",
    "    \n",
    "    \n",
    "    \n",
    "    \n",
    "    \n",
    "    \n",
    "    return\n",
    "    \n",
    "print(somme_max_dyn(T))"
   ]
  },
  {
   "cell_type": "markdown",
   "metadata": {
    "slideshow": {
     "slide_type": "slide"
    }
   },
   "source": [
    "__2.__ Ecrire la fonction `tableau(n,p)` qui génère un tableau à `n` lignes et `p` colonnes dont chaque case contient un entier naturel compris entre $0$ et $9$."
   ]
  },
  {
   "cell_type": "code",
   "execution_count": null,
   "metadata": {
    "slideshow": {
     "slide_type": "subslide"
    }
   },
   "outputs": [],
   "source": [
    "from random import randint\n",
    "\n",
    "\n",
    "\n",
    "#"
   ]
  },
  {
   "cell_type": "code",
   "execution_count": null,
   "metadata": {
    "slideshow": {
     "slide_type": "subslide"
    }
   },
   "outputs": [],
   "source": [
    "#tests\n",
    "tableau(8,10)"
   ]
  },
  {
   "cell_type": "markdown",
   "metadata": {
    "slideshow": {
     "slide_type": "slide"
    }
   },
   "source": [
    "__3.__ Comparer l'efficacité de la fonction `somme_max()` et de la fonction `somme_max_dyn()` sur différents tableaux."
   ]
  },
  {
   "cell_type": "code",
   "execution_count": null,
   "metadata": {
    "slideshow": {
     "slide_type": "subslide"
    }
   },
   "outputs": [],
   "source": [
    "#tests somme_max\n",
    "\n",
    "#"
   ]
  },
  {
   "cell_type": "code",
   "execution_count": null,
   "metadata": {
    "slideshow": {
     "slide_type": "subslide"
    }
   },
   "outputs": [],
   "source": [
    "#tests_somme_max_dyn\n",
    "\n",
    "#"
   ]
  },
  {
   "cell_type": "markdown",
   "metadata": {
    "slideshow": {
     "slide_type": "slide"
    }
   },
   "source": [
    "# <center>FIN</center>"
   ]
  }
 ],
 "metadata": {
  "celltoolbar": "Aucun(e)",
  "kernelspec": {
   "display_name": "Python 3 (ipykernel)",
   "language": "python",
   "name": "python3"
  },
  "language_info": {
   "codemirror_mode": {
    "name": "ipython",
    "version": 3
   },
   "file_extension": ".py",
   "mimetype": "text/x-python",
   "name": "python",
   "nbconvert_exporter": "python",
   "pygments_lexer": "ipython3",
   "version": "3.9.5"
  }
 },
 "nbformat": 4,
 "nbformat_minor": 4
}
