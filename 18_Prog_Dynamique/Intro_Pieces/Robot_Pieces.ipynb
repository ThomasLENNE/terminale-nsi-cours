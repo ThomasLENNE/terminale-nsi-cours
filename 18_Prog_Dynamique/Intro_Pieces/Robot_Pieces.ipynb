{
 "cells": [
  {
   "cell_type": "markdown",
   "id": "7b492ec7",
   "metadata": {},
   "source": [
    "# <center>🤖</center>\n",
    "\n",
    "Un robot est chargé de ramasser un maximum de pièces d'or réparties sur des grilles rectangulaires de $4 \\times 6$ cellules. A chaque étape, il ne peut se déplacer que vers la droite ou vers le bas et ramasse uniquement les pièces situées sur les cellules qu'il traverse. \n",
    "\n",
    "Voici quelques grilles données en exemple :\n",
    "\n",
    "<table>\n",
    "  <tr>\n",
    "    <td><img src=\"pieces_01.png\" alt=\"Pièce 01\"></td>\n",
    "    <td><img src=\"pieces_02.png\" alt=\"Pièce 02\"></td>\n",
    "    <td><img src=\"pieces_03.png\" alt=\"Pièce 03\"></td>\n",
    "    <td><img src=\"pieces_04.png\" alt=\"Pièce 04\"></td>\n",
    "    <td><img src=\"pieces_05.png\" alt=\"Pièce 05\"></td>\n",
    "  </tr>\n",
    "  \n",
    "</table>\n",
    "\n",
    "\n",
    "On modélise une grille en langage python par un tableau de tableaux. Ainsi, la grille en haut à gauche peut-être représentée par le code :\n",
    "\n",
    "<center>\n",
    "\n",
    "```python\n",
    "[[1, 1, 0, 1, 0, 1],\n",
    " [0, 0, 0, 0, 1, 1],\n",
    " [0, 0, 0, 1, 1, 0],\n",
    " [0, 1, 0, 0, 1, 0]]\n",
    "\n",
    "```\n",
    "\n",
    "\n",
    "__👉 A FAIRE : Ecrire une fonction `robot_pieces(grille)`qui permet de déterminer le nombre maximal de pièces que le robot peut ramasser dans une grille donnée.__\n",
    "    \n",
    "*  Cette fonction prend en paramètre un un tableau de tableaux pouvant représenter une grille comme dans l'énoncé, et renvoie un entier naturel, qui est le plus grand nombre de pièces que l'on peut ramasser avec le robot sur cette grille.\n",
    "\n",
    "\n",
    "* Cette fonction doit bien sûr renvoyer le nombre maximal de pièces quelque soit la grille proposée !\n",
    "\n",
    "\n"
   ]
  },
  {
   "cell_type": "code",
   "execution_count": null,
   "id": "05fe0ad8",
   "metadata": {},
   "outputs": [],
   "source": [
    "#Fonction"
   ]
  },
  {
   "cell_type": "code",
   "execution_count": null,
   "id": "dab38c93",
   "metadata": {},
   "outputs": [],
   "source": [
    "#Tests"
   ]
  },
  {
   "cell_type": "markdown",
   "id": "01e8b135",
   "metadata": {},
   "source": [
    "__👉 A FAIRE AUSSI : En quelques phrases, décrire ce que fait votre algorithme.__\n",
    "        \n",
    "\n",
    "*  \n",
    "    "
   ]
  },
  {
   "cell_type": "markdown",
   "id": "0565a796",
   "metadata": {},
   "source": [
    "__👉 A RENDRE : Le document capytale complété.__"
   ]
  },
  {
   "cell_type": "markdown",
   "id": "1e4bdf15",
   "metadata": {},
   "source": [
    "###  💯 Compétences évaluées :\n",
    "\n",
    "* Concevoir et réaliser une solution informatique en réponse à un problème __(2 pts)__ :\n",
    "   * *Le code fonctionne, le corps de la fonction est bien structuré, des tests pertinents sont présents.*\n",
    "\n",
    "&nbsp;\n",
    "* Décrire et expliquer une situation, un système, un programme __(1 pt)__ : \n",
    "   * *Le script est commenté de façon claire.*\n",
    "\n",
    "&nbsp;\n",
    "\n",
    "* Respecter les consignes (modalités de rendu du travail, formats des fichiers rendus, respect des délais etc.)__(1 pt)__ : \n",
    "  * *Le notebook est rendu en temps et en heure dans capytale et contient au moins des traces de recherches, même infructueuses, la cellule \"décrire ce que fait votre algorithme\" en quelques phrases est complétée.*\n",
    "\n",
    "&nbsp;\n",
    "\n",
    "* Faire preuve d’autonomie, d’initiative et de créativité : __(1 pt)__ \n",
    "  * *Vous vous êtes correctement impliqué lors de la séance. Votre solution est originale (non copiée),vous avez su organiser votre temps.*"
   ]
  }
 ],
 "metadata": {
  "kernelspec": {
   "display_name": "Python 3 (ipykernel)",
   "language": "python",
   "name": "python3"
  },
  "language_info": {
   "codemirror_mode": {
    "name": "ipython",
    "version": 3
   },
   "file_extension": ".py",
   "mimetype": "text/x-python",
   "name": "python",
   "nbconvert_exporter": "python",
   "pygments_lexer": "ipython3",
   "version": "3.9.5"
  }
 },
 "nbformat": 4,
 "nbformat_minor": 5
}
