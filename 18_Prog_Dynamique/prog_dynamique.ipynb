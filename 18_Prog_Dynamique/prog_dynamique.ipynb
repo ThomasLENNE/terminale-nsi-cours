{
 "cells": [
  {
   "cell_type": "markdown",
   "metadata": {},
   "source": [
    "<img src='bellman.jpeg' style='float:right' width=20%>\n",
    "\n",
    "\n",
    "# <center> PROGRAMMATION DYNAMIQUE 1/3</center>\n",
    "\n",
    "\n",
    "* La programmation dynamique est une approche de résolution de problèmes qui consiste à décomposer un problème complexe en sous-problèmes plus simples (ce que permet aussi la récursivité ou le paradigme \"diviser pour régner\").\n",
    "* La différence avec la récursivité est que chaque sous-problème ne sera résolu qu'une seule fois quand celui-ci se répète.\n",
    "* Ce principe permet un gain de temps considérable.\n",
    "* Le concept a été introduit au début des années 1950 par le mathématicien Richard Bellman( 1920-1984). \n"
   ]
  },
  {
   "cell_type": "markdown",
   "metadata": {},
   "source": [
    "## 1.  Principes\n",
    "\n",
    "#### Exercice 1 : Un algorithme naïf\n",
    "* Dans la suite de Fibonacci, chaque terme à partir du troisième est égal à la somme des deux précedents. Les deux premiers termes sont égaux à $1$.\n",
    "* Cette suite commence donc ainsi : $1,1,2,3,5,8,13,...$\n",
    "* La fonction récursive ci-dessous calcule le terme de rang $n$ de la suite de Fibonacci :"
   ]
  },
  {
   "cell_type": "code",
   "execution_count": 2,
   "metadata": {},
   "outputs": [],
   "source": [
    "def f(n):\n",
    "    if n<=1:\n",
    "        return 1\n",
    "    else :\n",
    "        return f(n-1)+f(n-2)"
   ]
  },
  {
   "cell_type": "markdown",
   "metadata": {},
   "source": [
    "__1. Calculer les termes de rang $10$, $20$, $30$, $40$.__\n",
    "\n",
    "* `f(10)` : \n",
    "* `f(20)` : \n",
    "* `f(30)` : \n",
    "* `f(40)` : \n"
   ]
  },
  {
   "cell_type": "code",
   "execution_count": 3,
   "metadata": {},
   "outputs": [
    {
     "data": {
      "text/plain": [
       "1"
      ]
     },
     "execution_count": 3,
     "metadata": {},
     "output_type": "execute_result"
    }
   ],
   "source": [
    "#1.\n",
    "f(1)"
   ]
  },
  {
   "cell_type": "markdown",
   "metadata": {},
   "source": [
    "__2. Que peut-on dire de cet algorithme en terme de temps d'éxécution ?__\n",
    "\n",
    "* \n",
    "* "
   ]
  },
  {
   "cell_type": "markdown",
   "metadata": {},
   "source": [
    "__3. Contruire l'arbre des appels pour `f(6)`.__\n",
    "\n",
    "* \n",
    "* \n",
    "* \n",
    "* \n",
    "* \n",
    "* \n",
    "* \n",
    "* \n",
    "* \n",
    "* \n",
    "* \n",
    "* \n",
    "* \n",
    "* \n",
    "* \n",
    "* \n",
    "* \n",
    "* \n",
    "* \n",
    "* \n",
    "* \n",
    "* \n",
    "* \n",
    "* \n"
   ]
  },
  {
   "cell_type": "markdown",
   "metadata": {},
   "source": [
    "__4. Combien de fois est appelé `f(2)` ?__\n",
    "\n",
    "* "
   ]
  },
  {
   "cell_type": "markdown",
   "metadata": {},
   "source": [
    "### Remarques :\n",
    "* La complexité de cet algorithme est exponentielle( ici en $O(2^{n})$), c'est déplorable algorithmiquement. La raison de cette inefficacité se situe dans la nécéssité d'effectuer plusieurs fois le même calcul.\n",
    "* Ainsi pour calculer `f(7)`, l'algorithme fait par exemple trois fois appel à `f(4)`, deux fois appel à `f(6)`, etc..."
   ]
  },
  {
   "cell_type": "markdown",
   "metadata": {},
   "source": [
    "#### Exercice 2 : Vers une solution plus efficace\n",
    "La clef d'une solution plus efficace serait de s'affranchir de la multiplicité des résolutions du même sous-problème. On améliore la complexité temporelle si, une fois calculé, on sauvegarde un résultat( dans un tableau par exemple). On peut ensuite réutiliser ce résultat si besoin.\n",
    "\n",
    "1. Compléter la fonction récursive`f2(n,tab)`. Cette fonction prend en paramètres un entier `n` (le rang du terme à calculer) et un tableau `tab` qui contient les termes déjà calculés. On construit ce tableau de telle sorte que pour chaque indice `i`, `tab[i]` est le terme de rang `i` de la suite. Ainsi :\n",
    "    *  `tab[0]=1`, `tab[1]=1`, `tab[2]=2`, `tab[3]=3`, `tab[4]=5`, etc.\n",
    "    * Pour calculer le terme de rang 40, on appelera `f2(40,[1,1])`.\n",
    "    \n",
    "    \n",
    "2. En calculant différents termes, comparer la performance de cet algorithme avec le précédent."
   ]
  },
  {
   "cell_type": "code",
   "execution_count": 4,
   "metadata": {},
   "outputs": [],
   "source": [
    "#1. fonction\n",
    "def f2(n,tab):\n",
    "    if n<len(tab):\n",
    "        pass\n",
    "    else:\n",
    "        pass\n",
    "        return tab[n]        "
   ]
  },
  {
   "cell_type": "code",
   "execution_count": 7,
   "metadata": {},
   "outputs": [],
   "source": [
    "#2. tests\n",
    "f2(1,[1,1])"
   ]
  },
  {
   "cell_type": "markdown",
   "metadata": {},
   "source": [
    "### Remarques:\n",
    "* Cette approche du problème est dite \"descendante\" (top-down) : à partir du problème initial, on génére des sous-problèmes, on les résoud récursivement mais on mémorise les sous-problèmes déjà résolus( on parle de mémoïsation).\n",
    "* L'idée est simple, mais le gain de temps est considérable.\n",
    "* On note tout de même que la complexité en mémoire augmente puisqu'il faut stocker les résultats des sous-problèmes."
   ]
  },
  {
   "cell_type": "markdown",
   "metadata": {},
   "source": [
    "#### Exemple 3 : Programmation dynamique ascendante\n",
    "On peut encore améliorer l'algorithme en se passant de la récursivité. On construit le tableau des termes à partir du premier jusqu'au rang souhaité.\n",
    "1. Compléter la fonction `f3(n)`.\n",
    "2. Tester quelques valeurs et comparer la performance de cet algorithme au précédent."
   ]
  },
  {
   "cell_type": "code",
   "execution_count": 11,
   "metadata": {},
   "outputs": [],
   "source": [
    "#1. fonction\n",
    "def f3(n):\n",
    "    tab=[1,1]\n",
    "    i=2\n",
    "    while i<=n:\n",
    "        pass\n",
    "        i=i+1\n",
    "    \n",
    "    return tab[n]"
   ]
  },
  {
   "cell_type": "code",
   "execution_count": 10,
   "metadata": {},
   "outputs": [
    {
     "data": {
      "text/plain": [
       "1"
      ]
     },
     "execution_count": 10,
     "metadata": {},
     "output_type": "execute_result"
    }
   ],
   "source": [
    "f3(1)"
   ]
  },
  {
   "cell_type": "markdown",
   "metadata": {},
   "source": [
    "### Remarques :\n",
    "* On y gagne encore en temps car il n' y a plus à identifier si telle ou telle solution a déjà été calculée. La complexité  est celle de la construciton du tableau , linéaire en $O(n)$.\n",
    "* On résoud ici le problème en partant des plus petits sous-problèmes. On parle d'approche ascendante (bottom-up)."
   ]
  },
  {
   "cell_type": "markdown",
   "metadata": {},
   "source": [
    "### A retenir :\n",
    "* La programmation dynamique est une technique pour améliorer l'éfficacité d'un algorithme en évitant les calculs redondants. Pour cela, on stocke dans un tableau les résultats intermédiaires du calcul afin de les réutiliser au lieu de les recalculer. \n",
    "* La programmation dynamique n'est pas sans rapport avec la technique \"diviser pour régner\" présentée dans un autre document. En effet , on commence souvent par concevoir une décomposition récursive d'un problème pour se rendre compte ensuite que certains appels récursifs vont être effectués plusieurs fois. On utilise alors la programmation dynamque pour y remédier."
   ]
  },
  {
   "cell_type": "markdown",
   "metadata": {},
   "source": [
    "## 2. Exercices "
   ]
  },
  {
   "cell_type": "markdown",
   "metadata": {},
   "source": [
    "#### Exercice 4 :\n",
    "\n",
    "Alice pose le problème suivant à Basile. Elle dessine sur une feuille une petite grille $2\\times3$ comme ci-dessous. Elle demande à Basile combien de chemins mènent du coin supérieur gauche au coin inférieur droit, en se deplaçant uniquement le long des traits horizontaux vers la droite et le long des traits verticaux vers le bas.Difficile de tous les énumérer de façon exhaustive...Mais Basile connaît les principes de la programmaiton dynamique. Il a alors l'idée de noter, à côté de chaque intersection le nombre total de chemins qui mènent  au coin inférieur droit. Il commence par la fin et procède vers le haut et vers la gauche.\n",
    "<img src='quadri.png' style='float:center;' width=150>\n",
    "\n",
    "\n",
    "__1.__ Ecrire sur la grille (ou la recopier ci-dessous)ce qu'a noté Basile et trouver le résultat.\n",
    "* \n",
    "* \n",
    "* \n",
    "* \n",
    "* \n",
    "* \n",
    "* \n",
    "\n",
    "\n",
    "__2.__ Question pour les matheux : Combien y a-t-il de tels chemins possibles sur une grille $10\\times10$ ?\n",
    "\n",
    "__Réponse :__\n",
    "* \n",
    "* \n",
    "* \n",
    "* \n",
    "* \n",
    "* \n"
   ]
  },
  {
   "cell_type": "markdown",
   "metadata": {},
   "source": [
    "#### Exercice 5 :\n",
    "\n",
    "<img src='ex5.png' style='float:right;' width=20%>\n",
    "\n",
    "* On considère un tableau de nombres de $n$ lignes et $p$ colonnes. Les lignes sont numérotées de $0$ à $n-1$ et les colonnes sont numérotées de $0$ à $p-1$. La case en haut à gauche est repérée par $(0; 0)$ et la case en bas à droite par $(n-1; p- 1)$.\n",
    "\n",
    "\n",
    "* On appelle chemin une succession de cases allant de la case $(0; 0)$ à la case $(n-1; p-1)$, en n’autorisant que des déplacements case par case : soit vers la droite, soit vers le bas. On appelle somme d’un chemin la somme des entiers situés sur ce chemin. \n",
    "\n",
    "\n",
    "* Par exemple, pour le tableau $T$ ci-contre :\n",
    "\n",
    "  * Un chemin est $(0; 0), (0; 1), (0; 2), (1; 2), (2; 2), (2; 3)$ (en gras sur le tableau).\n",
    "  * La somme du chemin précédent est $14$.\n",
    "  * $(0; 0), (0; 2), (2; 2), (2; 3)$ n’est pas un chemin.\n",
    "  \n",
    "* La fonction ci-dessous permet  de calculer la somme maximale pour tous les chemins possibles allant de la case (0; 0) à la case $(n - 1; p -1)$. En particulier pour le tableau $T$ donné en exemple, l'appel de `somme_max(T,2,3)` renvoie $16$."
   ]
  },
  {
   "cell_type": "code",
   "execution_count": 14,
   "metadata": {},
   "outputs": [
    {
     "name": "stdout",
     "output_type": "stream",
     "text": [
      "16\n"
     ]
    }
   ],
   "source": [
    "T=[[4,1,1,3],\n",
    "   [2,0,2,1],\n",
    "   [3,1,5,1]]\n",
    "\n",
    "def somme_max(T, i, j):\n",
    "    if i==0 and j==0:\n",
    "        return T[0][0]\n",
    "    else:\n",
    "        if i==0:\n",
    "            return T[i][j]+somme_max(T,i,j-1)\n",
    "        elif j==0:\n",
    "            return T[i][j]+somme_max(T,i-1,j)\n",
    "        else:\n",
    "            return T[i][j]+max(somme_max(T,i-1,j),somme_max(T,i,j-1))\n",
    "        \n",
    "print(somme_max(T,2,3))"
   ]
  },
  {
   "cell_type": "markdown",
   "metadata": {},
   "source": [
    "__1. Réecrire cette fonction ci-dessous à l'aide de la programmation dynamique. On construira un tableau contenant les solutions pour chaque case, sans utiliser la récursivité.__"
   ]
  },
  {
   "cell_type": "code",
   "execution_count": 42,
   "metadata": {},
   "outputs": [
    {
     "name": "stdout",
     "output_type": "stream",
     "text": [
      "16\n"
     ]
    }
   ],
   "source": [
    "def somme_max_dyn(T):\n",
    "   \n",
    "    sol=[[T[0][0]]] #tableau(liste de listes python) contenant les solutions pour chaque case\n",
    "    n=len(T) # nb lignes\n",
    "    p=len(T[0]) #nb colonnes\n",
    "    \n",
    "    #construire les solutions de la première ligne\n",
    "    pass\n",
    "    \n",
    "    #celles de la premiere colonne\n",
    "    pass\n",
    "\n",
    "    #reste du tableau des solutions\n",
    "    for j in range(1,p):\n",
    "        for i in range(1,n):\n",
    "            pass\n",
    "    \n",
    "    \n",
    "    return sol[n-1][p-1]\n",
    "\n",
    "assert(somme_max_dyn(T)==16)"
   ]
  },
  {
   "cell_type": "markdown",
   "metadata": {},
   "source": [
    "__2. Ecrire la fonction `tableau(n,p)` qui génère un tableau à `n` lignes et `p` colonnes dont chaque case contient un entier naturel compris entre $0$ et $9$.__"
   ]
  },
  {
   "cell_type": "code",
   "execution_count": 43,
   "metadata": {},
   "outputs": [],
   "source": [
    "from random import randint\n",
    "def tableau(n,p):\n",
    "    pass"
   ]
  },
  {
   "cell_type": "code",
   "execution_count": 44,
   "metadata": {},
   "outputs": [
    {
     "data": {
      "text/plain": [
       "[[2, 4, 5, 0, 9, 5, 1, 0, 0, 0],\n",
       " [2, 9, 5, 5, 3, 8, 2, 1, 4, 0],\n",
       " [5, 3, 6, 1, 4, 7, 3, 7, 7, 8],\n",
       " [5, 5, 5, 3, 6, 6, 0, 5, 4, 8],\n",
       " [6, 4, 0, 4, 9, 5, 0, 8, 0, 0],\n",
       " [4, 5, 9, 5, 6, 6, 7, 9, 2, 7],\n",
       " [2, 7, 9, 7, 0, 6, 7, 2, 3, 9],\n",
       " [1, 8, 8, 3, 1, 2, 9, 9, 4, 4]]"
      ]
     },
     "execution_count": 44,
     "metadata": {},
     "output_type": "execute_result"
    }
   ],
   "source": [
    "#tests\n",
    "tableau(8,10)"
   ]
  },
  {
   "cell_type": "markdown",
   "metadata": {},
   "source": [
    "__3. Comparer l'efficacité de la fonction `somme_max()` et de la fonction `somme_max_dyn()` sur différents tableaux.__"
   ]
  },
  {
   "cell_type": "code",
   "execution_count": 45,
   "metadata": {},
   "outputs": [
    {
     "data": {
      "text/plain": [
       "143"
      ]
     },
     "execution_count": 45,
     "metadata": {},
     "output_type": "execute_result"
    }
   ],
   "source": [
    "somme_max(tableau(13,13),12,12)"
   ]
  },
  {
   "cell_type": "code",
   "execution_count": 46,
   "metadata": {},
   "outputs": [
    {
     "data": {
      "text/plain": [
       "1358"
      ]
     },
     "execution_count": 46,
     "metadata": {},
     "output_type": "execute_result"
    }
   ],
   "source": [
    "somme_max_dyn(tableau(100,100))"
   ]
  },
  {
   "cell_type": "markdown",
   "metadata": {},
   "source": [
    "\n",
    "#### Exercice 6 :\n",
    "<img src='fraises.png' style='float:right;' width=33%>\n",
    "\n",
    "* Des fraises sont réparties sur un quadrillage rectangulaire comportant 10 x 13 cellules.\n",
    "* Un robot chargé d'effectuer la cueillette part du coin supérieur gauche et doit déverser sa cueillette dans le coin inférieur droit.\n",
    "* À chaque étape, le robot peut se déplacer d'une cellule soit vers la droite soit vers le bas (et ramasse uniquement les fraises situées sur les cellules qu'il traverse).\n",
    "\n",
    "\n",
    "1. Modéliser ce champ de fraises à l'aide d'un tableau (liste de listes).\n",
    "2. En utilisant la programmation dynamique, compléter la fonction `maxi_fraises(champ)`ci-dessous qui permet de déterminer combien de fraises au maximum le robot peut-il ramasser lors de son parcours. Elle prend en paramètre un champ de fraises modélisé par un tableau et renvoie le nombre maximal de fraises ramassables. On pourra s'appuyer sur la fonction de l'exercice 5.\n",
    "3. En reprenant et en modifiant le code de la fonction de l'exercice 5, compléter la fonction `fraises(n,p)` ci-dessous qui génère un champ de fraises de $n$ lignes et $p$ colonnes, telles que les fraises sont réparties aléatoirement.\n",
    "4. Tester l'algorithme précédent sur des champs différents."
   ]
  },
  {
   "cell_type": "code",
   "execution_count": 47,
   "metadata": {},
   "outputs": [],
   "source": [
    "#1.\n"
   ]
  },
  {
   "cell_type": "code",
   "execution_count": 50,
   "metadata": {},
   "outputs": [
    {
     "data": {
      "text/plain": [
       "15"
      ]
     },
     "execution_count": 50,
     "metadata": {},
     "output_type": "execute_result"
    }
   ],
   "source": [
    "#2\n",
    "def maxi_fraises(champ):\n",
    "    sol=[[champ[0][0]]]\n",
    "    n=len(champ) #nb de lignes\n",
    "    p=len(champ[0]) #nb de colonnes\n",
    "    \n",
    "    #construire les solutions de la première ligne\n",
    "    pass\n",
    "    \n",
    "    #celles de la premiere colonne\n",
    "    pass\n",
    "\n",
    "    #reste du tableau des solutions\n",
    "    pass\n",
    "    \n",
    "    return sol[n-1][p-1]\n",
    "    \n",
    "maxi_fraises(champ)"
   ]
  },
  {
   "cell_type": "code",
   "execution_count": 59,
   "metadata": {},
   "outputs": [
    {
     "data": {
      "text/plain": [
       "[[1, 1, 0, 0, 1, 1, 1, 0, 1, 1, 0, 0, 1],\n",
       " [0, 0, 0, 0, 1, 0, 1, 1, 1, 1, 0, 0, 0],\n",
       " [0, 1, 1, 0, 1, 0, 0, 1, 0, 1, 0, 1, 1],\n",
       " [0, 0, 0, 0, 1, 0, 0, 1, 1, 0, 0, 0, 0],\n",
       " [1, 0, 0, 1, 0, 1, 1, 1, 0, 0, 0, 0, 0],\n",
       " [0, 1, 0, 0, 0, 0, 0, 1, 1, 1, 1, 0, 0],\n",
       " [0, 0, 0, 1, 0, 0, 1, 0, 1, 1, 1, 0, 0],\n",
       " [1, 0, 1, 0, 0, 1, 1, 1, 1, 1, 1, 0, 1],\n",
       " [1, 0, 1, 0, 1, 0, 1, 0, 1, 0, 1, 0, 0],\n",
       " [1, 0, 0, 1, 0, 0, 0, 1, 0, 0, 1, 0, 0]]"
      ]
     },
     "execution_count": 59,
     "metadata": {},
     "output_type": "execute_result"
    }
   ],
   "source": [
    "#3\n",
    "def fraises(n,p):\n",
    "    pass\n",
    "\n",
    "fraises(10,13)"
   ]
  },
  {
   "cell_type": "code",
   "execution_count": 58,
   "metadata": {},
   "outputs": [
    {
     "data": {
      "text/plain": [
       "30"
      ]
     },
     "execution_count": 58,
     "metadata": {},
     "output_type": "execute_result"
    }
   ],
   "source": [
    "#4\n",
    "maxi_fraises(fraises(20,20))"
   ]
  }
 ],
 "metadata": {
  "kernelspec": {
   "display_name": "Python 3",
   "language": "python",
   "name": "python3"
  },
  "language_info": {
   "codemirror_mode": {
    "name": "ipython",
    "version": 3
   },
   "file_extension": ".py",
   "mimetype": "text/x-python",
   "name": "python",
   "nbconvert_exporter": "python",
   "pygments_lexer": "ipython3",
   "version": "3.8.5"
  }
 },
 "nbformat": 4,
 "nbformat_minor": 4
}
