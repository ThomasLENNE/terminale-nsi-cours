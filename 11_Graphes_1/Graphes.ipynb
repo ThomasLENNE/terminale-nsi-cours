{
 "cells": [
  {
   "cell_type": "markdown",
   "metadata": {},
   "source": [
    "# <center> GRAPHES : Structures relationnelles </center>"
   ]
  },
  {
   "cell_type": "markdown",
   "metadata": {},
   "source": [
    "<img src='metro.png' style='float:right;' width=400>\n",
    "\n",
    "* Dans ce document nous allons découvrir quelques notions de base concernant la théorie des graphes.\n",
    "* La structure de graphe est omniprésente en informatique et modélise de nombreuses situations.\n",
    "* Un ensemble de pages HTML, un réseau social, un labyrinthe, les routeurs Internet, un réseau ferré, une carte routière...se modélisent à l'aide d'un graphe."
   ]
  },
  {
   "cell_type": "markdown",
   "metadata": {},
   "source": [
    "## 0. Introduction\n",
    "##### Exercice 1 :\n",
    "Découvrir les 8 pages html numérotées de 0 à 7 situées <a href='pages_html/page 0.html' target=_blank>dans le même dossier que ce document</a> et compléter le schéma ci-dessous en indiquant les liens des pages entre elles.\n",
    "\n",
    "<img src='intro.png' style='float:center;' width=400>"
   ]
  },
  {
   "cell_type": "markdown",
   "metadata": {},
   "source": [
    "## 1. Définitions"
   ]
  },
  {
   "cell_type": "markdown",
   "metadata": {},
   "source": [
    "### Sommets, arcs, orientation\n",
    "Un graphe est un ensemble de sommets reliés entre eux par des arcs.Dans l'exercice d'introduction, les sommets sont les pages html, les arcs sont les liens des pages html entre elles.\n",
    "\n",
    "#### Graphe orienté\n",
    "<img src='exemple1.png' style='float:right;' width=200>\n",
    "\n",
    "Voici un exemple plus petit de graphe possédant quatre sommets et six arcs. On parle de graphe orienté lorsque l'on distingue le sens des arcs. Les flèches indiquent le sens.\n",
    "\n",
    "* Dans ce graphe, il y a un arc de $a$ vers $b$ mais pas de $b$ vers $a$.\n",
    "* Il y a un arc de $b$ vers $d$ et de $d$ vers $b$."
   ]
  },
  {
   "cell_type": "markdown",
   "metadata": {},
   "source": [
    "#### Graphe non orienté\n",
    "<img src='exemple2.png' style='float:right;' width=200>\n",
    "\n",
    "Dans un graphe non orienté , on s'intéresse uniquement à la présence d'un arc entre deux sommets. On dessine alors ces arcs avec de simples traits.\n",
    "* Dans le graphe ci-contre, il n'y a que 5 arcs."
   ]
  },
  {
   "cell_type": "markdown",
   "metadata": {},
   "source": [
    "#### Voisinage\n",
    "Lorsqu'il y a un arc d'un sommet $a$ vers un sommet $b$, on dit que $b$ est adjacent à $a$ ou encore que $b$ est un voisin de $a$.\n",
    "* Dans les exemples ci-dessus, les voisins de $b$ sont:\n",
    "  * $c$ et $d$ dans le cas orienté.\n",
    "  * $a$, $b$ et $d$ dans le cas non orienté."
   ]
  },
  {
   "cell_type": "markdown",
   "metadata": {},
   "source": [
    "#### Dessins\n",
    "\n",
    "Un graphe est défini par l'ensemble de ses sommets et de ces arcs et non pas par la façon dont il est dessiné. Dans les exemples ci-dessous, il s'agit bien du même graphe:\n",
    "\n",
    "<img src='exemple3.png' style='float:center;' width=500>"
   ]
  },
  {
   "cell_type": "markdown",
   "metadata": {},
   "source": [
    "##### Exercice 2 :\n",
    "<img src='ex2.png' style='float:right;' width=300>\n",
    "Dans le graphe ci-onctre:\n",
    "\n",
    "1. Quels sont les voisins de :\n",
    "\n",
    "\n",
    "   * $0$ :  \n",
    "   \n",
    "   \n",
    "   * $7$ :  \n",
    "   \n",
    "   \n",
    "   * $1$ :  \n",
    "   \n",
    "   \n",
    "   \n",
    "   \n",
    "2. De quel sommet l'ensemble $ \\{ 0,1,5,6,7 \\}$ est-il le voisinage ?  "
   ]
  },
  {
   "cell_type": "markdown",
   "metadata": {},
   "source": [
    "### Chemin dans un graphe\n",
    "Dans l'exercice d'introduction, pour passer d'une page donnée à une autre, il faut parfois plusieurs clics. On appelle cela un chemin."
   ]
  },
  {
   "cell_type": "markdown",
   "metadata": {},
   "source": [
    "#### Chemin\n",
    "\n",
    "\n",
    "* Un chemin est une séquence finie de sommets reliés deux à deux par des arcs.\n",
    "\n",
    "\n",
    "* Ainsi dans le graphe orienté ci-contre :\n",
    "<img src='exemple1.png' style='float:right;' width=200>\n",
    "\n",
    "   * Un chemin reliant $a$ à $c$ est $a-b-c$ (dans cet ordre). \n",
    "   * Mais il y a aussi $a-d-b-c$ ou encore $a-b-c-d-b-c$.\n",
    "   * il n'y a pas de chemin de $c$ à $a$ ( le graphe est orienté)"
   ]
  },
  {
   "cell_type": "markdown",
   "metadata": {},
   "source": [
    "* Dans un graphe non orienté, il existe un chemin d'un sommet $x$ vers un sommet $y$ si et seulement si il existe un chemin de $y$ vers $x$.\n",
    "\n",
    "* Et dans le graphe non orienté ci-contre :\n",
    "<img src='exemple2.png' style='float:right;' width=200>\n",
    "\n",
    "   * Un chemin reliant $a$ à $c$ est $a-b-c$ (dans cet ordre). \n",
    "   * Il y a donc aussi $c-b-a$.\n",
    "   * Il y a un chemin de $c$ à $a$ ( $c-b-a$)"
   ]
  },
  {
   "cell_type": "markdown",
   "metadata": {},
   "source": [
    "#### Cycle\n",
    "Un chemin est dit simple s'il n'emprunte pas deux fois le même arc et élémentaire s'il ne passe pas deux fois par le même sommet.\n",
    "* Dans le graphe orienté précédent:\n",
    "    * $a-b-c$ est un chemin simple et élémentaire.\n",
    "    * $a-b-d-b-c$ est un chemin simple, mais pas élémentaire.\n",
    "\n",
    "Un chemin simple reliant un sommet à lui même et contenant au moins un arc est appelé un cycle.\n",
    "* Dans le graphe non orienté précédent :\n",
    "   * $b-c-d-b$ est un cycle\n",
    "   * $a-b-a$ n'est pas un cycle (ce n'est pas un chemin simple)\n",
    "    "
   ]
  },
  {
   "cell_type": "markdown",
   "metadata": {},
   "source": [
    "#### Distance\n",
    "* La longueur d'un chemin est définie comme le nombre d'arcs qui constituent le chemin.\n",
    "* La distance entre deux sommets est la longueur du plus court chemin reliant ces deux sommets.\n",
    "* La distance d'un sommet à lui-même n'empruntant aucun arc est $0$.\n",
    "* La distance entre deux sommets non reliés n'est pas définie.\n",
    "* Dans le graphe non orienté précédent :\n",
    "  * La longueur du chemin $a-b-d-c$ est $3$, mais la distance entre $a$ et $c$ est $2$ (longueur du chemin $a-b-c$).\n"
   ]
  },
  {
   "cell_type": "markdown",
   "metadata": {},
   "source": [
    "#### Connexité\n",
    "* On dit qu'un graphe non orienté est connexe si pour tous sommets $x$ et $y$, il existe un chemin qui relie $x$ et $y$ \n",
    "* Dans le cas d'un graphe orienté :\n",
    "     * On dit qu'il est connexe si pour tous sommets $x$ et $y$, il existe un chemin de $x$ vers $y$ ou de $y$ vers $x$.\n",
    "     * On dit qu'il est fortement connexe s'il existe un chemin de de $x$ vers $y$ et de $y$ vers $x$.\n",
    " \n",
    "<img src='exemple1.png' style='float:right;' width=200>\n",
    "\n",
    "* Ainsi le graphe orienté ci-contre :\n",
    "   * est connexe.\n",
    "   * n'est pas fortement connexe.\n",
    "\n",
    "\n"
   ]
  },
  {
   "cell_type": "markdown",
   "metadata": {},
   "source": [
    "* Nous verrons par la suite des algorithmes qui déterminent si un graphe est connexe, ou plus précisément s'il existe un chemin entre deux sommets"
   ]
  },
  {
   "cell_type": "markdown",
   "metadata": {},
   "source": [
    "##### Exercice 3 :\n",
    "<img src='ex3.png' style='float:right;' width=250>\n",
    "On considère le graphe orienté ci-contre:\n",
    "\n",
    "\n",
    "1. Ce graphe est-il connexe ? \n",
    "\n",
    "\n",
    "2. Est-il fortement connexe ?  \n",
    "\n",
    "\n",
    "3. Citer un chemin simple et non élémentaire de $4$ à $2$.  \n",
    "\n",
    "\n",
    "4. Quelle est la longueur du plus court chemin de $3$ à $2$ ? \n",
    "\n",
    "\n",
    "5. Citer un chemin élémentaire de $3$ à $1$.   \n",
    "\n",
    "\n",
    "6. Quelle est la distance des sommets $1$ et $2$ ?  \n",
    "\n",
    "\n",
    "7. Citer un cycle de ce graphe.  \n",
    "\n"
   ]
  },
  {
   "cell_type": "markdown",
   "metadata": {},
   "source": [
    "## 2. Exemples\n",
    "##### Exercice 4 :\n",
    "Les graphes modélisent de nombreuses situations. Après avoir lu le descriptif des exemples présentés, proposer une modélisation en complétant le tableau ci-dessous. Certains champs peuvent prêter à discussion...\n",
    "<img src='tableau.png' style='float:center;' width=80%>\n"
   ]
  },
  {
   "cell_type": "markdown",
   "metadata": {},
   "source": [
    "### Réseaux\n",
    "#### Routiers\n",
    "\n",
    "* *Exemple 1 :* On considère les principales villes de France et on s'intérèsse aux autoroutes qui desservent ces villes.\n",
    "<img src='gr1.png' style='float:center;' width=300>\n",
    "\n",
    "* *Exemple 2 :* Dans une ville, on considère le sens de circulation en voiture dans des rues.\n",
    "<img src='gr2.png' style='float:center;' width=300>\n",
    "\n",
    "#### Informatiques\n",
    "* *Exemple 3 :* On considère l'architecture client/serveur qui permet d'utiliser un navigateur web.\n",
    "<img src='gr3.png' style='float:center;' width=300>\n",
    "\n",
    "#### Sociaux\n",
    "* *Exemple 4 :* Dans un réseau social, on considère les profils et la relation \"abonné\".\n",
    "<img src='gr4.png' style='float:center;' width=500>"
   ]
  },
  {
   "cell_type": "markdown",
   "metadata": {},
   "source": [
    "### Cartes\n",
    "\n",
    "* *Exemple 5 :* On considère les régions françaises métropolitaines et la relation \"est limitrophe de\".\n",
    "<img src='gr5.png' style='float:center;' width=300>"
   ]
  },
  {
   "cell_type": "markdown",
   "metadata": {},
   "source": [
    "### Labyrinthes\n",
    "\n",
    "* *Exemple 6 :* Un labyrinthe est constitué de de salles reliées entre elles par des portes.\n",
    "<img src='gr6.png' style='float:center;' width=300>"
   ]
  },
  {
   "cell_type": "markdown",
   "metadata": {},
   "source": [
    "### Arbres\n",
    "La structure d'arbre vue précédemment est un graphe.\n",
    "* Exemple 7 :  L'arbre d'un système de fichiers Linux.\n",
    "<img src='gr7.png' style='float:center;' width=300>"
   ]
  },
  {
   "cell_type": "markdown",
   "metadata": {},
   "source": [
    "## 3. Exercices\n",
    "##### Exercice 5 : The Icosian Game\n",
    "\n",
    "\n",
    "<img src='icosianreal.png' style='float:right;' width=250>\n",
    "\n",
    "* Il s'agit d'un jeu inventé au XIXème siècle par le mathématicien Sir William Hamilton. \n",
    "* Ce jeu était joué sur un plateau en bois comportant des trous représentant des villes du monde et des sillons représentant les connexions entre ces villes.\n",
    "* Le but du jeu était de trouver un chemin qui passe par toutes les villes une et une seule fois avant de retourner au point de départ.\n",
    "\n",
    "\n",
    "Saurez-vous trouver un tel chemin ?\n",
    "\n",
    "<img src='icosian.png' align='center' width=300>\n"
   ]
  },
  {
   "cell_type": "markdown",
   "metadata": {},
   "source": [
    "##### Exercice 6 : Les ponts de Königsberg\n",
    "\n",
    "<img src='ponts.png' style='float:right;' width=250>\n",
    "\n",
    "\n",
    "Le problème des sept ponts de Königsberg est connu pour être à l'origine de  la théorie des graphes. Résolu par Leonhard Euler en 1735, ce problème se présente de la façon suivante :\n",
    "La ville de Königsberg (aujourd'hui Kaliningrad) est construite autour de deux îles situées sur le Pregel et reliées entre elles par un pont. Six autres ponts relient les rives de la rivière à l'une ou l'autre des deux îles, comme représentés sur le plan ci-contre. Le problème consiste à déterminer s'il existe ou non une promenade dans les rues de Königsberg permettant, à partir d'un point de départ au choix, de passer une et une seule fois par chaque pont, et de revenir à son point de départ, étant entendu qu'on ne peut traverser le Pregel qu'en passant sur les ponts.\n",
    "\n",
    "1. Construire un graphe correpondant à cette situation.\n",
    "\n",
    "\n",
    "&nbsp;\n",
    "\n",
    "\n",
    "&nbsp;\n",
    "\n",
    "\n",
    "&nbsp;\n",
    "\n",
    "\n",
    "&nbsp;\n",
    "\n",
    "\n",
    "&nbsp;\n",
    "\n",
    "\n",
    "&nbsp;\n",
    "\n",
    "\n",
    "2. Est-il : \n",
    "\n",
    "\n",
    "   * Orienté ? \n",
    "   \n",
    "   \n",
    "   * Connexe ?\n",
    "   \n",
    "   \n",
    "3. Quel type de chemin cherche-t-on dans ce problème ?\n",
    "\n",
    "\n",
    "4. Déterminer la promenade demandée.\n",
    "\n",
    "&nbsp;\n",
    "\n",
    "\n",
    "&nbsp;\n",
    "\n",
    "\n",
    "&nbsp;\n",
    "\n",
    "\n",
    "&nbsp;\n",
    "\n",
    "\n",
    "&nbsp;\n",
    "\n",
    "\n",
    "&nbsp;"
   ]
  },
  {
   "cell_type": "markdown",
   "metadata": {},
   "source": [
    "##### Exercice 7 :  Tracé de figures\n",
    "Pour chacune des trois figures ci-dessous, tracer un chemin qui ne passe qu'une seule fois sur chaque trait sans lever le crayon, ou si cela n'est pas possible, expliquer pourquoi."
   ]
  },
  {
   "cell_type": "markdown",
   "metadata": {},
   "source": [
    "<img src='figures.png' style='float:center;' width=800>\n"
   ]
  },
  {
   "cell_type": "markdown",
   "metadata": {},
   "source": [
    "\n",
    "\n",
    "&nbsp;\n",
    "\n",
    "\n",
    "&nbsp;\n",
    "\n",
    "\n",
    "&nbsp;\n",
    "\n",
    "\n",
    "&nbsp;\n",
    "\n",
    "\n",
    "&nbsp;\n",
    "\n",
    "\n",
    "&nbsp;\n"
   ]
  }
 ],
 "metadata": {
  "kernelspec": {
   "display_name": "Python 3",
   "language": "python",
   "name": "python3"
  },
  "language_info": {
   "codemirror_mode": {
    "name": "ipython",
    "version": 3
   },
   "file_extension": ".py",
   "mimetype": "text/x-python",
   "name": "python",
   "nbconvert_exporter": "python",
   "pygments_lexer": "ipython3",
   "version": "3.8.5"
  }
 },
 "nbformat": 4,
 "nbformat_minor": 4
}
