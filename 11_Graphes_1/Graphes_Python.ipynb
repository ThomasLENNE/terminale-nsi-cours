{
 "cells": [
  {
   "cell_type": "markdown",
   "metadata": {},
   "source": [
    "# <center> GRAPHES : Implémentation python</center>"
   ]
  },
  {
   "cell_type": "markdown",
   "metadata": {},
   "source": [
    "## 1.  Interface\n",
    "* Il existe de multiples façons de représenter un graphe en machine, selon la nature du graphe ou des opérations et des algorithmes à effectuer sur ce graphe.\n",
    "\n",
    "\n",
    "* Quoi qu'il en soit, on implémentera :\n",
    "  * Des opérations de constructions (création d'un graphe  vide, ajout de sommets, ajout d'arcs, ...)\n",
    "  * Des opérations de parcours de graphe (par les sommets, par les arcs,...)\n",
    "\n",
    "\n",
    "* On commencera par les graphes orientés dans lesquels les sommets contiennent des entiers."
   ]
  },
  {
   "cell_type": "markdown",
   "metadata": {},
   "source": [
    "## 2. Matrice d'adjacence\n",
    "<img src='python1.png' style='float:right;' width=200>\n",
    "\n",
    "\n",
    "* On suppose dans ce qui suit que les sommets sont des entiers strictement positifs et consécutifs.\n",
    "\n",
    "\n",
    "* On considère le graphe orienté ci-contre, qui comporte $4$ sommets $0,1,2,3$.\n",
    "\n",
    "\n",
    "* Nous allons représenter ce graphe sous python sous forme d'une liste de listes, qui ne contiendra que des booléens.\n",
    "\n",
    "\n",
    "* Mathématiquement, cela  peut correpondre à la matrice ci-contre :\n",
    "$\\begin{pmatrix} 0 & 1 & 0 & 1 \\\\ 0 & 0 & 1 & 1  \\\\ 0 & 0 & 0 & 1 \\\\ 0 & 1 & 0 & 0\\end{pmatrix}$\n",
    "\n",
    "   * La première ligne indique les arcs qui partent du sommet $0$. Les sommets d'arrivée sont $1$ et $3$, ce qui est noté par le nombre $1$ à la deuxième et quatrième colonne.\n",
    "   * La deuxième ligne indique les arcs qui partent du sommet $1$, etc...\n",
    "\n",
    "\n",
    "* En python, cela peut donner la variable  `adj` suivante :\n",
    "\n",
    "```\n",
    "adj=[[0,1,0,1],\n",
    "     [0,0,1,1],\n",
    "     [0,0,0,1],\n",
    "     [0,1,0,0]]\n",
    "```\n",
    "\n",
    "\n",
    "* Ainsi par exemple `adj[0][3]` contient 1, ce qui correspond  à l'arc $0-3$   "
   ]
  },
  {
   "cell_type": "markdown",
   "metadata": {},
   "source": [
    "### Encapsulation dans un objet.\n",
    "La programmation objet est encore une fois un paradigme intéréssant pour implémenter un tel graphe. La classe `Graphe_M` ci-dessous contient les méthodes suivantes :\n",
    "\n",
    "  * Une méthode constructeur qui prend en argument le nombre de sommets et qui initialise la matrice avec des $0$.\n",
    "  * Une méthode `afficher(self)` qui permet de visualiser la matrice d'adjacence du graphe.\n",
    "  * Une méthode `arc(self,s1,s2)` qui renvoie 1 s'il y a un arc de `s1` vers `s2` et 0 sinon."
   ]
  },
  {
   "cell_type": "code",
   "execution_count": 32,
   "metadata": {},
   "outputs": [],
   "source": [
    "class Graphe_M:\n",
    "    '''Graphe représenté par une matrice d'adjacence'''\n",
    "    def __init__(self, n):\n",
    "        self.n=n\n",
    "        self.adj= [[0]*n for i in range(n)]\n",
    "        \n",
    "    def affiche(self):\n",
    "        for i in range(self.n):\n",
    "            print(self.adj[i])\n",
    "    \n",
    "    def arc(self,s1,s2):\n",
    "        return self.adj[s1][s2]\n",
    "    \n",
    "    #Ex1\n",
    "    def ajoute_arc(self, s1, s2):\n",
    "        pass\n",
    "        \n",
    "    #Ex2\n",
    "    def voisins(self,s):\n",
    "        voisins=[]\n",
    "        pass\n",
    "        return voisins\n",
    "    \n",
    "    ##Ex3\n",
    "    def nb_arcs(self):\n",
    "        a=0\n",
    "        pass\n",
    "        return a\n",
    "    ##Ex9\n",
    "    def degre(self,s):\n",
    "        pass\n",
    "            "
   ]
  },
  {
   "cell_type": "code",
   "execution_count": 34,
   "metadata": {},
   "outputs": [
    {
     "name": "stdout",
     "output_type": "stream",
     "text": [
      "[0, 0, 0, 0]\n",
      "[0, 0, 0, 0]\n",
      "[0, 0, 0, 0]\n",
      "[0, 0, 0, 0]\n"
     ]
    }
   ],
   "source": [
    "g1=Graphe_M(4)\n",
    "g1.affiche() # Affiche la matrice du graphe vide   \n",
    "assert(g1.arc(3,1)==0)"
   ]
  },
  {
   "cell_type": "markdown",
   "metadata": {},
   "source": [
    "##### Exercice 1 :\n",
    "* Dans la classe `Graphe_M`, ajouter la méthode `ajouter_arc(self,s1,s2)` qui crée l'arc de `s1` vers `s2` (c'est à dire qui modifie la matrice en conséquence).\n",
    "* Le test s'effectue sur le graphe présenté en exemple ci-dessus."
   ]
  },
  {
   "cell_type": "code",
   "execution_count": 35,
   "metadata": {},
   "outputs": [
    {
     "name": "stdout",
     "output_type": "stream",
     "text": [
      "[0, 1, 0, 1]\n",
      "[0, 0, 1, 1]\n",
      "[0, 0, 0, 1]\n",
      "[0, 1, 0, 0]\n"
     ]
    }
   ],
   "source": [
    "#test ajoute_arc()\n",
    "g1.ajoute_arc(0,1)\n",
    "g1.ajoute_arc(0,3)\n",
    "g1.ajoute_arc(1,2)\n",
    "g1.ajoute_arc(1,3)\n",
    "g1.ajoute_arc(2,3)\n",
    "g1.ajoute_arc(3,1)\n",
    "g1.affiche() \n",
    "\n",
    "assert(g1.arc(3,1)==1)"
   ]
  },
  {
   "cell_type": "markdown",
   "metadata": {},
   "source": [
    "##### Exercice 2 :\n",
    "Compléter la méthode `voisins(self, s)` qui prend en paramètre un sommet `s` et qui renvoie la liste de ses voisins, c'est dire la liste des sommets vers lesquels il existe un arc partant de `s`."
   ]
  },
  {
   "cell_type": "code",
   "execution_count": 20,
   "metadata": {},
   "outputs": [
    {
     "name": "stdout",
     "output_type": "stream",
     "text": [
      "[3]\n",
      "[2, 3]\n"
     ]
    }
   ],
   "source": [
    "### tests voisins\n",
    "\n",
    "print(g1.voisins(2))\n",
    "print(g1.voisins(1))"
   ]
  },
  {
   "cell_type": "markdown",
   "metadata": {},
   "source": [
    "##### Exercice 3 :\n",
    "Ecrire la méthode `nb_arcs(self)` qui renvoie le nombre d'arcs existant dans le graphe passé en argument."
   ]
  },
  {
   "cell_type": "code",
   "execution_count": 21,
   "metadata": {},
   "outputs": [],
   "source": [
    "# test nb_arcs\n",
    "\n",
    "assert(g1.nb_arcs()==6)"
   ]
  },
  {
   "cell_type": "markdown",
   "metadata": {},
   "source": [
    "### Efficacité\n",
    "La matrice d'adjacence est simple à mettre en oeuvre, puis à utiliser pour parcourir les sommets ou les arcs d'un graphe. Mais elle comporte quelques défauts :\n",
    " * L'espace mémoire est important, puisque pour $N$ sommets, il faut $N \\times N$ éléments dans la matrice. Ainsi, un graphe de mille sommets (un réseau social  en comporte des centaines de millions) nécéssite une matrice avec 1 million d'éléments, même s'il n'y a pas beaucoup d'arcs.\n",
    " * Le nombre de sommets doit être connu à la création du graphe. L'ajout postérieur d'un sommet nécéssite de réécrire la matrice, ce qui est coûteux en temps.\n",
    " * Les sommets sont forcément des entiers.\n",
    " * Nous allons voir par la suite une représentation plus optimale, à l'aide d'un dictionnaire."
   ]
  },
  {
   "cell_type": "markdown",
   "metadata": {},
   "source": [
    "## 3. Dictionnaire d'adjacence\n",
    "### Rappels sur les dictionnaires"
   ]
  },
  {
   "cell_type": "markdown",
   "metadata": {},
   "source": [
    "* Les dictionnaires  ressemblent aux listes python( ils sont modifiables comme elles), mais ce ne sont pas des séquences. Les éléments enregistrés ne sont pas disposés dans un ordre immuable. Il est néanmoins possible d'accéder à n’importe lequel d’entre eux à l’aide d’un index que l’on appellera une clé, laquelle pourra être alphabétique ou numérique.\n",
    "\n",
    "* Comme dans une liste, les éléments mémorisés dans un dictionnaire peuvent être de n’importe quel type( valeurs numériques, chaînes, listes ou encore des dictionnaires, et même aussi des fonctions).\n",
    "##### Exemple :"
   ]
  },
  {
   "cell_type": "code",
   "execution_count": 74,
   "metadata": {},
   "outputs": [
    {
     "name": "stdout",
     "output_type": "stream",
     "text": [
      "France\n",
      "nom France\n",
      "cap Paris\n",
      "dep ['Ain', 'Aisne', 'Allier']\n",
      "pop 67\n"
     ]
    }
   ],
   "source": [
    "pays={'nom':'France' , 'cap':'Paris' , 'dep' : ['Ain', 'Aisne']}\n",
    "print(pays['nom'])\n",
    "pays['pop']=67\n",
    "pays['dep'].append('Allier')\n",
    "for k in pays:\n",
    "    print (k , pays[k])"
   ]
  },
  {
   "cell_type": "markdown",
   "metadata": {},
   "source": [
    "#### Remarques :\n",
    "- Des accolades délimitent un dictionnaire.\n",
    "- Les éléments d'un dictionnaire sont séparés par une virgule.\n",
    "- Chacun des éléments est une paire d'objets séparés par deux points : une clé et une valeur.\n",
    "- La valeur de la clé `'nom'` est `France`.\n",
    "- La valeur de la clé `'dep'` est une liste.\n",
    "- Le parcours d'un dictionnaire s'effectue à l'aide des clés."
   ]
  },
  {
   "cell_type": "markdown",
   "metadata": {},
   "source": [
    "### Pour représenter un graphe\n",
    "<img src='exemple1.png' style='float:right;' width=200>\n",
    "Dans le graphe ci-contre, pour chacun des sommets, on peut au choix lister :\n",
    " \n",
    " * Ses successeurs (ses voisins), sa représentation est alors :\n",
    "\n",
    "```\n",
    "{ 'A' : ['B','D'],\n",
    "  'B : ['C','D'],\n",
    "  'C' : ['D'],\n",
    "  'D' : ['B']\n",
    "}\n",
    "```\n",
    "\n",
    "* Ses prédecesseurs (les sommets dont il est voisin) :\n",
    "\n",
    "```\n",
    "{ 'A' : [],\n",
    "  'B : ['A','D'],\n",
    "  'C' : ['B'],\n",
    "  'D' : ['A','B','C']\n",
    "}\n",
    "```"
   ]
  },
  {
   "cell_type": "markdown",
   "metadata": {},
   "source": [
    "### Encapsulation dans un objet \n",
    "La nouvelle classe `Graphe_D` ci-dessous contient désormais les méthodes suivantes :\n",
    "\n",
    "  * Une méthode constructeur qui ne prend pas d'argument mais qui initialise le graphe avec un dictionnaire vide.\n",
    "  * Une méthode `afficher(self)` qui permet de visualiser le dictionnaire d'adjacence du graphe.\n",
    "  * Une méthode `ajouter_sommet(self,s)` qui ajoute la clé `s` dans le dictionnaire d'adjacence si elle n'est pas déjà présente.\n",
    "  * Une méthode `sommets(self)` qui renvoie la liste des sommets du graphe."
   ]
  },
  {
   "cell_type": "code",
   "execution_count": 22,
   "metadata": {},
   "outputs": [],
   "source": [
    "class Graphe_D:\n",
    "    '''Graphe représenté par un dictionnaire d'adjacence'''\n",
    "    def __init__(self):\n",
    "        self.adj={}\n",
    "    \n",
    "    def affiche(self):\n",
    "        for k in self.adj:\n",
    "            print (k,self.adj[k])\n",
    "    \n",
    "    def ajouter_sommet(self,s):\n",
    "        if s not in self.adj:\n",
    "            self.adj[s]=[]\n",
    "   \n",
    "    #Ex 4\n",
    "    def ajouter_arc(self, s1, s2):\n",
    "        pass\n",
    "    \n",
    "    #Ex 5\n",
    "    def arc(self,s1,s2):\n",
    "        pass\n",
    "    \n",
    "    def sommets(self):\n",
    "        s=[]\n",
    "        for k in self.adj:\n",
    "            s.append(k)\n",
    "        return s\n",
    "    \n",
    "    #Ex 6\n",
    "    def voisins(self, s):\n",
    "        pass\n",
    "    \n",
    "    #Ex 7\n",
    "    def nb_sommets(self):\n",
    "        pass\n",
    "    \n",
    "    #Ex 8\n",
    "    def degre(self,s):\n",
    "        pass"
   ]
  },
  {
   "cell_type": "code",
   "execution_count": 23,
   "metadata": {},
   "outputs": [
    {
     "name": "stdout",
     "output_type": "stream",
     "text": [
      "['A', 'B', 'C', 'D']\n",
      "A []\n",
      "B []\n",
      "C []\n",
      "D []\n"
     ]
    }
   ],
   "source": [
    "#Création d'un graphe avec un dictionnaire d'adjacence\n",
    "g2=Graphe_D()\n",
    "for s in ['A','B','C','D']:\n",
    "    g2.ajouter_sommet(s)\n",
    "print(g2.sommets())\n",
    "g2.affiche()"
   ]
  },
  {
   "cell_type": "markdown",
   "metadata": {},
   "source": [
    "##### Exercice 4 :\n",
    "* Dans la classe `Graphe_D`, écrire la méthode `ajouter_arc(self, s1, s2)` qui créé l'arc du sommet `s1` vers le sommet `s2` en ajoutant `s2` à la liste des voisins de `s1` dans le dictionnaire d'adjacence.\n",
    "* Remarque : On créera les sommets s'ils n'existent pas encore.\n",
    "* Les tests se font sur le graphe donné en exemple précédemment."
   ]
  },
  {
   "cell_type": "code",
   "execution_count": 24,
   "metadata": {},
   "outputs": [
    {
     "name": "stdout",
     "output_type": "stream",
     "text": [
      "A ['B', 'D']\n",
      "B ['C', 'D']\n",
      "C ['D']\n",
      "D ['B']\n"
     ]
    }
   ],
   "source": [
    "#tests ajouter_arc sur le graphe donné en exemple\n",
    "g2.ajouter_arc('A','B')\n",
    "g2.ajouter_arc('A','D')\n",
    "g2.ajouter_arc('B','C')\n",
    "g2.ajouter_arc('B','D')\n",
    "g2.ajouter_arc('C','D')\n",
    "g2.ajouter_arc('D','B')\n",
    "g2.affiche()"
   ]
  },
  {
   "cell_type": "markdown",
   "metadata": {},
   "source": [
    "##### Exercice 5 :\n",
    "Ajouter la méthode `arc(self, s1,s2)` qui renvoie `True` si l'arc de `s2` vers `s1` existe , et `False` sinon."
   ]
  },
  {
   "cell_type": "code",
   "execution_count": 25,
   "metadata": {},
   "outputs": [],
   "source": [
    "#tests arcs\n",
    "assert(g2.arc('B','A')==False)\n",
    "assert(g2.arc('A','B')==True)"
   ]
  },
  {
   "cell_type": "markdown",
   "metadata": {},
   "source": [
    "##### Exercice 6 :\n",
    "Ajouter la méthode `voisins(self, s)` qui renvoie la liste des successeurs  de `s`(ses voisins)."
   ]
  },
  {
   "cell_type": "code",
   "execution_count": 26,
   "metadata": {},
   "outputs": [],
   "source": [
    "#tests voisins\n",
    "assert(g2.voisins('B')==['C','D']) \n",
    "assert(g2.voisins('C')==['D'])"
   ]
  },
  {
   "cell_type": "markdown",
   "metadata": {},
   "source": [
    "### Efficacité\n",
    "* Utiliser un dictionnaire plutôt qu'une matrice permet de manipuler tout type de données pour les sommets.\n",
    "* Il n'y a pas besoin de fixer le nombre de sommets au départ, on peut en ajouter autant que l'on veut.\n",
    "* Lorsqu'il n'y a pas beaucoup d'arcs, l'espace mémoire occupé est moindre que pour la matrice.\n",
    "* Le coût en temps des opérations est optimal(ajouter un arc, un sommet...)."
   ]
  },
  {
   "cell_type": "markdown",
   "metadata": {},
   "source": [
    "### Remarques \n",
    "* Il existe de multiples façons d'implémenter des graphes, en particulier utiliser une liste d'adjacence, plutôt qu'un dictionnaire.\n",
    "* On choisit l'implémentation en fonction de la situation à modéliser.\n",
    "* Ce qui est important , c'est de pouvoir accéder d'une façon ou d'une autre à tous les sommets du graphe et leurs voisins."
   ]
  },
  {
   "cell_type": "markdown",
   "metadata": {},
   "source": [
    "## 4. Représenter un graphe non orienté\n",
    "Une façon simple de représenter un graphe non orienté consiste à le représenter exactement comme un graphe orienté et s'assurant en permanence de la propriété suivante : *Il y a un arc de A vers B si et seulement si il y a un arc de B vers A.*\n",
    "\n",
    "Autrement dit, on considère que l'on a toujours un double arc, orienté dans les deux sens.\n",
    "\n",
    "* Cela revient à modifier ne particulier la méthode d'ajout d'arcs dans la matrice d'adjacence:\n",
    "```\n",
    "def ajoute_arc(self, s1, s2):\n",
    "        self.adj[s1][s2]=1\n",
    "        self.adj[s2][s1]=1\n",
    "```\n",
    "\n",
    "* Et dans le dictionnaire d'adjacence:\n",
    "```\n",
    "def ajouter_arc(self, s1, s2):\n",
    "        self.ajouter_sommet(s1)\n",
    "        self.ajouter_sommet(s2)\n",
    "        self.adj[s1].append(s2)\n",
    "        sefl.adj[s2].append(s1)\n",
    "```"
   ]
  },
  {
   "cell_type": "markdown",
   "metadata": {},
   "source": [
    "## 5. Exercices"
   ]
  },
  {
   "cell_type": "markdown",
   "metadata": {},
   "source": [
    "##### Exercice  7 :\n",
    "Dans la classe du graphe représenté avec un dictionnaire d'adjacence, ajouter la méthode `nb_sommets(self)`  qui renvoie le nombre de sommets contenus dans le graphe."
   ]
  },
  {
   "cell_type": "code",
   "execution_count": 27,
   "metadata": {},
   "outputs": [],
   "source": [
    "#test nb_sommets\n",
    "assert(g2.nb_sommets()==4)\n",
    "assert(Graphe_D().nb_sommets()==0)"
   ]
  },
  {
   "cell_type": "markdown",
   "metadata": {},
   "source": [
    "##### Exercice 8 :\n",
    "1. Dans la classe du graphe représenté avec un dictionnaire d'adjacence, ajouter la méthode `degre(self,s)`  qui prend en paramètre un sommet `s` et qui renvoie le nombre d'arcs issus de `s`. On appelle cela le degré d'un sommet.\n",
    "2. Ajouter la même méthode dans la classe du graphe représenté avec une matrice d'adjacence."
   ]
  },
  {
   "cell_type": "code",
   "execution_count": 36,
   "metadata": {},
   "outputs": [],
   "source": [
    "#tests degre\n",
    "#1. Avec un dictionnaire\n",
    "assert(g2.degre('B')==2)\n",
    "assert(g2.degre('D')==1)\n",
    "\n",
    "#2. Avec une matrice\n",
    "assert(g1.degre(1)==2)\n",
    "assert(g1.degre(3)==1)"
   ]
  }
 ],
 "metadata": {
  "kernelspec": {
   "display_name": "Python 3",
   "language": "python",
   "name": "python3"
  },
  "language_info": {
   "codemirror_mode": {
    "name": "ipython",
    "version": 3
   },
   "file_extension": ".py",
   "mimetype": "text/x-python",
   "name": "python",
   "nbconvert_exporter": "python",
   "pygments_lexer": "ipython3",
   "version": "3.8.5"
  }
 },
 "nbformat": 4,
 "nbformat_minor": 4
}
