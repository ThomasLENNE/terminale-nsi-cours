{
 "cells": [
  {
   "cell_type": "markdown",
   "metadata": {},
   "source": [
    "# <center> Requêtes SQL et mise à jour </center>"
   ]
  },
  {
   "cell_type": "markdown",
   "metadata": {},
   "source": [
    "A l'aide du langage SQL, nous avons vu précédemment :\n",
    "* Comment créer des tables cohérentes, qui tiennent compte des contraintes d'intégrité.\n",
    "* Les remplir.\n",
    "\n",
    "Dans ce document , nous allons aborder deux autres utilisations courantes d'un Système de Gestion de Base de Données (SGBD):\n",
    "* La sélection de données.\n",
    "* La mise à jour de données.\n",
    "\n",
    "Ce document fait des aller-retours réguliers avec la <a href='Exercices/requetes_sql_exos.pdf' target='_blank'>feuille d'exercices</a>.\n",
    "\n",
    "##### Exemple 1 :\n",
    "Nous allons reprendre la base de données précédemment construite à partir du MCD(Modèle Conceptuel de Données) et MLD(Modèle Logique de Données) ci-dessous :\n",
    "\n",
    "<img src='exemple.png' style='float:center;' width=500>\n",
    "\n",
    "Les scripts de création et de peuplement des tables nous ont permis d'obtenir les tables ci-desous :\n",
    "\n",
    "<img src='facture_all.png' style='float:center;' width=600>\n"
   ]
  },
  {
   "cell_type": "markdown",
   "metadata": {},
   "source": [
    "## 1. Sélection\n",
    "* Une première utilisation courante d'une base est d'en extraire des données vérifiant certains critères. (les clients habitant une certaine ville, les produits dont le prix est supérieur à une certaine valeur, le contenu d'une facture,etc...).\n",
    "* Le programmeur de base de données consiste alors à traduire les questions naturelles que l'on se pose, en langage SQL pour que le SGBD puisse y répondre.\n",
    "\n",
    "### Requête sur une table (SELECT...FROM...WHERE...)\n",
    "\n",
    "##### Exemple 2 :\n",
    "* __Question :__ Quels sont les noms des produits dont le prix unitaire est supérieur à 2 euros ?\n",
    "\n",
    "\n",
    "* __Ordre SQL:__ `SELECT nomProd FROM PRODUIT WHERE puProd > 2;`\n",
    "\n",
    "\n",
    "* __Réponse du système:__\n",
    "<img src='select1.png' style='float:center;' width=150>"
   ]
  },
  {
   "cell_type": "markdown",
   "metadata": {},
   "source": [
    "#### Remarques :\n",
    "*  Dans cette requête, `FROM PRODUIT` indique la table concernée par la requête.\n",
    "\n",
    "*  `WHERE...` indique que l'on ne sélectionne que les lignes de la table `PRODUIT` pour lesquelles la valeur de l'attribut `nomProd` est supérieure à 2.\n",
    "\n",
    "* `SELECT nomProd` indique que l'on veut uniquement le nom des produits.\n",
    "\n",
    "\n",
    "* __Important :__ \n",
    "  * Le résultat de la requête `SELECT` est une table. Dans cet exemple, on obtient une table avec une unique colonne `nomProd`."
   ]
  },
  {
   "cell_type": "markdown",
   "metadata": {},
   "source": [
    "#### Clause `WHERE`\n",
    "  * Elle permet de restreindre les lignes de la table.\n",
    "  * L'expression qui se trouve dans la partie `WHERE` doit être une expression booléenne. Elle peut être construite, entre autre,  à l'aide de:\n",
    "  \n",
    "    * Des opérateurs de comparaison: `<` , `>` , `=`, `<=` , `>=` et `<>` ou `!=` pour \"différent de\" suivant les systèmes.\n",
    "    * Des opérateurs arithmétiques: `+` , `-` , `*` , `/` , etc...\n",
    "    * Des opérateurs logiques : `AND`, `OR`, `NOT`. \n",
    "    * D'autres opérateurs spéciaux...\n"
   ]
  },
  {
   "cell_type": "markdown",
   "metadata": {},
   "source": [
    "##### Exemple 3 :\n",
    "* __Question :__ Quels sont les noms des produits dont le prix unitaire est compris entre 1,25 et 2,50 euros inclus ?\n",
    "\n",
    "\n",
    "* __Ordre SQL:__ `SELECT nomProd FROM PRODUIT WHERE puProd>= 1.25 AND puProd<= 2.5;`\n",
    "\n",
    "\n",
    "* __Réponse du système:__\n",
    "<img src='exemple3.png' style='float:center;' width=150>"
   ]
  },
  {
   "cell_type": "markdown",
   "metadata": {},
   "source": [
    "#### Clause `SELECT`\n",
    "  * Elle permet de restreindre les colonnes de la table.\n",
    "    * Les colonnes que l'on veut obtenir sont listées après `SELECT`, séparées par une virgule.\n",
    "    * ##### Exemple 4:\n",
    "      * __Question :__ Quels sont les noms et les prix unitaires des produits dont le prix unitaire est supérieur à 2 euros ?\n",
    "      * __Ordre SQL:__ `SELECT nomProd,puProd FROM PRODUIT WHERE puProd >=2;`\n",
    "      * __Réponse du système:__<img src='exemple4.png' style='float:center;' width=200> \n",
    "    * Si l'on veut récupérer toutes les colonnes, on peut utiliser le symbole `*` après `SELECT`.\n",
    "    * ##### Exemple 5:\n",
    "      * __Question :__ Quels sont les produits dont le prix unitaire est supérieur à 2 euros ?\n",
    "      * __Ordre SQL:__ `SELECT * FROM PRODUIT WHERE puProd >=2;`\n",
    "      * __Réponse du système:__<img src='exemple5.png' style='float:center;' width=250> \n",
    "      \n",
    "  * Ele permet aussi d'appeler des fonctions pour effectuer par exemple des calculs(somme, moyenne, comptage, minimum, maximum...) et de renvoyer le résultat dans une table avec une ligne et une colonne.\n",
    "    * ##### Exemple 6:\n",
    "      * __Question :__ Quel est le prix unitaire moyen des produits proposés  ?\n",
    "      * __Ordre SQL:__ `SELECT AVG(puProd) FROM PRODUIT ;`\n",
    "      * __Réponse du système:__<img src='exemple6.png' style='float:center;' width=100> \n",
    "    \n",
    "    * ##### Exemple 6bis:\n",
    "      * Il est possible de renommer la ou les colonnes de la table obtenue avec `AS`\n",
    "      * __Ordre SQL:__ `SELECT AVG(puProd) AS prix_moyen FROM PRODUIT ;`\n",
    "      * __Réponse du système:__<img src='exemple6bis.png' style='float:center;' width=100> "
   ]
  },
  {
   "cell_type": "markdown",
   "metadata": {},
   "source": [
    "##### Exercice 1 : Sélection des données\n",
    "Il se trouve dans la <a href='Exercices/requetes_sql_exos.pdf' target='_blank'>feuille d'exercices</a>."
   ]
  },
  {
   "cell_type": "markdown",
   "metadata": {},
   "source": [
    "### Tri, gestion des doublons (ORDER BY..., DISTINCT...)\n",
    "\n",
    "* Les résultats des requêtes ne sont pas toujours affichés dans le même ordre. En fonction de certains paramètres, le SGBD peut choisir entre différentes façons de calculer les requêtes. L'affichage peut varier entre plusieurs éxécutions d'une même requête.Pour gérer cela , on peut demander un classement des résultats à l'aide de `ORDER BY`.\n",
    "  * ##### Exemple 7:\n",
    "      * __Demande :__ Les noms et les prix des produits , classés par ordre alphabétique.\n",
    "      * __Ordre SQL:__ `SELECT nomProd, puProd FROM PRODUIT ORDER BY nomProd ASC;`\n",
    "      * __Réponse du système:__<img src='exemple7.png' style='float:center;' width=250> \n",
    "    \n",
    "  * ##### Exemple 8:\n",
    "      * __Demande :__ Les noms et les prix des produits, classés par prix décroissants.\n",
    "      * __Ordre SQL:__ `SELECT nomProd, puProd FROM PRODUIT ORDER BY puProd DESC;`\n",
    "      * __Réponse du système:__<img src='exemple8.png' style='float:center;' width=250> \n",
    "\n",
    "\n",
    "* Dans les résultats d'une requête peuvent apparaître des lignes en plusieurs exemplaires (âr exemple, les villes des clients).Pour retirer les doublons, on ajoute le mot-clé `DISTINCT` à la clause `SELECT`.\n",
    "  * ##### Exemple 9:\n",
    "      * __Demande :__ Les villes des clients, sans doublons, classées par ordre alphabétique.\n",
    "      * __Ordre SQL:__ `SELECT DISTINCT adresseCli FROM client ORDER BY adresseCli ASC;`\n",
    "      * __Réponse du système:__<img src='exemple9.png' style='float:center;' width=100> \n"
   ]
  },
  {
   "cell_type": "markdown",
   "metadata": {},
   "source": [
    "##### Exercice 2 : Tris et doublons\n",
    "Il se trouve dans la <a href='Exercices/requetes_sql_exos.pdf' target='_blank'>feuille d'exercices</a>."
   ]
  },
  {
   "cell_type": "markdown",
   "metadata": {},
   "source": [
    "### Jointure (JOIN)\n",
    "* Les requêtes que nous avons vues jusqu'à présent concernaient à chaque fois une et une seule des quatre tables.\n",
    "* Ainsi lorsque l'on veut les clients qui ont acheté des produits avec la commande `select distinct refcli from facture;`, on obtient la référence  des clients mais pas leur nom, ce qui semble pourtant plus naturel.\n",
    "* L'opération de jointure de deux tables va permettre de remédier à ce problème.\n",
    "* ##### Exemple 10:\n",
    "  * __Demande :__ Les clients qui ont acheté des produits.\n",
    "  * __Ordre SQL:__ `SELECT * FROM CLIENT JOIN FACTURE ON CLIENT.refCli=FACTURE.refCli ;`\n",
    "  * __Réponse du système:__<img src='exemple10.png' style='float:center;' width=500> \n",
    "\n",
    "#### Remarques:\n",
    "* Cette requête crée la jointure des deux tables CLIENT et FACTURE affichée ci-dessus.\n",
    "\n",
    "\n",
    "* Chaque ligne est le résultat de la fusion de deux lignes ayant la même référence client.\n",
    "\n",
    "\n",
    "* Le choix de ces lignes est donné par la condition de jointure indiquée par le mot-clé `ON`.\n",
    "\n",
    "\n",
    "* La notation avec le point permet de différencier la provenance de deux attributs ayant le même nom. Plus généralement , on peut utilisee cette syntaxe pour éviter les ambiguités.\n",
    "\n",
    "   \n",
    "* La jointure peut bien sûr être combinée avec les clauses `SELECT` et `WHERE`.\n",
    "\n",
    "\n",
    "* On peut effectuer des jointures sur plus de deux tables :\n",
    "  * ##### Exemple 11:\n",
    "    * __Demande :__ Les dates d'achat des produits.\n",
    "    * __Ordre SQL:__ \n",
    "    `SELECT * FROM FACTURE \n",
    "     JOIN DETAIL ON FACTURE.refFac=DETAIL.refFac\n",
    "     JOIN PRODUIT ON DETAIL.refProd=PRODUIT.refProd;`\n",
    "    * __Réponse du système:__<img src='exemple11.png' style='float:center;' width=500> \n",
    "  \n",
    "  * On joint ici les tables `DETAIL` et `FACTURE` à l'aide de l'attribut `refFac`, puis la table obtenue avec la table `PRODUIT` à l'aide de l'attribut `refProd`."
   ]
  },
  {
   "cell_type": "markdown",
   "metadata": {},
   "source": [
    "##### Exercice 3 : Jointures\n",
    "Il se trouve dans la <a href='Exercices/requetes_sql_exos.pdf' target='_blank'>feuille d'exercices</a>."
   ]
  },
  {
   "cell_type": "markdown",
   "metadata": {},
   "source": [
    "## 2. Mise à jour\n",
    "* Les données dans un Système de Gestion de Base de Données n'ont pas vocation à être figées et peuvent être modifiées dans le temps par les utilisateurs autorisés.\n",
    "* Nous allons aborder deux types de modification  :\n",
    "   * La suppression d'en ensemble de lignes\n",
    "   * La mise à jour de certains attributs dans un ensemble de lignes.\n",
    "   \n",
    "### Suppression de lignes (DELETE FROM...WHERE...)\n",
    "* ##### Exemple 12:\n",
    "   * __Demande :__ Supprimer les biscottes(produit n°3) de toutes les factures.\n",
    "   * __Ordre SQL:__ \n",
    "    `DELETE FROM DETAIL WHERE refProd=3;`\n",
    "   * __Vérification:__\n",
    "    `SELECT * FROM DETAIL;`\n",
    "   * __Réponse du système:__<img src='exemple12.png' style='float:center;' width=200> \n",
    "\n",
    "#### Remarques :\n",
    "   * Attention : Si aucune clause `WHERE` n'est spécifiée, on efface __toutes__ les lignes de la table.\n",
    "     * Ainsi, l'ordre `DELETE FROM DETAIL;` efface le contenu de toutes les factures(mais pas la table).\n",
    "   \n",
    "   \n",
    "   * Les contraintes d'intégrité sont vérifiées à chaque mise à jour\n",
    "     * ##### Exemple 13:\n",
    "       * __Demande :__ Supprimer le thé de la liste des produits disponibles.\n",
    "       * __Ordre SQL:__ \n",
    "       `DELETE FROM PRODUIT WHERE nomProd='The';`\n",
    "       * __Réponse du système:__\n",
    "       ```Cannot delete or update a parent row: a foreign key constraint fails (`facture`.`detail`, CONSTRAINT `detail_ibfk_1` FOREIGN KEY (`refProd`) REFERENCES `produit` (`refProd`))```\n",
    "     \n",
    "     * Le système nous indique ici que la suppression du thé de la liste des produits viole la contrainte de clé étrangère dans la table `DETAIL`, puisque le thé est présent dans au moins une des factures.La suppresion est donc annulée.\n",
    "     * Il faut d'abord supprimer en premier les lignes ou le l'attribut `refProd` est déclaré comme clé étrangère( c'est le même principe que pour la suppresion de tables).\n",
    "     \n",
    "   * Un ordre de modification est soit entièrement exécuté, soit entièrement annulé.\n",
    "     * ##### Exemple 14:\n",
    "         * __Demande :__ Supprimer les clients qui habitent Grenoble.\n",
    "         * __Ordre SQL:__ \n",
    "         `DELETE FROM CLIENT WHERE adresseCli='Grenoble';`\n",
    "         * __Réponse du système:__\n",
    "       ```Cannot delete or update a parent row: a foreign key constraint fails (`facture`.`facture`, CONSTRAINT `facture_ibfk_1` FOREIGN KEY (`refCli`) REFERENCES `client` (`refCli`))```\n",
    "     * Le client n°1 a acheté des produits, sa référence est donc présente comme clé étrangère dans la table `FACTURE`.Bien que la référence de l'autre client habitant Grenoble n'apparaisse pas dans la table `FACTURE`, ses données ne seront pas effacées, car l'ordre sera entièrement annulé."
   ]
  },
  {
   "cell_type": "markdown",
   "metadata": {},
   "source": [
    "##### Exercice 4: Suppressions de lignes\n",
    "Il se trouve dans la <a href='Exercices/requetes_sql_exos.pdf' target='_blank'>feuille d'exercices</a>."
   ]
  },
  {
   "cell_type": "markdown",
   "metadata": {},
   "source": [
    "### Mise à jour d'attributs (UPDATE...SET...)\n",
    "* ##### Exemple 15:\n",
    "   * __Demande :__ Le prix du sucre a augmenté de 10% et s'appelle désormais \"Sucre bio\". Mettre à jour la base de données.\n",
    "   * __Ordre SQL:__ \n",
    "    `UPDATE PRODUIT SET nomProd='Sucre bio',puProd=1.32 where nomProd='Sucre';`\n",
    "   * __Vérification:__\n",
    "    `SELECT * FROM PRODUIT;`\n",
    "   * __Réponse du système:__<img src='exemple13.png' style='float:center;' width=200> \n",
    "   \n",
    "* #### Remarques :\n",
    "  * On indique la table concernée après la clause `UPDATE`.\n",
    "  * L'affectation des nouvelles valeurs se fait après `SET`les attributs à modifier sont séparés par des virgules.\n",
    "  * La clause `WHERE` permet de spécifier l'article concerné à l'aide d'un booléen.\n",
    "  * Syntaxe:\n",
    "    * Le langage SQL comporte des similarités avec certains langages de programmation :\n",
    "      * On peut par exemple utiliser l'affectation `puProd=puProd*1.1` pour augmenter le prix de 10%\n",
    "      * De façon séquentielle :\n",
    "         * `nomProd='Sucre'` signifie que l'on évalue le contenu courant de la variable `nomProd`.\n",
    "         * `nomProd='Sucre bio'` signifie que l'on affecte une nouvelle valeur à cette variable."
   ]
  },
  {
   "cell_type": "markdown",
   "metadata": {},
   "source": [
    "##### Exercice 5: Mise à jour d'attributs.\n",
    "Il se trouve dans la <a href='Exercices/requetes_sql_exos.pdf' target='_blank'>feuille d'exercices</a>."
   ]
  },
  {
   "cell_type": "markdown",
   "metadata": {},
   "source": [
    "## 3. Requêtes imbriquées"
   ]
  },
  {
   "cell_type": "markdown",
   "metadata": {},
   "source": [
    "Le  résultat d'une clause `SELECT` est une table. On peut donc effectuer des requêtes sur cette nouvelle table !\n",
    "* ##### Exemple 16:\n",
    "   * __Demande :__ Le nom du produit dont le prix unitaire est le plus cher.\n",
    "   * __Ordre SQL:__ \n",
    "    `SELECT nomProd,puProd from PRODUIT WHERE puProd=( SELECT MAX(puProd) from PRODUIT);`\n",
    "   * __Réponse du système:__<img src='exemple14.png' style='float:center;' width=200> "
   ]
  },
  {
   "cell_type": "markdown",
   "metadata": {},
   "source": [
    "#### Remarques :\n",
    "* Ici la sous-requête `SELECT MAX(puProd) from PRODUIT;` renvoie une table avec une valeur ce qui permet ensuite l'évaluation de `puProd=...`\n",
    "* Les sous-requêtes peuvent aussi se trouver après la clause `FROM`."
   ]
  },
  {
   "cell_type": "markdown",
   "metadata": {},
   "source": [
    "##### Exercice 6 : Requêtes imbriquées\n",
    "Il se trouve dans la <a href='Exercices/requetes_sql_exos.pdf' target='_blank'>feuille d'exercices</a>."
   ]
  },
  {
   "cell_type": "markdown",
   "metadata": {},
   "source": [
    "## 4. En savoir plus\n",
    "* Les quelques notions présentées ici et dans les  précédents chapitres sur les bases de données constituent une bonne initiation au langage SQL.\n",
    "* Cependant, son utilisation avancée nécéssite un apprentissage approfondi, le lecteur intéréssé pourra consulter les liens suivant pour en savoir plus :\n",
    "  * https://sql.sh/ : Cours et tutoriels en français.\n",
    "  * http://webtic.free.fr/sql/exint/q1.htm :  pour s'entraîner aux requêtes\n",
    "  * https://www.w3schools.com/sql/  : apprende et s'entraîner, en français (traduction automatique pas toujours très claire)"
   ]
  }
 ],
 "metadata": {
  "kernelspec": {
   "display_name": "Python 3",
   "language": "python",
   "name": "python3"
  },
  "language_info": {
   "codemirror_mode": {
    "name": "ipython",
    "version": 3
   },
   "file_extension": ".py",
   "mimetype": "text/x-python",
   "name": "python",
   "nbconvert_exporter": "python",
   "pygments_lexer": "ipython3",
   "version": "3.8.5"
  }
 },
 "nbformat": 4,
 "nbformat_minor": 4
}
