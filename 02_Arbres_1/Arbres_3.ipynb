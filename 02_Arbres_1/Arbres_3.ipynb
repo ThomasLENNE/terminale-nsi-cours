{
 "cells": [
  {
   "cell_type": "markdown",
   "metadata": {},
   "source": [
    "# <center> Arbres 3/3 : Il est temps d'allumer un ordinateur </center>"
   ]
  },
  {
   "cell_type": "markdown",
   "metadata": {},
   "source": [
    "* Pour pouvoir concevoir et afficher des arbres, vous aurez besoin des modules:\n",
    "   * `pillow` : permet de manipuler des fichiers images\n",
    "   * `graphviz` : permet de concevoir des arbres, nécéssite d'abord l'installation sur votre machine du logiciel 'graphviz'(https://graphviz.org/download/)\n",
    "   * `Arbre` : c'est un fichier `Arbre.py` qui se trouve dans le même répertoire que cette feuille.Il contient des classes et des fonctions qui simplifient la conception d'arbres.\n",
    "   \n",
    "* Rappel pour installer un module sous python :\n",
    "  * `pip install nom_du_module`\n",
    "  * Si cela ne fonctionne pas : `python -m pip  install nom_du_module`"
   ]
  },
  {
   "cell_type": "code",
   "execution_count": null,
   "metadata": {},
   "outputs": [],
   "source": [
    "#Modules nécéssaires\n",
    "from PIL import Image\n",
    "from graphviz import Digraph\n",
    "from Arbre import *"
   ]
  },
  {
   "cell_type": "code",
   "execution_count": null,
   "metadata": {},
   "outputs": [],
   "source": [
    "#Exemple d'utilisation\n",
    "\n",
    "a1 = Arbre(1)\n",
    "b = Arbre(2)\n",
    "c = Arbre(3)\n",
    "d = Arbre(4)\n",
    "a1.ajoute(b, c)\n",
    "b.ajoute(d, Arbre(5))\n",
    "\n",
    "filename='a1.png'\n",
    "a1.save(filename=filename)\n",
    "\n",
    "pil_img=Image.open(filename)\n",
    "display(pil_img)"
   ]
  },
  {
   "cell_type": "markdown",
   "metadata": {},
   "source": [
    "##### Exercice 1 :\n",
    "Ecrire le code qui permet de générer l'arbre ci-contre.\n",
    "<img src='a5.png' style='float:right;' width=300>\n",
    "\n",
    "\n",
    "&nbsp;\n",
    "\n",
    "\n",
    "&nbsp;\n",
    "\n",
    "\n",
    "&nbsp;\n",
    "\n",
    "\n",
    "&nbsp;\n",
    "\n",
    "\n",
    "&nbsp;\n",
    "\n",
    "\n",
    "&nbsp;\n",
    "\n",
    "\n",
    "&nbsp;\n",
    "\n",
    "\n",
    "&nbsp;\n",
    "\n",
    "\n",
    "&nbsp;\n",
    "\n",
    "\n",
    "&nbsp;\n",
    "\n",
    "\n",
    "&nbsp;\n",
    "\n",
    "\n",
    "&nbsp;\n"
   ]
  },
  {
   "cell_type": "markdown",
   "metadata": {},
   "source": [
    "##### Exercice 2 : \n",
    "On veut écrire une fonction récursive `genere_arbre(hauteur, max_enfants, n_max)` qui génère des arbres de façon aléatoire.Elle prend en paramètres:\n",
    "* `hauteur`: hauteur de l'arbre généré, de type entier positif.\n",
    "* `max_enfants` : nombre maximal d'enfants de chaque sous-arbre de l'arbre, de type entier positif.\n",
    "* `n_max` : valeur maximale des étiquettes de l'arbre , de type entier positif.\n",
    "\n",
    "Ainsi, l'appel de `genere_arbre(3, 3, 16)` doit générer un arbre de hauteur $3$, dont chaque sous arbre comporte un nombre aléatoire d'enfants compris entre $0$ et $3$ et dont chaque étiquette est un nombre aléatoire compris entre $0$ et $16$.\n",
    "\n",
    "Voici le descriptif de cette fonction:\n",
    "  * On crée un arbre sans enfants avec une étiquette aléatoire.\n",
    "  * Le cas de base est celui ou `hauteur` vaut $1$. Dans ce cas, on renvoie cet arbre.\n",
    "  * Le cas récursif genere des sous-arbres de hauteur `hauteur-1` pour chacun des enfants de l'arbre."
   ]
  },
  {
   "cell_type": "code",
   "execution_count": null,
   "metadata": {},
   "outputs": [],
   "source": [
    "from random import *\n",
    "\n",
    "def genere_arbre(hauteur, max_enfants, n_max):\n",
    "    tree=Arbre(randint(1,n_max))\n",
    "    #code à compléter\n",
    "    \n",
    "    \n",
    "    \n",
    "    \n",
    "    \n",
    "    \n",
    "    \n",
    "    \n",
    "    \n",
    "    \n",
    "    \n",
    "    \n",
    "    \n",
    "    \n",
    "    \n",
    "    \n",
    "    \n",
    "    return tree\n",
    "    \n",
    "    \n",
    "#Exemple :        \n",
    "H=3 #hauteur de l'arbre\n",
    "E=3 #nombre max d'enfants\n",
    "N=16 #valeur max étiquette\n",
    "TREE=genere_arbre(H,E,N)\n",
    "\n",
    "filename='arbre{}_{}_{}.png'.format(H,E,N)\n",
    "TREE.save(filename=filename)\n",
    "\n",
    "pil_img=Image.open(filename)\n",
    "display(pil_img)\n",
    "print(TREE)"
   ]
  },
  {
   "cell_type": "markdown",
   "metadata": {},
   "source": [
    "##### Exercice 3 :\n",
    "On veut écrire la fonction récursive `taille(arbre)` qui prend en paramètre un arbre et qui calcule sa taille, c'est à dire son nombre d'étiquettes.\n",
    "Dans cet exercice, on considère les arbres `a0` , `a1`, et `a5` respectivement affichés ci-dessous:\n",
    "<img src='ex4.png' align='center' width=100%>\n",
    "__1.__ Indiquer ce que doit renvoyer:\n",
    "   * `taille(a0)` :  \n",
    "   * `taille(a1)` :  \n",
    "   * `taille(a5)` :  \n",
    " \n",
    "__2.__ Ecrire le code de cette fonction.On pourra utiliserla fonction `est_une_feuille(arbre)`."
   ]
  },
  {
   "cell_type": "code",
   "execution_count": null,
   "metadata": {},
   "outputs": [],
   "source": [
    "def est_une_feuille(arbre):\n",
    "    \"\"\"\n",
    "    Prend un arbre en parametre\n",
    "    renvoie True si  cet arbre est une feuille (s'il n'a pas d'enfants)\n",
    "    et False sinon\n",
    "    \"\"\"\n",
    "    return arbre.enfants == []\n",
    "\n",
    "def taille(arbre):\n",
    "    \n",
    "    \n",
    "    \n",
    "    \n",
    "    \n",
    "    \n",
    "    \n",
    "    \n",
    "    \n",
    "    \n",
    "    \n",
    "    \n",
    "    \n",
    "    \n",
    "    \n",
    "    \n",
    "    \n",
    "    pass \n",
    "    \n",
    "\n",
    "#les arbres a1 et a5 sont déjà créées plus haut\n",
    "a0=Arbre(42)\n",
    "\n",
    "print (taille(a0), taille(a1),taille(a5))"
   ]
  },
  {
   "cell_type": "markdown",
   "metadata": {},
   "source": [
    "##### Exercice 4: \n",
    "On veut écrire la fonction récursive `contient(etiquette,arbre)` qui prend en paramètres une étiquette et un arbre et qui renvoie `True` si l'étiquette est présente et `False` sinon\n",
    "Dans cet exercice, on considère les arbres `a0` , `a1`, et `a5` précédents.\n",
    "\n",
    "__1.__ Indiquer ce que doit renvoyer:\n",
    "   * `contient(42,a0)` : \n",
    "   * `contient(42,a1)` : \n",
    "   * `contient(18,a5)`: \n",
    " \n",
    "__2.__ Ecrire le code de cette fonction.On pourra utiliser la fonction `est_une_feuille(arbre)`."
   ]
  },
  {
   "cell_type": "code",
   "execution_count": null,
   "metadata": {},
   "outputs": [],
   "source": [
    "def contient(etiquette,arbre):\n",
    "    \n",
    "    \n",
    "    \n",
    "    \n",
    "    \n",
    "    \n",
    "    \n",
    "    \n",
    "    \n",
    "    \n",
    "    \n",
    "    \n",
    "    \n",
    "    \n",
    "    \n",
    "    pass\n",
    "\n",
    "print(contient(42,a0), contient(42,a1),contient(18,a5))"
   ]
  }
 ],
 "metadata": {
  "kernelspec": {
   "display_name": "Python 3",
   "language": "python",
   "name": "python3"
  },
  "language_info": {
   "codemirror_mode": {
    "name": "ipython",
    "version": 3
   },
   "file_extension": ".py",
   "mimetype": "text/x-python",
   "name": "python",
   "nbconvert_exporter": "python",
   "pygments_lexer": "ipython3",
   "version": "3.8.5"
  }
 },
 "nbformat": 4,
 "nbformat_minor": 4
}
