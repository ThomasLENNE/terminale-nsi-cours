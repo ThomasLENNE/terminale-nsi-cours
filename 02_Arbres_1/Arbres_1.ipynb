{
 "cells": [
  {
   "cell_type": "markdown",
   "metadata": {},
   "source": [
    "# <center> Arbres 1/3 : Structures hiérarchiques </center>"
   ]
  },
  {
   "cell_type": "markdown",
   "metadata": {},
   "source": [
    "<img src='intro.png' style='float:right;transform:rotate(180deg);' width=150>\n",
    "<img src='intro.png' style='float:left;transform:rotate(0deg);' width=150>\n",
    "\n",
    "* Nous avons déjà rencontré à plusieurs reprise la notion d'arbre:\n",
    "\n",
    "  * -LE DOM(Document Object Model) d'une page html est décrit à l'aide d'un arbre.\n",
    "  * -Le système de fichiers de Linux est décrit à l'aide d'un arbre.\n",
    "\n",
    "\n",
    "* Dans cette feuille, garantie sans ordinateur, nous allons découvrir un peu plus cette structure de données abstraites pour :\n",
    "\n",
    "  * -Utiliser un vocabulaire adapté.\n",
    "  * -Parcourir des arbres de différentes manières.\n"
   ]
  },
  {
   "cell_type": "markdown",
   "metadata": {},
   "source": [
    "## 1. Un peu de vocabulaire"
   ]
  },
  {
   "cell_type": "markdown",
   "metadata": {},
   "source": [
    "### Quelques Définitions\n",
    "* Un *arbre* est une structure de données composée d’une étiquette et d’un nombre quelconque d’enfants, qui sont eux-mêmes des arbres.\n",
    "* Un *noeud* est une position dans un arbre. À chaque noeud correspond un sous-arbre.\n",
    "* Une *feuille* est un noeud dans un arbre ou un arbre qui n’a pas d’enfant.\n",
    "* La *racine* d’un arbre est le noeud qui correspond à l’arbre tout entier. C’est l’unique noeud qui n’a pas de parent.\n",
    "* La *taille* d’un arbre est le nombre de ses noeuds\n",
    "* La *profondeur* d’un noeud dans un arbre est la longueur du chemin qui le relie à la racine\n",
    "* La *hauteur* d’un arbre est la profondeur de son noeud le plus profond (ce noeud est nécessairement une feuille)\n"
   ]
  },
  {
   "cell_type": "markdown",
   "metadata": {},
   "source": [
    "##### Exercice 1 : Une page html\n",
    "<img src='html1.png' style='float:right;' width=350>\n",
    "\n",
    "1. Combien de feuilles possède cet arbre ? \n",
    "\n",
    "\n",
    "2. Quelle est l’étiquette de cet arbre ? \n",
    "\n",
    "\n",
    "3. Quelle est sa taille ? \n",
    "\n",
    "\n",
    "4. Quelle est sa hauteur ? \n",
    "\n",
    "\n",
    "5. Quelle est la profondeur du noeud dont l’étiquette est article? \n",
    "\n",
    "\n",
    "6. Combien d’enfants possède cet arbre ? \n",
    "\n",
    "\n",
    "7. Quel est le noeud qui possède le plus d’enfants ? "
   ]
  },
  {
   "cell_type": "markdown",
   "metadata": {},
   "source": [
    "##### Exercice 2 : Un système de fichiers\n",
    "<img src='linuxtree.png' style='float:right;' width=300>\n",
    "\n",
    "\n",
    "1. Combien de feuilles possède cet arbre? \n",
    "\n",
    "\n",
    "2. Quelle est l’étiquette de cet arbre ? \n",
    "\n",
    "\n",
    "3. Quelle est sa taille ? \n",
    "\n",
    "\n",
    "4. Quelle est sa hauteur ? \n",
    "\n",
    "\n",
    "5. Quelle est la profondeur du noeud dont l’étiquette est image? \n",
    "\n",
    "\n",
    "6. Combien d’enfants possède cet arbre ? \n",
    "\n",
    "\n",
    "7. Quel est le noeud qui possède le plus d’enfants ? "
   ]
  },
  {
   "cell_type": "markdown",
   "metadata": {},
   "source": [
    "## 2. Parcourir un arbre\n",
    "\n",
    "* Parcourir un arbre c'est partir d'un noeud et visiter tous les noeuds de l'arbre une seule fois. \n",
    "* Ce concept de parcours est très important en algorithmique. \n",
    "* Les parcours permettent notamment de générer une autre représentation de l'arbre(par exemple une liste) ou d'effectuer une recherche dans une structure arborescente.\n",
    "* Il existe différentes façons de parcourir un arbre."
   ]
  },
  {
   "cell_type": "markdown",
   "metadata": {},
   "source": [
    "### Parcours en largeur (BFS : Breadth First Search)\n",
    "<img src='parcours.png' style='float:right;' width=250>\n",
    "\n",
    "* Dans un parcours en largeur, les noeuds sont parcourus par profondeur croissante. Avec l’exemple donné ci-contre, les étiquettes seront traitées dans l’ordre suivant : \n",
    "\n",
    "\n",
    "<center> $1 > 2 > 9 > 6 > 7 > 5 > 4 > 8$ </center>\n",
    "\n",
    "\n",
    "* Plus précisément, on commence par explorer un noeud source, puis ses enfants, puis les enfants non explorés des enfants, etc.\n"
   ]
  },
  {
   "cell_type": "markdown",
   "metadata": {},
   "source": [
    "##### Exercice 3 : \n",
    "<img src='ex3.png' style='float:right;' width=350>\n",
    "Ecrire le parcours en largeur de l'arbre ci-contre \n",
    "\n",
    "Réponse : "
   ]
  },
  {
   "cell_type": "markdown",
   "metadata": {},
   "source": [
    "### Parcours en profondeur (DFS : Depth First Search)\n",
    "#### Préfixe\n",
    "<img src='parcours.png' style='float:right;' width=250>\n",
    "\n",
    "* Un parcours en profondeur préfixe est un parcours où l'on effectue le traitement de chaque noeud avant d’explorer le sous-arbre correspondant. Avec l’exemple donné ci-contre, les étiquettes seront visitées dans l’ordre suivant : \n",
    "\n",
    "\n",
    "<center> $1 > 2 > 6 > 7 > 9 > 5 > 4 > 8$ </center>\n",
    "\n",
    "* Ce type de parcours se prête à la récursivité:\n",
    "\n",
    "\n",
    "$parcours\\_profondeur\\_prefixe ( noeud): \\\\\n",
    "\\;\\;\\;\\;\\;traitement(etiquette)\\\\\n",
    "\\;\\;\\;\\;\\;pour\\;chaque\\;enfant\\;de\\;noeud: \\\\\n",
    "\\;\\;\\;\\;\\;\\;\\;\\;\\;\\;parcours\\_profondeur\\_prefixe (enfant)\\\\\n",
    "$\n",
    "\n",
    "#### Postfixe\n",
    "\n",
    "* Un parcours en profondeur postfixe est un parcours où l'on effectue le traitement de chaque noeud après avoir exploré le sous-arbre correspondant. Avec le même exemple donné ci-dessus, les étiquettes seront visitées dans l’ordre suivant : \n",
    "\n",
    "\n",
    "<center> $6 > 7 > 2 > 5 > 8 > 4 > 9 > 1$ </center>\n",
    "\n",
    "* De façon récursive:\n",
    "\n",
    "\n",
    "$parcours\\_profondeur\\_postfixe ( noeud): \\\\\n",
    "\\;\\;\\;\\;\\;pour\\;chaque\\;enfant\\;de\\;noeud: \\\\\n",
    "\\;\\;\\;\\;\\;\\;\\;\\;\\;\\;parcours\\_profondeur\\_prefixe (enfant)\\\\\n",
    "\\;\\;\\;\\;\\;traitement(etiquette)\\\\\n",
    "$\n"
   ]
  },
  {
   "cell_type": "markdown",
   "metadata": {},
   "source": [
    "##### Exercice 4 : \n",
    "<img src='ex3.png' style='float:right;' width=350>\n",
    "Ecrire le parcours de l'arbre ci-contre :\n",
    "\n",
    "1. En profondeur préfixe\n",
    "\n",
    "Réponse : \n",
    "\n",
    "2. En profondeur postfixe\n",
    "\n",
    "Réponse : \n"
   ]
  },
  {
   "cell_type": "markdown",
   "metadata": {},
   "source": [
    "##### Exercice 5 : Synthèse\n",
    "<img src='synthese.png' style='float:right;' width=450>\n",
    "\n",
    "1. Quelle est l’étiquette de cet arbre ? \n",
    "\n",
    "\n",
    "2. Quelle est sa taille ? \n",
    "\n",
    "\n",
    "3. Quelle est sa hauteur ? \n",
    "\n",
    "\n",
    "4. Quelle est la profondeur du noeud dont l’étiquette est $10$ ? \n",
    "\n",
    "\n",
    "5. Combien d’enfants possède cet arbre ? \n",
    "\n",
    "\n",
    "6. Quel est l’étiquette la plus grande ? \n",
    "\n",
    "\n",
    "7. Dans quel ordre les étiquettes sont-elles rencontrées dans un parcours en largeur ?\n",
    "\n",
    "\n",
    "&nbsp;\n",
    "\n",
    "\n",
    "8. Dans quel ordre les étiquettes sont-elles traitées dans un parcours en profondeur postfixe ?\n",
    "\n",
    "\n",
    "&nbsp;\n",
    "\n",
    "\n",
    "9. Dans quel ordre les étiquettes sont-elles traitées dans un parcours en profondeur préfixe ?\n",
    "\n",
    "\n",
    "&nbsp;\n",
    "\n"
   ]
  }
 ],
 "metadata": {
  "kernelspec": {
   "display_name": "Python 3",
   "language": "python",
   "name": "python3"
  },
  "language_info": {
   "codemirror_mode": {
    "name": "ipython",
    "version": 3
   },
   "file_extension": ".py",
   "mimetype": "text/x-python",
   "name": "python",
   "nbconvert_exporter": "python",
   "pygments_lexer": "ipython3",
   "version": "3.8.5"
  }
 },
 "nbformat": 4,
 "nbformat_minor": 4
}
