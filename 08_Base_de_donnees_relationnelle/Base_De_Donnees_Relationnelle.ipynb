{
 "cells": [
  {
   "cell_type": "markdown",
   "metadata": {},
   "source": [
    "# <center> Bases de données relationnelles, initiation au langage SQL </center>"
   ]
  },
  {
   "cell_type": "markdown",
   "metadata": {},
   "source": [
    "* Le modèle relationnel étudié précédemment est un modèle mathématique permettant de raisonner sur des données en tables.\n",
    "* Ce modèle est mis en oeuvre par un logiciel particulier : le Système de Gestion de Base de Données (SGBD). \n",
    "* La grande majorité des SGBD relationnels utilisent le langage SQL (Structured Query Langage).\n",
    "* Le langage SQL permet d'envoyer des ordres au SGBD de deux natures :\n",
    "  * Les mises à jour qui permettent la création de relations, d'ajout d'entité, leur modification ou leur suppression.\n",
    "  * Les requêtes qui permettent de récupérer des données correpondant à un critère.\n",
    "\n",
    "* Dans cette feuille, nous allons , à partir d'un MCD et un MLD définis(voir feuille sur le modèle relationnel), découvrir un environnement qui utilise SQL et créer/supprimer des tables de données pour pouvoir ensuite ajouter/supprimer des données.\n",
    "\n",
    "\n",
    "##### Exemple :\n",
    "\n",
    "L'entreprise QuiVendTout a créé une base de données lui permettant d'éditer les factures de ses clients. \n",
    "\n",
    "\n",
    "* Voici Le MCD et le MLD de cette base de données :\n",
    "\n",
    "<img src='exemple.png' style='float:center;' width=600>\n",
    "\n",
    "\n",
    "\n",
    "* Et voici à quoi peuvent ressembler les tables créées et peuplées par le système à l'aide du langage SQL :\n",
    "\n",
    "\n",
    "<img src='facture_all.png' style='float:center;' width=800>\n",
    "\n",
    "   "
   ]
  },
  {
   "cell_type": "markdown",
   "metadata": {},
   "source": [
    "##### Exercice 1 : \n",
    "\n",
    "__1. Nommer les quatre tables créées.__\n",
    "\n",
    "    1 :  \n",
    "    2 :  \n",
    "    3 :  \n",
    "    4 :  \n",
    "   \n",
    "   \n",
    "__2. Que peut-on dire de la propriété `refCli` ?__\n",
    "\n",
    "Réponse :  \n",
    "\n",
    "\n",
    "&nbsp;\n",
    "\n",
    "\n",
    "&nbsp;  \n",
    "\n",
    "\n",
    "__3. Pourquoi n'y en a-t-il que quatre ?__\n",
    "\n",
    "Réponse :  \n",
    "\n",
    "\n",
    "&nbsp;\n",
    "\n",
    "\n",
    "&nbsp;  \n",
    "\n",
    "\n",
    "\n",
    "__4. Que contient la table DETAIL ?__\n",
    "\n",
    "Réponse :  \n",
    "\n",
    "\n",
    "&nbsp;\n",
    "\n",
    "\n",
    "&nbsp;  \n",
    "\n"
   ]
  },
  {
   "cell_type": "markdown",
   "metadata": {},
   "source": [
    "## 1. Création de tables\n",
    "Le langage SQL permet  de créer des tables en spécifiant leur nom, leurs attributs, les types de ces derniers et les contraintes associées à la table. Voici les ordres saisis qui permetttent la création des tables `CLIENT` et `FACTURE` :\n",
    "\n",
    "\n",
    "`CREATE TABLE CLIENT (\n",
    "  refCli INT,\n",
    "  nomCli VARCHAR(15),\n",
    "  prenomCli VARCHAR(15),\n",
    "  adresseCli VARCHAR(20),\n",
    "  PRIMARY KEY (refCli)\n",
    ");`\n",
    "\n",
    "\n",
    "`CREATE TABLE FACTURE (\n",
    "  refFac INT,\n",
    "  dateFac DATE,\n",
    "  refCli INT,\n",
    "  PRIMARY KEY (refFac)\n",
    ");`\n",
    "\n",
    "`ALTER TABLE FACTURE ADD FOREIGN KEY (refCli) REFERENCES CLIENT (refCli);`"
   ]
  },
  {
   "cell_type": "markdown",
   "metadata": {},
   "source": [
    "### Syntaxe\n",
    "\n",
    "* L'interaction avec le SGBD se fait par l'envoi d'une suite d'ordres SQL.\n",
    "* Un ordre peut s'étendre sur plusieurs lignes.\n",
    "* Les blancs et l'indentation ne sont pas significatifs mais améliorent la lisibilité.\n",
    "* Un ordre se termine par `;`.Il y en a ici donc trois.\n",
    "* Le langage SQL est insensible à la casse :  on peut écrire `CREATE` , `Create` , `create` , `cREATE`, ...\n",
    "* Une convention est néanmoins de saisir les principaux mots du langage en majuscules et les attributs en minisucules.\n",
    "* Un attribut ne peut pas contenir d'espace; on écrira ainsi pour un attribut  `ref_cli` ou `refcli` mais PAS `ref Cli`.\n",
    "* SQL est assez verbeux, les ordres ressemblent au langage naturel anglais."
   ]
  },
  {
   "cell_type": "markdown",
   "metadata": {},
   "source": [
    "### Types de données\n",
    "A la creation d'une table, on spécifie le type de données de chaque attribut. Voici les principaux types de données SQL.\n",
    "\n",
    "#### Types numériques\n",
    "|Type| exact/approché  | description  |\n",
    "|---|---|---|\n",
    "|SMALLINT   | exact   | entier 16 bits signé  |\n",
    "|INTEGER   | exact  |  entier 32 bits signé |\n",
    "| INT  |exact   | alias pour INTEGER |\n",
    "|BIGINT   | exact  | entier 64 bits signé  |\n",
    "|DECIMAL(a,b)| exact  | decimal signé de a chiffres dont b après la virgule |\n",
    "|REAL  | approché  |flottant 32 bits   |\n",
    "|DOUBLE PRECISION  | approché  | flottant 64 bits  |\n",
    "\n",
    "##### Remarque :\n",
    "* On distingue les types numériques exacts et les types numériques approchés.\n",
    "* Le type `DECIMAL` est très utile pour représenter des sommes d'argent.\n",
    "* Exemple :  `DECIMAL(5,2)` permet de représenter les nombres signés à 5 chiffres dont 2 après la virgule, c'est à dire entre $-999,99$ et $999,99$\n",
    "\n",
    "\n",
    "#### Types texte\n",
    "|Type| description  |\n",
    "|---|---|\n",
    "|CHAR(n)   | Chaîne contenant exactement n caractères<br>.Les caractères manquants sont complétés par des espaces  |\n",
    "|VARCHAR(n)   |  Chaîne contenant au plus n caractères |\n",
    "| TEXT  | Chaîne de taille quelconque |\n",
    "\n",
    "##### Remarques :\n",
    "* Il existe de nombreux autres types de données texte, mais ils sont inégalement supportés par les différents systèmes.\n",
    "* Utiliser le type `CHAR` est utile lorsque l'on stocke des chaînes de taille fixe.\n",
    "* Si l'on utilise le type `CHAR(10)` pour stocker le mot `hello`, alors le système stockera `hello_____`.\n",
    "\n",
    "\n",
    "#### Type booléen\n",
    "* Le type `BOOLEAN` est inégalement supporté par les systèmes. \n",
    "* En pratique, on utilise plutôt `CHAR(1)` en indiquant utilisant deux caractères possibles, `T` et `F` par exemple.\n",
    "\n",
    "#### Type des dates, durées et instants\n",
    "|Type| description  |\n",
    "|---|---|\n",
    "|DATE  | date au format 'AAAA-MM-JJ'  |\n",
    "|TIME   |  heure au format 'hh:mm:ss' |\n",
    "|TIMESTAMP  | instant (date et heure) au format <br> 'AAAA-MM-JJ hh:mm:ss' |\n",
    "\n",
    "##### Remarques :\n",
    "* La gestion des dates et durées est plus complexe qu'il n'y paraît et source de nombreux bugs.\n",
    "* Les valeurs de ces types s'écrivent comme des chaînes de caractères.\n",
    "* Une fonctionnalité intéressante:\n",
    "    * En utilisant le type DATE, on peut facilement ajouter des jours et le système effectue lui même les calculs avec les changements éventuels de mois ou d'années.\n",
    "    * Ainsi l'opération  `2012-12-21`+ 12 donnera la valeur `2013-01-01`.\n",
    "\n",
    "\n",
    "#### Valeur NULL\n",
    "* Elle correspond partiellement au type `None` de python et désigne une absence de valeur.\n",
    "* Son utilisation est parfois délicate et source de bugs."
   ]
  },
  {
   "cell_type": "markdown",
   "metadata": {},
   "source": [
    "### Clés\n",
    "\n",
    "* Les mots clés `PRIMARY KEY` permettent d'indiquer qu'un attribut est une clé primaire. Il y a plusieurs façons de l'utiliser. Dans l'ordre cité en exemple, on indique après la création des attributs celui qui est la clé primaire :  `PRIMARY KEY (refCli)`.\n",
    "\n",
    "\n",
    "* Les mots clés `FOREIGN KEY` et `REFERENCES` permettent d'indiquer qu'un attribut est une clé étrangère. Là encore, il y a plusieurs façons de faire. Pour plus de souplesse, on pourra écrire les ordres de création de clés étrangères après les ordres de création de tables. C'est ce qui est fait à la dernière ligne  : `ALTER TABLE FACTURE ADD FOREIGN KEY (refCli) REFERENCES CLIENT (refCli);`\n",
    "\n"
   ]
  },
  {
   "cell_type": "markdown",
   "metadata": {},
   "source": [
    "##### Exercice 2 :\n",
    "1. Ecrire l'ordre `SQL` qui permet de créer la table `PRODUIT`.\n",
    "2. Ecrire l'ordre `SQL` qui permet de créer la table `DETAIL`.\n",
    "3. Ajouter les ordres qui permettent de spécifier les clés étrangères."
   ]
  },
  {
   "cell_type": "markdown",
   "metadata": {},
   "source": [
    "##### Réponses :\n",
    "\n",
    "__1.__\n",
    "\n",
    "\n",
    "&nbsp;\n",
    "\n",
    "\n",
    "&nbsp;  \n",
    "\n",
    "\n",
    "\n",
    "__2.__\n",
    "\n",
    "\n",
    "&nbsp;\n",
    "\n",
    "\n",
    "&nbsp;  \n",
    "\n",
    "\n",
    "\n",
    "__3.__ \n",
    "\n",
    "\n",
    "&nbsp;\n",
    "\n",
    "\n",
    "&nbsp;  \n",
    "\n"
   ]
  },
  {
   "cell_type": "markdown",
   "metadata": {},
   "source": [
    "##### Exercice 3 :  Application\n",
    "Commencer l'activité contenue dans ce document  : <a href='Activite_SQL/SQL_TP1.ipynb' target=_blank>Activite_SQL/SQL_TP1.ipynb</a>"
   ]
  },
  {
   "cell_type": "markdown",
   "metadata": {},
   "source": [
    "## 2. Insertion dans une table\n",
    "\n",
    "Voici l'ordre qui a permis de peupler la table `CLIENT` :\n",
    "\n",
    "`INSERT INTO CLIENT VALUES\n",
    "\t(1,'BANAZIAI','Jules','Grenoble'),\n",
    "\t(2,'DONGEPLI','Armelle','Limoges'),\n",
    "\t(3,'BOBAINO','Julie','Nimes'),\n",
    "\t(4,'BOUTIDICHT','Maxime','Grenoble');`\n",
    "    \n",
    "##### Remarques :\n",
    "\n",
    "* On spécifie le nom de la table, suivi d'une suite de quadruplets chacun entre parenthèses. Chaque quadruplet représente une nouvelle ligne de la table.\n",
    "* Les valeurs des attributs sont supposées dans le même ordre que lors du `CREATE TABLE`.\n",
    "* Les contraintes d'intégrité sont vérifiées au moment de l'insertion. Si une valeur incorrecte est saisie, alors la ligne n'est pas ajoutée et un message d'erreur est affiché.\n"
   ]
  },
  {
   "cell_type": "markdown",
   "metadata": {},
   "source": [
    "#### Exercice 4 :\n",
    "\n",
    "Ecrire l'ordre qui a permis d'insérer les valeurs de la table `DETAIL` précédente.\n",
    "\n",
    "##### Réponse \n",
    "\n",
    "\n",
    "\n",
    "&nbsp;\n",
    "\n",
    "\n",
    "&nbsp;  \n",
    "\n",
    "\n",
    "\n",
    "&nbsp;\n",
    "\n",
    "\n",
    "&nbsp;  \n",
    "\n"
   ]
  },
  {
   "cell_type": "markdown",
   "metadata": {},
   "source": [
    "##### Exercice 5\n",
    "Poursuivre l'activité contenue dans ce document  : <a href='Activite_SQL/SQL_TP1.ipynb' target=_blank>Activite_SQL/SQL_TP1.ipynb</a>"
   ]
  },
  {
   "cell_type": "markdown",
   "metadata": {},
   "source": [
    "## 3. Suppression"
   ]
  },
  {
   "cell_type": "markdown",
   "metadata": {},
   "source": [
    "* Une fois qu'une table est créée, il n'est pas possible d'en créer une autre avec le même nom. Par exemple, si l'on souhaite modifier certaines contraintes des attributs, il faut d'abord supprimer la table portant le même nom.\n",
    "* L'instruction qui permet de supprimer une table est `DROP TABLE` suivie du nom de la table à supprimer.\n",
    "  * Exemple : `DROP TABLE CLIENT;` supprime la table `CLIENT`\n",
    "* ATTENTION ! :\n",
    "   * On ne peut pas supprimer des tables dans n'importe quel ordre\n",
    "   * En effet, il n'est pas possible de supprimer une table qui sert de référence pour un clé étrangère d'une autre table\n",
    "       * Exemple : on ne peut pas supprimer la table `CLIENT` sans avoir supprimé le table `FACTURE` à cause de l'attribut `ref_Cli`"
   ]
  },
  {
   "cell_type": "markdown",
   "metadata": {},
   "source": [
    "#### Exercice 6 :\n",
    "On veut supprimer toute la base précédente, écrire les ordres qui permettent la suppression des quatre tables contenues dans celle-ci."
   ]
  },
  {
   "cell_type": "markdown",
   "metadata": {},
   "source": [
    "Réponse : \n",
    "\n",
    "\n",
    "\n",
    "&nbsp;\n",
    "\n",
    "\n",
    "&nbsp;  \n",
    "\n",
    "\n",
    "\n",
    "&nbsp;\n",
    "\n",
    "\n",
    "&nbsp;  \n",
    "\n"
   ]
  },
  {
   "cell_type": "markdown",
   "metadata": {},
   "source": [
    "##### Exercice 7 :\n",
    "Tester cette suppression en terminant l'activité contenue dans ce document  : <a href='Activite_SQL/SQL_TP1.ipynb' target=_blank>Activite_SQL/SQL_TP1.ipynb</a>"
   ]
  },
  {
   "cell_type": "markdown",
   "metadata": {},
   "source": [
    "## 3. S'entraîner avec SQL"
   ]
  },
  {
   "cell_type": "markdown",
   "metadata": {},
   "source": [
    "* Dans une prochaine feuille, nous effectuerons des requêtes en langage SQL pour interroger des bases et sélectionner des données. \n",
    "* Il existe de nombreux SGBD(Système de Gestion de Base de Données).Si le langage SQL est standardisé, il est difficile de le maîtriser car ses réactions peuvent différer d'un système à l'autre.\n",
    "* Voici néanmoins quelques sites qui permettent de s'entraîner à ce langage  :\n",
    "  * https://www.w3schools.com/sql/sql_intro.asp\n",
    "  * https://sqlzoo.net/\n",
    "  * http://webtic.free.fr/sql/exint/q1.htm\n",
    "  "
   ]
  }
 ],
 "metadata": {
  "kernelspec": {
   "display_name": "Python 3",
   "language": "python",
   "name": "python3"
  },
  "language_info": {
   "codemirror_mode": {
    "name": "ipython",
    "version": 3
   },
   "file_extension": ".py",
   "mimetype": "text/x-python",
   "name": "python",
   "nbconvert_exporter": "python",
   "pygments_lexer": "ipython3",
   "version": "3.8.5"
  }
 },
 "nbformat": 4,
 "nbformat_minor": 2
}
