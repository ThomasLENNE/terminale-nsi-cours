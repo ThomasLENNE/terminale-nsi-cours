{
 "cells": [
  {
   "cell_type": "markdown",
   "metadata": {},
   "source": [
    "# <center> Langage SQL : Création de base </center>"
   ]
  },
  {
   "cell_type": "markdown",
   "metadata": {},
   "source": [
    "## 1. Première connexion à la base"
   ]
  },
  {
   "cell_type": "markdown",
   "metadata": {},
   "source": [
    "<img src='xampp.png' style='float:right;' width=400>\n",
    "\n",
    "* Sur votre machine, ouvrir le logiciel `Xampp` qui émule un serveur virtuel contenant un système de gestion de base de données, appelé `MariadB`.\n",
    "* Après avoir éventuellement démarré les services `Apache` et `mysql`, ouvrir la console (\"shell\")\n",
    "* A l'invite de commande, se connecter avec l'utilisateur \"root\" en saisissant : `mysql -u root`\n",
    "* Un message de bienvenue s'affiche.\n",
    "\n",
    "<img src='sql_show.png' style='float:right;' width=250>\n",
    "\n",
    "* Afficher la liste des bases de données déjà présentes dans le système : `show databases;`(l'affichage peut varier en fonction des bases déjà présentes)."
   ]
  },
  {
   "cell_type": "markdown",
   "metadata": {},
   "source": [
    "## 2. Creation d'une base"
   ]
  },
  {
   "cell_type": "markdown",
   "metadata": {},
   "source": [
    "1. Créer la base \"QuiVendsTout\" à l'aide de l'instruction `create database QuiVendsTout;`. Vérifier que cette base s'affiche désormais dans la liste.\n",
    "2. Pour utiliser cette base, saisir : `use QuiVendsTout;`"
   ]
  },
  {
   "cell_type": "markdown",
   "metadata": {},
   "source": [
    "<img src='creer_base.png' style='float:right;' width=500>\n",
    "\n",
    "3.  Ouvrir le fichier `creer_qvt.sql`  situé dans le même répertoire que ce document avec un éditeur de texte. Que contient-il ?"
   ]
  },
  {
   "cell_type": "markdown",
   "metadata": {},
   "source": [
    "##### Réponse :\n",
    "\n",
    "\n",
    "&nbsp;\n",
    "\n",
    "\n",
    "&nbsp;\n",
    "\n",
    "\n",
    "&nbsp;\n",
    "\n",
    "\n",
    "&nbsp;\n",
    "\n"
   ]
  },
  {
   "cell_type": "markdown",
   "metadata": {},
   "source": [
    "\n",
    "\n",
    "4. Pour lire ce fichier éxécuter ces ordres, utiliser la commande `source`.\n",
    "\n",
    "   * Par exemple `source creer_qvt.sql` exécutera les ordres du fichier si celui-ci est situé dans le répertoire `Xampp`. Sinon, il faut indiquer le chemin du fichier.\n",
    "   * Vérifier que les tables ont bien été créées à l'aide de l'instruction `show tables;`\n",
    "<img src='show_tables.png'  width=250>\n",
    "\n",
    "\n",
    "5. A l'aide de la commande `desc client;` , consulter la structure de la table `CLIENT`.\n",
    "<img src='desc_client.png'  width=400>\n",
    "\n",
    "\n",
    "6. Revenir sur la feuille de cours : <a href='../Base_De_Donnees_Relationnelle_PROF.ipynb' target=_blank>Base_De_Donnees_Relationnelle_PROF.ipynb</a>"
   ]
  },
  {
   "cell_type": "markdown",
   "metadata": {},
   "source": [
    "## 3. Insertion de données"
   ]
  },
  {
   "cell_type": "markdown",
   "metadata": {},
   "source": [
    "<img src='peuple_base.png' style='float:right;' width=500>\n",
    "\n",
    "1. Ouvrir le fichier `jeu_essai_qvt.sql` situé dans le même répertoire que ce document avec un éditeur de texte . Que contient-il ?"
   ]
  },
  {
   "cell_type": "markdown",
   "metadata": {},
   "source": [
    "##### Réponse :\n",
    "\n",
    "\n",
    "&nbsp;\n",
    "\n",
    "\n",
    "&nbsp;\n",
    "\n"
   ]
  },
  {
   "cell_type": "markdown",
   "metadata": {},
   "source": [
    "2. A l'aide de la commande `source`, éxécuter ce script et vérifier par exemple le contenu de la table `CLIENT` à l'aide de la commande `select * from client;`.\n",
    "<img src='select_client.png'  width=300>\n"
   ]
  },
  {
   "cell_type": "markdown",
   "metadata": {},
   "source": [
    "3. Ajouter un client à la base en tapant l'instruction adéquate dans la console.Vérifier qu'il apparaît bien."
   ]
  },
  {
   "cell_type": "markdown",
   "metadata": {},
   "source": [
    "###### Réponse : \n",
    "\n",
    "\n",
    "&nbsp;\n",
    "\n",
    "\n",
    "&nbsp;\n",
    "\n"
   ]
  },
  {
   "cell_type": "markdown",
   "metadata": {},
   "source": [
    "4. Ajouter le client suivant  : (2,'John','Doe','Paris'). Que passe-t-il ? Pourquoi ?"
   ]
  },
  {
   "cell_type": "markdown",
   "metadata": {},
   "source": [
    "##### Réponse :\n",
    "\n",
    "\n",
    "&nbsp;\n",
    "\n",
    "\n",
    "&nbsp;\n",
    "\n"
   ]
  },
  {
   "cell_type": "markdown",
   "metadata": {},
   "source": [
    "6. Revenir sur la feuille de cours : <a href='../Base_De_Donnees_Relationnelle.ipynb' target=_blank>Base_De_Donnees_Relationnelle_PROF.ipynb</a>"
   ]
  },
  {
   "cell_type": "markdown",
   "metadata": {},
   "source": [
    "## 4.Suppression de tables"
   ]
  },
  {
   "cell_type": "markdown",
   "metadata": {},
   "source": [
    "<img src='sql_drop.png' style='float:right;' width=200>\n",
    "\n",
    "1. Modifier le fichier `detruire_qvt.sql` pour qu'il efface toutes les tables de la base."
   ]
  },
  {
   "cell_type": "markdown",
   "metadata": {},
   "source": [
    "Réponse : \n",
    "\n",
    " \n",
    "\n",
    "&nbsp;\n",
    "\n",
    "\n",
    "&nbsp;\n",
    "\n",
    "\n",
    "\n",
    "&nbsp;\n",
    "\n",
    "\n",
    "&nbsp;\n",
    "\n",
    "\n",
    "\n",
    "&nbsp;\n",
    "\n",
    "\n",
    "&nbsp;\n",
    "\n"
   ]
  },
  {
   "cell_type": "markdown",
   "metadata": {},
   "source": [
    "2. Recréer les tables de la base `quivendstout`."
   ]
  },
  {
   "cell_type": "markdown",
   "metadata": {},
   "source": [
    "Réponse:\n",
    "\n",
    " \n",
    "\n",
    "&nbsp;\n",
    "\n",
    "\n",
    "&nbsp;\n",
    "\n"
   ]
  },
  {
   "cell_type": "code",
   "execution_count": null,
   "metadata": {},
   "outputs": [],
   "source": []
  }
 ],
 "metadata": {
  "kernelspec": {
   "display_name": "Python 3",
   "language": "python",
   "name": "python3"
  },
  "language_info": {
   "codemirror_mode": {
    "name": "ipython",
    "version": 3
   },
   "file_extension": ".py",
   "mimetype": "text/x-python",
   "name": "python",
   "nbconvert_exporter": "python",
   "pygments_lexer": "ipython3",
   "version": "3.8.5"
  }
 },
 "nbformat": 4,
 "nbformat_minor": 4
}
