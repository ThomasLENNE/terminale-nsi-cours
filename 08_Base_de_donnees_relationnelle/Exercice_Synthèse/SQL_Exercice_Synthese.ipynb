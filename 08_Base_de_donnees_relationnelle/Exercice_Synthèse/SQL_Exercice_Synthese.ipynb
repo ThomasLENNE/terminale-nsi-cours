{
 "cells": [
  {
   "cell_type": "markdown",
   "metadata": {},
   "source": [
    "#  <center> Base de données relationnelle : Exercice de synthèse </center>"
   ]
  },
  {
   "cell_type": "markdown",
   "metadata": {},
   "source": [
    "La cantine scolaire a créé une base de données permettant de gérer les menus proposés aux élèves. Voici le MCD et le MLD de  cette base de données :"
   ]
  },
  {
   "cell_type": "code",
   "execution_count": 2,
   "metadata": {},
   "outputs": [],
   "source": [
    "%reload_ext mocodo_magic"
   ]
  },
  {
   "cell_type": "code",
   "execution_count": 3,
   "metadata": {},
   "outputs": [
    {
     "data": {
      "image/svg+xml": [
       "<svg xmlns=\"http://www.w3.org/2000/svg\" xmlns:link=\"http://www.w3.org/1999/xlink\" width=\"576\" height=\"124\" view_box=\"0 0 576 124\">\\n\\n<desc>Généré par Mocodo 2.3.8 le Tue, 29 Sep 2020 21:24:52</desc>\n",
       "\n",
       "<rect id=\"frame\" x=\"0\" y=\"0\" width=\"576\" height=\"124\" fill=\"none\" stroke=\"none\" stroke-width=\"0\"/>\n",
       "\n",
       "<!-- Association COMPOSER -->\n",
       "<line x1=\"51\" y1=\"62\" x2=\"167\" y2=\"62\" stroke=\"#000000\" stroke-width=\"1\"/>\n",
       "<text x=\"98\" y=\"79.0\" fill=\"#000000\" font-family=\"Verdana\" font-size=\"12\">3,3</text>\n",
       "<line x1=\"277\" y1=\"62\" x2=\"167\" y2=\"62\" stroke=\"#000000\" stroke-width=\"1\"/>\n",
       "<text x=\"214\" y=\"79.0\" fill=\"#000000\" font-family=\"Verdana\" font-size=\"12\">0,N</text>\n",
       "<g id=\"association-COMPOSER\">\n",
       "\t<path d=\"M 195 36 a 14 14 90 0 1 14 14 V 62 h -84 V 50 a 14 14 90 0 1 14 -14\" fill=\"#FFFFFF\" stroke=\"#FFFFFF\" stroke-width=\"0\"/>\n",
       "\t<path d=\"M 209 62.0 v 12 a 14 14 90 0 1 -14 14 H 139 a 14 14 90 0 1 -14 -14 V 62.0 H 84\" fill=\"#FFFFFF\" stroke=\"#FFFFFF\" stroke-width=\"0\"/>\n",
       "\t<rect x=\"125\" y=\"36\" width=\"84\" height=\"52\" fill=\"none\" rx=\"14\" stroke=\"#000000\" stroke-width=\"1.5\"/>\n",
       "\t<line x1=\"125\" y1=\"62\" x2=\"209\" y2=\"62\" stroke=\"#000000\" stroke-width=\"1\"/>\n",
       "\t<text x=\"132\" y=\"54.6\" fill=\"#000000\" font-family=\"Trebuchet MS\" font-size=\"14\">COMPOSER</text>\n",
       "</g>\n",
       "\n",
       "<!-- Association PREFERER -->\n",
       "<line x1=\"277\" y1=\"62\" x2=\"385\" y2=\"62\" stroke=\"#000000\" stroke-width=\"1\"/>\n",
       "<text x=\"318\" y=\"79.0\" fill=\"#000000\" font-family=\"Verdana\" font-size=\"12\">0,N</text>\n",
       "<line x1=\"512\" y1=\"62\" x2=\"385\" y2=\"62\" stroke=\"#000000\" stroke-width=\"1\"/>\n",
       "<text x=\"431\" y=\"79.0\" fill=\"#000000\" font-family=\"Verdana\" font-size=\"12\">1,1</text>\n",
       "<g id=\"association-PREFERER\">\n",
       "\t<path d=\"M 411 36 a 14 14 90 0 1 14 14 V 62 h -80 V 50 a 14 14 90 0 1 14 -14\" fill=\"#FFFFFF\" stroke=\"#FFFFFF\" stroke-width=\"0\"/>\n",
       "\t<path d=\"M 425 62.0 v 12 a 14 14 90 0 1 -14 14 H 359 a 14 14 90 0 1 -14 -14 V 62.0 H 80\" fill=\"#FFFFFF\" stroke=\"#FFFFFF\" stroke-width=\"0\"/>\n",
       "\t<rect x=\"345\" y=\"36\" width=\"80\" height=\"52\" fill=\"none\" rx=\"14\" stroke=\"#000000\" stroke-width=\"1.5\"/>\n",
       "\t<line x1=\"345\" y1=\"62\" x2=\"425\" y2=\"62\" stroke=\"#000000\" stroke-width=\"1\"/>\n",
       "\t<text x=\"352\" y=\"54.6\" fill=\"#000000\" font-family=\"Trebuchet MS\" font-size=\"14\">PREFERER</text>\n",
       "</g>\n",
       "\n",
       "<!-- Entity MENU -->\n",
       "<g id=\"entity-MENU\">\n",
       "\t<g id=\"frame-MENU\">\n",
       "\t\t<rect x=\"9\" y=\"18\" width=\"84\" height=\"26\" fill=\"#FFFFFF\" stroke=\"#FFFFFF\" stroke-width=\"0\"/>\n",
       "\t\t<rect x=\"9\" y=\"44.0\" width=\"84\" height=\"62\" fill=\"#FFFFFF\" stroke=\"#FFFFFF\" stroke-width=\"0\"/>\n",
       "\t\t<rect x=\"9\" y=\"18\" width=\"84\" height=\"88\" fill=\"none\" stroke=\"#000000\" stroke-width=\"1.5\"/>\n",
       "\t\t<line x1=\"9\" y1=\"44\" x2=\"93\" y2=\"44\" stroke=\"#000000\" stroke-width=\"1\"/>\n",
       "\t</g>\n",
       "\t<text x=\"32\" y=\"36.6\" fill=\"#000000\" font-family=\"Trebuchet MS\" font-size=\"14\">MENU</text>\n",
       "\t<text x=\"14\" y=\"62.6\" fill=\"#000000\" font-family=\"Trebuchet MS\" font-size=\"14\">ref_menu</text>\n",
       "\t<line x1=\"14\" y1=\"65.0\" x2=\"77\" y2=\"65.0\" stroke=\"#000000\" stroke-width=\"1\"/>\n",
       "\t<text x=\"14\" y=\"80.6\" fill=\"#000000\" font-family=\"Trebuchet MS\" font-size=\"14\">nom_menu</text>\n",
       "\t<text x=\"14\" y=\"98.6\" fill=\"#000000\" font-family=\"Trebuchet MS\" font-size=\"14\">date_menu</text>\n",
       "</g>\n",
       "\n",
       "<!-- Entity PLAT -->\n",
       "<g id=\"entity-PLAT\">\n",
       "\t<g id=\"frame-PLAT\">\n",
       "\t\t<rect x=\"241\" y=\"18\" width=\"72\" height=\"26\" fill=\"#FFFFFF\" stroke=\"#FFFFFF\" stroke-width=\"0\"/>\n",
       "\t\t<rect x=\"241\" y=\"44.0\" width=\"72\" height=\"62\" fill=\"#FFFFFF\" stroke=\"#FFFFFF\" stroke-width=\"0\"/>\n",
       "\t\t<rect x=\"241\" y=\"18\" width=\"72\" height=\"88\" fill=\"none\" stroke=\"#000000\" stroke-width=\"1.5\"/>\n",
       "\t\t<line x1=\"241\" y1=\"44\" x2=\"313\" y2=\"44\" stroke=\"#000000\" stroke-width=\"1\"/>\n",
       "\t</g>\n",
       "\t<text x=\"260\" y=\"36.6\" fill=\"#000000\" font-family=\"Trebuchet MS\" font-size=\"14\">PLAT</text>\n",
       "\t<text x=\"246\" y=\"62.6\" fill=\"#000000\" font-family=\"Trebuchet MS\" font-size=\"14\">ref_plat</text>\n",
       "\t<line x1=\"246\" y1=\"65.0\" x2=\"299\" y2=\"65.0\" stroke=\"#000000\" stroke-width=\"1\"/>\n",
       "\t<text x=\"246\" y=\"80.6\" fill=\"#000000\" font-family=\"Trebuchet MS\" font-size=\"14\">nom_plat</text>\n",
       "\t<text x=\"246\" y=\"98.6\" fill=\"#000000\" font-family=\"Trebuchet MS\" font-size=\"14\">prix_plat</text>\n",
       "</g>\n",
       "\n",
       "<!-- Entity ENFANT -->\n",
       "<g id=\"entity-ENFANT\">\n",
       "\t<g id=\"frame-ENFANT\">\n",
       "\t\t<rect x=\"457\" y=\"9\" width=\"110\" height=\"26\" fill=\"#FFFFFF\" stroke=\"#FFFFFF\" stroke-width=\"0\"/>\n",
       "\t\t<rect x=\"457\" y=\"35.0\" width=\"110\" height=\"80\" fill=\"#FFFFFF\" stroke=\"#FFFFFF\" stroke-width=\"0\"/>\n",
       "\t\t<rect x=\"457\" y=\"9\" width=\"110\" height=\"106\" fill=\"none\" stroke=\"#000000\" stroke-width=\"1.5\"/>\n",
       "\t\t<line x1=\"457\" y1=\"35\" x2=\"567\" y2=\"35\" stroke=\"#000000\" stroke-width=\"1\"/>\n",
       "\t</g>\n",
       "\t<text x=\"486\" y=\"27.6\" fill=\"#000000\" font-family=\"Trebuchet MS\" font-size=\"14\">ENFANT</text>\n",
       "\t<text x=\"462\" y=\"53.6\" fill=\"#000000\" font-family=\"Trebuchet MS\" font-size=\"14\">ref_enfant</text>\n",
       "\t<line x1=\"462\" y1=\"56.0\" x2=\"531\" y2=\"56.0\" stroke=\"#000000\" stroke-width=\"1\"/>\n",
       "\t<text x=\"462\" y=\"71.6\" fill=\"#000000\" font-family=\"Trebuchet MS\" font-size=\"14\">nom_enfant</text>\n",
       "\t<text x=\"462\" y=\"89.6\" fill=\"#000000\" font-family=\"Trebuchet MS\" font-size=\"14\">prenom_enfant</text>\n",
       "\t<text x=\"462\" y=\"107.6\" fill=\"#000000\" font-family=\"Trebuchet MS\" font-size=\"14\">sexe_enfant</text>\n",
       "</g>\n",
       "</svg>"
      ],
      "text/plain": [
       "<IPython.core.display.SVG object>"
      ]
     },
     "metadata": {},
     "output_type": "display_data"
    },
    {
     "data": {
      "text/html": [
       "<html>\n",
       "<head>\n",
       "<meta charset='utf-8'>\n",
       "<style>\n",
       "  #mld .relation { font-variant: small-caps; font-weight: bold }\n",
       "  #mld .primary { text-decoration: underline }\n",
       "  #mld .foreign { font-style: oblique }\n",
       "  #mld .normal { }\n",
       "</style>\n",
       "</head>\n",
       "<body>\n",
       "<div id='mld'>\n",
       "<div>\n",
       "  <span class='relation'>MENU</span> (\n",
       "    <span class='primary'>ref_menu</span>,\n",
       "    <span class='normal'>nom_menu</span>,\n",
       "    <span class='normal'>date_menu</span>\n",
       "  )\n",
       "</div>\n",
       "<div>\n",
       "  <span class='relation'>COMPOSER</span> (\n",
       "    <span class='foreign primary'>ref_menu</span>,\n",
       "    <span class='foreign primary'>ref_plat</span>\n",
       "  )\n",
       "</div>\n",
       "<div>\n",
       "  <span class='relation'>PLAT</span> (\n",
       "    <span class='primary'>ref_plat</span>,\n",
       "    <span class='normal'>nom_plat</span>,\n",
       "    <span class='normal'>prix_plat</span>\n",
       "  )\n",
       "</div>\n",
       "<div>\n",
       "  <span class='relation'>ENFANT</span> (\n",
       "    <span class='primary'>ref_enfant</span>,\n",
       "    <span class='normal'>nom_enfant</span>,\n",
       "    <span class='normal'>prenom_enfant</span>,\n",
       "    <span class='normal'>sexe_enfant</span>,\n",
       "    <span class='foreign'>ref_plat</span>\n",
       "  )\n",
       "</div>\n",
       "</div>\n",
       "</body>\n",
       "</html>"
      ],
      "text/plain": [
       "<IPython.core.display.HTML object>"
      ]
     },
     "metadata": {},
     "output_type": "display_data"
    }
   ],
   "source": [
    "%%mocodo --mld\n",
    "MENU : ref_menu, nom_menu, date_menu\n",
    "COMPOSER, 33 MENU, 0N PLAT\n",
    "PLAT : ref_plat, nom_plat, prix_plat\n",
    "PREFERER, 0N PLAT, 11 ENFANT\n",
    "ENFANT: ref_enfant, nom_enfant, prenom_enfant, sexe_enfant"
   ]
  },
  {
   "cell_type": "markdown",
   "metadata": {},
   "source": [
    "## Questions :"
   ]
  },
  {
   "cell_type": "markdown",
   "metadata": {},
   "source": [
    "1. Ecrire le script `creation_cantine.sql` permettant de créer les tables de cette base de données en y mettant toutes les contraintes d'intégrité qui vous semblent utiles.\n",
    "2. Ecrire le script `detruire_cantine.sql` de suppression de la base de données\n",
    "3. Ecrire le script `jeu_essai_cantine.sql` qui peuple la base de données. Il contiendra au moins 6 plats, 4 enfants et 2 menus. On suppose qu'un menu est composé de 3 plats (entrée, principal, dessert)\n",
    "\n",
    "##### Aide  : On pourra utiliser l'outil MoCoDo en ligne( http://mocodo.wingi.net/) pour créer directement à partir du MCD le script de création de tables(quitte à le modidier ensuite)..."
   ]
  },
  {
   "cell_type": "code",
   "execution_count": null,
   "metadata": {},
   "outputs": [],
   "source": []
  }
 ],
 "metadata": {
  "kernelspec": {
   "display_name": "Python 3",
   "language": "python",
   "name": "python3"
  },
  "language_info": {
   "codemirror_mode": {
    "name": "ipython",
    "version": 3
   },
   "file_extension": ".py",
   "mimetype": "text/x-python",
   "name": "python",
   "nbconvert_exporter": "python",
   "pygments_lexer": "ipython3",
   "version": "3.8.5"
  }
 },
 "nbformat": 4,
 "nbformat_minor": 4
}
